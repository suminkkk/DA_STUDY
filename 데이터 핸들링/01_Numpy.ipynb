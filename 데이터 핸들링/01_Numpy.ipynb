{
  "nbformat": 4,
  "nbformat_minor": 0,
  "metadata": {
    "colab": {
      "provenance": [],
      "authorship_tag": "ABX9TyOIkSbb0vSlC0dPinlyxsRc",
      "include_colab_link": true
    },
    "kernelspec": {
      "name": "python3",
      "display_name": "Python 3"
    },
    "language_info": {
      "name": "python"
    }
  },
  "cells": [
    {
      "cell_type": "markdown",
      "metadata": {
        "id": "view-in-github",
        "colab_type": "text"
      },
      "source": [
        "<a href=\"https://colab.research.google.com/github/suminkkk/DA_STUDY/blob/main/%EB%8D%B0%EC%9D%B4%ED%84%B0%20%ED%95%B8%EB%93%A4%EB%A7%81/01_Numpy.ipynb\" target=\"_parent\"><img src=\"https://colab.research.google.com/assets/colab-badge.svg\" alt=\"Open In Colab\"/></a>"
      ]
    },
    {
      "cell_type": "markdown",
      "source": [
        "# 1. Numpy\n",
        "\n",
        "- 파이썬 라이브러리 중 하나 -> 과학 연산\n",
        "- 배열  -> 행렬 (선형대수)\n",
        "- 선형대수, 푸리에 변환 -> 수학 함수 사용 가능 \n"
      ],
      "metadata": {
        "id": "7Ux9D52w0K9G"
      }
    },
    {
      "cell_type": "code",
      "execution_count": null,
      "metadata": {
        "id": "XLBMDvP5zCNk"
      },
      "outputs": [],
      "source": [
        "import numpy as np"
      ]
    },
    {
      "cell_type": "code",
      "source": [
        "#1차원 배열 생성\n",
        "\n",
        "a = np.array([1,2,3,4]) \n",
        "print(a)"
      ],
      "metadata": {
        "colab": {
          "base_uri": "https://localhost:8080/"
        },
        "id": "TdsFN8EE11vA",
        "outputId": "73b67cf1-34b0-4c4b-bfc8-2f84ecc71d53"
      },
      "execution_count": null,
      "outputs": [
        {
          "output_type": "stream",
          "name": "stdout",
          "text": [
            "[1 2 3 4]\n"
          ]
        }
      ]
    },
    {
      "cell_type": "code",
      "source": [
        "#list \n",
        "l = [1,2,3,4]\n",
        "print(l)"
      ],
      "metadata": {
        "colab": {
          "base_uri": "https://localhost:8080/"
        },
        "id": "8kRYukik2dLd",
        "outputId": "c506a0fb-582a-4873-ccf6-019200bf9489"
      },
      "execution_count": null,
      "outputs": [
        {
          "output_type": "stream",
          "name": "stdout",
          "text": [
            "[1, 2, 3, 4]\n"
          ]
        }
      ]
    },
    {
      "cell_type": "code",
      "source": [
        "# 배열 축의 크기\n",
        "print(a.shape)"
      ],
      "metadata": {
        "colab": {
          "base_uri": "https://localhost:8080/"
        },
        "id": "etXphCSw2jxW",
        "outputId": "c7c50565-01ce-4c97-8069-ede887c7dd2d"
      },
      "execution_count": null,
      "outputs": [
        {
          "output_type": "stream",
          "name": "stdout",
          "text": [
            "(4,)\n"
          ]
        }
      ]
    },
    {
      "cell_type": "code",
      "source": [
        "# 배열 차원(dimension)\n",
        "print(a.ndim)"
      ],
      "metadata": {
        "colab": {
          "base_uri": "https://localhost:8080/"
        },
        "id": "vCvJ2MCt2tXy",
        "outputId": "76ca3d3e-f3ae-403a-b6c5-3eda58bd68ab"
      },
      "execution_count": null,
      "outputs": [
        {
          "output_type": "stream",
          "name": "stdout",
          "text": [
            "1\n"
          ]
        }
      ]
    },
    {
      "cell_type": "code",
      "source": [
        "# data type\n",
        "print(a.dtype)"
      ],
      "metadata": {
        "colab": {
          "base_uri": "https://localhost:8080/"
        },
        "id": "ABvqhxW83D21",
        "outputId": "3a3b1d8a-f62d-4d28-ab0d-7bbe7089ff14"
      },
      "execution_count": null,
      "outputs": [
        {
          "output_type": "stream",
          "name": "stdout",
          "text": [
            "int64\n"
          ]
        }
      ]
    },
    {
      "cell_type": "code",
      "source": [
        "# byte단위 크기 \n",
        "print(a.itemsize)"
      ],
      "metadata": {
        "colab": {
          "base_uri": "https://localhost:8080/"
        },
        "id": "uBz9kKWB3MLc",
        "outputId": "50dfabbf-42ad-4b30-cfb8-075b22ecd40c"
      },
      "execution_count": null,
      "outputs": [
        {
          "output_type": "stream",
          "name": "stdout",
          "text": [
            "8\n"
          ]
        }
      ]
    },
    {
      "cell_type": "code",
      "source": [
        "# 2차원 배열 생성\n",
        "b = np.array([[1,2],[3,4]])\n",
        "print(b)"
      ],
      "metadata": {
        "colab": {
          "base_uri": "https://localhost:8080/"
        },
        "id": "4rxeZ6AU3WbI",
        "outputId": "7618c977-3ee8-46b0-a571-39d87d43559e"
      },
      "execution_count": null,
      "outputs": [
        {
          "output_type": "stream",
          "name": "stdout",
          "text": [
            "[[1 2]\n",
            " [3 4]]\n"
          ]
        }
      ]
    },
    {
      "cell_type": "code",
      "source": [
        "print(b)\n",
        "print(b.ndim)\n",
        "print(b.dtype)\n",
        "print(b.itemsize)\n",
        "print(b.nbytes)"
      ],
      "metadata": {
        "colab": {
          "base_uri": "https://localhost:8080/"
        },
        "id": "rqVrLH_43ttX",
        "outputId": "e92211ad-2fd1-4bb0-db9e-86a97547a951"
      },
      "execution_count": null,
      "outputs": [
        {
          "output_type": "stream",
          "name": "stdout",
          "text": [
            "[[1 2]\n",
            " [3 4]]\n",
            "2\n",
            "int64\n",
            "8\n",
            "32\n"
          ]
        }
      ]
    },
    {
      "cell_type": "code",
      "source": [
        "# 3차원 배열 생성\n",
        "c = np.array([[[1,2],[3,4]],[[5,6],[7,8]]])\n",
        "print(c)\n",
        "print(c.ndim)\n",
        "print(c.dtype)\n",
        "print(c.itemsize)\n",
        "print(c.nbytes)"
      ],
      "metadata": {
        "colab": {
          "base_uri": "https://localhost:8080/"
        },
        "id": "eJd8LZby4BUd",
        "outputId": "635350a5-88a1-40b2-bd75-7d92aa0e82fa"
      },
      "execution_count": null,
      "outputs": [
        {
          "output_type": "stream",
          "name": "stdout",
          "text": [
            "[[[1 2]\n",
            "  [3 4]]\n",
            "\n",
            " [[5 6]\n",
            "  [7 8]]]\n",
            "3\n",
            "int64\n",
            "8\n",
            "64\n"
          ]
        }
      ]
    },
    {
      "cell_type": "code",
      "source": [
        "# 하나의 숫자값 : 스칼라\n",
        "\n",
        "s = np.array(1)\n",
        "print(s)"
      ],
      "metadata": {
        "colab": {
          "base_uri": "https://localhost:8080/"
        },
        "id": "x6rBMe8X3-eW",
        "outputId": "f58ba3bb-3cf8-42cc-dce4-f0bcc7326012"
      },
      "execution_count": null,
      "outputs": [
        {
          "output_type": "stream",
          "name": "stdout",
          "text": [
            "1\n"
          ]
        }
      ]
    },
    {
      "cell_type": "code",
      "source": [
        "#1차원 : 벡터\n",
        "\n",
        "v = np.array([1,2,3])\n",
        "print(v)"
      ],
      "metadata": {
        "colab": {
          "base_uri": "https://localhost:8080/"
        },
        "id": "8skntO7p5bAg",
        "outputId": "dbfeca1e-e219-4420-b4ac-cdb63840c20b"
      },
      "execution_count": null,
      "outputs": [
        {
          "output_type": "stream",
          "name": "stdout",
          "text": [
            "[1 2 3]\n"
          ]
        }
      ]
    },
    {
      "cell_type": "code",
      "source": [
        "#2차원 : 행렬(Matric)\n",
        "\n",
        "m =  np.array([[1,2,3],[1,2,3]])\n",
        "print(m)"
      ],
      "metadata": {
        "colab": {
          "base_uri": "https://localhost:8080/"
        },
        "id": "0g9emMud37vo",
        "outputId": "d0658307-ee1b-4b18-b011-a3062e1c6845"
      },
      "execution_count": null,
      "outputs": [
        {
          "output_type": "stream",
          "name": "stdout",
          "text": [
            "[[1 2 3]\n",
            " [1 2 3]]\n"
          ]
        }
      ]
    },
    {
      "cell_type": "code",
      "source": [
        "#3차원 : 텐서(Tensor)\n",
        "\n",
        "t = np.array([[[1,2],[1,2]],[[1,2],[1,2]]])\n",
        "print(t)"
      ],
      "metadata": {
        "colab": {
          "base_uri": "https://localhost:8080/"
        },
        "id": "V_NpuprA5skE",
        "outputId": "952c30ee-1f74-405a-f56b-58eefea3dfb5"
      },
      "execution_count": null,
      "outputs": [
        {
          "output_type": "stream",
          "name": "stdout",
          "text": [
            "[[[1 2]\n",
            "  [1 2]]\n",
            "\n",
            " [[1 2]\n",
            "  [1 2]]]\n"
          ]
        }
      ]
    },
    {
      "cell_type": "code",
      "source": [
        "# for문을 이용해서 배열 생성\n",
        "\n",
        "f = np.array([i for i in range(0,10,2)])    #(start,end,step)\n",
        "print(f)"
      ],
      "metadata": {
        "colab": {
          "base_uri": "https://localhost:8080/"
        },
        "id": "e66SxYEg3pPl",
        "outputId": "fdfdb967-357e-43db-828b-e41cd2393f8a"
      },
      "execution_count": null,
      "outputs": [
        {
          "output_type": "stream",
          "name": "stdout",
          "text": [
            "[0 2 4 6 8]\n"
          ]
        }
      ]
    },
    {
      "cell_type": "code",
      "source": [
        "print(f)\n",
        "print(f.ndim)\n",
        "print(f.dtype)\n",
        "print(f.itemsize)\n",
        "print(f.nbytes)"
      ],
      "metadata": {
        "colab": {
          "base_uri": "https://localhost:8080/"
        },
        "id": "6WRMrZc16aZg",
        "outputId": "119a9ff4-438f-4cac-bb09-ca31261b0444"
      },
      "execution_count": null,
      "outputs": [
        {
          "output_type": "stream",
          "name": "stdout",
          "text": [
            "[0 2 4 6 8]\n",
            "1\n",
            "int64\n",
            "8\n",
            "40\n"
          ]
        }
      ]
    },
    {
      "cell_type": "markdown",
      "source": [
        "# 데이터 타입\n",
        "1. 숫자형\n",
        "2. 문자형\n",
        "3. 논리형"
      ],
      "metadata": {
        "id": "AxPjsLUOa6qk"
      }
    },
    {
      "cell_type": "markdown",
      "source": [
        "## 숫자형\n",
        "- 부호가 있는 정수(Signed integer) int\n",
        "- 부호가 없는 정수(Unsigned integer) uint\n",
        "- 실수(floating point) float\n",
        "- 복소수(complex) complex"
      ],
      "metadata": {
        "id": "Zv-KZGrN-s4L"
      }
    },
    {
      "cell_type": "code",
      "source": [
        "# int (8bit, 16bit, 32bit, 64bit)\n",
        "\n",
        "data = [1.1, 2, 3]\n",
        "i = np.array(data, dtype = np.int32)\n",
        "print(i)"
      ],
      "metadata": {
        "colab": {
          "base_uri": "https://localhost:8080/"
        },
        "id": "B3eNU1gO-vrC",
        "outputId": "2e58abfd-fd2d-437f-a088-824d2873adf5"
      },
      "execution_count": null,
      "outputs": [
        {
          "output_type": "stream",
          "name": "stdout",
          "text": [
            "[1 2 3]\n"
          ]
        }
      ]
    },
    {
      "cell_type": "code",
      "source": [
        "print(i.dtype)"
      ],
      "metadata": {
        "colab": {
          "base_uri": "https://localhost:8080/"
        },
        "id": "EBROwfXq_hI4",
        "outputId": "c626eb3a-523c-4da8-fd1e-88a23fbca043"
      },
      "execution_count": null,
      "outputs": [
        {
          "output_type": "stream",
          "name": "stdout",
          "text": [
            "int32\n"
          ]
        }
      ]
    },
    {
      "cell_type": "code",
      "source": [
        "# 데이터 타입의 범위 \n",
        "\n",
        "data2 = [-1,2,3]\n",
        "\n",
        "ui = np.array(data2, dtype=np.uint32)\n",
        "print(ui)"
      ],
      "metadata": {
        "colab": {
          "base_uri": "https://localhost:8080/"
        },
        "id": "VK3YiFLF_lts",
        "outputId": "0226209f-b9f6-4bf8-f2ab-de190c8d0f9e"
      },
      "execution_count": null,
      "outputs": [
        {
          "output_type": "stream",
          "name": "stdout",
          "text": [
            "[4294967295          2          3]\n"
          ]
        }
      ]
    },
    {
      "cell_type": "code",
      "source": [
        "# int -> float\n",
        "\n",
        "f = np.array(data, dtype = np.float64)\n",
        "print(f)"
      ],
      "metadata": {
        "colab": {
          "base_uri": "https://localhost:8080/"
        },
        "id": "ydhrM5D3ADDc",
        "outputId": "cf104960-fde1-4881-e490-3a6730efa973"
      },
      "execution_count": null,
      "outputs": [
        {
          "output_type": "stream",
          "name": "stdout",
          "text": [
            "[1.1 2.  3. ]\n"
          ]
        }
      ]
    },
    {
      "cell_type": "code",
      "source": [
        "c = np.array([1 + 2j, 3+4j, 5 + 6j], dtype=np.complex64)\n",
        "print(c)\n",
        "print(c.real)   #실수\n",
        "print(c.imag)   #허수"
      ],
      "metadata": {
        "colab": {
          "base_uri": "https://localhost:8080/"
        },
        "id": "PC1QOmlBBILj",
        "outputId": "796b6990-e603-4fca-df3c-4b0656357aa0"
      },
      "execution_count": null,
      "outputs": [
        {
          "output_type": "stream",
          "name": "stdout",
          "text": [
            "[1.+2.j 3.+4.j 5.+6.j]\n",
            "[1. 3. 5.]\n",
            "[2. 4. 6.]\n"
          ]
        }
      ]
    },
    {
      "cell_type": "markdown",
      "source": [
        "## 문자형\n",
        "\n",
        "- string_\n",
        "- unicod_"
      ],
      "metadata": {
        "id": "XyKW2MLeCNeh"
      }
    },
    {
      "cell_type": "code",
      "source": [
        "data = [1,2,3]\n",
        "\n",
        "s = np.string_(data)\n",
        "print(s)"
      ],
      "metadata": {
        "colab": {
          "base_uri": "https://localhost:8080/"
        },
        "id": "5vuNTuV6B0yn",
        "outputId": "11ed26db-ed99-411d-bc4e-f6c60b198aa1"
      },
      "execution_count": null,
      "outputs": [
        {
          "output_type": "stream",
          "name": "stdout",
          "text": [
            "b'\\x01\\x02\\x03'\n"
          ]
        }
      ]
    },
    {
      "cell_type": "code",
      "source": [
        "#S3 : string 3개\n",
        "\n",
        "print(s.dtype)"
      ],
      "metadata": {
        "colab": {
          "base_uri": "https://localhost:8080/"
        },
        "id": "APhKN5gzCX9r",
        "outputId": "1a1c403d-4854-4b51-c729-12c3b0ae38f7"
      },
      "execution_count": null,
      "outputs": [
        {
          "output_type": "stream",
          "name": "stdout",
          "text": [
            "|S3\n"
          ]
        }
      ]
    },
    {
      "cell_type": "code",
      "source": [
        "data3 = [1,2,3,4,5]\n",
        "\n",
        "#string_\n",
        "s2 = np.string_(data3)\n",
        "\n",
        "print(s)\n",
        "print(s.dtype)"
      ],
      "metadata": {
        "colab": {
          "base_uri": "https://localhost:8080/"
        },
        "id": "wiixHs5XCW-x",
        "outputId": "8f82fd96-1aae-4e9d-c5ff-3b64256ed6e9"
      },
      "execution_count": null,
      "outputs": [
        {
          "output_type": "stream",
          "name": "stdout",
          "text": [
            "b'\\x01\\x02\\x03'\n",
            "|S3\n"
          ]
        }
      ]
    },
    {
      "cell_type": "code",
      "source": [
        "# np.string_ 과 동일 \n",
        "s2 = np.array(data3, dtype = 'S')\n",
        "print(s2)"
      ],
      "metadata": {
        "colab": {
          "base_uri": "https://localhost:8080/"
        },
        "id": "sHCKLyzT_fYX",
        "outputId": "6063ddf1-6b64-4cb8-fb69-f22fa14ddac5"
      },
      "execution_count": null,
      "outputs": [
        {
          "output_type": "stream",
          "name": "stdout",
          "text": [
            "[b'1' b'2' b'3' b'4' b'5']\n"
          ]
        }
      ]
    },
    {
      "cell_type": "code",
      "source": [
        "#unicode - 사용자에게 보여줄때. 용량이 큼\n",
        "u = np.array(data3, dtype='U')\n",
        "print(u)\n",
        "print(u.dtype)"
      ],
      "metadata": {
        "colab": {
          "base_uri": "https://localhost:8080/"
        },
        "id": "hlMiwjBx_dZF",
        "outputId": "0dcfdd00-a6d5-4966-ac45-bf69fc708689"
      },
      "execution_count": null,
      "outputs": [
        {
          "output_type": "stream",
          "name": "stdout",
          "text": [
            "['1' '2' '3' '4' '5']\n",
            "<U1\n"
          ]
        }
      ]
    },
    {
      "cell_type": "code",
      "source": [
        "data4 = [11,22,33,44,55]\n",
        "u2 = np.array(data4, dtype='U')\n",
        "print(u2)\n",
        "print(u2.dtype)"
      ],
      "metadata": {
        "colab": {
          "base_uri": "https://localhost:8080/"
        },
        "id": "XKE_DI-NDq9F",
        "outputId": "461a921a-a727-4493-e86a-7e9e1c4fc8af"
      },
      "execution_count": null,
      "outputs": [
        {
          "output_type": "stream",
          "name": "stdout",
          "text": [
            "['11' '22' '33' '44' '55']\n",
            "<U2\n"
          ]
        }
      ]
    },
    {
      "cell_type": "markdown",
      "source": [
        "## 논리형(boolean)\n",
        "- True(1), Fals(0)\n",
        "- 비트 연산사용 : &and, |or, ^xor, ~not"
      ],
      "metadata": {
        "id": "gVaZefwxEFXd"
      }
    },
    {
      "cell_type": "code",
      "source": [
        "l1 = np.array([True,False,True])\n",
        "l2 = np.array([False,True, False])\n",
        "\n",
        "print(l1)\n",
        "print(l2)"
      ],
      "metadata": {
        "colab": {
          "base_uri": "https://localhost:8080/"
        },
        "id": "ugbQl5omDogs",
        "outputId": "f86e3706-dafa-4658-b249-dbde991725b7"
      },
      "execution_count": null,
      "outputs": [
        {
          "output_type": "stream",
          "name": "stdout",
          "text": [
            "[ True False  True]\n",
            "[False  True False]\n"
          ]
        }
      ]
    },
    {
      "cell_type": "code",
      "source": [
        "and_ = np.logical_and(l1,l2)\n",
        "print(and_)"
      ],
      "metadata": {
        "colab": {
          "base_uri": "https://localhost:8080/"
        },
        "id": "0tzUrBcZHPxU",
        "outputId": "fab89862-6d4b-45ea-de6f-9ce24395f102"
      },
      "execution_count": null,
      "outputs": [
        {
          "output_type": "stream",
          "name": "stdout",
          "text": [
            "[False False False]\n"
          ]
        }
      ]
    },
    {
      "cell_type": "markdown",
      "source": [
        "## 데이터 형 변환 (Cast, Casting 형 변환)\n",
        "\n",
        "- 데이터들끼리 형태를 맞춰줌\n",
        "- 예시) 이미지 데이터 -> uint 형으로 불러옴 -> float(정제,처리)"
      ],
      "metadata": {
        "id": "89a8USz5HWzp"
      }
    },
    {
      "cell_type": "code",
      "source": [
        "# float\n",
        "data = [1.1,2,3]\n",
        "\n",
        "a = np.float64(data)\n",
        "print(a)\n",
        "print(a.dtype)"
      ],
      "metadata": {
        "colab": {
          "base_uri": "https://localhost:8080/"
        },
        "id": "ZvanJCgLIUP7",
        "outputId": "b4141b0a-94ea-4e8d-caa5-7f78392f2a16"
      },
      "execution_count": null,
      "outputs": [
        {
          "output_type": "stream",
          "name": "stdout",
          "text": [
            "[1.1 2.  3. ]\n",
            "float64\n"
          ]
        }
      ]
    },
    {
      "cell_type": "code",
      "source": [
        "# astype\n",
        "a = a.astype(np.int64)\n",
        "print(a.dtype)"
      ],
      "metadata": {
        "colab": {
          "base_uri": "https://localhost:8080/"
        },
        "id": "_VM6-Y91N-4P",
        "outputId": "3f79b808-ddde-4d0d-e015-428902ec7355"
      },
      "execution_count": null,
      "outputs": [
        {
          "output_type": "stream",
          "name": "stdout",
          "text": [
            "int64\n"
          ]
        }
      ]
    },
    {
      "cell_type": "code",
      "source": [
        "# uint\n",
        "b = np.uint16(0)\n",
        "\n",
        "print(b)\n",
        "print(b.dtype)"
      ],
      "metadata": {
        "colab": {
          "base_uri": "https://localhost:8080/"
        },
        "id": "GInvNEH5OZ8Z",
        "outputId": "07554cb9-ae9e-4349-e540-7e4739bb3d8d"
      },
      "execution_count": null,
      "outputs": [
        {
          "output_type": "stream",
          "name": "stdout",
          "text": [
            "0\n",
            "uint16\n"
          ]
        }
      ]
    },
    {
      "cell_type": "code",
      "source": [
        "b = b-1\n",
        "print(b)"
      ],
      "metadata": {
        "colab": {
          "base_uri": "https://localhost:8080/"
        },
        "id": "lRLushQaOkKP",
        "outputId": "2c049e7e-31fc-4675-d6c0-76a65fd6f5a3"
      },
      "execution_count": null,
      "outputs": [
        {
          "output_type": "stream",
          "name": "stdout",
          "text": [
            "-1\n"
          ]
        }
      ]
    },
    {
      "cell_type": "code",
      "source": [
        "# uint(0 ~ 65,535)\n",
        "c = np.uint16(-1)\n",
        "print(c)"
      ],
      "metadata": {
        "colab": {
          "base_uri": "https://localhost:8080/"
        },
        "id": "rbPp3xr7OzBl",
        "outputId": "0cedffb8-e852-49e6-88db-56f594baaf5a"
      },
      "execution_count": null,
      "outputs": [
        {
          "output_type": "stream",
          "name": "stdout",
          "text": [
            "65535\n"
          ]
        }
      ]
    },
    {
      "cell_type": "markdown",
      "source": [
        "# 산술연산"
      ],
      "metadata": {
        "id": "OuMqrRkHQgZP"
      }
    },
    {
      "cell_type": "code",
      "source": [
        "import time\n",
        "\n",
        "data = [[1,2,3],[4,5,6]]\n",
        "data2 = [[1,1,1],[2,2,2]]\n",
        "\n",
        "strat_time = time.time()\n",
        "\n",
        "sum = 0\n",
        "for i in range(len(data)):\n",
        "    for j in range(len(data[0])):\n",
        "        print(data[i][j])\n",
        "        sum += data[i][j]\n",
        "        \n",
        "print(sum)"
      ],
      "metadata": {
        "colab": {
          "base_uri": "https://localhost:8080/"
        },
        "id": "4kJwl4HsQwIR",
        "outputId": "126b192b-571c-4b6d-fc17-81c2247e0df4"
      },
      "execution_count": null,
      "outputs": [
        {
          "output_type": "stream",
          "name": "stdout",
          "text": [
            "1\n",
            "2\n",
            "3\n",
            "4\n",
            "5\n",
            "6\n",
            "21\n"
          ]
        }
      ]
    },
    {
      "cell_type": "code",
      "source": [
        "# numpy 배열끼리의 연산\n",
        "a = np.array([1,2,3])\n",
        "b = np.array([4,5,6])\n",
        "\n",
        "# 덧셈\n",
        "sum = a + b \n",
        "\n",
        "# 뺄셈\n",
        "min = a - b\n",
        "\n",
        "#곱셈\n",
        "mul = a * b\n",
        "\n",
        "#나눗셈\n",
        "div = a / b\n",
        "\n",
        "print(sum)\n",
        "print(min)\n",
        "print(mul)\n",
        "print(div)"
      ],
      "metadata": {
        "colab": {
          "base_uri": "https://localhost:8080/"
        },
        "id": "zETzz0vUUa3a",
        "outputId": "d965180d-8689-419f-e68f-0270319d8006"
      },
      "execution_count": null,
      "outputs": [
        {
          "output_type": "stream",
          "name": "stdout",
          "text": [
            "[5 7 9]\n",
            "[-3 -3 -3]\n",
            "[ 4 10 18]\n",
            "[0.25 0.4  0.5 ]\n"
          ]
        }
      ]
    },
    {
      "cell_type": "code",
      "source": [
        "# 지수함수\n",
        "a = np.array([1,2,3])\n",
        "b = np.array([4,5,6])\n",
        "\n",
        "aa = np.exp(a)\n",
        "print(aa)"
      ],
      "metadata": {
        "colab": {
          "base_uri": "https://localhost:8080/"
        },
        "id": "IFLJQDG3VUyV",
        "outputId": "26484fff-b332-462b-90ef-7466fbd0b3ec"
      },
      "execution_count": null,
      "outputs": [
        {
          "output_type": "stream",
          "name": "stdout",
          "text": [
            "[ 2.71828183  7.3890561  20.08553692]\n"
          ]
        }
      ]
    },
    {
      "cell_type": "code",
      "source": [
        "# 자연로그\n",
        "bb = np.log(b)\n",
        "print(bb)"
      ],
      "metadata": {
        "colab": {
          "base_uri": "https://localhost:8080/"
        },
        "id": "gmA6L6fgVanA",
        "outputId": "55f33cc8-6ce5-4fed-bb08-8857ea0d94da"
      },
      "execution_count": null,
      "outputs": [
        {
          "output_type": "stream",
          "name": "stdout",
          "text": [
            "[1.38629436 1.60943791 1.79175947]\n"
          ]
        }
      ]
    },
    {
      "cell_type": "code",
      "source": [
        "# 밑이 2인 로그\n",
        "cc = np.log2 \n",
        "print(cc)"
      ],
      "metadata": {
        "colab": {
          "base_uri": "https://localhost:8080/"
        },
        "id": "qCVBV5HRVtAs",
        "outputId": "52022232-03a9-4772-c3e4-8728133cea23"
      },
      "execution_count": null,
      "outputs": [
        {
          "output_type": "stream",
          "name": "stdout",
          "text": [
            "<ufunc 'log2'>\n"
          ]
        }
      ]
    },
    {
      "cell_type": "code",
      "source": [
        "# 삼각함수\n",
        "\n",
        "d = np.array([0, np.pi/2, np.pi])\n",
        "\n",
        "sin_ = np.sin(d)\n",
        "cos_ = np.cos(d)\n",
        "tan_ = np.tan(d)\n",
        "\n",
        "print(sin_)\n",
        "print(cos_)\n",
        "print(tan_)"
      ],
      "metadata": {
        "colab": {
          "base_uri": "https://localhost:8080/"
        },
        "id": "xzlTdyfRV7AK",
        "outputId": "c80c6026-13b4-4fcb-d4ca-e32a277954ae"
      },
      "execution_count": null,
      "outputs": [
        {
          "output_type": "stream",
          "name": "stdout",
          "text": [
            "[0.0000000e+00 1.0000000e+00 1.2246468e-16]\n",
            "[ 1.000000e+00  6.123234e-17 -1.000000e+00]\n",
            "[ 0.00000000e+00  1.63312394e+16 -1.22464680e-16]\n"
          ]
        }
      ]
    },
    {
      "cell_type": "markdown",
      "source": [
        "# 배열의 연결과 분할"
      ],
      "metadata": {
        "id": "9Lkz1X-xqOTb"
      }
    },
    {
      "cell_type": "code",
      "source": [
        "print(\"a\"+\"b\")"
      ],
      "metadata": {
        "colab": {
          "base_uri": "https://localhost:8080/"
        },
        "id": "vjWu_5BRqNzC",
        "outputId": "c6dc4de4-865f-4285-bc30-ac398cac00fa"
      },
      "execution_count": null,
      "outputs": [
        {
          "output_type": "stream",
          "name": "stdout",
          "text": [
            "ab\n"
          ]
        }
      ]
    },
    {
      "cell_type": "code",
      "source": [
        "x = [1,2,3]\n",
        "y = [4,5,6]\n",
        "\n",
        "concat = np.concatenate([x,y])\n",
        "print(concat)"
      ],
      "metadata": {
        "colab": {
          "base_uri": "https://localhost:8080/"
        },
        "id": "QNC_6nwbqTOo",
        "outputId": "bd7b1deb-da11-4a4f-ce83-1268973b1254"
      },
      "execution_count": null,
      "outputs": [
        {
          "output_type": "stream",
          "name": "stdout",
          "text": [
            "[1 2 3 4 5 6]\n"
          ]
        }
      ]
    },
    {
      "cell_type": "code",
      "source": [
        "x2 = [[1,2],[3,4]]\n",
        "y2 = [[4,5],[6,7]]\n",
        "\n",
        "concat2 = np.concatenate([x2,y2], axis=1)   #열 병합\n",
        "concat3 = np.concatenate([x2,y2], axis=0)   #행 병합 \n",
        "print(concat2)\n",
        "print(concat3)"
      ],
      "metadata": {
        "colab": {
          "base_uri": "https://localhost:8080/"
        },
        "id": "fH_YbZh8qqSX",
        "outputId": "69c38ead-1e69-4520-9647-d49d9f57f67f"
      },
      "execution_count": null,
      "outputs": [
        {
          "output_type": "stream",
          "name": "stdout",
          "text": [
            "[[1 2 4 5]\n",
            " [3 4 6 7]]\n",
            "[[1 2]\n",
            " [3 4]\n",
            " [4 5]\n",
            " [6 7]]\n"
          ]
        }
      ]
    },
    {
      "cell_type": "code",
      "source": [
        "print(x2)"
      ],
      "metadata": {
        "colab": {
          "base_uri": "https://localhost:8080/"
        },
        "id": "Pjrp4QUxsL9L",
        "outputId": "ee20bf0e-52c4-4469-eecc-a7213b6c2e7a"
      },
      "execution_count": null,
      "outputs": [
        {
          "output_type": "stream",
          "name": "stdout",
          "text": [
            "[[1, 2], [3, 4]]\n"
          ]
        }
      ]
    },
    {
      "cell_type": "code",
      "source": [
        "arr = np.arange(10)\n",
        "print(arr)"
      ],
      "metadata": {
        "colab": {
          "base_uri": "https://localhost:8080/"
        },
        "id": "-VIkK-h1slFi",
        "outputId": "d515167f-405a-4c7c-d19f-25e039f6e43b"
      },
      "execution_count": null,
      "outputs": [
        {
          "output_type": "stream",
          "name": "stdout",
          "text": [
            "[0 1 2 3 4 5 6 7 8 9]\n"
          ]
        }
      ]
    },
    {
      "cell_type": "code",
      "source": [
        "arr.reshape(2,5)        #행2개 열5개 "
      ],
      "metadata": {
        "colab": {
          "base_uri": "https://localhost:8080/"
        },
        "id": "tmgc5aadssa5",
        "outputId": "c7454c96-f7bf-414f-c479-e82b7ccc0271"
      },
      "execution_count": null,
      "outputs": [
        {
          "output_type": "execute_result",
          "data": {
            "text/plain": [
              "array([[0, 1, 2, 3, 4],\n",
              "       [5, 6, 7, 8, 9]])"
            ]
          },
          "metadata": {},
          "execution_count": 106
        }
      ]
    },
    {
      "cell_type": "code",
      "source": [
        "arr.reshape(5,2)"
      ],
      "metadata": {
        "colab": {
          "base_uri": "https://localhost:8080/"
        },
        "id": "WJ6P346VuDO8",
        "outputId": "b0b46488-0826-4f63-d9b3-55d098eb4047"
      },
      "execution_count": null,
      "outputs": [
        {
          "output_type": "execute_result",
          "data": {
            "text/plain": [
              "array([[0, 1],\n",
              "       [2, 3],\n",
              "       [4, 5],\n",
              "       [6, 7],\n",
              "       [8, 9]])"
            ]
          },
          "metadata": {},
          "execution_count": 107
        }
      ]
    },
    {
      "cell_type": "code",
      "source": [
        "#hstack (horizontal) - 수평 (열방향)\n",
        "\n",
        "h = np.hstack([x2,y2])\n",
        "print(h)"
      ],
      "metadata": {
        "colab": {
          "base_uri": "https://localhost:8080/"
        },
        "id": "2uecqAc-uFO7",
        "outputId": "4a493e77-b1a3-4793-ed4e-30eba7e786fa"
      },
      "execution_count": null,
      "outputs": [
        {
          "output_type": "stream",
          "name": "stdout",
          "text": [
            "[[1 2 4 5]\n",
            " [3 4 6 7]]\n"
          ]
        }
      ]
    },
    {
      "cell_type": "code",
      "source": [
        "#vstack (vertical) - 수직(행방향)\n",
        "\n",
        "v = np.vstack([x2,y2])\n",
        "print(v)"
      ],
      "metadata": {
        "colab": {
          "base_uri": "https://localhost:8080/"
        },
        "id": "JM7t06lwuUfa",
        "outputId": "5367d8ff-b281-42ca-95d9-fc99040cf28b"
      },
      "execution_count": null,
      "outputs": [
        {
          "output_type": "stream",
          "name": "stdout",
          "text": [
            "[[1 2]\n",
            " [3 4]\n",
            " [4 5]\n",
            " [6 7]]\n"
          ]
        }
      ]
    },
    {
      "cell_type": "code",
      "source": [
        "# hsplit\n",
        "\n",
        "x2 = np.array([[1,2],[3,4],[5,6]])\n",
        "h2 = np.hsplit(x2, 2)\n",
        "print(h2)"
      ],
      "metadata": {
        "colab": {
          "base_uri": "https://localhost:8080/"
        },
        "id": "jQf-U3SFvsmb",
        "outputId": "2c1e04c8-1625-4059-98cd-25f0bb6024d0"
      },
      "execution_count": null,
      "outputs": [
        {
          "output_type": "stream",
          "name": "stdout",
          "text": [
            "[array([[1],\n",
            "       [3],\n",
            "       [5]]), array([[2],\n",
            "       [4],\n",
            "       [6]])]\n"
          ]
        }
      ]
    },
    {
      "cell_type": "code",
      "source": [
        "# vsplit\n",
        "\n",
        "v2 = np.vsplit(x2,3)\n",
        "print(v2)"
      ],
      "metadata": {
        "colab": {
          "base_uri": "https://localhost:8080/"
        },
        "id": "1WW073yhvzTg",
        "outputId": "0da6929e-4f45-4ed8-9175-7f4ce1b30ecf"
      },
      "execution_count": null,
      "outputs": [
        {
          "output_type": "stream",
          "name": "stdout",
          "text": [
            "[array([[1, 2]]), array([[3, 4]]), array([[5, 6]])]\n"
          ]
        }
      ]
    },
    {
      "cell_type": "markdown",
      "source": [
        "# 다양한 배열 만들기"
      ],
      "metadata": {
        "id": "n0d4Fx3E2qgh"
      }
    },
    {
      "cell_type": "code",
      "source": [
        "# 0행렬\n",
        "\n",
        "zero = np.zeros([3,4])\n",
        "print(zero)\n",
        "\n",
        "\n",
        "zero3  = np.zeros([3,4,2])\n",
        "print(zero3)"
      ],
      "metadata": {
        "colab": {
          "base_uri": "https://localhost:8080/"
        },
        "id": "ceTtB0my2scr",
        "outputId": "9a7fd12e-23a8-4bc3-dd72-aef7d48c65be"
      },
      "execution_count": null,
      "outputs": [
        {
          "output_type": "stream",
          "name": "stdout",
          "text": [
            "[[0. 0. 0. 0.]\n",
            " [0. 0. 0. 0.]\n",
            " [0. 0. 0. 0.]]\n",
            "[[[0. 0.]\n",
            "  [0. 0.]\n",
            "  [0. 0.]\n",
            "  [0. 0.]]\n",
            "\n",
            " [[0. 0.]\n",
            "  [0. 0.]\n",
            "  [0. 0.]\n",
            "  [0. 0.]]\n",
            "\n",
            " [[0. 0.]\n",
            "  [0. 0.]\n",
            "  [0. 0.]\n",
            "  [0. 0.]]]\n"
          ]
        }
      ]
    },
    {
      "cell_type": "code",
      "source": [
        "one = np.ones([3,4])\n",
        "print(one)"
      ],
      "metadata": {
        "colab": {
          "base_uri": "https://localhost:8080/"
        },
        "id": "j1oS0iK83CwV",
        "outputId": "58da5b22-aae4-4775-b99f-693e0d7fe8b9"
      },
      "execution_count": null,
      "outputs": [
        {
          "output_type": "stream",
          "name": "stdout",
          "text": [
            "[[1. 1. 1. 1.]\n",
            " [1. 1. 1. 1.]\n",
            " [1. 1. 1. 1.]]\n"
          ]
        }
      ]
    },
    {
      "cell_type": "code",
      "source": [
        "eye = np.eye(3)\n",
        "print(eye)"
      ],
      "metadata": {
        "colab": {
          "base_uri": "https://localhost:8080/"
        },
        "id": "dbWt6Eps3FMG",
        "outputId": "71a7e92e-d958-4e73-be80-8ae3fb6a2863"
      },
      "execution_count": null,
      "outputs": [
        {
          "output_type": "stream",
          "name": "stdout",
          "text": [
            "[[1. 0. 0.]\n",
            " [0. 1. 0.]\n",
            " [0. 0. 1.]]\n"
          ]
        }
      ]
    },
    {
      "cell_type": "markdown",
      "source": [
        "# Numpy 제공 함수"
      ],
      "metadata": {
        "id": "fEQA08ua4W09"
      }
    },
    {
      "cell_type": "markdown",
      "source": [
        "## 범용함수"
      ],
      "metadata": {
        "id": "TW6K42TJbsrI"
      }
    },
    {
      "cell_type": "code",
      "source": [
        "# abs 절대값\n",
        "\n",
        "arr1 = np.array([-1,-2,-3,-4])\n",
        "abs_arr = np.abs(arr1)\n",
        "print(abs_arr)"
      ],
      "metadata": {
        "colab": {
          "base_uri": "https://localhost:8080/"
        },
        "id": "RjppLlQE2wXr",
        "outputId": "a13adb32-0692-474d-dfaf-43f73550e1ed"
      },
      "execution_count": null,
      "outputs": [
        {
          "output_type": "stream",
          "name": "stdout",
          "text": [
            "[1 2 3 4]\n"
          ]
        }
      ]
    },
    {
      "cell_type": "code",
      "source": [
        "# sqrt 제곱근\n",
        "arr2 = np.array([1,4,9,16])\n",
        "sqrt_arr = np.sqrt(arr2)\n",
        "\n",
        "print(sqrt_arr)"
      ],
      "metadata": {
        "colab": {
          "base_uri": "https://localhost:8080/"
        },
        "id": "xE5qsl1m4xBy",
        "outputId": "299cf5aa-1237-4d70-f802-965b7b80f021"
      },
      "execution_count": null,
      "outputs": [
        {
          "output_type": "stream",
          "name": "stdout",
          "text": [
            "[1. 2. 3. 4.]\n"
          ]
        }
      ]
    },
    {
      "cell_type": "markdown",
      "source": [
        "## 집계함수"
      ],
      "metadata": {
        "id": "xyx5dxAfEuwF"
      }
    },
    {
      "cell_type": "code",
      "source": [
        "# 평균 mean\n",
        "a = np.array ([1,2,3,4,5])\n",
        "a_mean = np.mean(a)\n",
        "\n",
        "print(a_mean)"
      ],
      "metadata": {
        "colab": {
          "base_uri": "https://localhost:8080/"
        },
        "id": "lUcOooh65aVk",
        "outputId": "6c0b7c34-551a-4bd1-e630-be6c78cf55a5"
      },
      "execution_count": null,
      "outputs": [
        {
          "output_type": "stream",
          "name": "stdout",
          "text": [
            "3.0\n"
          ]
        }
      ]
    },
    {
      "cell_type": "code",
      "source": [
        "# 중앙값 median\n",
        "b = np.array([1,3,5,7,9])\n",
        "b_median = np.median(b)\n",
        "print(b_median)"
      ],
      "metadata": {
        "colab": {
          "base_uri": "https://localhost:8080/"
        },
        "id": "FQPKjuKG5_sU",
        "outputId": "03d53e26-e113-4054-dc01-b1ff663f4a77"
      },
      "execution_count": null,
      "outputs": [
        {
          "output_type": "stream",
          "name": "stdout",
          "text": [
            "5.0\n"
          ]
        }
      ]
    },
    {
      "cell_type": "code",
      "source": [
        "# 표준편차 std\n",
        "c = np.array([1,2,3,4,5])\n",
        "c_std = np.std(c)\n",
        "\n",
        "print(c_std)"
      ],
      "metadata": {
        "colab": {
          "base_uri": "https://localhost:8080/"
        },
        "id": "6aG8GJ_26GB4",
        "outputId": "c39bf6da-a516-4ab7-fc80-c8908252d66c"
      },
      "execution_count": null,
      "outputs": [
        {
          "output_type": "stream",
          "name": "stdout",
          "text": [
            "1.4142135623730951\n"
          ]
        }
      ]
    },
    {
      "cell_type": "code",
      "source": [
        "# 분산 var\n",
        "d = np.array([1,2,3,4,5])\n",
        "d_var = np.var(d)\n",
        "\n",
        "print(d_var)"
      ],
      "metadata": {
        "colab": {
          "base_uri": "https://localhost:8080/"
        },
        "id": "Bwc40u9U6zO_",
        "outputId": "6b1ef22e-c20f-40b3-f955-cb278ff5a716"
      },
      "execution_count": null,
      "outputs": [
        {
          "output_type": "stream",
          "name": "stdout",
          "text": [
            "2.0\n"
          ]
        }
      ]
    },
    {
      "cell_type": "code",
      "source": [
        "# 합계 sum\n",
        "d = np.array([1,2,3,4,5])\n",
        "d_sum = np.sum(d)\n",
        "print(d_sum)"
      ],
      "metadata": {
        "colab": {
          "base_uri": "https://localhost:8080/"
        },
        "id": "yvj0Q4wT63nd",
        "outputId": "371f5b3f-b166-4527-d69e-c2c258861743"
      },
      "execution_count": null,
      "outputs": [
        {
          "output_type": "stream",
          "name": "stdout",
          "text": [
            "15\n"
          ]
        }
      ]
    },
    {
      "cell_type": "code",
      "source": [
        "# 누적합계 cumsum\n",
        "\n",
        "d_cumsum = np.cumsum(d)\n",
        "print(d_cumsum)"
      ],
      "metadata": {
        "colab": {
          "base_uri": "https://localhost:8080/"
        },
        "id": "-Qq9oBvb7FrG",
        "outputId": "c41f14e5-1bd1-4535-be6e-88c679e39aff"
      },
      "execution_count": null,
      "outputs": [
        {
          "output_type": "stream",
          "name": "stdout",
          "text": [
            "[ 1  3  6 10 15]\n"
          ]
        }
      ]
    },
    {
      "cell_type": "code",
      "source": [
        "# min, max 최소최대 : 인덱스 반환 \n",
        "min = np.argmin(d)\n",
        "print(min)"
      ],
      "metadata": {
        "colab": {
          "base_uri": "https://localhost:8080/"
        },
        "id": "0RWx9fGV7LEU",
        "outputId": "f45944fc-cfe3-4389-fee2-042f08725d66"
      },
      "execution_count": null,
      "outputs": [
        {
          "output_type": "stream",
          "name": "stdout",
          "text": [
            "0\n"
          ]
        }
      ]
    },
    {
      "cell_type": "code",
      "source": [
        "max = np.argmax(d)\n",
        "print(max)"
      ],
      "metadata": {
        "colab": {
          "base_uri": "https://localhost:8080/"
        },
        "id": "IhafgQVi8ieJ",
        "outputId": "a25a41b8-0512-43fa-d82e-fe6ceb0b6b5e"
      },
      "execution_count": null,
      "outputs": [
        {
          "output_type": "stream",
          "name": "stdout",
          "text": [
            "4\n"
          ]
        }
      ]
    },
    {
      "cell_type": "code",
      "source": [
        "# any - 배열 안에 하나라도 true가 있는지\n",
        "\n",
        "a = np.array([0,0,0,1])\n",
        "\n",
        "a_true = np.any(a)\n",
        "print(a_true)"
      ],
      "metadata": {
        "colab": {
          "base_uri": "https://localhost:8080/"
        },
        "id": "65qOyXwd9Ns8",
        "outputId": "8c4cdfbd-e217-4e89-b70b-a70e842de924"
      },
      "execution_count": null,
      "outputs": [
        {
          "output_type": "stream",
          "name": "stdout",
          "text": [
            "True\n"
          ]
        }
      ]
    },
    {
      "cell_type": "code",
      "source": [
        "# all - 모든게 true 여야 true\n",
        "\n",
        "a_all = np.all(a)\n",
        "print(a_all)"
      ],
      "metadata": {
        "colab": {
          "base_uri": "https://localhost:8080/"
        },
        "id": "q-Jwuo-99Tvb",
        "outputId": "e0a4ad49-bacc-4211-f44e-d31bea69720e"
      },
      "execution_count": null,
      "outputs": [
        {
          "output_type": "stream",
          "name": "stdout",
          "text": [
            "False\n"
          ]
        }
      ]
    },
    {
      "cell_type": "code",
      "source": [
        "# NaN\n",
        "\n",
        "a = np.array([1,2,np.nan,4])\n",
        "a_nsum = np.nansum(a)\n",
        "\n",
        "print(a_nsum)"
      ],
      "metadata": {
        "colab": {
          "base_uri": "https://localhost:8080/"
        },
        "id": "pgPWrU9e-ONZ",
        "outputId": "d9ea3bf1-a63e-49e0-cfc4-5c4ce99dc49c"
      },
      "execution_count": null,
      "outputs": [
        {
          "output_type": "stream",
          "name": "stdout",
          "text": [
            "7.0\n"
          ]
        }
      ]
    },
    {
      "cell_type": "code",
      "source": [
        "# nan이 있을경우 sum 에러\n",
        "a_sum = np.sum(a)\n",
        "print(a_sum)"
      ],
      "metadata": {
        "colab": {
          "base_uri": "https://localhost:8080/"
        },
        "id": "LtBBjCi4_GK2",
        "outputId": "92e93abd-0985-4c28-a54a-936cdaf2fd13"
      },
      "execution_count": null,
      "outputs": [
        {
          "output_type": "stream",
          "name": "stdout",
          "text": [
            "nan\n"
          ]
        }
      ]
    },
    {
      "cell_type": "code",
      "source": [
        "# 조건 where \n",
        "\n",
        "d = np.array([1,2,3,4,5])\n",
        "\n",
        "condition = np.where( d < 3, d, 0)\n",
        "condition1 = np.where(d < 3)\n",
        "print(condition)\n",
        "print(condition1)"
      ],
      "metadata": {
        "colab": {
          "base_uri": "https://localhost:8080/"
        },
        "id": "ps-ZMGUq_k6V",
        "outputId": "6ff7a240-68f8-42fe-bceb-0c0301486763"
      },
      "execution_count": null,
      "outputs": [
        {
          "output_type": "stream",
          "name": "stdout",
          "text": [
            "[1 2 0 0 0]\n",
            "(array([0, 1]),)\n"
          ]
        }
      ]
    },
    {
      "cell_type": "markdown",
      "source": [
        "## Boolean Indexing\n",
        "\n",
        "## 조건에 따른 요소들을 판별해 새로운 배열을 만든다."
      ],
      "metadata": {
        "id": "fREc9XemFRe4"
      }
    },
    {
      "cell_type": "code",
      "source": [
        "# 참이 되는 조건만 반환 \n",
        "\n",
        "a = np.array([1,2,3,4,5,6,7,8,9,10])        #원본데이터\n",
        "\n",
        "even_a = a[a%2 == 0 ]\n",
        "\n",
        "print(even_a)\n",
        "print(a)"
      ],
      "metadata": {
        "colab": {
          "base_uri": "https://localhost:8080/"
        },
        "id": "a50ZHNpRFXtZ",
        "outputId": "ae97f2fb-08e9-49e6-9efe-b9a20a9baecd"
      },
      "execution_count": null,
      "outputs": [
        {
          "output_type": "stream",
          "name": "stdout",
          "text": [
            "[ 2  4  6  8 10]\n",
            "[ 1  2  3  4  5  6  7  8  9 10]\n"
          ]
        }
      ]
    },
    {
      "cell_type": "markdown",
      "source": [
        "## Broadcast(브로드캐스트)\n",
        "\n",
        "- 크기가 다른 배열 간의 연산도 가능하게 해줌 \n",
        "- ex) 1차원, 2차원\n",
        "- 두 배열의 차원이 다르고 한 배열의 차원이 1차원(벡터)\n",
        "- 차원을 늘렸을 때 계산 가능한 경우 "
      ],
      "metadata": {
        "id": "mkTMQUPHIF-0"
      }
    },
    {
      "cell_type": "code",
      "source": [
        "a = np.array([1,2,3])\n",
        "b = np.array([4,5,6])\n",
        "\n",
        "c = a+b \n",
        "print(c)"
      ],
      "metadata": {
        "colab": {
          "base_uri": "https://localhost:8080/"
        },
        "id": "MLZ4cpTxGkGI",
        "outputId": "c31b7810-eccd-40c8-d2e6-5c1778fd1d9a"
      },
      "execution_count": null,
      "outputs": [
        {
          "output_type": "stream",
          "name": "stdout",
          "text": [
            "[5 7 9]\n"
          ]
        }
      ]
    },
    {
      "cell_type": "code",
      "source": [
        "# 백터 - 행렬 (다른 차원의 계산)\n",
        "d = np.array([[1],[2],[3]])\n",
        "e = np.array([4,5,6])\n",
        "\n",
        "f = d+e\n",
        "print(f)"
      ],
      "metadata": {
        "colab": {
          "base_uri": "https://localhost:8080/"
        },
        "id": "JPRDz8XwImK5",
        "outputId": "a6f6817b-697f-4e85-a786-0e35ea15221f"
      },
      "execution_count": null,
      "outputs": [
        {
          "output_type": "stream",
          "name": "stdout",
          "text": [
            "[[5 6 7]\n",
            " [6 7 8]\n",
            " [7 8 9]]\n"
          ]
        }
      ]
    },
    {
      "cell_type": "markdown",
      "source": [
        "- 두 배열의 차원 수가 다를 경우, 더 작은 차원의 배열에 큰차원의 배열이 맞을 때까지 1을 추가한다. \n",
        "- 두 배열의 차원 수가 같을 경우에도, 크기가 1인 차원이 있다면 다른 배열의 크기와 일치하도록 복제된다.  \n",
        "- 두 배열의 차원 수가 같은 경우에도, 모든 차원의 크기가 같거나 크기가 1이라면 모양이 같은 두 배열의 요소 간 연산을 한다. "
      ],
      "metadata": {
        "id": "8YObMeuOJ-bM"
      }
    },
    {
      "cell_type": "code",
      "source": [
        "# 1x3\n",
        "f = np.array([[1, 2, 3]])"
      ],
      "metadata": {
        "id": "4mvABKFEKfn7"
      },
      "execution_count": null,
      "outputs": []
    },
    {
      "cell_type": "markdown",
      "source": [
        "## 난수 생성 함수\n",
        "random"
      ],
      "metadata": {
        "id": "d3hHHa3OBuI-"
      }
    },
    {
      "cell_type": "code",
      "source": [
        "import numpy as np "
      ],
      "metadata": {
        "id": "iXBs_gI9BzGm"
      },
      "execution_count": 1,
      "outputs": []
    },
    {
      "cell_type": "code",
      "source": [
        "# rand : 0~1 사이 랜덤 값 \n",
        "\n",
        "a = np.random.rand(2,2)\n",
        "print(a)"
      ],
      "metadata": {
        "colab": {
          "base_uri": "https://localhost:8080/"
        },
        "id": "3zbhEHvcCE8m",
        "outputId": "b2b7d3f9-d044-4e5f-96e1-3e7e6758f59a"
      },
      "execution_count": 2,
      "outputs": [
        {
          "output_type": "stream",
          "name": "stdout",
          "text": [
            "[[0.43745247 0.1679137 ]\n",
            " [0.5474366  0.57558971]]\n"
          ]
        }
      ]
    },
    {
      "cell_type": "code",
      "source": [
        "# randn(표준정규분포) : 평균이 0, 분산이 1 \n",
        "b = np.random.randn(2, 2)\n",
        "print(b)"
      ],
      "metadata": {
        "colab": {
          "base_uri": "https://localhost:8080/"
        },
        "id": "FpkyKky2B17P",
        "outputId": "e8844da7-d4c4-4df2-d374-a7c5c0722897"
      },
      "execution_count": 3,
      "outputs": [
        {
          "output_type": "stream",
          "name": "stdout",
          "text": [
            "[[ 1.38181426 -0.4519734 ]\n",
            " [-0.73803004  0.4506318 ]]\n"
          ]
        }
      ]
    },
    {
      "cell_type": "code",
      "source": [
        "#randint : 랜덤한 정수값 \n",
        "\n",
        "c =  np.random.randint(0,10,size = 5)\n",
        "print(c)"
      ],
      "metadata": {
        "colab": {
          "base_uri": "https://localhost:8080/"
        },
        "id": "7-eZlDqaDK_8",
        "outputId": "9292962f-96a5-4c75-ce06-dfeca527d02b"
      },
      "execution_count": 4,
      "outputs": [
        {
          "output_type": "stream",
          "name": "stdout",
          "text": [
            "[4 0 9 6 4]\n"
          ]
        }
      ]
    },
    {
      "cell_type": "code",
      "source": [
        "c2 =  np.random.randint(0,10,size = (2,2))\n",
        "print(c2)"
      ],
      "metadata": {
        "colab": {
          "base_uri": "https://localhost:8080/"
        },
        "id": "33oVRKnzB138",
        "outputId": "57480ba9-9556-4a11-b25e-de8e9ef9abb2"
      },
      "execution_count": 7,
      "outputs": [
        {
          "output_type": "stream",
          "name": "stdout",
          "text": [
            "[[0 6]\n",
            " [7 4]]\n"
          ]
        }
      ]
    },
    {
      "cell_type": "code",
      "source": [
        "# shuffle - 값 섞기\n",
        "\n",
        "d = np.arange(10)\n",
        "np.random.shuffle(d)            #원본 값이 변함\n",
        "print(d)"
      ],
      "metadata": {
        "colab": {
          "base_uri": "https://localhost:8080/"
        },
        "id": "_TT320lOB11D",
        "outputId": "1822c859-8cfa-4bef-9f58-ba4c960b2457"
      },
      "execution_count": 11,
      "outputs": [
        {
          "output_type": "stream",
          "name": "stdout",
          "text": [
            "[8 4 7 3 1 2 9 6 0 5]\n"
          ]
        }
      ]
    },
    {
      "cell_type": "code",
      "source": [
        "# choice - 중복허용\n",
        "# choice + replace=False  - 중복허용x\n",
        "\n",
        "choice = np.random.choice(d, 5)\n",
        "choice2 = np.random.choice(d, 5, replace=False)\n",
        "\n",
        "print(choice)\n",
        "print(choice2)"
      ],
      "metadata": {
        "colab": {
          "base_uri": "https://localhost:8080/"
        },
        "id": "ct1lpH3OB1yl",
        "outputId": "7f177c10-b250-44dc-a936-81055c8823f3"
      },
      "execution_count": 14,
      "outputs": [
        {
          "output_type": "stream",
          "name": "stdout",
          "text": [
            "[5 5 2 0 4]\n",
            "[0 9 5 6 4]\n"
          ]
        }
      ]
    },
    {
      "cell_type": "code",
      "source": [
        "# 지정확률로 뽑기\n",
        "d=  np.arange(5)\n",
        "choice = np.random.choice(d, 5, p=[0.1, 0, 0.3, 0.2, 0.4])\n",
        "print(choice)"
      ],
      "metadata": {
        "colab": {
          "base_uri": "https://localhost:8080/"
        },
        "id": "n3ttU8dkB1wA",
        "outputId": "3a7a394a-173d-45fc-8243-ceba3988033b"
      },
      "execution_count": 24,
      "outputs": [
        {
          "output_type": "stream",
          "name": "stdout",
          "text": [
            "[4 3 3 4 3]\n"
          ]
        }
      ]
    },
    {
      "cell_type": "code",
      "source": [
        "# permutation 순열 (원본 안바뀜)\n",
        "\n",
        "a = np.arange(10)\n",
        "a_p = np.random.permutation(a)\n",
        "print(a)\n",
        "print(a_p)"
      ],
      "metadata": {
        "colab": {
          "base_uri": "https://localhost:8080/"
        },
        "id": "B-EhhrQmB1tU",
        "outputId": "7fd398ec-ecd8-4b9f-a676-3a3880ae50c4"
      },
      "execution_count": 27,
      "outputs": [
        {
          "output_type": "stream",
          "name": "stdout",
          "text": [
            "[0 1 2 3 4 5 6 7 8 9]\n",
            "[1 7 2 3 4 5 0 9 8 6]\n"
          ]
        }
      ]
    },
    {
      "cell_type": "code",
      "source": [
        "# 정규분포를 따르는 난수 생성 \n",
        "# a = np.random.noraml('평균','표준편차','갯수')\n",
        "\n",
        "a = np.random.normal(0,1,3)\n",
        "print(a)"
      ],
      "metadata": {
        "colab": {
          "base_uri": "https://localhost:8080/"
        },
        "id": "ne-2AHzUB1q7",
        "outputId": "e577d590-5b0c-4c89-c3a0-5a819d5b414f"
      },
      "execution_count": 28,
      "outputs": [
        {
          "output_type": "stream",
          "name": "stdout",
          "text": [
            "[-0.315598   -0.50605006  0.04142523]\n"
          ]
        }
      ]
    },
    {
      "cell_type": "code",
      "source": [],
      "metadata": {
        "id": "1WSf5Nq0B1Jw"
      },
      "execution_count": null,
      "outputs": []
    },
    {
      "cell_type": "markdown",
      "source": [
        "# 복습예제"
      ],
      "metadata": {
        "id": "6i-RDwoLkYBr"
      }
    },
    {
      "cell_type": "markdown",
      "source": [
        "## array()"
      ],
      "metadata": {
        "id": "x6DHuy70kfIC"
      }
    },
    {
      "cell_type": "code",
      "source": [
        "arr_1d = np.array([1,2,3,4,5])\n",
        "print(arr_1d)"
      ],
      "metadata": {
        "colab": {
          "base_uri": "https://localhost:8080/"
        },
        "id": "nj5fdJjPkaYJ",
        "outputId": "fb67295f-c3d2-427b-eb28-aed49f865602"
      },
      "execution_count": null,
      "outputs": [
        {
          "output_type": "stream",
          "name": "stdout",
          "text": [
            "[1 2 3 4 5]\n"
          ]
        }
      ]
    },
    {
      "cell_type": "code",
      "source": [
        "arr_1d = np.array([i for i in range(1,10,2)])\n",
        "print(arr_1d)"
      ],
      "metadata": {
        "colab": {
          "base_uri": "https://localhost:8080/"
        },
        "id": "ZJL1qeQkkkzL",
        "outputId": "6b5a85b2-ad6e-4790-a492-39905eacc9f2"
      },
      "execution_count": null,
      "outputs": [
        {
          "output_type": "stream",
          "name": "stdout",
          "text": [
            "[1 3 5 7 9]\n"
          ]
        }
      ]
    },
    {
      "cell_type": "code",
      "source": [
        "print(np.array(range(10)))\n",
        "print(np.array(range(1,11)))\n",
        "print(np.array(range(2,11,2)))\n",
        "print(np.array(range(10,2,-1)))"
      ],
      "metadata": {
        "colab": {
          "base_uri": "https://localhost:8080/"
        },
        "id": "MFHzmoJekrMv",
        "outputId": "db50f8b2-e5ed-4897-91fc-b329d7911eee"
      },
      "execution_count": null,
      "outputs": [
        {
          "output_type": "stream",
          "name": "stdout",
          "text": [
            "[0 1 2 3 4 5 6 7 8 9]\n",
            "[ 1  2  3  4  5  6  7  8  9 10]\n",
            "[ 2  4  6  8 10]\n",
            "[10  9  8  7  6  5  4  3]\n"
          ]
        }
      ]
    },
    {
      "cell_type": "code",
      "source": [
        "arr_1d = np.array([1,2,3,4,5],dtype=\"f\")\n",
        "print(arr_1d)"
      ],
      "metadata": {
        "colab": {
          "base_uri": "https://localhost:8080/"
        },
        "id": "reIh1qldk0cD",
        "outputId": "566e3ed5-be4e-4740-b2f4-0a2f1eda13c1"
      },
      "execution_count": null,
      "outputs": [
        {
          "output_type": "stream",
          "name": "stdout",
          "text": [
            "[1. 2. 3. 4. 5.]\n"
          ]
        }
      ]
    },
    {
      "cell_type": "code",
      "source": [
        "arr_2d = np.array([[1,2,3],[4,5,6]])\n",
        "print(arr_2d)"
      ],
      "metadata": {
        "colab": {
          "base_uri": "https://localhost:8080/"
        },
        "id": "VjybKalIk5QZ",
        "outputId": "140e7f5a-10f2-401d-a0cf-6d82cec37426"
      },
      "execution_count": null,
      "outputs": [
        {
          "output_type": "stream",
          "name": "stdout",
          "text": [
            "[[1 2 3]\n",
            " [4 5 6]]\n"
          ]
        }
      ]
    },
    {
      "cell_type": "code",
      "source": [
        "arr_2d = np.array(range(1,13,2)).reshape(2,3)\n",
        "print(arr_2d)"
      ],
      "metadata": {
        "id": "iBls8a6rk9wQ",
        "colab": {
          "base_uri": "https://localhost:8080/"
        },
        "outputId": "c51aabfd-9168-405f-d045-ba5df6dfb466"
      },
      "execution_count": 121,
      "outputs": [
        {
          "output_type": "stream",
          "name": "stdout",
          "text": [
            "[[ 1  3  5]\n",
            " [ 7  9 11]]\n"
          ]
        }
      ]
    },
    {
      "cell_type": "code",
      "source": [
        "# 요소 개수 reshape 의 행렬 개수에 맞게 설정\n",
        "arr_2d = np.array(range(1,13,2)).reshape(2,4)\n",
        "print(arr_2d)\n"
      ],
      "metadata": {
        "id": "DvZf5ayckqKn",
        "colab": {
          "base_uri": "https://localhost:8080/",
          "height": 211
        },
        "outputId": "93ba901d-0195-4a0d-f6cb-670c39c968c2"
      },
      "execution_count": 122,
      "outputs": [
        {
          "output_type": "error",
          "ename": "ValueError",
          "evalue": "ignored",
          "traceback": [
            "\u001b[0;31m---------------------------------------------------------------------------\u001b[0m",
            "\u001b[0;31mValueError\u001b[0m                                Traceback (most recent call last)",
            "\u001b[0;32m<ipython-input-122-36c6cc4e3c4c>\u001b[0m in \u001b[0;36m<cell line: 2>\u001b[0;34m()\u001b[0m\n\u001b[1;32m      1\u001b[0m \u001b[0;31m# 요소 개수 reshape 의 행렬 개수에 맞게 설정\u001b[0m\u001b[0;34m\u001b[0m\u001b[0;34m\u001b[0m\u001b[0m\n\u001b[0;32m----> 2\u001b[0;31m \u001b[0marr_2d\u001b[0m \u001b[0;34m=\u001b[0m \u001b[0mnp\u001b[0m\u001b[0;34m.\u001b[0m\u001b[0marray\u001b[0m\u001b[0;34m(\u001b[0m\u001b[0mrange\u001b[0m\u001b[0;34m(\u001b[0m\u001b[0;36m1\u001b[0m\u001b[0;34m,\u001b[0m\u001b[0;36m13\u001b[0m\u001b[0;34m,\u001b[0m\u001b[0;36m2\u001b[0m\u001b[0;34m)\u001b[0m\u001b[0;34m)\u001b[0m\u001b[0;34m.\u001b[0m\u001b[0mreshape\u001b[0m\u001b[0;34m(\u001b[0m\u001b[0;36m2\u001b[0m\u001b[0;34m,\u001b[0m\u001b[0;36m4\u001b[0m\u001b[0;34m)\u001b[0m\u001b[0;34m\u001b[0m\u001b[0;34m\u001b[0m\u001b[0m\n\u001b[0m\u001b[1;32m      3\u001b[0m \u001b[0mprint\u001b[0m\u001b[0;34m(\u001b[0m\u001b[0marr_2d\u001b[0m\u001b[0;34m)\u001b[0m\u001b[0;34m\u001b[0m\u001b[0;34m\u001b[0m\u001b[0m\n",
            "\u001b[0;31mValueError\u001b[0m: cannot reshape array of size 6 into shape (2,4)"
          ]
        }
      ]
    },
    {
      "cell_type": "code",
      "source": [
        "arr_3d = np.array([[[1, 2], [3, 4]], [[5, 6], [7, 8]]])\n",
        "print(arr_3d)"
      ],
      "metadata": {
        "colab": {
          "base_uri": "https://localhost:8080/"
        },
        "id": "X6EPeFHDu2e3",
        "outputId": "c23c65ce-076c-494b-9aea-cc27554d4fe3"
      },
      "execution_count": 123,
      "outputs": [
        {
          "output_type": "stream",
          "name": "stdout",
          "text": [
            "[[[1 2]\n",
            "  [3 4]]\n",
            "\n",
            " [[5 6]\n",
            "  [7 8]]]\n"
          ]
        }
      ]
    },
    {
      "cell_type": "markdown",
      "source": [
        "## 2. arange()"
      ],
      "metadata": {
        "id": "jxW6oThwu5_h"
      }
    },
    {
      "cell_type": "code",
      "source": [
        "print(np.array(range(10)))\n",
        "print(np.array(range(1, 11)))\n",
        "print(np.array(range(2, 11, 2)))\n",
        "print(np.array(range(2, 11, 0.5)))\n",
        "print(np.array(range(10, 2, -1)))\n",
        "print(np.array(range(10, 2, -0.5)))"
      ],
      "metadata": {
        "colab": {
          "base_uri": "https://localhost:8080/",
          "height": 303
        },
        "id": "sCd0wcIau8G3",
        "outputId": "99568882-c838-46fd-bc32-4ec6db27095c"
      },
      "execution_count": 124,
      "outputs": [
        {
          "output_type": "stream",
          "name": "stdout",
          "text": [
            "[0 1 2 3 4 5 6 7 8 9]\n",
            "[ 1  2  3  4  5  6  7  8  9 10]\n",
            "[ 2  4  6  8 10]\n"
          ]
        },
        {
          "output_type": "error",
          "ename": "TypeError",
          "evalue": "ignored",
          "traceback": [
            "\u001b[0;31m---------------------------------------------------------------------------\u001b[0m",
            "\u001b[0;31mTypeError\u001b[0m                                 Traceback (most recent call last)",
            "\u001b[0;32m<ipython-input-124-3f0c47cb27f3>\u001b[0m in \u001b[0;36m<cell line: 4>\u001b[0;34m()\u001b[0m\n\u001b[1;32m      2\u001b[0m \u001b[0mprint\u001b[0m\u001b[0;34m(\u001b[0m\u001b[0mnp\u001b[0m\u001b[0;34m.\u001b[0m\u001b[0marray\u001b[0m\u001b[0;34m(\u001b[0m\u001b[0mrange\u001b[0m\u001b[0;34m(\u001b[0m\u001b[0;36m1\u001b[0m\u001b[0;34m,\u001b[0m \u001b[0;36m11\u001b[0m\u001b[0;34m)\u001b[0m\u001b[0;34m)\u001b[0m\u001b[0;34m)\u001b[0m\u001b[0;34m\u001b[0m\u001b[0;34m\u001b[0m\u001b[0m\n\u001b[1;32m      3\u001b[0m \u001b[0mprint\u001b[0m\u001b[0;34m(\u001b[0m\u001b[0mnp\u001b[0m\u001b[0;34m.\u001b[0m\u001b[0marray\u001b[0m\u001b[0;34m(\u001b[0m\u001b[0mrange\u001b[0m\u001b[0;34m(\u001b[0m\u001b[0;36m2\u001b[0m\u001b[0;34m,\u001b[0m \u001b[0;36m11\u001b[0m\u001b[0;34m,\u001b[0m \u001b[0;36m2\u001b[0m\u001b[0;34m)\u001b[0m\u001b[0;34m)\u001b[0m\u001b[0;34m)\u001b[0m\u001b[0;34m\u001b[0m\u001b[0;34m\u001b[0m\u001b[0m\n\u001b[0;32m----> 4\u001b[0;31m \u001b[0mprint\u001b[0m\u001b[0;34m(\u001b[0m\u001b[0mnp\u001b[0m\u001b[0;34m.\u001b[0m\u001b[0marray\u001b[0m\u001b[0;34m(\u001b[0m\u001b[0mrange\u001b[0m\u001b[0;34m(\u001b[0m\u001b[0;36m2\u001b[0m\u001b[0;34m,\u001b[0m \u001b[0;36m11\u001b[0m\u001b[0;34m,\u001b[0m \u001b[0;36m0.5\u001b[0m\u001b[0;34m)\u001b[0m\u001b[0;34m)\u001b[0m\u001b[0;34m)\u001b[0m\u001b[0;34m\u001b[0m\u001b[0;34m\u001b[0m\u001b[0m\n\u001b[0m\u001b[1;32m      5\u001b[0m \u001b[0mprint\u001b[0m\u001b[0;34m(\u001b[0m\u001b[0mnp\u001b[0m\u001b[0;34m.\u001b[0m\u001b[0marray\u001b[0m\u001b[0;34m(\u001b[0m\u001b[0mrange\u001b[0m\u001b[0;34m(\u001b[0m\u001b[0;36m10\u001b[0m\u001b[0;34m,\u001b[0m \u001b[0;36m2\u001b[0m\u001b[0;34m,\u001b[0m \u001b[0;34m-\u001b[0m\u001b[0;36m1\u001b[0m\u001b[0;34m)\u001b[0m\u001b[0;34m)\u001b[0m\u001b[0;34m)\u001b[0m\u001b[0;34m\u001b[0m\u001b[0;34m\u001b[0m\u001b[0m\n\u001b[1;32m      6\u001b[0m \u001b[0mprint\u001b[0m\u001b[0;34m(\u001b[0m\u001b[0mnp\u001b[0m\u001b[0;34m.\u001b[0m\u001b[0marray\u001b[0m\u001b[0;34m(\u001b[0m\u001b[0mrange\u001b[0m\u001b[0;34m(\u001b[0m\u001b[0;36m10\u001b[0m\u001b[0;34m,\u001b[0m \u001b[0;36m2\u001b[0m\u001b[0;34m,\u001b[0m \u001b[0;34m-\u001b[0m\u001b[0;36m0.5\u001b[0m\u001b[0;34m)\u001b[0m\u001b[0;34m)\u001b[0m\u001b[0;34m)\u001b[0m\u001b[0;34m\u001b[0m\u001b[0;34m\u001b[0m\u001b[0m\n",
            "\u001b[0;31mTypeError\u001b[0m: 'float' object cannot be interpreted as an integer"
          ]
        }
      ]
    },
    {
      "cell_type": "code",
      "source": [
        "print(np.arange(10))\n",
        "print(np.arange(1, 11))\n",
        "print(np.arange(2, 11, 2))\n",
        "print(np.arange(2, 11, .5))\n",
        "print(np.arange(10, 2, -1))\n",
        "print(np.arange(10, 2, -.5))"
      ],
      "metadata": {
        "colab": {
          "base_uri": "https://localhost:8080/"
        },
        "id": "mILmgsf1vFKJ",
        "outputId": "4d1d2329-73ca-46c1-aa65-af5eeb2bb3ab"
      },
      "execution_count": 125,
      "outputs": [
        {
          "output_type": "stream",
          "name": "stdout",
          "text": [
            "[0 1 2 3 4 5 6 7 8 9]\n",
            "[ 1  2  3  4  5  6  7  8  9 10]\n",
            "[ 2  4  6  8 10]\n",
            "[ 2.   2.5  3.   3.5  4.   4.5  5.   5.5  6.   6.5  7.   7.5  8.   8.5\n",
            "  9.   9.5 10.  10.5]\n",
            "[10  9  8  7  6  5  4  3]\n",
            "[10.   9.5  9.   8.5  8.   7.5  7.   6.5  6.   5.5  5.   4.5  4.   3.5\n",
            "  3.   2.5]\n"
          ]
        }
      ]
    },
    {
      "cell_type": "markdown",
      "source": [
        "## 3. 다양한 배열 "
      ],
      "metadata": {
        "id": "DrEgnHcbvIXc"
      }
    },
    {
      "cell_type": "code",
      "source": [
        "# ravel : 일차원으로 변경 \n",
        "\n",
        "arr_3d.ravel()"
      ],
      "metadata": {
        "colab": {
          "base_uri": "https://localhost:8080/"
        },
        "id": "ER4PZeV9vMC8",
        "outputId": "8cac0bb5-d1d7-4107-aa07-71c95b26acf7"
      },
      "execution_count": 126,
      "outputs": [
        {
          "output_type": "execute_result",
          "data": {
            "text/plain": [
              "array([1, 2, 3, 4, 5, 6, 7, 8])"
            ]
          },
          "metadata": {},
          "execution_count": 126
        }
      ]
    },
    {
      "cell_type": "code",
      "source": [
        "# zeros : 0으로 채워진 배열\n",
        "\n",
        "a = np.zeros((2,2))\n",
        "a"
      ],
      "metadata": {
        "colab": {
          "base_uri": "https://localhost:8080/"
        },
        "id": "SXnHtEQIvOv7",
        "outputId": "5db57382-3d43-4a4f-c917-785b41e27ca6"
      },
      "execution_count": 136,
      "outputs": [
        {
          "output_type": "execute_result",
          "data": {
            "text/plain": [
              "array([[0., 0.],\n",
              "       [0., 0.]])"
            ]
          },
          "metadata": {},
          "execution_count": 136
        }
      ]
    },
    {
      "cell_type": "code",
      "source": [
        "# ones : 1로 채워진 배열 생성\n",
        "\n",
        "a = np.ones((2,2))\n",
        "a"
      ],
      "metadata": {
        "colab": {
          "base_uri": "https://localhost:8080/"
        },
        "id": "A_QFkTNEvVGE",
        "outputId": "4fede0da-32e8-40d8-f5ff-f9cf9e55722d"
      },
      "execution_count": 134,
      "outputs": [
        {
          "output_type": "execute_result",
          "data": {
            "text/plain": [
              "array([[1., 1.],\n",
              "       [1., 1.]])"
            ]
          },
          "metadata": {},
          "execution_count": 134
        }
      ]
    },
    {
      "cell_type": "code",
      "source": [
        "# full : 내가 원하는 값으로 채워진 배열 \n",
        "\n",
        "a = np.full((2,2),10)\n",
        "a"
      ],
      "metadata": {
        "colab": {
          "base_uri": "https://localhost:8080/"
        },
        "id": "Uk2ecl2wvYob",
        "outputId": "f9e1de20-9648-4153-d8ae-18d2ea3142ba"
      },
      "execution_count": 138,
      "outputs": [
        {
          "output_type": "execute_result",
          "data": {
            "text/plain": [
              "array([[10, 10],\n",
              "       [10, 10]])"
            ]
          },
          "metadata": {},
          "execution_count": 138
        }
      ]
    },
    {
      "cell_type": "code",
      "source": [
        "# 단위행렬\n",
        "\n",
        "a = np.eye(3)\n",
        "a"
      ],
      "metadata": {
        "colab": {
          "base_uri": "https://localhost:8080/"
        },
        "id": "P1-ae-TNvdCr",
        "outputId": "969299ac-1f73-4075-e9b0-ad82e47fae7f"
      },
      "execution_count": 139,
      "outputs": [
        {
          "output_type": "execute_result",
          "data": {
            "text/plain": [
              "array([[1., 0., 0.],\n",
              "       [0., 1., 0.],\n",
              "       [0., 0., 1.]])"
            ]
          },
          "metadata": {},
          "execution_count": 139
        }
      ]
    },
    {
      "cell_type": "markdown",
      "source": [
        "# 연습문제"
      ],
      "metadata": {
        "id": "xvQ9frnrRaz4"
      }
    },
    {
      "cell_type": "code",
      "source": [
        "# 1. 1차원 배열 연결해 하나의 큰 1차원 배열로 반환\n",
        "\n",
        "arr1 = np.array([1, 2, 3])\n",
        "arr2 = np.array([4, 5, 6])\n",
        "arr3 = np.array([7, 8, 9, 10])\n",
        "\n",
        "newarr= np.concatenate([arr1,arr2,arr3])\n",
        "print(newarr)"
      ],
      "metadata": {
        "colab": {
          "base_uri": "https://localhost:8080/"
        },
        "id": "Zo5zmgNlRb9I",
        "outputId": "8995cd8b-8419-4614-d074-13c98036b105"
      },
      "execution_count": null,
      "outputs": [
        {
          "output_type": "stream",
          "name": "stdout",
          "text": [
            "[ 1  2  3  4  5  6  7  8  9 10]\n"
          ]
        }
      ]
    },
    {
      "cell_type": "code",
      "source": [
        "#2. 2차원 배열에서 각 열의 평균 계산해 1차원 배열로 \n",
        "\n",
        "arr = np.array([[1, 2, 3],\n",
        "                [4, 5, 6],\n",
        "                [7, 8, 9]])\n",
        "\n",
        "np.mean(arr,axis=0)"
      ],
      "metadata": {
        "colab": {
          "base_uri": "https://localhost:8080/"
        },
        "id": "3dHP9spxRhrH",
        "outputId": "a9b9a70c-8e5a-42ea-cbb1-bd2634d52f68"
      },
      "execution_count": null,
      "outputs": [
        {
          "output_type": "execute_result",
          "data": {
            "text/plain": [
              "array([4., 5., 6.])"
            ]
          },
          "metadata": {},
          "execution_count": 175
        }
      ]
    },
    {
      "cell_type": "code",
      "source": [
        "#3. 2차원 배열에서 각 행의 최대값 구해 1차원 배열 반환\n",
        "\n",
        "np.max(arr, axis =1)"
      ],
      "metadata": {
        "colab": {
          "base_uri": "https://localhost:8080/"
        },
        "id": "RaN-2fDNS6xQ",
        "outputId": "48cc08fe-896e-43b6-ddf9-edd2f3c0488a"
      },
      "execution_count": null,
      "outputs": [
        {
          "output_type": "execute_result",
          "data": {
            "text/plain": [
              "array([3, 6, 9])"
            ]
          },
          "metadata": {},
          "execution_count": 182
        }
      ]
    },
    {
      "cell_type": "code",
      "source": [
        "#4. 0에서 1사이의 값으로 크기10 1차원 배열\n",
        "\n",
        "np.linspace(0,1,10)\n"
      ],
      "metadata": {
        "id": "p2ahtPpuTPk3",
        "colab": {
          "base_uri": "https://localhost:8080/"
        },
        "outputId": "6c633d28-ee25-4d9f-c873-f635abab03d2"
      },
      "execution_count": 120,
      "outputs": [
        {
          "output_type": "execute_result",
          "data": {
            "text/plain": [
              "array([0.        , 0.11111111, 0.22222222, 0.33333333, 0.44444444,\n",
              "       0.55555556, 0.66666667, 0.77777778, 0.88888889, 1.        ])"
            ]
          },
          "metadata": {},
          "execution_count": 120
        }
      ]
    },
    {
      "cell_type": "code",
      "source": [
        "#5. 1차원 배열 짝수 요소 합 계산 \n",
        "\n",
        "def sum_of_evens(arr:np.ndarray) -> int :\n",
        "    evens = arr[arr%2 ==0]\n",
        "    return np.sum(evens)\n",
        "\n",
        "arr = np.array([1, 2, 3, 4, 5, 6, 7, 8, 9, 10])\n",
        "\n",
        "print(sum_of_evens(arr))"
      ],
      "metadata": {
        "colab": {
          "base_uri": "https://localhost:8080/"
        },
        "id": "yo-O6v5UTVOW",
        "outputId": "c0cb1435-3096-42a4-8c86-ea157bd674c7"
      },
      "execution_count": null,
      "outputs": [
        {
          "output_type": "stream",
          "name": "stdout",
          "text": [
            "30\n"
          ]
        }
      ]
    },
    {
      "cell_type": "code",
      "source": [
        "#6. 수평분할, 수직분할, 수평스택, 수직 스택 \n",
        "\n",
        "arr = np.arange(1, 13).reshape((3, 4))\n",
        "print(\"==============원본 배열:\")\n",
        "print(arr)"
      ],
      "metadata": {
        "colab": {
          "base_uri": "https://localhost:8080/"
        },
        "id": "NVp2w7mlUEX4",
        "outputId": "16895694-768f-4673-ac63-40a4ccfa47e9"
      },
      "execution_count": null,
      "outputs": [
        {
          "output_type": "stream",
          "name": "stdout",
          "text": [
            "==============원본 배열:\n",
            "[[ 1  2  3  4]\n",
            " [ 5  6  7  8]\n",
            " [ 9 10 11 12]]\n"
          ]
        }
      ]
    },
    {
      "cell_type": "code",
      "source": [
        "\n",
        "#수평분할\n",
        "print(\"==============수평분할\")\n",
        "arr_split = np.hsplit(arr,2)\n",
        "print(arr_split)\n",
        "print(\"==============수평병합\")\n",
        "arr_1 = arr_split[0]\n",
        "arr_2 = arr_split[1]\n",
        "arr_stack = np.hstack((arr_1, arr_2))\n",
        "print(arr_stack)\n"
      ],
      "metadata": {
        "colab": {
          "base_uri": "https://localhost:8080/"
        },
        "id": "8IOTgbuSU8wP",
        "outputId": "1e46e8bf-dd2a-4e04-e288-08120dfa66cc"
      },
      "execution_count": null,
      "outputs": [
        {
          "output_type": "stream",
          "name": "stdout",
          "text": [
            "==============수평분할\n",
            "[array([[ 1,  2],\n",
            "       [ 5,  6],\n",
            "       [ 9, 10]]), array([[ 3,  4],\n",
            "       [ 7,  8],\n",
            "       [11, 12]])]\n",
            "==============수평병합\n",
            "[[ 1  2  3  4]\n",
            " [ 5  6  7  8]\n",
            " [ 9 10 11 12]]\n"
          ]
        }
      ]
    },
    {
      "cell_type": "code",
      "source": [
        "#수직분할\n",
        "print(\"==============수직분할\")\n",
        "arr_split = np.split(arr,3)\n",
        "print(arr_split)\n",
        "\n",
        "print(\"==============수직병합\")\n",
        "arr_1 = arr_split[0]\n",
        "arr_2 = arr_split[1]\n",
        "arr_3 = arr_split[2]\n",
        "arr_stack = np.vstack((arr_1, arr_2, arr_3))\n",
        "print(arr_stack)"
      ],
      "metadata": {
        "colab": {
          "base_uri": "https://localhost:8080/"
        },
        "id": "Ykn3iTWvU5mx",
        "outputId": "2ece6db3-dd00-4aac-ac56-46f39f68e898"
      },
      "execution_count": null,
      "outputs": [
        {
          "output_type": "stream",
          "name": "stdout",
          "text": [
            "==============수직분할\n",
            "[array([[1, 2, 3, 4]]), array([[5, 6, 7, 8]]), array([[ 9, 10, 11, 12]])]\n",
            "==============수직병합\n",
            "[[ 1  2  3  4]\n",
            " [ 5  6  7  8]\n",
            " [ 9 10 11 12]]\n"
          ]
        }
      ]
    },
    {
      "cell_type": "code",
      "source": [
        "# 7. 조건에 맞는 값 반환 10으로 나누었을때 나머지가 0이면 원래값, 아니면 0 출력\n",
        "\n",
        "arr = np.arange(0, 100, 5).reshape((5,4))\n",
        "print(arr)\n",
        "\n",
        "print(np.where(arr%10==0, arr, 0))"
      ],
      "metadata": {
        "colab": {
          "base_uri": "https://localhost:8080/"
        },
        "id": "WEz7xMM0VX9Y",
        "outputId": "c3450101-5796-4e85-c97b-8c2d7d141ac1"
      },
      "execution_count": null,
      "outputs": [
        {
          "output_type": "stream",
          "name": "stdout",
          "text": [
            "[[ 0  5 10 15]\n",
            " [20 25 30 35]\n",
            " [40 45 50 55]\n",
            " [60 65 70 75]\n",
            " [80 85 90 95]]\n",
            "[[ 0  0 10  0]\n",
            " [20  0 30  0]\n",
            " [40  0 50  0]\n",
            " [60  0 70  0]\n",
            " [80  0 90  0]]\n"
          ]
        }
      ]
    },
    {
      "cell_type": "code",
      "source": [
        "# 8. 3x3 배열중 짝수만 뽑아내는 인덱싱 배열을 사용해 짝수 배열 생성\n",
        "\n",
        "lst = [\n",
        "    [1, 2, 3],\n",
        "    [4, 5, 6],\n",
        "    [7, 8, 9]\n",
        "]\n",
        "a = np.array(lst)\n",
        "print(a)\n",
        "\n",
        "n = a[ a % 2 == 0 ]\n",
        "print(n)"
      ],
      "metadata": {
        "colab": {
          "base_uri": "https://localhost:8080/"
        },
        "id": "G-ZXFZroV0Cp",
        "outputId": "c53e2251-3ba0-4142-cbbb-af31b7b2ca9b"
      },
      "execution_count": null,
      "outputs": [
        {
          "output_type": "stream",
          "name": "stdout",
          "text": [
            "[[1 2 3]\n",
            " [4 5 6]\n",
            " [7 8 9]]\n",
            "[2 4 6 8]\n"
          ]
        }
      ]
    },
    {
      "cell_type": "code",
      "source": [
        "#  9\n",
        "# 사인 함수 계산\n",
        "\n",
        "angle = np.pi / 3 # 라디안 표기 = 60도 \n",
        "# 360도는 2라디안 으로, 180도는 1라디안으로 표현합니다.\n",
        "\n",
        "# 사인 \n",
        "sin_value = np.sin(angle)\n",
        "print(\"사인 값:\", sin_value)\n",
        "\n",
        "# 코사인 함수 계산\n",
        "cos_value = np.cos(angle)\n",
        "print(\"코사인 값:\", cos_value)\n",
        "\n",
        "# 탄젠트 함수 계산\n",
        "tan_value = np.tan(angle)\n",
        "print(\"탄젠트 값:\", tan_value)"
      ],
      "metadata": {
        "colab": {
          "base_uri": "https://localhost:8080/"
        },
        "id": "ouGK-QRzZra_",
        "outputId": "fa90ad81-d832-442f-c7b0-353fe67fe31e"
      },
      "execution_count": null,
      "outputs": [
        {
          "output_type": "stream",
          "name": "stdout",
          "text": [
            "사인 값: 0.8660254037844386\n",
            "코사인 값: 0.5000000000000001\n",
            "탄젠트 값: 1.7320508075688767\n"
          ]
        }
      ]
    },
    {
      "cell_type": "code",
      "source": [
        "# 10 . 짝수 2배로\n",
        "arr = np.array([1, 2, 3, 4, 5])\n",
        "\n",
        "new_arr = np.where(arr % 2 == 0, arr * 2, arr)\n",
        "print(\"조건을 만족하는 요소를 2배로:\", new_arr)"
      ],
      "metadata": {
        "colab": {
          "base_uri": "https://localhost:8080/"
        },
        "id": "YIU58VZkZs83",
        "outputId": "115e4b66-cea7-4fd6-9cf1-097394b8f6f0"
      },
      "execution_count": null,
      "outputs": [
        {
          "output_type": "stream",
          "name": "stdout",
          "text": [
            "조건을 만족하는 요소를 2배로: [1 4 3 8 5]\n"
          ]
        }
      ]
    },
    {
      "cell_type": "markdown",
      "source": [
        "# 연습문제2"
      ],
      "metadata": {
        "id": "yP42jmapeYFO"
      }
    },
    {
      "cell_type": "markdown",
      "source": [
        "## 배열"
      ],
      "metadata": {
        "id": "UY6bp3wjWDI0"
      }
    },
    {
      "cell_type": "code",
      "source": [
        "#사이즈 10의 Null(0) 1차원 배열을 만들기\n",
        "\n",
        "import numpy as np\n",
        "\n",
        "zero = np.zeros(10)\n",
        "print(zero)"
      ],
      "metadata": {
        "colab": {
          "base_uri": "https://localhost:8080/"
        },
        "id": "n17wEL4seZVL",
        "outputId": "e416758c-6cf9-49f9-9e9b-ef34fc7af707"
      },
      "execution_count": 2,
      "outputs": [
        {
          "output_type": "stream",
          "name": "stdout",
          "text": [
            "[0. 0. 0. 0. 0. 0. 0. 0. 0. 0.]\n"
          ]
        }
      ]
    },
    {
      "cell_type": "code",
      "source": [
        "# 10~49인 1차원 배열\n",
        "\n",
        "np.array(range(10,50))"
      ],
      "metadata": {
        "colab": {
          "base_uri": "https://localhost:8080/"
        },
        "id": "XJGUrDRbfoCS",
        "outputId": "6ad1a98f-e96e-428b-f403-2465e65562d5"
      },
      "execution_count": 11,
      "outputs": [
        {
          "output_type": "execute_result",
          "data": {
            "text/plain": [
              "array([10, 11, 12, 13, 14, 15, 16, 17, 18, 19, 20, 21, 22, 23, 24, 25, 26,\n",
              "       27, 28, 29, 30, 31, 32, 33, 34, 35, 36, 37, 38, 39, 40, 41, 42, 43,\n",
              "       44, 45, 46, 47, 48, 49])"
            ]
          },
          "metadata": {},
          "execution_count": 11
        }
      ]
    },
    {
      "cell_type": "code",
      "source": [
        "# 0~8까지 3x3 배열\n",
        "\n",
        "np.array([[[0,1,2],[3,4,5],[6,7,8]]])"
      ],
      "metadata": {
        "colab": {
          "base_uri": "https://localhost:8080/"
        },
        "id": "MZo6J827fvOK",
        "outputId": "73e8c0a7-be5d-436a-c14f-5c8518611b15"
      },
      "execution_count": 3,
      "outputs": [
        {
          "output_type": "execute_result",
          "data": {
            "text/plain": [
              "array([[[0, 1, 2],\n",
              "        [3, 4, 5],\n",
              "        [6, 7, 8]]])"
            ]
          },
          "metadata": {},
          "execution_count": 3
        }
      ]
    },
    {
      "cell_type": "code",
      "source": [
        "np.arange(9).reshape(3,3)"
      ],
      "metadata": {
        "colab": {
          "base_uri": "https://localhost:8080/"
        },
        "id": "FquAWeAfV7ul",
        "outputId": "a1a6041c-897e-4944-925c-c0018ed4de7a"
      },
      "execution_count": 11,
      "outputs": [
        {
          "output_type": "execute_result",
          "data": {
            "text/plain": [
              "array([[0, 1, 2],\n",
              "       [3, 4, 5],\n",
              "       [6, 7, 8]])"
            ]
          },
          "metadata": {},
          "execution_count": 11
        }
      ]
    },
    {
      "cell_type": "code",
      "source": [
        "# 5x5 경계값 1 \n",
        "\n",
        "a = np.ones((5,5))\n",
        "print(a)\n",
        "a[1:-1,1:-1] = 0\n",
        "print(a)"
      ],
      "metadata": {
        "colab": {
          "base_uri": "https://localhost:8080/"
        },
        "id": "jSUHU-GuVCKV",
        "outputId": "e81ac0ff-1433-4922-a475-a5197dc670b5"
      },
      "execution_count": 10,
      "outputs": [
        {
          "output_type": "stream",
          "name": "stdout",
          "text": [
            "[[1. 1. 1. 1. 1.]\n",
            " [1. 1. 1. 1. 1.]\n",
            " [1. 1. 1. 1. 1.]\n",
            " [1. 1. 1. 1. 1.]\n",
            " [1. 1. 1. 1. 1.]]\n",
            "[[1. 1. 1. 1. 1.]\n",
            " [1. 0. 0. 0. 1.]\n",
            " [1. 0. 0. 0. 1.]\n",
            " [1. 0. 0. 0. 1.]\n",
            " [1. 1. 1. 1. 1.]]\n"
          ]
        }
      ]
    },
    {
      "cell_type": "markdown",
      "source": [
        "## 랜덤함수"
      ],
      "metadata": {
        "id": "c2VWRmpHWF8s"
      }
    },
    {
      "cell_type": "code",
      "source": [
        "# 3x3x3  랜덤 \n",
        "\n",
        "np.random.rand(3,3,3)"
      ],
      "metadata": {
        "colab": {
          "base_uri": "https://localhost:8080/"
        },
        "id": "vRgRHZfkV4BQ",
        "outputId": "1d6ca437-3022-4bb1-86f8-3b120ce0e2a9"
      },
      "execution_count": 13,
      "outputs": [
        {
          "output_type": "execute_result",
          "data": {
            "text/plain": [
              "array([[[0.12898096, 0.20874788, 0.37789029],\n",
              "        [0.17407295, 0.4356155 , 0.05861744],\n",
              "        [0.82610389, 0.33936736, 0.77746211]],\n",
              "\n",
              "       [[0.13558931, 0.49846655, 0.83831276],\n",
              "        [0.50719556, 0.1054001 , 0.05239592],\n",
              "        [0.66128927, 0.53355095, 0.48142358]],\n",
              "\n",
              "       [[0.50315612, 0.71584431, 0.08149272],\n",
              "        [0.23226235, 0.45536749, 0.38236529],\n",
              "        [0.62464968, 0.59088054, 0.62502555]]])"
            ]
          },
          "metadata": {},
          "execution_count": 13
        }
      ]
    },
    {
      "cell_type": "code",
      "source": [
        "# 10x10배열 최소 최대\n",
        "\n",
        "a = np.random.rand(10,10)\n",
        "amax = a.max()\n",
        "amin = a.min()\n",
        "\n",
        "\n",
        "print(a)\n",
        "print(amax)\n",
        "print(amin)"
      ],
      "metadata": {
        "colab": {
          "base_uri": "https://localhost:8080/"
        },
        "id": "SNikBPnGWOEE",
        "outputId": "22896a68-f5f5-4994-9284-ec9a8e77ed8d"
      },
      "execution_count": 15,
      "outputs": [
        {
          "output_type": "stream",
          "name": "stdout",
          "text": [
            "[[6.96001412e-01 8.24994257e-04 1.05220420e-01 3.91560102e-01\n",
            "  5.99695772e-01 3.60589704e-01 1.70630568e-01 1.85986498e-01\n",
            "  9.17316119e-01 1.54335509e-01]\n",
            " [6.44307957e-01 5.80968963e-01 9.52495121e-01 3.00531066e-01\n",
            "  2.62115402e-01 9.61969954e-01 6.12529400e-01 2.85582783e-01\n",
            "  1.35027895e-01 7.82111878e-01]\n",
            " [9.11606936e-01 3.58965329e-01 8.08735902e-01 2.64712957e-01\n",
            "  2.70143821e-01 7.28807247e-01 6.88600160e-01 2.91858102e-01\n",
            "  1.39480412e-01 1.69975129e-01]\n",
            " [6.35975121e-01 8.11085314e-01 7.39342675e-01 5.47877952e-01\n",
            "  7.20882975e-01 4.73218712e-01 9.70369194e-01 5.62851469e-01\n",
            "  8.61127913e-01 5.46759444e-01]\n",
            " [1.04087705e-01 5.91360379e-01 7.53653903e-01 9.11451134e-01\n",
            "  7.24240418e-01 2.59139098e-01 5.32362970e-01 6.30117229e-01\n",
            "  9.56406336e-01 2.99334706e-01]\n",
            " [1.56020698e-01 3.49088351e-01 4.38949100e-01 2.93648965e-01\n",
            "  7.10449862e-01 2.06830550e-01 6.66597019e-01 2.40145917e-02\n",
            "  4.31305808e-01 6.37953769e-01]\n",
            " [6.59160074e-01 9.53578452e-01 3.92648421e-01 5.30603944e-01\n",
            "  6.32808415e-01 2.70515009e-01 2.98814987e-01 9.07609113e-01\n",
            "  2.26214934e-01 7.68256014e-01]\n",
            " [5.94665461e-01 6.08344555e-01 9.13918010e-01 4.51792182e-01\n",
            "  4.49107685e-01 2.65381017e-01 8.06760515e-01 8.81816448e-02\n",
            "  4.44428134e-01 9.21944265e-01]\n",
            " [9.23954627e-01 1.46267570e-01 2.27649327e-01 1.47215130e-01\n",
            "  1.64290010e-01 6.29793675e-01 8.91464408e-01 5.52242626e-01\n",
            "  6.01557776e-02 2.69254150e-01]\n",
            " [1.43528105e-01 7.57870905e-01 3.83430159e-01 4.48419426e-02\n",
            "  3.33152065e-02 1.93888503e-01 6.10107998e-01 7.25365666e-02\n",
            "  5.56844076e-01 8.36932809e-01]]\n",
            "0.9703691937355443\n",
            "0.0008249942570393021\n"
          ]
        }
      ]
    },
    {
      "cell_type": "code",
      "source": [
        "thirty = np.random.rand((30))\n",
        "tmean = thirty.mean()\n",
        "tmean"
      ],
      "metadata": {
        "colab": {
          "base_uri": "https://localhost:8080/"
        },
        "id": "UwtUgA8sWhYt",
        "outputId": "2e1962a5-3a0f-4e13-9c4b-c82e01092d8c"
      },
      "execution_count": 26,
      "outputs": [
        {
          "output_type": "execute_result",
          "data": {
            "text/plain": [
              "0.5229751042426071"
            ]
          },
          "metadata": {},
          "execution_count": 26
        }
      ]
    },
    {
      "cell_type": "markdown",
      "source": [
        "## 행렬"
      ],
      "metadata": {
        "id": "tM2rwFVxXNDr"
      }
    },
    {
      "cell_type": "code",
      "source": [
        "x, y = np.ones((5,3)), np.ones((3,2))\n",
        "z = np.dot(x,y)\n",
        "z"
      ],
      "metadata": {
        "colab": {
          "base_uri": "https://localhost:8080/"
        },
        "id": "sJwVogHvXL5-",
        "outputId": "290f6d7a-4c1c-414d-b3a0-28dea30b1dc4"
      },
      "execution_count": 30,
      "outputs": [
        {
          "output_type": "execute_result",
          "data": {
            "text/plain": [
              "array([[3., 3.],\n",
              "       [3., 3.],\n",
              "       [3., 3.],\n",
              "       [3., 3.],\n",
              "       [3., 3.]])"
            ]
          },
          "metadata": {},
          "execution_count": 30
        }
      ]
    },
    {
      "cell_type": "code",
      "source": [
        "# 연산을 제로행렬C에 갚 덮어씌우기\n",
        "A = np.array([1, 2, 3])\n",
        "B = np.array([4, 5, 6])\n",
        "C = np.zeros(3)\n",
        "\n",
        "np.add(A,B, out = C)\n",
        "C"
      ],
      "metadata": {
        "colab": {
          "base_uri": "https://localhost:8080/"
        },
        "id": "_FFzif5qXuXv",
        "outputId": "f32f384d-6866-489d-c06f-b771b464c247"
      },
      "execution_count": 33,
      "outputs": [
        {
          "output_type": "execute_result",
          "data": {
            "text/plain": [
              "array([5., 7., 9.])"
            ]
          },
          "metadata": {},
          "execution_count": 33
        }
      ]
    },
    {
      "cell_type": "code",
      "source": [
        "# A배열 부호 반전시켜 C에 \n",
        "\n",
        "nega_c = np.negative(A, out=C)\n",
        "nega_c"
      ],
      "metadata": {
        "colab": {
          "base_uri": "https://localhost:8080/"
        },
        "id": "atLYYfOIYeR2",
        "outputId": "b984d897-412f-4992-a83a-72f667e24556"
      },
      "execution_count": 36,
      "outputs": [
        {
          "output_type": "execute_result",
          "data": {
            "text/plain": [
              "array([-1., -2., -3.])"
            ]
          },
          "metadata": {},
          "execution_count": 36
        }
      ]
    },
    {
      "cell_type": "code",
      "source": [
        "# 크기 10 개 1차원 랜덤 행렬 최댓값 0\n",
        "\n",
        "a = np.random.random(10)\n",
        "print(a)\n",
        "amax = a.argmax()\n",
        "print(amax)\n",
        "z[z.argmax()] = 0\n",
        "z"
      ],
      "metadata": {
        "colab": {
          "base_uri": "https://localhost:8080/"
        },
        "id": "tg2hElXpYueD",
        "outputId": "ae1cc2dd-06c4-4888-bbf1-e6d995114cec"
      },
      "execution_count": 44,
      "outputs": [
        {
          "output_type": "stream",
          "name": "stdout",
          "text": [
            "[0.96722595 0.28697634 0.32154174 0.95024602 0.75374243 0.07675923\n",
            " 0.40298147 0.99516743 0.37958374 0.34019395]\n",
            "7\n"
          ]
        },
        {
          "output_type": "execute_result",
          "data": {
            "text/plain": [
              "array([[0., 0.],\n",
              "       [3., 3.],\n",
              "       [0., 0.],\n",
              "       [3., 3.],\n",
              "       [3., 3.]])"
            ]
          },
          "metadata": {},
          "execution_count": 44
        }
      ]
    },
    {
      "cell_type": "code",
      "source": [
        "# 각 열과 행별 최댓값 반환, 인덱스 호출\n",
        "\n",
        "arr = np.array([[1, 2, 3], [4, 5, 6]])\n",
        "\n",
        "print(arr.max())\n",
        "print(arr.argmax())\n",
        "print(arr.max(axis=0))\n",
        "print(arr.max(axis=1))\n",
        "print(np.argmax(arr,axis=0))\n",
        "print(np.argmax(arr,axis=1))"
      ],
      "metadata": {
        "colab": {
          "base_uri": "https://localhost:8080/"
        },
        "id": "yn5f_Zm-ZRpf",
        "outputId": "4d319e44-0ee2-49e1-c9f1-409f536c42d3"
      },
      "execution_count": 53,
      "outputs": [
        {
          "output_type": "stream",
          "name": "stdout",
          "text": [
            "6\n",
            "5\n",
            "[4 5 6]\n",
            "[3 6]\n",
            "[1 1 1]\n",
            "[2 2]\n"
          ]
        }
      ]
    },
    {
      "cell_type": "markdown",
      "source": [
        "## 형변환"
      ],
      "metadata": {
        "id": "KXhphSXeZ2Th"
      }
    },
    {
      "cell_type": "code",
      "source": [
        "# 균일분포 랜덤함수 0~100 1차원 실수(32비트)행렬 \n",
        "\n",
        "a = (np.random.rand(10)*100).astype(np.float32)\n",
        "a"
      ],
      "metadata": {
        "colab": {
          "base_uri": "https://localhost:8080/"
        },
        "id": "NmrJt9gnZ3hR",
        "outputId": "bdf4c4c5-7a25-4983-ab0d-10f849d41a6c"
      },
      "execution_count": 75,
      "outputs": [
        {
          "output_type": "execute_result",
          "data": {
            "text/plain": [
              "array([27.715101 , 50.445538 , 50.91297  , 21.506483 , 61.8591   ,\n",
              "       90.28884  , 19.861353 , 41.45941  , 34.760765 ,  4.6667566],\n",
              "      dtype=float32)"
            ]
          },
          "metadata": {},
          "execution_count": 75
        }
      ]
    },
    {
      "cell_type": "code",
      "source": [
        "# 정수이며 배열모양 10x1\n",
        "\n",
        "b = a.view(np.int32)\n",
        "b.shape = (10,1)\n",
        "b"
      ],
      "metadata": {
        "colab": {
          "base_uri": "https://localhost:8080/"
        },
        "id": "waHPqsg1j6BA",
        "outputId": "79166a6b-6c81-4b28-cbf8-bba62fe011af"
      },
      "execution_count": 77,
      "outputs": [
        {
          "output_type": "execute_result",
          "data": {
            "text/plain": [
              "array([[1105049735],\n",
              "       [1112131643],\n",
              "       [1112254178],\n",
              "       [1101794631],\n",
              "       [1115123640],\n",
              "       [1119130595],\n",
              "       [1100932109],\n",
              "       [1109775984],\n",
              "       [1108019974],\n",
              "       [1083528722]], dtype=int32)"
            ]
          },
          "metadata": {},
          "execution_count": 77
        }
      ]
    },
    {
      "cell_type": "code",
      "source": [
        "# 집계함수로 null값 확인\n",
        "# 정수형 난수로 3x10\n",
        "# 0~5 까지 값\n",
        "\n",
        "a = np.random.randint(0,6,size=(3,10))\n",
        "print(a)\n",
        "\n",
        "a.any()"
      ],
      "metadata": {
        "colab": {
          "base_uri": "https://localhost:8080/"
        },
        "id": "KovSIkgokLTX",
        "outputId": "86e1a646-c1e4-4eb9-c4b6-dd00dd3d1770"
      },
      "execution_count": 81,
      "outputs": [
        {
          "output_type": "stream",
          "name": "stdout",
          "text": [
            "[[1 3 0 4 2 1 0 2 4 3]\n",
            " [0 2 2 4 2 1 5 1 0 2]\n",
            " [1 3 3 4 3 5 2 4 0 5]]\n"
          ]
        },
        {
          "output_type": "execute_result",
          "data": {
            "text/plain": [
              "True"
            ]
          },
          "metadata": {},
          "execution_count": 81
        }
      ]
    },
    {
      "cell_type": "markdown",
      "source": [
        "## 정규분포, 균일분포"
      ],
      "metadata": {
        "id": "KRsYOuYHldb0"
      }
    },
    {
      "cell_type": "code",
      "source": [
        "# 0~1 사이 10개 값 균일분포 배열 \n",
        "\n",
        "a = np.random.uniform(0,1,10)\n",
        "print(a)\n",
        "\n",
        "#지정된 값에 가장 가까운 값 찾기 \n",
        "\n",
        "num = 0.5\n",
        "print(np.abs(a-num).argmin())\n",
        "a[np.abs(a-num).argmin()]"
      ],
      "metadata": {
        "colab": {
          "base_uri": "https://localhost:8080/"
        },
        "id": "ifKebmUvle4N",
        "outputId": "ccc0ca11-fed1-43fc-c0bf-54b2b2744149"
      },
      "execution_count": 88,
      "outputs": [
        {
          "output_type": "stream",
          "name": "stdout",
          "text": [
            "[0.54218976 0.76553853 0.15698145 0.89661406 0.96251717 0.01402295\n",
            " 0.84556671 0.58849606 0.90501133 0.94826091]\n",
            "0\n"
          ]
        },
        {
          "output_type": "execute_result",
          "data": {
            "text/plain": [
              "0.5421897570720324"
            ]
          },
          "metadata": {},
          "execution_count": 88
        }
      ]
    },
    {
      "cell_type": "code",
      "source": [
        "# 다차원 배열을 1차원으로 평면화 flatten\n",
        "# 3 차원 배열 -> 1차원 -> 최대값 10\n",
        "\n",
        "arr = np.array([[1, 2, 3], [4, 5, 6], [3, 4, 5]])\n",
        "\n",
        "flat_arr = arr.flat\n",
        "print(arr.argmax())\n",
        "\n",
        "flat_arr[arr.argmax()] = 10 \n",
        "\n",
        "print(arr)"
      ],
      "metadata": {
        "colab": {
          "base_uri": "https://localhost:8080/"
        },
        "id": "h10SEEcqpzig",
        "outputId": "4f80e4e0-c9b5-4d01-b08b-f9a4d0fee21b"
      },
      "execution_count": 99,
      "outputs": [
        {
          "output_type": "stream",
          "name": "stdout",
          "text": [
            "5\n",
            "[[ 1  2  3]\n",
            " [ 4  5 10]\n",
            " [ 3  4  5]]\n"
          ]
        }
      ]
    },
    {
      "cell_type": "code",
      "source": [
        "# 4차원(3,4,3,4) 범위(0,10) 정수형 변수 생성\n",
        "# 마지막 2축에서 합계 출력\n",
        "\n",
        "a = np.random.randint(0,10,size=(3,4,3,4))\n",
        "a.sum(axis=(-2,-1))"
      ],
      "metadata": {
        "colab": {
          "base_uri": "https://localhost:8080/"
        },
        "id": "pJCMua6rqmwM",
        "outputId": "27ffed30-f583-46df-940d-51ad6b318ec6"
      },
      "execution_count": 106,
      "outputs": [
        {
          "output_type": "execute_result",
          "data": {
            "text/plain": [
              "array([[58, 77, 43, 69],\n",
              "       [47, 48, 47, 75],\n",
              "       [60, 45, 35, 53]])"
            ]
          },
          "metadata": {},
          "execution_count": 106
        }
      ]
    },
    {
      "cell_type": "code",
      "source": [
        "# 배열의 첫번째행과 두번째행 바꾸기\n",
        "\n",
        "A = np.arange(25).reshape(5,5)\n",
        "print(A)\n",
        "\n",
        "A[[0,1]] = A[[1,0]]\n",
        "A"
      ],
      "metadata": {
        "colab": {
          "base_uri": "https://localhost:8080/"
        },
        "id": "ymOXgMT_rWmV",
        "outputId": "d1284047-8110-4aa2-e3d3-2221d0042353"
      },
      "execution_count": 111,
      "outputs": [
        {
          "output_type": "stream",
          "name": "stdout",
          "text": [
            "[[ 0  1  2  3  4]\n",
            " [ 5  6  7  8  9]\n",
            " [10 11 12 13 14]\n",
            " [15 16 17 18 19]\n",
            " [20 21 22 23 24]]\n"
          ]
        },
        {
          "output_type": "execute_result",
          "data": {
            "text/plain": [
              "array([[ 5,  6,  7,  8,  9],\n",
              "       [ 0,  1,  2,  3,  4],\n",
              "       [10, 11, 12, 13, 14],\n",
              "       [15, 16, 17, 18, 19],\n",
              "       [20, 21, 22, 23, 24]])"
            ]
          },
          "metadata": {},
          "execution_count": 111
        }
      ]
    },
    {
      "cell_type": "markdown",
      "source": [
        "## arg 인덱스 접근 함수 추가"
      ],
      "metadata": {
        "id": "VeJya_s_rtc6"
      }
    },
    {
      "cell_type": "code",
      "source": [
        "# argmax,argmin응용\n",
        "# 표준정규분포 100개 난수 생성. shuffle() 사용해 순서 섞기 . argsot() 인덱스 사용.\n",
        "\n",
        "\n",
        "a = np.random.randn(100)\n",
        "a"
      ],
      "metadata": {
        "colab": {
          "base_uri": "https://localhost:8080/"
        },
        "id": "5kEtINh9rkt2",
        "outputId": "de8b908e-25a3-470b-eb15-422214c50cb2"
      },
      "execution_count": 113,
      "outputs": [
        {
          "output_type": "execute_result",
          "data": {
            "text/plain": [
              "array([-1.03568446, -0.85718416,  1.06244245,  0.46602729, -0.15159945,\n",
              "       -0.1314949 , -1.77337218, -0.57058581, -2.36993195,  2.00341773,\n",
              "       -0.76792352, -2.43981901,  0.56199837,  1.07495788, -1.46423187,\n",
              "        1.91719103,  0.39351839,  1.64016257,  0.80298638, -0.21126161,\n",
              "       -1.05951076,  0.73324075, -0.51018942,  1.06735351,  1.34355911,\n",
              "       -1.67754643,  0.67927614, -1.48049446, -0.38552962,  0.07898188,\n",
              "        2.59464024, -1.27220766, -0.3458743 , -0.59881294,  0.26642073,\n",
              "       -0.86581649,  1.33473305, -0.21852008,  0.89643991,  0.26503607,\n",
              "        0.21599513,  1.29983601,  1.13841953, -0.5929205 , -0.3305276 ,\n",
              "       -0.9381194 , -0.5915021 ,  0.92665111, -0.10307218,  0.51076862,\n",
              "       -0.01531296,  0.49098486,  2.40140193,  0.22252821, -1.1614158 ,\n",
              "       -1.21640561, -0.53783756, -0.78509045, -0.15248337,  1.20683465,\n",
              "        0.25166449, -1.19237388,  0.17429816, -0.84307644,  0.47740005,\n",
              "        1.28740132,  1.41224198, -0.02603163, -0.87597595,  0.27855588,\n",
              "       -0.31466367,  0.04294195, -1.613652  ,  0.76839772,  0.48869559,\n",
              "       -1.15546266, -1.64320556, -1.16489873, -0.70291757, -0.18219754,\n",
              "        0.54711161, -0.63070557, -0.62620265,  0.62333288,  1.46777053,\n",
              "       -1.01635489, -1.02413535,  0.85632818, -0.95738134, -0.13344096,\n",
              "        0.06069875,  0.99652153, -1.45066769,  1.41088368,  0.88513383,\n",
              "        0.12170283, -0.11602684,  0.2947226 , -0.03939237,  1.3141507 ])"
            ]
          },
          "metadata": {},
          "execution_count": 113
        }
      ]
    },
    {
      "cell_type": "code",
      "source": [
        "np.random.shuffle(a)\n",
        "a[np.argsort(a)[-5:]]"
      ],
      "metadata": {
        "colab": {
          "base_uri": "https://localhost:8080/"
        },
        "id": "l_Z_AMgesAlr",
        "outputId": "d175cf7b-a5ef-45ae-fb2f-7b7a8a80bfda"
      },
      "execution_count": 116,
      "outputs": [
        {
          "output_type": "execute_result",
          "data": {
            "text/plain": [
              "array([1.64016257, 1.91719103, 2.00341773, 2.40140193, 2.59464024])"
            ]
          },
          "metadata": {},
          "execution_count": 116
        }
      ]
    },
    {
      "cell_type": "code",
      "source": [
        "arr = np.array([1,3,2,5,4])\n",
        "\n",
        "max_index = np.argmax(arr)\n",
        "min_index = np.argmin(arr)\n",
        "index = np.argwhere(arr > 2)\n",
        "selected_index = np.argmax(arr>2)\n",
        "nonzero = np.nonzero(arr)\n",
        "\n",
        "print(\"max:\",max_index, \"min:\",min_index, \"index:\",index, \"selected: \",selected_index, \"nonzero:\",nonzero)"
      ],
      "metadata": {
        "colab": {
          "base_uri": "https://localhost:8080/"
        },
        "id": "fpngI4EtsGeN",
        "outputId": "e9afdea8-bc97-4e57-bf9d-305d1eb44eaa"
      },
      "execution_count": 119,
      "outputs": [
        {
          "output_type": "stream",
          "name": "stdout",
          "text": [
            "max: 3 min: 0 index: [[1]\n",
            " [3]\n",
            " [4]] selected:  1 nonzero: (array([0, 1, 2, 3, 4]),)\n"
          ]
        }
      ]
    }
  ]
}