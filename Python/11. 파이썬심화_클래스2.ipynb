{
  "nbformat": 4,
  "nbformat_minor": 0,
  "metadata": {
    "colab": {
      "provenance": [],
      "authorship_tag": "ABX9TyP5mmFJGsc4q2SG64FcZYfc",
      "include_colab_link": true
    },
    "kernelspec": {
      "name": "python3",
      "display_name": "Python 3"
    },
    "language_info": {
      "name": "python"
    }
  },
  "cells": [
    {
      "cell_type": "markdown",
      "metadata": {
        "id": "view-in-github",
        "colab_type": "text"
      },
      "source": [
        "<a href=\"https://colab.research.google.com/github/suminkkk/DA_STUDY/blob/main/Python/11.%20%ED%8C%8C%EC%9D%B4%EC%8D%AC%EC%8B%AC%ED%99%94_%ED%81%B4%EB%9E%98%EC%8A%A42.ipynb\" target=\"_parent\"><img src=\"https://colab.research.google.com/assets/colab-badge.svg\" alt=\"Open In Colab\"/></a>"
      ]
    },
    {
      "cell_type": "markdown",
      "source": [
        "# 클래스 복습"
      ],
      "metadata": {
        "id": "9hO65HNIKlal"
      }
    },
    {
      "cell_type": "code",
      "execution_count": 5,
      "metadata": {
        "colab": {
          "base_uri": "https://localhost:8080/"
        },
        "id": "CFKdt-Ui6g7-",
        "outputId": "b26b2c68-21e3-4401-e58c-716887c86075"
      },
      "outputs": [
        {
          "output_type": "stream",
          "name": "stdout",
          "text": [
            "<class '__main__.Dog'>\n",
            "<__main__.Dog object at 0x7fe4002a7520>\n"
          ]
        }
      ],
      "source": [
        "# 예제 1 \n",
        "\n",
        "class Dog:\n",
        "    species = 'firstdog'\n",
        "\n",
        "    #초기화/인스턴스 속성\n",
        "    def __init__(self,name,age):\n",
        "        self.name = name\n",
        "        self.age = age\n",
        "\n",
        "#클래스 정보\n",
        "print(Dog)\n",
        "\n",
        "#인스턴스화 \n",
        "a = Dog(\"Mikky\",3)\n",
        "print(a)"
      ]
    },
    {
      "cell_type": "code",
      "source": [
        "# 클래스 변수 - 직접 접근가능\n",
        "# 인스턴스 변수 - 객체마다 별도 존재 \n",
        "\n",
        "#인스턴스 속성 확인\n",
        "print(f'{a.name} is {a.age}')\n",
        "\n",
        "#클래스 변수\n",
        "if a.species ==\"firstdog\":\n",
        "    print(f'{a.name} is a {a.species}')"
      ],
      "metadata": {
        "colab": {
          "base_uri": "https://localhost:8080/"
        },
        "id": "3JEOCMdpLp-s",
        "outputId": "c995a352-7d40-4c60-e39a-62555af26717"
      },
      "execution_count": 11,
      "outputs": [
        {
          "output_type": "stream",
          "name": "stdout",
          "text": [
            "Mikky is 3\n",
            "Mikky is a firstdog\n"
          ]
        }
      ]
    },
    {
      "cell_type": "code",
      "source": [
        "# 다양한 접근\n",
        "print(Dog.species)\n",
        "print(a.species)"
      ],
      "metadata": {
        "colab": {
          "base_uri": "https://localhost:8080/"
        },
        "id": "XvdrI78mL0wP",
        "outputId": "4fa603c9-11f3-4851-fea9-3f5c8cfe663d"
      },
      "execution_count": 12,
      "outputs": [
        {
          "output_type": "stream",
          "name": "stdout",
          "text": [
            "firstdog\n",
            "firstdog\n"
          ]
        }
      ]
    },
    {
      "cell_type": "code",
      "source": [
        "# 예제2\n",
        "# 클래스 변수, 인스턴스 변수\n",
        "\n",
        "class Warehouse:\n",
        "    stock_num = 0 \n",
        "\n",
        "    def __init__(self,name):\n",
        "        self.name = name\n",
        "        Warehouse.stock_num += 1\n",
        "\n",
        "    def __del__(self):\n",
        "        Warehouse.stock_num -= 1\n",
        "\n",
        "user1 = Warehouse('Lee')\n",
        "user2 = Warehouse('Kim')"
      ],
      "metadata": {
        "id": "jtq9gz8DMnfI"
      },
      "execution_count": 13,
      "outputs": []
    },
    {
      "cell_type": "code",
      "source": [
        "print(Warehouse.stock_num)"
      ],
      "metadata": {
        "colab": {
          "base_uri": "https://localhost:8080/"
        },
        "id": "CCKbtA17NWQz",
        "outputId": "77884596-c0b5-4d82-e276-a0896fa43017"
      },
      "execution_count": 14,
      "outputs": [
        {
          "output_type": "stream",
          "name": "stdout",
          "text": [
            "2\n"
          ]
        }
      ]
    },
    {
      "cell_type": "code",
      "source": [
        "print(user1.name)\n",
        "print(user2.name)\n",
        "print(Warehouse.__dict__)"
      ],
      "metadata": {
        "colab": {
          "base_uri": "https://localhost:8080/"
        },
        "id": "w0WOgG_iNa7a",
        "outputId": "714b77dc-3459-4b95-bb9b-4e2d98683d64"
      },
      "execution_count": 18,
      "outputs": [
        {
          "output_type": "stream",
          "name": "stdout",
          "text": [
            "Lee\n",
            "Kim\n",
            "{'__module__': '__main__', 'stock_num': 2, '__init__': <function Warehouse.__init__ at 0x7fe408fe3f40>, '__del__': <function Warehouse.__del__ at 0x7fe408fe28c0>, '__dict__': <attribute '__dict__' of 'Warehouse' objects>, '__weakref__': <attribute '__weakref__' of 'Warehouse' objects>, '__doc__': None, '__annotations__': {}}\n"
          ]
        }
      ]
    },
    {
      "cell_type": "code",
      "source": [
        "# 예제 3 - return 사용. self 아닌 변수\n",
        "\n",
        "class Dog:\n",
        "    species = 'firstdog'\n",
        "\n",
        "    #초기화/인스턴스\n",
        "\n",
        "    def __init__(self,name,age):\n",
        "        self.name = name\n",
        "        self.age = age\n",
        "\n",
        "    def info(self):\n",
        "        return f'{self.name}은 {self.age}살 이에요'\n",
        "    def speak(self,sound):\n",
        "        return f'{self.name}은 {sound}소리를 내요'   "
      ],
      "metadata": {
        "id": "HoC5oLgaOCQv"
      },
      "execution_count": 19,
      "outputs": []
    },
    {
      "cell_type": "code",
      "source": [
        "print(c.info())"
      ],
      "metadata": {
        "colab": {
          "base_uri": "https://localhost:8080/"
        },
        "id": "2qpQtf-VOkis",
        "outputId": "fca9b9d9-8c5a-4abd-bf99-45d75132f3a8"
      },
      "execution_count": 24,
      "outputs": [
        {
          "output_type": "stream",
          "name": "stdout",
          "text": [
            "July은 4살 이에요\n"
          ]
        }
      ]
    },
    {
      "cell_type": "code",
      "source": [
        "# 인스턴스 생성\n",
        "c = Dog('July',4)\n",
        "d = Dog('Dorri',20)"
      ],
      "metadata": {
        "id": "gdhOKwHSOrLG"
      },
      "execution_count": 22,
      "outputs": []
    },
    {
      "cell_type": "code",
      "source": [
        "# 메서드 호출\n",
        "print(c.info())\n",
        "print(d.info())\n",
        "\n",
        "print(c.speak('왈왈'))"
      ],
      "metadata": {
        "colab": {
          "base_uri": "https://localhost:8080/"
        },
        "id": "6Pf8oQfGO0uD",
        "outputId": "40f4a797-6e4f-4959-e738-db5e8a77361b"
      },
      "execution_count": 28,
      "outputs": [
        {
          "output_type": "stream",
          "name": "stdout",
          "text": [
            "July은 4살 이에요\n",
            "Dorri은 20살 이에요\n",
            "July은 왈왈소리를 내요\n"
          ]
        }
      ]
    },
    {
      "cell_type": "code",
      "source": [
        "# 예제 1.\n",
        "\n",
        "class FishCakeMaker:\n",
        "  def __init__(self, param): #클래스가 최초 생성될때 호출함\n",
        "    pass #self는 FishCakeMaker에 속한것\n",
        "\n",
        "fish = FishCakeMaker(\"붕어빵\") # 이렇게 선언한 순간에 생성자 __init__이 실행"
      ],
      "metadata": {
        "id": "MQTrWZAjdwED"
      },
      "execution_count": 106,
      "outputs": []
    },
    {
      "cell_type": "code",
      "source": [
        "# 예제2\n",
        "class FishCakeMaker:\n",
        "    def __init__(self,param):\n",
        "        pass \n",
        "    def show_name(self):\n",
        "        print('A')\n",
        "\n",
        "# self 없는 함수일경우 class내 함수 인식 못함 \n",
        "def show_name():\n",
        "    print('A')"
      ],
      "metadata": {
        "id": "u8mb1JW0TdGL"
      },
      "execution_count": 107,
      "outputs": []
    },
    {
      "cell_type": "code",
      "source": [
        "# 예제 3\n",
        "class FishCakeMaker:\n",
        "    \n",
        "  def __init__(self, **kwargs):\n",
        "    self.size = 10\n",
        "    self.flavor = \"팥\"\n",
        "    self.price = 1000\n",
        "\n",
        "    if \"size\" in kwargs:\n",
        "      self.size = kwargs.get(\"size\")\n",
        "    if \"flavor\" in kwargs:\n",
        "      self.flavor = kwargs.get(\"flavor\")\n",
        "    if \"price\" in kwargs:\n",
        "      self.price = kwargs.get(\"price\")\n",
        "\n",
        "  def show(self):\n",
        "    print(f\"붕어빵 종류 {self.flavor}\")\n",
        "    print(f\"붕어빵 크기 {self.size}\")\n",
        "    print(f\"붕어빵 가격 {self.price}\")\n",
        "\n",
        "fish1 = FishCakeMaker()\n",
        "fish2 = FishCakeMaker(size = 20, price = 2000)\n",
        "fish3 = FishCakeMaker(size = 20, price = 3000, flavor = \"피자\")\n",
        "\n",
        "fish1.show()\n",
        "fish2.show()\n",
        "fish3.show()"
      ],
      "metadata": {
        "colab": {
          "base_uri": "https://localhost:8080/"
        },
        "id": "vPbSxVqBUJYL",
        "outputId": "3b525ffa-e67e-4789-f570-72a1771e30cf"
      },
      "execution_count": 108,
      "outputs": [
        {
          "output_type": "stream",
          "name": "stdout",
          "text": [
            "붕어빵 종류 팥\n",
            "붕어빵 크기 10\n",
            "붕어빵 가격 1000\n",
            "붕어빵 종류 팥\n",
            "붕어빵 크기 20\n",
            "붕어빵 가격 2000\n",
            "붕어빵 종류 피자\n",
            "붕어빵 크기 20\n",
            "붕어빵 가격 3000\n"
          ]
        }
      ]
    },
    {
      "cell_type": "code",
      "source": [
        "## 클래스 속성과 인스턴스 속성의 차이점\n",
        "\n",
        "# 클래스 속성 사용시 누적이 됨\n",
        "class Person:\n",
        "    bag = []\n",
        " \n",
        "    def put_bag(self, stuff):\n",
        "        self.bag.append(stuff)\n",
        " \n",
        "james = Person()\n",
        "james.put_bag('책')\n",
        " \n",
        "maria = Person()\n",
        "maria.put_bag('열쇠')\n",
        " \n",
        "print(james.bag)\n",
        "print(maria.bag)"
      ],
      "metadata": {
        "colab": {
          "base_uri": "https://localhost:8080/"
        },
        "id": "wWT7HkOaXYjC",
        "outputId": "1b312a9d-9aa9-40ae-a5e1-38a1ac6da9c6"
      },
      "execution_count": 30,
      "outputs": [
        {
          "output_type": "stream",
          "name": "stdout",
          "text": [
            "['책', '열쇠']\n",
            "['책', '열쇠']\n"
          ]
        }
      ]
    },
    {
      "cell_type": "code",
      "source": [
        "#인스턴스 속성 사용시 각자 구성이 됨\n",
        "\n",
        "class Person:\n",
        "    def __init__(self):\n",
        "        self.bag = []\n",
        " \n",
        "    def put_bag(self, stuff):\n",
        "        self.bag.append(stuff)\n",
        " \n",
        "james = Person()\n",
        "james.put_bag('책')\n",
        " \n",
        "maria = Person()\n",
        "maria.put_bag('열쇠')\n",
        " \n",
        "print(james.bag)\n",
        "print(maria.bag)\n",
        "\n",
        "# ['책']\n",
        "# ['열쇠']"
      ],
      "metadata": {
        "colab": {
          "base_uri": "https://localhost:8080/"
        },
        "id": "0JT-OcXmXbu3",
        "outputId": "cf60fd53-dbfa-4eae-9a06-2e6f3181f84f"
      },
      "execution_count": 31,
      "outputs": [
        {
          "output_type": "stream",
          "name": "stdout",
          "text": [
            "['책']\n",
            "['열쇠']\n"
          ]
        }
      ]
    },
    {
      "cell_type": "markdown",
      "source": [
        "# 메서드"
      ],
      "metadata": {
        "id": "cA9bLpHId8Ze"
      }
    },
    {
      "cell_type": "code",
      "source": [
        "# 메서드란?\n",
        "\n",
        "메서드는 클래스 내부에 정의한 함수로, 클래스 안에 여러개를 만들수 있음, \n",
        "* 메서드가 일반 함수와 다른점은 전달값 부분에 첫번째로 self를 넣는다는 점 \n",
        "* 메서드 안에서 self.로 인스턴스 변수에 접근할 수 있음"
      ],
      "metadata": {
        "id": "IuJGaP58Xihh"
      },
      "execution_count": null,
      "outputs": []
    },
    {
      "cell_type": "code",
      "source": [
        "class pokamon_select_update:\n",
        "  def __init__(self, name, hp, damage):\n",
        "    self.name = name\n",
        "    self.hp = hp\n",
        "    self.damage = damage\n",
        "\n",
        "  def attack(self, who):\n",
        "    print(who, \"를 공격합니다.\", self.damage, \"만큼 데미지를 입혔습니다.\") #self에 영향을 받는게 있으면 self를 사용하고, 변수명에도 self를 적용시킨다.\n",
        "\n",
        "pokamon_1 = pokamon_select_update(\"피카츄\", 40, 5) # 피카츄만의 인스턴스 변수 정의\n",
        "pokamon_1.attack(\"파이리\")\n",
        "\n",
        "# 파이리 를 공격합니다. 5 만큼 데미지를 입혔습니다."
      ],
      "metadata": {
        "colab": {
          "base_uri": "https://localhost:8080/"
        },
        "id": "_lJT-J5RXeyi",
        "outputId": "03d1949e-afaa-4eb7-edbc-03aa5abf483b"
      },
      "execution_count": 32,
      "outputs": [
        {
          "output_type": "stream",
          "name": "stdout",
          "text": [
            "파이리 를 공격합니다. 5 만큼 데미지를 입혔습니다.\n"
          ]
        }
      ]
    },
    {
      "cell_type": "markdown",
      "source": [
        "## 정적 메서드란?\n",
        "\n",
        "* 다음과 같이 메서드 위에 @staticmethod 을 붙이고, 매개변수에 self를 지정하지 않는다.\n",
        "* @는 데코레이터 -> 설명 필요"
      ],
      "metadata": {
        "id": "owRLWgrrXuPP"
      }
    },
    {
      "cell_type": "code",
      "source": [
        "class Calc:\n",
        "    @staticmethod\n",
        "    def add(a, b):\n",
        "        print(a + b)\n",
        " \n",
        "    @staticmethod\n",
        "    def mul(a, b):\n",
        "        print(a * b)\n",
        " \n",
        "Calc.add(10, 20)    # 클래스에서 바로 메서드 호출\n",
        "Calc.mul(10, 20)    # 클래스에서 바로 메서드 호출\n",
        "\n",
        "# 정잭 메서드는 self를 받지 않으므로 인스턴스 속성에는 접근할 수 없음"
      ],
      "metadata": {
        "colab": {
          "base_uri": "https://localhost:8080/"
        },
        "id": "RHIsDKtNXsXg",
        "outputId": "e8e227fd-5761-49e8-af6f-e435ff223865"
      },
      "execution_count": 109,
      "outputs": [
        {
          "output_type": "stream",
          "name": "stdout",
          "text": [
            "30\n",
            "200\n"
          ]
        }
      ]
    },
    {
      "cell_type": "markdown",
      "source": [
        "## 클래스 메서드란?\n",
        "\n",
        "* 클래스 메서드는 다음과 같이 메서드 위에 @classmethod를 붙인다. \n",
        "* 이때 클래스 매서드에는 cls를 지정합니다. -> cls는 class에서 따옴"
      ],
      "metadata": {
        "id": "S3Q369itX2KP"
      }
    },
    {
      "cell_type": "code",
      "source": [
        "class Person:\n",
        "    count = 0    # 클래스 속성\n",
        "\n",
        "    def __init__(self):\n",
        "        Person.count += 1    # 인스턴스가 만들어질 때\n",
        "                             # 클래스 속성 count에 1을 더함\n",
        " \n",
        "    @classmethod\n",
        "    def print_count(cls): # cls = Person\n",
        "        print('{0}명 생성되었습니다.'.format(cls.count))    # cls로 클래스 속성에 접근"
      ],
      "metadata": {
        "id": "AWKCfTPmX4Gi"
      },
      "execution_count": 111,
      "outputs": []
    },
    {
      "cell_type": "code",
      "source": [
        "james = Person()\n",
        "maria = Person()\n",
        " \n",
        "Person.print_count()    # 2명 생성되었습니다."
      ],
      "metadata": {
        "colab": {
          "base_uri": "https://localhost:8080/"
        },
        "id": "aVjXW2Y7YofY",
        "outputId": "0a385465-85cb-4de4-c12f-760ee55aef94"
      },
      "execution_count": 112,
      "outputs": [
        {
          "output_type": "stream",
          "name": "stdout",
          "text": [
            "2명 생성되었습니다.\n"
          ]
        }
      ]
    },
    {
      "cell_type": "code",
      "source": [
        "# cls가 사용되는 순간 현재 class의 클래스 속성에 count에 접근할 수 있음\n",
        "# 그래서 print_count 메서드를 호출하면 ~명이 생성되었습니다. 이 출력\n",
        "# Person,print_count()가 그 결과\n",
        "\n",
        "# 클래스 메서드는 정적 메서드 처럼 인스턴스 없이 호출 가능\n",
        "\n",
        "# 그러나 클래스 메서드는 메서드 안에서 클래스 속성이나 클래스 메서드에 접근할때 사용됨\n",
        "# cls는 가장 중요한 부분인데 메서드 안에서 현재 클래스의 인스턴스를 만들수도 있음"
      ],
      "metadata": {
        "id": "b-3VDSBVeUmG"
      },
      "execution_count": null,
      "outputs": []
    },
    {
      "cell_type": "code",
      "source": [
        "class Person:\n",
        "    count = 0    # 클래스 속성\n",
        " \n",
        "    def __init__(self):\n",
        "        Person.count += 1    # 인스턴스가 만들어질 때\n",
        "                             # 클래스 속성 count에 1을 더함\n",
        " \n",
        "    @classmethod\n",
        "    def print_count(cls):\n",
        "        print('{0}명 생성되었습니다.'.format(cls.count))    # cls로 클래스 속성에 접근\n",
        "     \n",
        "     \n",
        "    @classmethod\n",
        "    def create(cls):\n",
        "        p = cls()    # cls()로 인스턴스 생성 = Person\n",
        "        return p\n",
        "        \n",
        " \n",
        "james = Person()\n",
        "maria = Person()\n",
        "Person.print_count()    # 2명 생성되었습니다."
      ],
      "metadata": {
        "colab": {
          "base_uri": "https://localhost:8080/"
        },
        "id": "Roltfu0eeW8a",
        "outputId": "bf57f749-52a2-49b1-dc3c-96e1713f280c"
      },
      "execution_count": 114,
      "outputs": [
        {
          "output_type": "stream",
          "name": "stdout",
          "text": [
            "2명 생성되었습니다.\n"
          ]
        }
      ]
    },
    {
      "cell_type": "code",
      "source": [
        "Person.create()  # cls()로 p라는 인스턴스 생성 -> 현재 Person 클래스를 불러옴\n",
        "Person.print_count()    # 3명 생성되었습니다."
      ],
      "metadata": {
        "colab": {
          "base_uri": "https://localhost:8080/"
        },
        "id": "Ym_aosO1hhFC",
        "outputId": "22f9c970-b359-490f-d11b-4e327e8274db"
      },
      "execution_count": 115,
      "outputs": [
        {
          "output_type": "stream",
          "name": "stdout",
          "text": [
            "3명 생성되었습니다.\n"
          ]
        }
      ]
    },
    {
      "cell_type": "code",
      "source": [
        "# 비공개 속성\n",
        "\n",
        "# 클래스 바깥에서는 접근할 수 없고 클래스 내에서만 사용하는 속성으로\n",
        "# 고객이 중요하게 생각하는 정보 요즘 같이 인터넷뱅킹, 스마트뱅킹, 비트코인지갑 등이 많은 이때에는 \n",
        "# 더더욱이 잔액관리가 중요합니다.\n",
        "\n",
        "# 이러한 정보를 사용하는 방법은 속성이름 앞에 __속성명 으로 사용하면 됩니다."
      ],
      "metadata": {
        "id": "VZKMTOlmbahw"
      },
      "execution_count": null,
      "outputs": []
    },
    {
      "cell_type": "code",
      "source": [
        "# 비공개 속성 실습\n",
        "\n",
        "class Person:\n",
        "    def __init__(self, name, age, address, wallet):\n",
        "        self.name = name\n",
        "        self.age = age\n",
        "        self.address = address\n",
        "        self.__wallet = wallet    # 변수 앞에 __를 붙여서 비공개 속성으로 만듦\n",
        " \n",
        "    def pay(self, amount):\n",
        "        self.__wallet -= amount   # 비공개 속성은 클래스 안의 메서드에서만 접근할 수 있음\n",
        "        print(amount, '원을 출금하여', self.__wallet, '원 남았네요.')\n",
        " \n",
        "maria = Person('마리아', 20, '서울시 서초구 반포동', 10000)\n",
        "maria.pay(3000)"
      ],
      "metadata": {
        "colab": {
          "base_uri": "https://localhost:8080/"
        },
        "id": "pjKpSYQqbcc6",
        "outputId": "6f33430a-f658-4d59-85d3-c99706f05171"
      },
      "execution_count": 116,
      "outputs": [
        {
          "output_type": "stream",
          "name": "stdout",
          "text": [
            "3000 원을 출금하여 7000 원 남았네요.\n"
          ]
        }
      ]
    },
    {
      "cell_type": "code",
      "source": [
        "# 일반 속성은 제대로 불러와짐\n",
        "maria.name"
      ],
      "metadata": {
        "colab": {
          "base_uri": "https://localhost:8080/",
          "height": 35
        },
        "id": "ZOEKRqJfhpmz",
        "outputId": "42f376ec-6185-49a4-850d-4432d2b5fa47"
      },
      "execution_count": 117,
      "outputs": [
        {
          "output_type": "execute_result",
          "data": {
            "text/plain": [
              "'마리아'"
            ],
            "application/vnd.google.colaboratory.intrinsic+json": {
              "type": "string"
            }
          },
          "metadata": {},
          "execution_count": 117
        }
      ]
    },
    {
      "cell_type": "code",
      "source": [
        "# 비공개 속성은 불러올수가 없음\n",
        "maria.__wallet\n",
        "maria.wallet"
      ],
      "metadata": {
        "colab": {
          "base_uri": "https://localhost:8080/",
          "height": 211
        },
        "id": "kS2SYoLWhq8D",
        "outputId": "e27293bc-2f74-4ef6-9297-10127630dcdd"
      },
      "execution_count": 118,
      "outputs": [
        {
          "output_type": "error",
          "ename": "AttributeError",
          "evalue": "ignored",
          "traceback": [
            "\u001b[0;31m---------------------------------------------------------------------------\u001b[0m",
            "\u001b[0;31mAttributeError\u001b[0m                            Traceback (most recent call last)",
            "\u001b[0;32m<ipython-input-118-904ced187081>\u001b[0m in \u001b[0;36m<cell line: 2>\u001b[0;34m()\u001b[0m\n\u001b[1;32m      1\u001b[0m \u001b[0;31m# 비공개 속성은 불러올수가 없음\u001b[0m\u001b[0;34m\u001b[0m\u001b[0;34m\u001b[0m\u001b[0m\n\u001b[0;32m----> 2\u001b[0;31m \u001b[0mmaria\u001b[0m\u001b[0;34m.\u001b[0m\u001b[0m__wallet\u001b[0m\u001b[0;34m\u001b[0m\u001b[0;34m\u001b[0m\u001b[0m\n\u001b[0m\u001b[1;32m      3\u001b[0m \u001b[0mmaria\u001b[0m\u001b[0;34m.\u001b[0m\u001b[0mwallet\u001b[0m\u001b[0;34m\u001b[0m\u001b[0;34m\u001b[0m\u001b[0m\n",
            "\u001b[0;31mAttributeError\u001b[0m: 'Person' object has no attribute '__wallet'"
          ]
        }
      ]
    },
    {
      "cell_type": "code",
      "source": [
        "#(참고) 속성뿐만 아니라 메서드도 이름이 __로 시작되면 바깥에서 호출이 불가\n",
        "\n",
        "class Person:\n",
        "    def __greeting(self):\n",
        "        print('Hello')\n",
        " \n",
        "    def hello(self):\n",
        "        self.__greeting()    # 클래스 안에서는 비공개 메서드를 호출할 수 있음\n",
        " \n",
        "james = Person()\n",
        "james.__greeting()    # 에러: 클래스 바깥에서는 비공개 메서드를 호출할 수 없음"
      ],
      "metadata": {
        "id": "YnWnly9Mht8R"
      },
      "execution_count": null,
      "outputs": []
    },
    {
      "cell_type": "code",
      "source": [
        "## 4.9 어떤 클래스의 인스턴스 인가?\n",
        "\n",
        "# 일단 객체(인스턴스)가 어떤 클래스로 부터 만들어졌는지 확인할 수 있게 isinstance()함수를 제공합니다. \n",
        "# isinstance()함수는 첫번째 매개변수에 객체(인스턴스), 두번째매개변수에 클래스를 입력합니다.\n",
        "\n",
        "# isinstance(인스턴스, 클래스)"
      ],
      "metadata": {
        "id": "vMP_SGAEhvxj"
      },
      "execution_count": null,
      "outputs": []
    },
    {
      "cell_type": "code",
      "source": [
        "# 연습문제 01\n",
        "\n",
        "class SoccerPlayer:\n",
        "  def __init__(self, name, position, back_number):\n",
        "    self.name = name\n",
        "    self.position = position\n",
        "    self.back_number = back_number\n",
        "\n",
        "  def change_back_number(self, back_number):\n",
        "    self.back_number = back_number\n",
        "\n",
        "player1 = SoccerPlayer(\"KangInLee\", \"MF\", \"7\")\n",
        "print(f\"현재 선수의 등번호는 {player1.back_number} 입니다.\")\n",
        "player1.change_back_number(5)\n",
        "\n",
        "# 1) 현재 선수의 등번호는?\n",
        "# 2) 에러 발생\n",
        "# 3) 현재 선수의 등번호는 5 입니다.\n",
        "# 4) 현재 선수의 등번호는 None 입니다.\n",
        "# 5) 현재 선수의 등번호는 7 입니다."
      ],
      "metadata": {
        "id": "MOsdGmqih0Pl"
      },
      "execution_count": null,
      "outputs": []
    },
    {
      "cell_type": "code",
      "source": [
        "# 연습문제 02 - 1\n",
        "\n",
        "class house_password():\n",
        "  def __init__(self):\n",
        "    self.password = 9999\n",
        "\n",
        "  def set_password(self, new_password):\n",
        "    self.password = new_password\n",
        "    print(\"패스워드가 변경되었습니다.\")\n",
        "\n",
        "  def get_password(self):\n",
        "    print(f\"현재 패스워드는 {self.password}입니다.\")\n",
        "\n",
        "my_house = house_password()\n",
        "my_house.get_password() #여기서 오류 password가 없음;;??\n",
        "my_house.set_password(1234)\n",
        "print(my_house.password)"
      ],
      "metadata": {
        "colab": {
          "base_uri": "https://localhost:8080/"
        },
        "id": "OHr7s61Ey2Ya",
        "outputId": "7875ec1f-b3d5-4598-eb61-dfc6b9a7a51b"
      },
      "execution_count": 36,
      "outputs": [
        {
          "output_type": "stream",
          "name": "stdout",
          "text": [
            "현재 패스워드는 9999입니다.\n",
            "패스워드가 변경되었습니다.\n",
            "1234\n"
          ]
        }
      ]
    },
    {
      "cell_type": "code",
      "source": [
        "# 연습문제 02-2 \n",
        "\n",
        "class house_password():\n",
        "  def __init__(self):\n",
        "    self.__password = 9999\n",
        "  def set_password(self, new_password):\n",
        "    self.__password = new_password\n",
        "    print(\"패스워드가 변경되었습니다.\")\n",
        "#self를 넣어야 제대로 작동 그러나 또 오류\n",
        "  def get_password(self):\n",
        "    print(f\"현재 패스워드는 {self.__password}입니다.\")\n",
        "\n",
        "my_house = house_password()\n",
        "my_house.get_password()\n",
        "my_house.set_password(1234)\n",
        "# print(my_house.password) <- 에러 \n",
        "print(my_house.__dict__)"
      ],
      "metadata": {
        "colab": {
          "base_uri": "https://localhost:8080/"
        },
        "id": "0PcJpLHu0sHw",
        "outputId": "c9574271-1918-4db5-ff2e-cf2de1518efe"
      },
      "execution_count": 48,
      "outputs": [
        {
          "output_type": "stream",
          "name": "stdout",
          "text": [
            "현재 패스워드는 9999입니다.\n",
            "패스워드가 변경되었습니다.\n",
            "{'_house_password__password': 1234}\n"
          ]
        }
      ]
    },
    {
      "cell_type": "code",
      "source": [
        "# 연습문제 03\n",
        "\n",
        "class Terran(object):\n",
        "  def __init__(self, mineral):\n",
        "    self.scv = 4\n",
        "    self.marine = 0\n",
        "    self.medic = 0\n",
        "    self.mineral = mineral #50\n",
        "\n",
        "  def command(self, SCV = False):\n",
        "    self.mineral += 8*self.scv # 32 -> 82\n",
        "    if SCV:\n",
        "      self.scv += 1 # 4 -> 5\n",
        "      self.mineral -= 10 # 82 -> 72\n",
        " \n",
        "  def barrack(self, Marine=False, Medic =False):\n",
        "    self.mineral += 8 * self.scv # 40 - 40 = 0\n",
        "\n",
        "    if Medic:\n",
        "      self.medic += 1\n",
        "      self.mineral -= 25\n",
        "    \n",
        "    if Marine:\n",
        "      self.marine += 1\n",
        "      self.mineral -= 15\n",
        "\n",
        "  def check_source(self):\n",
        "    print(f\"Mineral이 {self.mineral}만큼 있습니다.\")"
      ],
      "metadata": {
        "id": "UOi0Kt1ph5Q4"
      },
      "execution_count": 119,
      "outputs": []
    },
    {
      "cell_type": "code",
      "source": [
        "SlayerS_BoxeR = Terran(50)\n",
        "SlayerS_BoxeR.command(True) \n",
        "SlayerS_BoxeR.barrack(True, True)\n",
        "SlayerS_BoxeR.check_source()"
      ],
      "metadata": {
        "colab": {
          "base_uri": "https://localhost:8080/"
        },
        "id": "qnLbH80Qh8XE",
        "outputId": "acd5fdf0-2ee4-49ca-d425-c6af77433cb8"
      },
      "execution_count": 121,
      "outputs": [
        {
          "output_type": "stream",
          "name": "stdout",
          "text": [
            "Mineral이 72만큼 있습니다.\n"
          ]
        }
      ]
    },
    {
      "cell_type": "markdown",
      "source": [
        "# 포켓몬스터 게임 "
      ],
      "metadata": {
        "id": "Ifso1lt983Ft"
      }
    },
    {
      "cell_type": "code",
      "source": [],
      "metadata": {
        "id": "Ql0BA26Q8YQb"
      },
      "execution_count": null,
      "outputs": []
    },
    {
      "cell_type": "markdown",
      "source": [
        "# 실습"
      ],
      "metadata": {
        "id": "EI0m4E0PAa--"
      }
    },
    {
      "cell_type": "code",
      "source": [
        "# 6.2 차량 등록기 클래스 생성\n",
        "\n",
        "1. 총 주차 가능 대수인 capacity는 객체를 생성할때 전달받아 인스턴스 변수로 정의\n",
        "2. 현재 등록된 차량을 관리하는 count는 객체를 생성하여 0으로 정의\n",
        "3. 객체를 생성할때 등록 가능한 대수 출력\n",
        "4. 차를 신규 등록하는 register()메서드 생성\n",
        "5. 신규 등록시 등록 현황을 출력\n",
        "6. 총 주차가능대수가 초과할 경우 “등록할 수 없습니다.” 메세지 출력"
      ],
      "metadata": {
        "id": "nTW_hgCuiJbb"
      },
      "execution_count": null,
      "outputs": []
    },
    {
      "cell_type": "code",
      "source": [
        "# 차량 등록기 클래스 생성\n",
        "\n",
        "class ParkingManager:\n",
        "    def __init__(self,capacity):\n",
        "        self.capacity = capacity\n",
        "        self.count = 0\n",
        "        print(f'등록가능한 차량 은 {capacity}대 입니다. ')\n",
        "        pass\n",
        "\n",
        "    def register(self):\n",
        "        self.count += 1 \n",
        "        if self.count > self.capacity:\n",
        "            print('꽉 찼습니다.')\n",
        "            pass\n",
        "        else:\n",
        "            print(f'{self.count}대 등록했습니다.')\n",
        "    \n",
        "\n",
        "manager = ParkingManager(5)\n",
        "for i in range(6):\n",
        "    manager.register()"
      ],
      "metadata": {
        "colab": {
          "base_uri": "https://localhost:8080/"
        },
        "id": "JinNc_O0AcNr",
        "outputId": "7c7256e6-0068-4c78-e2ee-791d8ab29cd3"
      },
      "execution_count": 78,
      "outputs": [
        {
          "output_type": "stream",
          "name": "stdout",
          "text": [
            "등록가능한 차량 은 5대 입니다. \n",
            "1대 등록했습니다.\n",
            "2대 등록했습니다.\n",
            "3대 등록했습니다.\n",
            "4대 등록했습니다.\n",
            "5대 등록했습니다.\n",
            "꽉 찼습니다.\n"
          ]
        }
      ]
    },
    {
      "cell_type": "code",
      "source": [
        "## 6.3 부동산 프로그램 클래스로 만들기 - 공인중계사용\n",
        "\n",
        "1. self 생성자로 인스턴스 변수를 정의합니다.\n",
        "2. 매물정보를 표시하는 show_detail에서는 인스턴스 변수를 출력하여 부동산 정보를 표시하게 합니다.\n",
        "3. 네이버 부동산/생각해서 자신이 관심있는 매물 3가지의 정보를 받아 몇가지 매물이 있는 지 확인하고, 각 부동산 정보를 출력합니다."
      ],
      "metadata": {
        "id": "UQnTJKBNiMBx"
      },
      "execution_count": null,
      "outputs": []
    },
    {
      "cell_type": "code",
      "source": [
        "# 부동산 프로그램 클래스로 만들기 \n",
        "\n",
        "class House:\n",
        "    def __init__(self, location, house_type, deal_type, price, competion_year):\n",
        "        self.location = location\n",
        "        self.house_type = house_type\n",
        "        self.deal_type = deal_type\n",
        "        self.price = price\n",
        "        self.competion_year = competion_year\n",
        "        pass\n",
        "    \n",
        "    def show_detail(self):\n",
        "        print(\"부동산 정보========\")\n",
        "        print(\"유형:\", self.deal_type)\n",
        "        print(\"위치:\", self.location)\n",
        "        print(\"가격:\", self.price)\n",
        "        pass\n",
        "\n",
        "# 예시 인스턴스 생성\n",
        "property1 = House(\"강남구\",\"아파트\",\"전세\",\"10억\",\"2\")\n",
        "property2 = House(\"서초구\",\"빌라\", \"매매\", \"5억\",'2')\n",
        "property3 = House( \"마포구\",\"오피스텔\", \"전세\", \"3억\",'2')\n",
        "\n",
        "# 매물 정보 출력\n",
        "property1.show_detail()\n",
        "property2.show_detail()\n",
        "property3.show_detail()"
      ],
      "metadata": {
        "colab": {
          "base_uri": "https://localhost:8080/"
        },
        "id": "JKv-HecjFMS9",
        "outputId": "f61c261b-cfc7-407e-c526-46afa13e7be9"
      },
      "execution_count": 96,
      "outputs": [
        {
          "output_type": "stream",
          "name": "stdout",
          "text": [
            "부동산 정보========\n",
            "유형: 전세\n",
            "위치: 강남구\n",
            "가격: 10억\n",
            "부동산 정보========\n",
            "유형: 매매\n",
            "위치: 서초구\n",
            "가격: 5억\n",
            "부동산 정보========\n",
            "유형: 전세\n",
            "위치: 마포구\n",
            "가격: 3억\n"
          ]
        }
      ]
    },
    {
      "cell_type": "markdown",
      "source": [
        "이제 클래스의 기초가 끝났습니다\n",
        "\n",
        "상속은 어떤 클래스가 다른 클래스의 성질을 물려받는것.\n",
        "유산을 상속 받는것과 동일하다고 생각하며 됨\n",
        "\n",
        "어떤 클래스를 만들때 처음부터 다른 클래스로 부터 상속받게 만들면 좀더 쓸만한 클래스를 만들수 있음\n",
        "\n",
        "* 기능을 물려줌 - base class(기반 클래스) - 부모 클래스, 슈퍼클래스\n",
        "* 상속을 받아 새롭게 만듬 - derived class(파생 클래스) - 자식 클래스, 서브 클래스\n",
        "\n",
        "[상속을 사용하는 이유]\n",
        "\n",
        "* 결국 기존 기능을 재사용하고, 중복되는 기능을 만들지 않아도 되기 때문"
      ],
      "metadata": {
        "id": "7Sylf7iSiR8T"
      }
    },
    {
      "cell_type": "markdown",
      "source": [
        "# 상속"
      ],
      "metadata": {
        "id": "1c3Ang2VO9P7"
      }
    },
    {
      "cell_type": "code",
      "source": [
        "# 기본 문법\n",
        "\n",
        "# inheritance 상속\n",
        "\n",
        "class Person(object):\n",
        "  pass\n",
        "\n",
        "# class라는 예약어 다음에 클래스명으로 Person을 쓰고, \n",
        "# ()안에 object를 입력하였다.\n",
        "# 여기서 object가 바로 부모 클래스이다.\n",
        "\n",
        "# 사실 object는 파이썬에서 사용하는 \n",
        "# 가장 기본 객체(base object - 기반 객체라고도 함)\n",
        "# 파이썬 언어는 객체지향 프로그래밍을 모든 변수는 객체이다.\n",
        "\n",
        "# 예를 들어 파이썬의 문자열 형 변수에 대해 다음과 같이 객체 이름을 확인할 수 있다.\n",
        "\n",
        "a = 'abc'\n",
        "type(a) -> class 'str'\n",
        "\n",
        "# 지금까지 'abc'를 우리는 문자열형 문자열 자료라고 불렀는데, \n",
        "# 내부적으로는 객체로 처리된것이다.\n",
        "# 파이썬의 모든 객체는 object객체를 상속한다."
      ],
      "metadata": {
        "id": "RXThFhCBiZKS"
      },
      "execution_count": null,
      "outputs": []
    },
    {
      "cell_type": "code",
      "source": [
        "class 기반클래스이름:\n",
        "    코드\n",
        " \n",
        "class 파생클래스이름(기반클래스이름):\n",
        "    코드"
      ],
      "metadata": {
        "id": "yDF-Ejz-mDzp"
      },
      "execution_count": null,
      "outputs": []
    },
    {
      "cell_type": "code",
      "source": [
        "class Person(object):\n",
        "  def __init__(self, name, age):\n",
        "    self.name = name\n",
        "    self.age = age\n",
        "\n",
        "class Korean(Person):\n",
        "  pass\n",
        "\n",
        "first_korean = Korean(\"Dawon\",4)\n",
        "print(first_korean.age)"
      ],
      "metadata": {
        "colab": {
          "base_uri": "https://localhost:8080/"
        },
        "id": "G3pII0JEmE-a",
        "outputId": "90db7bab-1b89-4381-b24b-045594636787"
      },
      "execution_count": 123,
      "outputs": [
        {
          "output_type": "stream",
          "name": "stdout",
          "text": [
            "4\n"
          ]
        }
      ]
    },
    {
      "cell_type": "code",
      "source": [
        "# 이 코드는 먼저 Person class를 생성한 것\n",
        "# Person 클래스는 생성자 __init__() 함수를 만들어 name과 age를 만들었다는 것은 이제 알것이다.\n",
        "\n",
        "# 여기서 중요한 것은 지금까지는 그러지 않았지만 클래스안에 클래스를 볼수 있다.\n",
        "##### Korean클래스를 만들면서 Person클래스를 상속받는것이다.\n",
        "\n",
        "# 그리고 pass를 사용하여 별도의 내용 없이 클래스만 존재하는 것을 만들었다.\n",
        "# 결국 Korean은 아무런 내용이 없는 클래스인데, Korean(Person)을 사용하게 되면서\n",
        "# Korean은 Person이 가지고 있는 생성자를 그래도 사용할수 있게 된것이다."
      ],
      "metadata": {
        "id": "GQa2AOCkmJ7T"
      },
      "execution_count": null,
      "outputs": []
    },
    {
      "cell_type": "code",
      "source": [
        "class Person(object): # 부모 클래스 선언\n",
        "  #초기 메서드\n",
        "  def __init__(self, name, age, gender):\n",
        "    self.name = name\n",
        "    self.age = age\n",
        "    self.gender = gender\n",
        "  #출력 메서드\n",
        "  def about_me(self): # 메서드 선언\n",
        "    print(f\"안녕하세요 제 이름은 {name}이고, 나이는 {age}이고, 성별은 {gender}입니다.\")"
      ],
      "metadata": {
        "id": "UKee2A1JmNPF"
      },
      "execution_count": 124,
      "outputs": []
    },
    {
      "cell_type": "code",
      "source": [
        "class Empolyee(Person):\n",
        "  # Employee 초기 메서드\n",
        "  def __init__(self, name, age, gender, salary, hire_date):\n",
        "    # Person의 초기메서드\n",
        "    super().__init__(name, age, gender) #부모클래스의 인스턴스 함수를 그대로 사용한다.\n",
        "    self.salary = salary\n",
        "    self.hire_date = hire_date\n",
        "  \n",
        "  def do_work(self):\n",
        "    print(\"근무시간 이에요\")\n",
        "\n",
        "  def about_me(self):\n",
        "    super().about_me()\n",
        "    print(f\"저의 월급은 {self.salary}이고, 제 입사날짜는 {self.hire_date}입니다.\")"
      ],
      "metadata": {
        "id": "8LFRWZYsmRHK"
      },
      "execution_count": 125,
      "outputs": []
    },
    {
      "cell_type": "code",
      "source": [
        "# Person 클래스가 단순히 사람에 대한 정보를 정의했다면 \n",
        "# Employee 클래스는 사람에 대한 정의를 부모 클래스도 부터 받아서, 입사날짜와 월급에 대한 변수를 추가하였습니다.\n",
        "# 즉 부모클래스의 __init__함수를 재정의 했습니다.\n",
        "\n",
        "# 이때 부모 클래스의 __init__()함수를 그대로 사용하려면 별도의 __init__함수를 만들지 않아도 됩니다.\n",
        "# 하지만 기존 함수를 사용하면서 새로운 내용을 추가하려면 자식 클래스에 __init__함수를 생성할때 super().__init__(매개변수)라고 입력합니다.\n",
        "# 여기서 super는 부모클래스를 가르키고, 즉, 부모 클래스의 __init__()함수를 그대로 사용한다는 뜻이다.\n",
        "\n",
        "# 슈퍼맨이 돌아왔다라는 TV프로그램을 생각하시면 좀더 빠르게 기억하지 않을까 싶습니다.\n",
        "\n",
        "# 그리고 그 아래에는 자식 클래스에 필요한 새로운 변수를 추가합니다.\n",
        "# 이러한 함수의 재정의를 오버라이딩이라고 합니다.\n",
        "\n",
        "# 오버라이딩이란 상속 시 함수 이름과 필요한 매개변수는 그대로 유지되면서 함수의 수행 코드는 변경하는 것이다.\n",
        "# 같은 방식으로 about_me() 함수가 오버라이딩 된 것을 확인할 수 있다.\n",
        "# Person과 Employee에 대한 설명을 추가한 것이다.\n",
        "\n",
        "# 위 코드들은 설명의 용이성을 위해 텍스트 형태의 설명만 추가하였지만 실제로는 프로그램에 사용하기 위한 다양한 기능이 추가될 수 있다.\n",
        "\n",
        "# do_work처럼 자식 클래스에만 필요한 새로운 함수를 생성할 수도 있습니다.\n",
        "# 앞서 설명했듯 자식 클래스는 부모 클래스보다 더 많은 일들을 합니다.\n",
        "# 따라서 자식 클래스를 설정할때는 부모클래스보다 더 많은 일을 수행할수 있게 코드를 작성해야합니다.\n",
        "\n",
        "# 이외에도 다양한 상속기능을 지원합니다.\n",
        "# 1개이상의 클래스 특징을 상속하는, 다중상속의 개념도 있는데 이는 데이터 분석단계에서는 필요하지 않기 때문에 밑에서 예시만 배우고 넘어가기로 합니다."
      ],
      "metadata": {
        "id": "rIvu7xGamWKN"
      },
      "execution_count": null,
      "outputs": []
    },
    {
      "cell_type": "code",
      "source": [
        "# 예제2. 피카츄에서 라이츄로 진화하기\n",
        "\n",
        "class Pikachu:\n",
        "    def skill(self):\n",
        "        print('전기충격')\n",
        " \n",
        "class Lichu(Pikachu):\n",
        "    def new_skill(self):\n",
        "        print('몸통 박치기')\n",
        " \n",
        "Jiwoo = Lichu()\n",
        "Jiwoo.skill()    # 안녕하세요.: 기반 클래스 Person의 메서드 호출\n",
        "Jiwoo.new_skill()       # 공부하기: 파생 클래스 Student에 추가한 study 메서드\n",
        "\n",
        "#원래 Lichu에는 전기충격이 없지만 Pikachu의 속성을 그대로 가져왔으므로 호출할수 있었음"
      ],
      "metadata": {
        "id": "nPLOttTmmePs"
      },
      "execution_count": null,
      "outputs": []
    },
    {
      "cell_type": "code",
      "source": [
        "# 상속 관계 확인\n",
        "issubclass(Lichu, Pikachu) # 순서를 지켜야함 거꾸로 하면 False가 나옴"
      ],
      "metadata": {
        "id": "32F30alTmfhs"
      },
      "execution_count": null,
      "outputs": []
    },
    {
      "cell_type": "code",
      "source": [
        "# 기반클래스 속성 사용하기\n",
        "\n",
        "class Person:\n",
        "    def __init__(self):\n",
        "        print('Person __init__')\n",
        "        self.hlelo = '안녕하세요'\n",
        "\n",
        "class Student(Person):\n",
        "    def __init__(self):\n",
        "        print('Studuent __init__')\n",
        "        self.school = '데이터 분석 스쿨입니다.'\n",
        "\n",
        "james = Student()\n",
        "print(james.hello)      # 기반 클래스의 속성을 출력하려고 하면 에러가 발생함"
      ],
      "metadata": {
        "colab": {
          "base_uri": "https://localhost:8080/",
          "height": 229
        },
        "id": "Ml6fRkqCQAQA",
        "outputId": "006e1aaa-402b-4ac5-b8dc-10a768024116"
      },
      "execution_count": 122,
      "outputs": [
        {
          "output_type": "stream",
          "name": "stdout",
          "text": [
            "Studuent __init__\n"
          ]
        },
        {
          "output_type": "error",
          "ename": "AttributeError",
          "evalue": "ignored",
          "traceback": [
            "\u001b[0;31m---------------------------------------------------------------------------\u001b[0m",
            "\u001b[0;31mAttributeError\u001b[0m                            Traceback (most recent call last)",
            "\u001b[0;32m<ipython-input-122-cb35eebc55ad>\u001b[0m in \u001b[0;36m<cell line: 14>\u001b[0;34m()\u001b[0m\n\u001b[1;32m     12\u001b[0m \u001b[0;34m\u001b[0m\u001b[0m\n\u001b[1;32m     13\u001b[0m \u001b[0mjames\u001b[0m \u001b[0;34m=\u001b[0m \u001b[0mStudent\u001b[0m\u001b[0;34m(\u001b[0m\u001b[0;34m)\u001b[0m\u001b[0;34m\u001b[0m\u001b[0;34m\u001b[0m\u001b[0m\n\u001b[0;32m---> 14\u001b[0;31m \u001b[0mprint\u001b[0m\u001b[0;34m(\u001b[0m\u001b[0mjames\u001b[0m\u001b[0;34m.\u001b[0m\u001b[0mhello\u001b[0m\u001b[0;34m)\u001b[0m\u001b[0;34m\u001b[0m\u001b[0;34m\u001b[0m\u001b[0m\n\u001b[0m",
            "\u001b[0;31mAttributeError\u001b[0m: 'Student' object has no attribute 'hello'"
          ]
        }
      ]
    },
    {
      "cell_type": "code",
      "source": [
        "# 기반클래스 속성 사용하기\n",
        "# Super 사용 하지않는 방법 \n",
        "# 파생되는 클래스에서 __init__메서드를 생략하면 자동 호출됨\n",
        "\n",
        "\n",
        "class Person:\n",
        "    def __init__(self):\n",
        "        print('Person __init__')\n",
        "        self.hello = '안녕하세요'\n",
        "\n",
        "class Student(Person):\n",
        "    pass\n",
        "\n",
        "james = Student()\n",
        "print(james.hello)"
      ],
      "metadata": {
        "colab": {
          "base_uri": "https://localhost:8080/"
        },
        "id": "kVAQMSbkO-hh",
        "outputId": "fa4ebea0-5dee-46ba-bb0c-8440fa9091c1"
      },
      "execution_count": 127,
      "outputs": [
        {
          "output_type": "stream",
          "name": "stdout",
          "text": [
            "Person __init__\n",
            "안녕하세요\n"
          ]
        }
      ]
    },
    {
      "cell_type": "code",
      "source": [
        "# 기반클래스 속성 사용하기\n",
        "# super()를 활용하여 __init__ 메서드 호출\n",
        "\n",
        "class Person:\n",
        "    def __init__(self):\n",
        "        print('Person __init__')\n",
        "        self.hello = '안녕하세요.'\n",
        " \n",
        "class Student(Person):\n",
        "    def __init__(self):\n",
        "        print('Student __init__')\n",
        "        super().__init__()                # super()로 기반 클래스의 __init__ 메서드 호출\n",
        "        self.school = '파이썬 코딩 도장'\n",
        " \n",
        "james = Student()\n",
        "print(james.school)\n",
        "print(james.hello)"
      ],
      "metadata": {
        "id": "dyazgqS_m2Hx"
      },
      "execution_count": null,
      "outputs": []
    },
    {
      "cell_type": "code",
      "source": [
        "# 연습문제 #1.\n",
        "\n",
        "class Marvel(object):\n",
        "  def __init__(self, name, characteristic):\n",
        "    self.name = name\n",
        "    self.characteristic = characteristic\n",
        "\n",
        "  def __str__(self):\n",
        "    return f\"나의 마블 캐릭터 이름은 {self.name}입니다. 저의 특수 능력치는 {self.characteristic} 입니다.\"\n",
        "\n",
        "class Villain(Marvel):\n",
        "  pass\n",
        "\n",
        "first_villain = Villain(\"타노스\",\"인피티니 건틀랫\")\n",
        "print(first_villain)\n",
        "\n",
        "#1) 나의 마블 캐릭터 이름은 타노스입니다. 저의 특수 능력치는 인피티니 건틀랫 입니다.\n",
        "#2) 나의 마블 캐릭터 이름은 타노스입니다. 저의 특수 능력치는 None 입니다.\n",
        "#3) None\n",
        "#4) pass\n",
        "#5) 에러발생"
      ],
      "metadata": {
        "id": "xWFuHlb4m65T"
      },
      "execution_count": null,
      "outputs": []
    },
    {
      "cell_type": "code",
      "source": [
        "class TV(object):\n",
        "  def __init__(self, size, year, company):\n",
        "    self.size = size\n",
        "    self.year = year\n",
        "    self.company = company\n",
        "\n",
        "  def describe(self):\n",
        "    print(self.company + \"에서 만든\" + self.year + \"년형\" + self.size + \"인치 TV\")\n",
        "\n",
        "class Laptop(TV):\n",
        "  def describe(self):\n",
        "    print(self.company + \"에서 만든\"  + self.year + \"년형\" + self.size + \"인치 노트북\")\n",
        "\n",
        "LG_TV = TV(\"32\", \"2022\", \"LG\")\n",
        "LG_TV.describe()\n",
        "\n",
        "samsung_microwave = Laptop(\"15\", \"2023\", \"Samsung\")\n",
        "samsung_microwave.describe()\n",
        "\n",
        "\n",
        "#1. LG에서 만든 2022년형15인치 TV\n",
        "#   Samsung에서 만든2023년형32인치 노트북\n",
        "\n",
        "#2. LG에서 만든 2022년형15인치 TV\n",
        "#   Samsung에서 만든 2023년형 15인치 노트북\n",
        "\n",
        "#3. LG에서 만든 2022년형 32인치 TV\n",
        "#   Samsung에서 만든 2023년형 32인치 노트북\n",
        "\n",
        "#4. LG에서 만든 2022년형 32인치 TV\n",
        "#   Samsung에서 만든 2023년형 15인치 노트북\n",
        "\n",
        "#5. LG에서 만든 2023년형 32인치 TV\n",
        "#   Samsung에서 만든 2022년형 15인치 노트북"
      ],
      "metadata": {
        "id": "YwtvnTLdm8a2"
      },
      "execution_count": null,
      "outputs": []
    },
    {
      "cell_type": "code",
      "source": [
        "class Company:\n",
        "  def __init__(self):\n",
        "    self.work = True\n",
        "    self.name = 'Jane'\n",
        "    self.company_name = 'woman'\n",
        "\n",
        "  def retire(self):\n",
        "    self.work = False\n",
        "\n",
        "class Employee(Company):\n",
        "  def __init__(self, name, company_name):\n",
        "    super().__init__()\n",
        "    self.name = name\n",
        "    self.company_name = company_name\n",
        "\n",
        "  def introduce(self):\n",
        "    if self.work == True:\n",
        "      print('취업 성공')\n",
        "      print(f'이름은 {self.name} 입니다.') \n",
        "      print(f'회사는 {self.company_name} 입니다.') \n",
        "\n",
        "    if self.work == False:\n",
        "      print(f'직업을 구하는 중..')\n",
        "\n",
        "em = Employee('김진환', '위니브')\n",
        "em.retire()\n",
        "em.introduce()\n",
        "Employee('김진환', '위니브').introduce()"
      ],
      "metadata": {
        "id": "MouizUK3m9rr"
      },
      "execution_count": null,
      "outputs": []
    }
  ]
}