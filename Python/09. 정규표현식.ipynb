{
  "nbformat": 4,
  "nbformat_minor": 0,
  "metadata": {
    "colab": {
      "provenance": [],
      "authorship_tag": "ABX9TyNbfPpiFVAe/9CwFxUoAwON",
      "include_colab_link": true
    },
    "kernelspec": {
      "name": "python3",
      "display_name": "Python 3"
    },
    "language_info": {
      "name": "python"
    }
  },
  "cells": [
    {
      "cell_type": "markdown",
      "metadata": {
        "id": "view-in-github",
        "colab_type": "text"
      },
      "source": [
        "<a href=\"https://colab.research.google.com/github/suminkkk/DA_STUDY/blob/main/Python/09.%20%EC%A0%95%EA%B7%9C%ED%91%9C%ED%98%84%EC%8B%9D.ipynb\" target=\"_parent\"><img src=\"https://colab.research.google.com/assets/colab-badge.svg\" alt=\"Open In Colab\"/></a>"
      ]
    },
    {
      "cell_type": "markdown",
      "source": [
        "# 복습\n",
        "\n",
        "\n"
      ],
      "metadata": {
        "id": "p5b2L20JJ0aU"
      }
    },
    {
      "cell_type": "markdown",
      "source": [
        "## 1) 텍스트 파일 가공"
      ],
      "metadata": {
        "id": "K8bVZhhhLohA"
      }
    },
    {
      "cell_type": "code",
      "source": [
        "# 파일 입출력. "
      ],
      "metadata": {
        "id": "ydlou08bLrNU"
      },
      "execution_count": 1,
      "outputs": []
    },
    {
      "cell_type": "code",
      "source": [
        "# 파일 현재 위치 확인\n",
        "# cwd\n",
        "\n",
        "import os\n",
        "os.getcwd()"
      ],
      "metadata": {
        "colab": {
          "base_uri": "https://localhost:8080/",
          "height": 35
        },
        "id": "pnPJ7UfFLxE5",
        "outputId": "b3571886-2472-4ed1-d312-01588c46bfea"
      },
      "execution_count": 2,
      "outputs": [
        {
          "output_type": "execute_result",
          "data": {
            "text/plain": [
              "'/content'"
            ],
            "application/vnd.google.colaboratory.intrinsic+json": {
              "type": "string"
            }
          },
          "metadata": {},
          "execution_count": 2
        }
      ]
    },
    {
      "cell_type": "code",
      "source": [
        "# 폴더(경로) 이동하기\n",
        "\n",
        "os.chdir('/content/sample_data')"
      ],
      "metadata": {
        "id": "Jaiv89EyMAfi"
      },
      "execution_count": 4,
      "outputs": []
    },
    {
      "cell_type": "code",
      "source": [
        "# 확인\n",
        "\n",
        "os.getcwd()"
      ],
      "metadata": {
        "colab": {
          "base_uri": "https://localhost:8080/",
          "height": 35
        },
        "id": "668Xxm8FM2g5",
        "outputId": "644669b4-c15f-43b2-f604-78928c4e3976"
      },
      "execution_count": 6,
      "outputs": [
        {
          "output_type": "execute_result",
          "data": {
            "text/plain": [
              "'/content/sample_data'"
            ],
            "application/vnd.google.colaboratory.intrinsic+json": {
              "type": "string"
            }
          },
          "metadata": {},
          "execution_count": 6
        }
      ]
    },
    {
      "cell_type": "code",
      "source": [
        "# 폴더내 파일 확인\n",
        "\n",
        "os.listdir()"
      ],
      "metadata": {
        "colab": {
          "base_uri": "https://localhost:8080/"
        },
        "id": "RVfYqu5PNHb4",
        "outputId": "384cd0f7-27f1-437a-9a8c-6f3cbd42a902"
      },
      "execution_count": 8,
      "outputs": [
        {
          "output_type": "execute_result",
          "data": {
            "text/plain": [
              "['README.md',\n",
              " 'anscombe.json',\n",
              " 'mnist_test.csv',\n",
              " 'california_housing_test.csv',\n",
              " 'california_housing_train.csv',\n",
              " 'mnist_train_small.csv']"
            ]
          },
          "metadata": {},
          "execution_count": 8
        }
      ]
    },
    {
      "cell_type": "code",
      "source": [
        "list_dir = os.listdir()\n",
        "print(list_dir)"
      ],
      "metadata": {
        "colab": {
          "base_uri": "https://localhost:8080/"
        },
        "id": "_M3VlClQNOUO",
        "outputId": "ba718db4-aa8c-459e-d91a-02eb7070152e"
      },
      "execution_count": 11,
      "outputs": [
        {
          "output_type": "stream",
          "name": "stdout",
          "text": [
            "['README.md', 'anscombe.json', 'mnist_test.csv', 'california_housing_test.csv', 'california_housing_train.csv', 'mnist_train_small.csv']\n"
          ]
        }
      ]
    },
    {
      "cell_type": "code",
      "source": [
        "# 파일 열고 쓰고 \n",
        "# 파일 열기\n",
        "\n",
        "f = open('a.txt','w')"
      ],
      "metadata": {
        "id": "0euVOquiNZiy"
      },
      "execution_count": 12,
      "outputs": []
    },
    {
      "cell_type": "code",
      "source": [
        "f.close()"
      ],
      "metadata": {
        "id": "rOfxgMtyNoSg"
      },
      "execution_count": 13,
      "outputs": []
    },
    {
      "cell_type": "code",
      "source": [
        "# 쓰기 모드 \n",
        "\n",
        "f = open('a.txt','w')\n",
        "f.write('안녕하세요')\n",
        "f.close()"
      ],
      "metadata": {
        "colab": {
          "base_uri": "https://localhost:8080/"
        },
        "id": "MBYDdn6rNpSu",
        "outputId": "edec0ac5-c0af-4c28-c36c-930dc3c1f8f1"
      },
      "execution_count": 15,
      "outputs": [
        {
          "output_type": "execute_result",
          "data": {
            "text/plain": [
              "5"
            ]
          },
          "metadata": {},
          "execution_count": 15
        }
      ]
    },
    {
      "cell_type": "code",
      "source": [
        "# 읽기 모드\n",
        "\n",
        "f=open('a.txt','r')\n",
        "f.read()\n"
      ],
      "metadata": {
        "colab": {
          "base_uri": "https://localhost:8080/",
          "height": 35
        },
        "id": "inN1NJEIN5Jr",
        "outputId": "3d5cf907-bc5d-422a-c3a9-f053cb55f4a1"
      },
      "execution_count": 18,
      "outputs": [
        {
          "output_type": "execute_result",
          "data": {
            "text/plain": [
              "'안녕하세요'"
            ],
            "application/vnd.google.colaboratory.intrinsic+json": {
              "type": "string"
            }
          },
          "metadata": {},
          "execution_count": 18
        }
      ]
    },
    {
      "cell_type": "code",
      "source": [
        "# 읽기 모드시 커서가 다음으로 가있어 아무것도 안나올때 커서 초기화\n",
        "\n",
        "f.seek(0)"
      ],
      "metadata": {
        "colab": {
          "base_uri": "https://localhost:8080/"
        },
        "id": "84py64qLOFhD",
        "outputId": "e661749c-84d2-4489-8d53-8d009eda109e"
      },
      "execution_count": 19,
      "outputs": [
        {
          "output_type": "execute_result",
          "data": {
            "text/plain": [
              "0"
            ]
          },
          "metadata": {},
          "execution_count": 19
        }
      ]
    },
    {
      "cell_type": "code",
      "source": [
        "f.read()\n",
        "f.close()"
      ],
      "metadata": {
        "id": "ovYtc7nMOK7r"
      },
      "execution_count": 21,
      "outputs": []
    },
    {
      "cell_type": "code",
      "source": [
        "# 읽기 모드로 없는 파일 생성 불가\n",
        "\n",
        "f= open('b.txt','r')"
      ],
      "metadata": {
        "id": "CO7FzFWDOMt9"
      },
      "execution_count": null,
      "outputs": []
    },
    {
      "cell_type": "code",
      "source": [
        "# 추가 모드\n",
        "\n",
        "f = open('a.txt','a')\n",
        "f.write('추가되는 문장 ')\n",
        "f.close"
      ],
      "metadata": {
        "colab": {
          "base_uri": "https://localhost:8080/"
        },
        "id": "-C3YPbEbOjSZ",
        "outputId": "4e886053-0907-48e4-9a2d-1791ee9b906e"
      },
      "execution_count": 27,
      "outputs": [
        {
          "output_type": "execute_result",
          "data": {
            "text/plain": [
              "<function TextIOWrapper.close()>"
            ]
          },
          "metadata": {},
          "execution_count": 27
        }
      ]
    },
    {
      "cell_type": "code",
      "source": [
        "f = open('a.txt','r')\n",
        "f.read()\n"
      ],
      "metadata": {
        "colab": {
          "base_uri": "https://localhost:8080/",
          "height": 35
        },
        "id": "0_YNP7ptOtrW",
        "outputId": "a5ebd711-52fa-42a7-bce7-cd3a3934076c"
      },
      "execution_count": 28,
      "outputs": [
        {
          "output_type": "execute_result",
          "data": {
            "text/plain": [
              "'안녕하세요'"
            ],
            "application/vnd.google.colaboratory.intrinsic+json": {
              "type": "string"
            }
          },
          "metadata": {},
          "execution_count": 28
        }
      ]
    },
    {
      "cell_type": "code",
      "source": [
        "# with문으로 파일출력 (close 불필요)\n",
        "\n",
        "with open(파일 이름, 파일 열기모드 )as f:\n",
        "    f수행 명령\n",
        "\n"
      ],
      "metadata": {
        "id": "qLzvOfB4Ovys"
      },
      "execution_count": null,
      "outputs": []
    },
    {
      "cell_type": "code",
      "source": [
        "with open('test.txt','w') as f :\n",
        "    f.write('테스트 중입니다.')"
      ],
      "metadata": {
        "id": "dw5-RyjmPFvh"
      },
      "execution_count": 29,
      "outputs": []
    },
    {
      "cell_type": "code",
      "source": [
        "with open('test.txt','a') as f :\n",
        "    f.write('추가.')"
      ],
      "metadata": {
        "id": "o-Y4FPcpPe1b"
      },
      "execution_count": 32,
      "outputs": []
    },
    {
      "cell_type": "code",
      "source": [
        "#한글 파일 인코딩 오류\n",
        "\n",
        "import codecs\n",
        "f = codecs.open('한글파일.txt','r','utf-8')\n",
        "f.read()"
      ],
      "metadata": {
        "id": "dBXcq0--PNDH"
      },
      "execution_count": null,
      "outputs": []
    },
    {
      "cell_type": "markdown",
      "source": [
        "## 2) 문자열 복습/처리 "
      ],
      "metadata": {
        "id": "6ZiDeFcqP9kR"
      }
    },
    {
      "cell_type": "code",
      "source": [
        "# 문자열 연결 \n",
        "# 구분문자.join([문자열1, 문자열2, 문자열3])\n",
        "\n",
        "text_list = ['Hello','World','Python']\n",
        "test1 = ''.join(text_list)\n",
        "print(test1)\n",
        "\n",
        "test1 = ','.join(text_list)\n",
        "print(test1)\n",
        "\n",
        "test1 = '-'.join(text_list)\n",
        "print(test1)"
      ],
      "metadata": {
        "colab": {
          "base_uri": "https://localhost:8080/"
        },
        "id": "k91bVVBbP_TD",
        "outputId": "f1cb9b5d-b26d-4e11-ffd1-fc5ff6f39730"
      },
      "execution_count": 34,
      "outputs": [
        {
          "output_type": "stream",
          "name": "stdout",
          "text": [
            "HelloWorldPython\n",
            "Hello,World,Python\n",
            "Hello-World-Python\n"
          ]
        }
      ]
    },
    {
      "cell_type": "markdown",
      "source": [
        "### f-string"
      ],
      "metadata": {
        "id": "PzJnKIufQ4jD"
      }
    },
    {
      "cell_type": "code",
      "source": [
        "a = 10\n",
        "b = '홍길동'\n",
        "print(f'제이름은{b}이고 나이는 {a}입니다.')"
      ],
      "metadata": {
        "colab": {
          "base_uri": "https://localhost:8080/"
        },
        "id": "kk6IykB0QY5M",
        "outputId": "e74b2314-2da8-4c0f-af47-8a083d16a07b"
      },
      "execution_count": 35,
      "outputs": [
        {
          "output_type": "stream",
          "name": "stdout",
          "text": [
            "제이름은홍길동이고 나이는 10입니다.\n"
          ]
        }
      ]
    },
    {
      "cell_type": "code",
      "source": [
        "age = 10\n",
        "name = '홍길동'\n",
        "test = f'제이름은{b}이고 나이는 {a}입니다.'\n",
        "print(test)"
      ],
      "metadata": {
        "colab": {
          "base_uri": "https://localhost:8080/"
        },
        "id": "8oFAhilARJT4",
        "outputId": "777f1c6a-32dc-4741-b391-edb34b37f366"
      },
      "execution_count": 36,
      "outputs": [
        {
          "output_type": "stream",
          "name": "stdout",
          "text": [
            "제이름은홍길동이고 나이는 10입니다.\n"
          ]
        }
      ]
    },
    {
      "cell_type": "code",
      "source": [
        "### 문자열 치환 \n",
        "# replace\n",
        "\n",
        "text1 = 'Simple is Best'\n",
        "text2 = text1.replace(' ','')\n",
        "\n",
        "print(text1)\n",
        "print(text2)\n"
      ],
      "metadata": {
        "colab": {
          "base_uri": "https://localhost:8080/"
        },
        "id": "sRc68EQjRVXj",
        "outputId": "71c3414e-0580-44b6-85eb-bf770b840099"
      },
      "execution_count": 40,
      "outputs": [
        {
          "output_type": "stream",
          "name": "stdout",
          "text": [
            "Simple is Best\n",
            "SimpleisBest\n"
          ]
        }
      ]
    },
    {
      "cell_type": "code",
      "source": [
        "# 최초문자에만 적용\n",
        "\n",
        "text1 = 'Simple is Best'\n",
        "text2 = text1.replace(' ','_',1)\n",
        "\n",
        "print(text1)\n",
        "print(text2)"
      ],
      "metadata": {
        "colab": {
          "base_uri": "https://localhost:8080/"
        },
        "id": "Gzro1S97RYRM",
        "outputId": "cc7ed0cf-6e16-4b92-ef6a-d30ed240a10b"
      },
      "execution_count": 42,
      "outputs": [
        {
          "output_type": "stream",
          "name": "stdout",
          "text": [
            "Simple is Best\n",
            "Simple_is Best\n"
          ]
        }
      ]
    },
    {
      "cell_type": "markdown",
      "source": [
        "### 문자열 포함 여부 확인 \n"
      ],
      "metadata": {
        "id": "GC8spGw6SJhy"
      }
    },
    {
      "cell_type": "code",
      "source": [
        "#특정 요소 포함 판단\n",
        "#in\n",
        "\n",
        "text = 'Simple is Best'\n",
        "contains = 'book' in text\n",
        "print(contains)\n",
        "\n",
        "contains_1  = 'is' in text\n",
        "print(contains_1)"
      ],
      "metadata": {
        "colab": {
          "base_uri": "https://localhost:8080/"
        },
        "id": "h0GMj5pBSNP0",
        "outputId": "eabecfcc-ec86-4fd1-a266-525ecdf79a2e"
      },
      "execution_count": 45,
      "outputs": [
        {
          "output_type": "stream",
          "name": "stdout",
          "text": [
            "False\n",
            "True\n"
          ]
        }
      ]
    },
    {
      "cell_type": "code",
      "source": [
        "# 공백도 문자열 인식\n",
        "\n",
        "text = 'Simple is Best'\n",
        "contains = ' ' in text\n",
        "print(contains)\n"
      ],
      "metadata": {
        "colab": {
          "base_uri": "https://localhost:8080/"
        },
        "id": "pBt4_pOEXR_S",
        "outputId": "2c6bbf2f-f333-45c6-c73e-2aa4abaa48d5"
      },
      "execution_count": 49,
      "outputs": [
        {
          "output_type": "stream",
          "name": "stdout",
          "text": [
            "True\n"
          ]
        }
      ]
    },
    {
      "cell_type": "code",
      "source": [
        "# 영문 대소문자 \n",
        "text = 'Simple is Best'\n",
        "contains = 'SIMPLE'.lower() in text.lower()\n",
        "print(contains)"
      ],
      "metadata": {
        "colab": {
          "base_uri": "https://localhost:8080/"
        },
        "id": "4sVRxPAOXZfj",
        "outputId": "c3b0b86b-df9e-4c08-9e6d-22d54f634d4e"
      },
      "execution_count": 51,
      "outputs": [
        {
          "output_type": "stream",
          "name": "stdout",
          "text": [
            "True\n"
          ]
        }
      ]
    },
    {
      "cell_type": "markdown",
      "source": [
        "### 문자열 일부 추출"
      ],
      "metadata": {
        "id": "M_DrABTHYG75"
      }
    },
    {
      "cell_type": "code",
      "source": [
        "#인덱싱\n",
        "#[]\n",
        "\n",
        "text = 'abcdefg'\n",
        "\n",
        "x= text[0]\n",
        "x2 = text[3]\n",
        "x3 = text[-1]\n",
        "\n",
        "print(x,x2,x3)"
      ],
      "metadata": {
        "colab": {
          "base_uri": "https://localhost:8080/"
        },
        "id": "eunvcqkmYI6n",
        "outputId": "8c0d04bf-74e1-4601-8c6c-c42ea65d9dfd"
      },
      "execution_count": 52,
      "outputs": [
        {
          "output_type": "stream",
          "name": "stdout",
          "text": [
            "a d g\n"
          ]
        }
      ]
    },
    {
      "cell_type": "code",
      "source": [
        "#슬라이싱\n",
        "#[::]\n",
        "\n",
        "x4 = text[3:6]\n",
        "print(x4)"
      ],
      "metadata": {
        "colab": {
          "base_uri": "https://localhost:8080/"
        },
        "id": "KrG8B6ceYPT2",
        "outputId": "54d4ad1b-27ac-430b-d9ab-2e9a7ba972c3"
      },
      "execution_count": 54,
      "outputs": [
        {
          "output_type": "stream",
          "name": "stdout",
          "text": [
            "def\n"
          ]
        }
      ]
    },
    {
      "cell_type": "markdown",
      "source": [
        "### 문자열 공백처리"
      ],
      "metadata": {
        "id": "PI35Ji2WYcF7"
      }
    },
    {
      "cell_type": "code",
      "source": [
        "# 공백\n",
        "# strip\n",
        "\n",
        "text = ' abcdefd '\n",
        "stripped =text.strip()\n",
        "print(\"$\"+text+'#')\n",
        "print(\"$\"+stripped+'#')"
      ],
      "metadata": {
        "colab": {
          "base_uri": "https://localhost:8080/"
        },
        "id": "NqymoJzjYbHX",
        "outputId": "145f17f3-4841-4e8a-956e-c9c1a61b90f9"
      },
      "execution_count": 58,
      "outputs": [
        {
          "output_type": "stream",
          "name": "stdout",
          "text": [
            "$ abcdefd #\n",
            "$abcdefd#\n"
          ]
        }
      ]
    },
    {
      "cell_type": "code",
      "source": [
        "# 좌우 공백제거\n",
        "# rstrip, lstrip\n",
        "\n",
        "r_strip = text.rstrip()\n",
        "print(r_strip)\n",
        "\n",
        "l_strip = text.lstrip()\n",
        "print(l_strip)"
      ],
      "metadata": {
        "colab": {
          "base_uri": "https://localhost:8080/"
        },
        "id": "Jv2UqoT5Yu36",
        "outputId": "c1c99f71-a5c0-4713-9245-8c4636f34946"
      },
      "execution_count": 60,
      "outputs": [
        {
          "output_type": "stream",
          "name": "stdout",
          "text": [
            " abcdefd\n",
            "abcdefd \n"
          ]
        }
      ]
    },
    {
      "cell_type": "markdown",
      "source": [
        "### 대소문자 구분 "
      ],
      "metadata": {
        "id": "N6EBPd76sZu-"
      }
    },
    {
      "cell_type": "code",
      "source": [
        "# 대문자 변환\n",
        "# upeer\n",
        "\n",
        "text = 'abdEDfghr'\n",
        "upper_text = text.upper()\n",
        "print(upper_text)"
      ],
      "metadata": {
        "colab": {
          "base_uri": "https://localhost:8080/"
        },
        "id": "6LkqQDkPsbHR",
        "outputId": "10b20843-d688-4919-9ebf-236ac679aa4e"
      },
      "execution_count": 217,
      "outputs": [
        {
          "output_type": "stream",
          "name": "stdout",
          "text": [
            "ABDEDFGHR\n"
          ]
        }
      ]
    },
    {
      "cell_type": "code",
      "source": [
        "# 소문자 변환\n",
        "# lower\n",
        "\n",
        "text = 'abdEDfghr'\n",
        "lower_text = text.lower()\n",
        "print(lower_text)"
      ],
      "metadata": {
        "colab": {
          "base_uri": "https://localhost:8080/"
        },
        "id": "38tWU8BaspMN",
        "outputId": "f499655b-3589-4343-9a58-1625cc4ef342"
      },
      "execution_count": 218,
      "outputs": [
        {
          "output_type": "stream",
          "name": "stdout",
          "text": [
            "abdedfghr\n"
          ]
        }
      ]
    },
    {
      "cell_type": "markdown",
      "source": [
        "### 문자열 구분자로 분리"
      ],
      "metadata": {
        "id": "3p8dk3KxZMPS"
      }
    },
    {
      "cell_type": "code",
      "source": [
        "# 문장 구분\n",
        "# split\n",
        "\n",
        "text = \"Time is Zero. Simple is Best\"\n",
        "l = text.split(\" \")\n",
        "l"
      ],
      "metadata": {
        "colab": {
          "base_uri": "https://localhost:8080/"
        },
        "id": "TideoEf0ZOAF",
        "outputId": "cae7cfa7-cbd2-42ab-ccc0-52302969572d"
      },
      "execution_count": 62,
      "outputs": [
        {
          "output_type": "execute_result",
          "data": {
            "text/plain": [
              "['Time', 'is', 'Zero.', 'Simple', 'is', 'Best']"
            ]
          },
          "metadata": {},
          "execution_count": 62
        }
      ]
    },
    {
      "cell_type": "code",
      "source": [
        "text = \"Time, is ,Zero. Simple ,is Best\"\n",
        "l = text.split(\",\")\n",
        "l"
      ],
      "metadata": {
        "colab": {
          "base_uri": "https://localhost:8080/"
        },
        "id": "ybvx45EQZW5G",
        "outputId": "fd09fbc8-1f98-419c-e7c2-5938b780a192"
      },
      "execution_count": 64,
      "outputs": [
        {
          "output_type": "execute_result",
          "data": {
            "text/plain": [
              "['Time', ' is ', 'Zero. Simple ', 'is Best']"
            ]
          },
          "metadata": {},
          "execution_count": 64
        }
      ]
    },
    {
      "cell_type": "markdown",
      "source": [
        "### 문자열 0으로 채우기"
      ],
      "metadata": {
        "id": "2NLQpiscZgvb"
      }
    },
    {
      "cell_type": "code",
      "source": [
        "# 0 채우기\n",
        "# zfill\n",
        "\n",
        "\n",
        "#CSV 데이터 읽어들일때 : 문자 -> 숫자 -> 문자 받을때 문제점\n",
        "#'000000089' -> 89 -> '0000000089'\n",
        "\n",
        "\n",
        "num = 92\n",
        "num_str = '92'\n",
        "zfilled = num_str.zfill(8)\n",
        "print(zfilled, type(zfilled))"
      ],
      "metadata": {
        "colab": {
          "base_uri": "https://localhost:8080/"
        },
        "id": "4dJLO-wFZexP",
        "outputId": "9e80044f-dd73-4a3a-e96c-fce194c6270f"
      },
      "execution_count": 68,
      "outputs": [
        {
          "output_type": "stream",
          "name": "stdout",
          "text": [
            "00000092 <class 'str'>\n"
          ]
        }
      ]
    },
    {
      "cell_type": "markdown",
      "source": [
        "### 특정 문자열 포함 행 추출\n",
        "\n",
        "문자열의 split과 리스트 컴프리핸션을 사용하면 특정 문자열을 포함하는 행만 추출 가능\n",
        "\n",
        "1. split을 사용하여 텍스트를 줄바꿈, 1행씩 리스트로 얻을 수 있음\n",
        "2. 리스트 컴프리핸션을 사용하여 특정 문자열을 포함하는 행 추출\n",
        "3. 원래 텍스트로부터 특정한 문자열을 포함하는 행만 추출한 텍스트를 만들 수 있다."
      ],
      "metadata": {
        "id": "kq0GjXn-cu7T"
      }
    },
    {
      "cell_type": "code",
      "source": [
        "#추출\n",
        "#split\n",
        "\n",
        "text = \"\"\"저는 김철수 입니다.\n",
        "        반갑습니다. 저는 데이터 분석가 입니다.\n",
        "        데이터로 일하는 것은 즐거운 일인데\n",
        "        더 열심히 배우겟습니다. 감사합니다. \"\"\"\n",
        "\n",
        "# 한줄씩 리스트로 생성\n",
        "lines = text.split(\"\\n\")\n",
        "\n",
        "# 라인에서 데이터가 있는 라인만 가져오기\n",
        "line_list = [line for line in lines if \"데이터\" in line]\n",
        "\n",
        "# 문자열 리스트로 연결하기\n",
        "# enter로 연결하여 출력\n",
        "new_text = \"\\n\".join(line_list)\n",
        "print(new_text)\n"
      ],
      "metadata": {
        "colab": {
          "base_uri": "https://localhost:8080/"
        },
        "id": "xZwWFGuaa2xT",
        "outputId": "5ba0d5dc-b1a3-4df8-8d41-de03f55cf53e"
      },
      "execution_count": 219,
      "outputs": [
        {
          "output_type": "stream",
          "name": "stdout",
          "text": [
            "        반갑습니다. 저는 데이터 분석가 입니다.\n",
            "        데이터로 일하는 것은 즐거운 일인데\n"
          ]
        }
      ]
    },
    {
      "cell_type": "code",
      "source": [
        "# 한줄씩 리스트로 생성\n",
        "line_list = [line for line in lines if \"데이터\" in line]\n",
        "line_list"
      ],
      "metadata": {
        "colab": {
          "base_uri": "https://localhost:8080/"
        },
        "id": "cXGKT-44uKu8",
        "outputId": "03b34236-fb18-43b5-f7b6-57f3bf984a9d"
      },
      "execution_count": 221,
      "outputs": [
        {
          "output_type": "execute_result",
          "data": {
            "text/plain": [
              "['        반갑습니다. 저는 데이터 분석가 입니다.', '        데이터로 일하는 것은 즐거운 일인데']"
            ]
          },
          "metadata": {},
          "execution_count": 221
        }
      ]
    },
    {
      "cell_type": "markdown",
      "source": [
        "### 텍스트 빈 행 삭제"
      ],
      "metadata": {
        "id": "r89QwxMzeE-m"
      }
    },
    {
      "cell_type": "code",
      "source": [
        "# 문자열 및 공백 제거\n",
        "# strip \n",
        "\n",
        "text = \"\"\"저는 김철수 입니다.\n",
        "\n",
        "        반갑습니다. 저는 데이터 분석가 입니다.\n",
        "\n",
        "        데이터로 일하는 것은 즐거운 일인데\n",
        "        \n",
        "        더 열심히 배우겟습니다. 감사합니다. \"\"\"\n",
        "\n",
        "\n",
        "linew = text.split(\"\\n\")\n",
        "\n",
        "line_list = [line for line in lines if line.strip() != \"\"]\n",
        "print(line_list)\n",
        "\n",
        "print(\"===========\")\n",
        "new_text= '\\n'.join(line_list)\n",
        "print(new_text)\n",
        "\n",
        "print(\"===========\")\n",
        "line_list = [line.strip() for line in lines if line.strip()!=\"\"]\n",
        "new_text2= '\\n'.join(line_list)\n",
        "print(new_text2)"
      ],
      "metadata": {
        "colab": {
          "base_uri": "https://localhost:8080/"
        },
        "id": "bbk7PApoeHgv",
        "outputId": "7b486d43-e90a-4d69-a8d3-1ccaa2d0e446"
      },
      "execution_count": 222,
      "outputs": [
        {
          "output_type": "stream",
          "name": "stdout",
          "text": [
            "['저는 김철수 입니다.', '        반갑습니다. 저는 데이터 분석가 입니다.', '        데이터로 일하는 것은 즐거운 일인데', '        더 열심히 배우겟습니다. 감사합니다. ']\n",
            "===========\n",
            "저는 김철수 입니다.\n",
            "        반갑습니다. 저는 데이터 분석가 입니다.\n",
            "        데이터로 일하는 것은 즐거운 일인데\n",
            "        더 열심히 배우겟습니다. 감사합니다. \n",
            "===========\n",
            "저는 김철수 입니다.\n",
            "반갑습니다. 저는 데이터 분석가 입니다.\n",
            "데이터로 일하는 것은 즐거운 일인데\n",
            "더 열심히 배우겟습니다. 감사합니다.\n"
          ]
        }
      ]
    },
    {
      "cell_type": "markdown",
      "source": [
        "### 랜덤 문자열"
      ],
      "metadata": {
        "id": "Q6xkxYEWvFF8"
      }
    },
    {
      "cell_type": "code",
      "source": [
        "import random\n",
        "\n",
        "letters = 'abcdefg'\n",
        "rl = random.choices(letters,k=4)\n",
        "print(rl)"
      ],
      "metadata": {
        "colab": {
          "base_uri": "https://localhost:8080/"
        },
        "id": "59VAa0qtvHzO",
        "outputId": "2fd97a14-fe67-4d13-d3fe-a75da3ec4179"
      },
      "execution_count": 223,
      "outputs": [
        {
          "output_type": "stream",
          "name": "stdout",
          "text": [
            "['e', 'g', 'b', 'a']\n"
          ]
        }
      ]
    },
    {
      "cell_type": "markdown",
      "source": [
        "# 정규표현식"
      ],
      "metadata": {
        "id": "Za3NM4RslxQT"
      }
    },
    {
      "cell_type": "code",
      "source": [
        "import re\n",
        "\n",
        "# 정규표현식 함수\n",
        "findall : 일치하는 문자열을 리스트로 반환\n",
        "split : 일치하는 문자열로 원재 문자열을 분할한 리스트로 반환\n",
        "sub : 일치하는 문자열을 치환한 문자열로  반환\n",
        "search : 일치하는 문자열이 있으면 Match 객체를 반환\n",
        "\n",
        "# 정규표현식\n",
        "# Chapter1\n",
        ". 줄바꿈 이외의 임의의 문자\n",
        "... 줄바꿈 이외의 임의의 3문자 \n",
        "^ 문자열의 시작\n",
        "^... 문자열 시작에서 3문자 \n",
        "$ 문자열의 끝\n",
        "...$ 문자열 끝에서 3문자 \n",
        "* 직전 정규표현식을 0회이상 반복\n",
        "ab*c abc또는 ac에 일치\n",
        "+ 직전 정규표현식을 1회이상 반복\n",
        "ab+c abc에 일치\n",
        "? 직전 정규표현식이 0~1회 존재\n",
        "abcd? abc또는 abcd에 일치\n",
        "| 둘중 하나\n",
        "ab|cd ab또는 cd에 일치\n",
        "\n",
        "# Chapter2\n",
        "(...) 소괄호 안을 그루핑\n",
        "\n",
        "[...] 대괄호 안의 문자 중 하나\n",
        "[^...] 대괄호 안의 문자 중 하나도 없음\n",
        "\n",
        "x(ab|cd) x로 시작해 ab또는 cd에 일치 (ab|cd 그룹)\n",
        "\n",
        "\\ 직후 정규표션식 기호 무시\n",
        "\\ 에 일치\n",
        "\n",
        "{n} 직전 정규표현식의 반복 횟수\n",
        "{n,} 직전 정규표현식의 최소 반복 횟수\n",
        "{n,m} 직전 정규표현식의 반복 횟수 범위\n",
        "\n",
        "A{3} A가 3회 반복되면 일치\n",
        "A{3, }A가 3회 이상 반복되면 일치\n",
        "A{3, 6}A가 3~6회 이상 반복되면 일치"
      ],
      "metadata": {
        "id": "VGO0w_xalzvC"
      },
      "execution_count": null,
      "outputs": []
    },
    {
      "cell_type": "markdown",
      "source": [
        "## findall 함수\n",
        "\n",
        "* re.함수(r)   -> raw 문자열\n",
        "* 이스케이프가 필요시 문자 무시\n"
      ],
      "metadata": {
        "id": "Lrm0QsePoSck"
      }
    },
    {
      "cell_type": "code",
      "source": [
        "# 지정 조건에 일치하는 문자열 리스트반환\n",
        "# findall\n",
        "\n",
        "import re\n",
        "\n",
        "text = \"In the face of ambiguity, refuse the temptation to guess t1\"\n",
        "match_list = re.findall(r\"t.\",text)\n",
        "\n",
        "match_list"
      ],
      "metadata": {
        "colab": {
          "base_uri": "https://localhost:8080/"
        },
        "id": "DyqBYFpPoSBz",
        "outputId": "7c437bae-fd4b-4e9f-d7e0-70e6bbc90d7a"
      },
      "execution_count": 86,
      "outputs": [
        {
          "output_type": "execute_result",
          "data": {
            "text/plain": [
              "['th', 'ty', 'th', 'te', 'ta', 'ti', 'to', 't1']"
            ]
          },
          "metadata": {},
          "execution_count": 86
        }
      ]
    },
    {
      "cell_type": "code",
      "source": [
        "text2 = \"tx ti tp te t1 t2 t# t- t~\"\n",
        "match_list = re.findall(r\"t.\", text2)\n",
        "print(match_list)"
      ],
      "metadata": {
        "colab": {
          "base_uri": "https://localhost:8080/"
        },
        "id": "WMPxh2ujvWTt",
        "outputId": "e698f734-1afa-4d15-c90d-e0f1ba364c35"
      },
      "execution_count": 224,
      "outputs": [
        {
          "output_type": "stream",
          "name": "stdout",
          "text": [
            "['tx', 'ti', 'tp', 'te', 't1', 't2', 't#', 't-', 't~']\n"
          ]
        }
      ]
    },
    {
      "cell_type": "markdown",
      "source": [
        "## Sub 함수\n",
        "\n",
        "* 정규표현식 치환\n",
        "* 공백은 \\s 로도 쓰임"
      ],
      "metadata": {
        "id": "KB3PcyGhpDWh"
      }
    },
    {
      "cell_type": "code",
      "source": [
        "#sub(대체 해야할 문자 / 대체 할 문자 / 데이터)\n",
        "\n",
        "text = \"Beautiful is better than ugly\"\n",
        "\n",
        "replace = re.sub(r\" \",\"_\",text)\n",
        "print(replace)\n",
        "\n",
        "replace2 = re.sub(r\"\\s\",\"+\",text)\n",
        "print(replace2)\n",
        "\n",
        "replaced = re.sub(r\" a-zA-Z\", \"_\", text)\n",
        "print(replaced)"
      ],
      "metadata": {
        "colab": {
          "base_uri": "https://localhost:8080/"
        },
        "id": "QJ1eqQQEpHU1",
        "outputId": "e346890e-3f1e-471e-ce22-a0de6d55a1cb"
      },
      "execution_count": 228,
      "outputs": [
        {
          "output_type": "stream",
          "name": "stdout",
          "text": [
            "Beautiful_is_better_than_ugly\n",
            "Beautiful+is+better+than+ugly\n",
            "Beautiful is better than ugly\n"
          ]
        }
      ]
    },
    {
      "cell_type": "markdown",
      "source": [
        "## 텍스트 분할 하기"
      ],
      "metadata": {
        "id": "rLLHtGw0qu8N"
      }
    },
    {
      "cell_type": "code",
      "source": [
        "# 정규표현식 분할\n",
        "# split\n",
        "\n",
        "text = 'Simple is Best'\n",
        "\n",
        "# ^ : 문자의 시작\n",
        "# + : 직전 정규표현식을 1회이상 반복 \n",
        "# a-zA-Z : 대소문자\n",
        "# a-zA-Z0-9 : 알파벳 대소문자와 숫자가 아닌 문자들이 하나 이상 연속해서 나타나는 경우 \n",
        "\n",
        "replace = re.split((r\"[^a-zA-Z0-9]+\"),text)\n",
        "replace"
      ],
      "metadata": {
        "colab": {
          "base_uri": "https://localhost:8080/"
        },
        "id": "2mkQBGFxqYoa",
        "outputId": "05223819-0b1c-4b9f-d600-0872ada65403"
      },
      "execution_count": 96,
      "outputs": [
        {
          "output_type": "execute_result",
          "data": {
            "text/plain": [
              "['Simple', 'is', 'Best']"
            ]
          },
          "metadata": {},
          "execution_count": 96
        }
      ]
    },
    {
      "cell_type": "markdown",
      "source": [
        "## 정규표현식 그룹 "
      ],
      "metadata": {
        "id": "N7Oo8aI9sFhD"
      }
    },
    {
      "cell_type": "code",
      "source": [
        "# 원하는 객체를 그루핑\n",
        "\n",
        "# 제품 : [0-9]+                 => 숫자 1회이상\n",
        "# 카탈로그 코드 [0-9A-Z]        => 숫자+문자 1회이상\n",
        "# 제품명 : .*                   => \n",
        "# 구분문자 공백\n",
        "\n",
        "#홈쇼핑\n",
        "text =\"\"\"\n",
        "100 CF001 커피\n",
        "102 CF002 커피(대용량)\n",
        "201 TE001 홍차\n",
        "\"\"\"\n",
        "\n",
        "items = re.findall(r'([0-9]+)+([0-9A-Z]+)+(.*)',text)\n",
        "print(items)"
      ],
      "metadata": {
        "colab": {
          "base_uri": "https://localhost:8080/"
        },
        "id": "6lMNhXwzsG71",
        "outputId": "3e26ab29-1585-49e8-e01d-95bcf3dc18c5"
      },
      "execution_count": 104,
      "outputs": [
        {
          "output_type": "stream",
          "name": "stdout",
          "text": [
            "[('10', '0', ' CF001 커피'), ('10', '2', ' CF002 커피(대용량)'), ('20', '1', ' TE001 홍차')]\n"
          ]
        }
      ]
    },
    {
      "cell_type": "markdown",
      "source": [
        "##정규표현식 사용 \n",
        "https://evan-moon.github.io/2020/08/15/regex-example/"
      ],
      "metadata": {
        "id": "O7pbhjAM_-Fb"
      }
    },
    {
      "cell_type": "markdown",
      "source": [
        "## 정규표현식 일치하는 부분 확인"
      ],
      "metadata": {
        "id": "ZeIXW4TACMFc"
      }
    },
    {
      "cell_type": "code",
      "source": [
        "# 정규표현식과 일치하는 부분 확인\n",
        "\n",
        "# re 모듈의 serach함수는 정규표현식과 일치하는 첫 번째 위치 정보가 저장된 Match 객체를 반환\n",
        "# Match 객체를 사용하면 일치하는 위치의 문자열과 함께 시작 및 종료 위치 정보 확보 가능\n",
        "\n",
        "# match객체\n",
        "# start , end , group, groups 튜플 그룹\n",
        "\n",
        "import re\n",
        "\n",
        "text = 'Error should never pass silently'\n",
        "\n",
        "m_obj = re.search(r\"p...\", text)\n",
        "\n",
        "print(m_obj.group()) # 일치 문자열 ()로 묶인 것인 없음\n",
        "print(m_obj.start()) # 시작 인덱스\n",
        "print(m_obj.end()) # 끝 인덱스"
      ],
      "metadata": {
        "colab": {
          "base_uri": "https://localhost:8080/"
        },
        "id": "XH2Q8RFGCQRO",
        "outputId": "a0a61d11-77f7-4f66-8303-0d42423e54f7"
      },
      "execution_count": 113,
      "outputs": [
        {
          "output_type": "stream",
          "name": "stdout",
          "text": [
            "pass\n",
            "19\n",
            "23\n"
          ]
        }
      ]
    },
    {
      "cell_type": "code",
      "source": [
        "# n.... : n 다음 4글자 아무거나\n",
        "# p...  : p 다음 3글자 아무거나\n",
        "\n",
        "text = 'Errors should never pass silently'\n",
        "\n",
        "m_obj = re.search(r\"(n....) (p...)\",text)\n",
        "\n",
        "print(m_obj.group())\n",
        "print(m_obj.groups())"
      ],
      "metadata": {
        "colab": {
          "base_uri": "https://localhost:8080/"
        },
        "id": "vJRQmKBACvS4",
        "outputId": "c0c0fad4-9524-4bd4-89f1-fd10f5497818"
      },
      "execution_count": 120,
      "outputs": [
        {
          "output_type": "stream",
          "name": "stdout",
          "text": [
            "never pass\n",
            "('never', 'pass')\n"
          ]
        }
      ]
    },
    {
      "cell_type": "markdown",
      "source": [
        "## Greedy, Lazy 개념\n",
        "\n"
      ],
      "metadata": {
        "id": "9F_VxMaVDbla"
      }
    },
    {
      "cell_type": "code",
      "source": [
        "# Greedy, Lazy 사용하기\n",
        "# 정규표현식이 패턴에 일치하는 문자열을 추출할때\n",
        "# 일치하는 최대한의 범위를 추출하는 상태를 greedy(탐욕)이라고 한다.\n",
        "\n",
        "# 최소한은 Lazy라고 하는데 파이썬은 기본적으로 greedy\n",
        "\n",
        "\n",
        "import re\n",
        "\n",
        "text = 'In the face of ambiguity, refuse the temptation to guess'\n",
        "match_list = re.findall(r\"t.*\\s\", text)  # t에서 아무문자 ~ 직전까지 0번 반복되어 공백까지\n",
        "print(match_list)"
      ],
      "metadata": {
        "colab": {
          "base_uri": "https://localhost:8080/"
        },
        "id": "C1__PgegDedC",
        "outputId": "ca43e3f1-9481-4c99-aa42-2b6368fdd735"
      },
      "execution_count": 121,
      "outputs": [
        {
          "output_type": "stream",
          "name": "stdout",
          "text": [
            "['the face of ambiguity, refuse the temptation to ']\n"
          ]
        }
      ]
    },
    {
      "cell_type": "code",
      "source": [
        "# ?를 붙이는 순간 Lazy해진다. \n",
        "\n",
        "match_list = re.findall(r\"t.*?\\s\", text)\n",
        "print(match_list)"
      ],
      "metadata": {
        "colab": {
          "base_uri": "https://localhost:8080/"
        },
        "id": "ZjKfRGhiEYTO",
        "outputId": "7843d407-80d4-4d62-a31c-90c7e1842c2e"
      },
      "execution_count": 123,
      "outputs": [
        {
          "output_type": "stream",
          "name": "stdout",
          "text": [
            "['the ', 'ty, ', 'the ', 'temptation ', 'to ']\n"
          ]
        }
      ]
    },
    {
      "cell_type": "markdown",
      "source": [
        "# 정규표현식 실습\n",
        "\n",
        "[우리가 자주 사용할 함수]\n",
        "\n",
        "* findall - 일치하는 문자열을 리스트로 반환\n",
        "* split - 일치하는 문자열로 원래 문자열을 분할한 리스트로 반환\n",
        "* sub - 일치하는 문자열을 치환한 문자열을 반환\n",
        "* search - 일치하는 문자열이 있으면 match 객체를 반환\n",
        "\n",
        "[대표적인 정규표현식]\n",
        "\n",
        "* . 줄바꿈 이외의 임의의 문자\n",
        "* ^ 문자열 시작\n",
        "* $ 문자열의 끝, 또는 문자열 끝 줄바꿈 직전\n",
        "* `* 직전 정규표현식은 0회 이상 반복\n",
        "* `+ 직전 정규표현식을 1회 이상 반복\n",
        "* ? 직전 정규표현식이 0회 또는 1회 존재\n",
        "\n",
        "[자주 사용하는 문자 클래스]\n",
        "# 꼭 기억해야할 정규표현식\n",
        "* \\d 숫자와 매치 [0-9]와 같다.\n",
        "* \\D 숫자가 아닌것과 매치 [^0-9]와 같다.\n",
        "\n",
        "* \\s whitespace문자와 매치 [ \\t\\n\\r\\f\\v]와 같음. 맨앞의 빈칸은 공백을 의미\n",
        "* \\S whitespace문자가 아닌것과 매치 [^ \\t\\n\\r\\f\\v]와 같음.\n",
        "\n",
        "* \\w 문자+숫자와 매치 [a-zA-Z0-9]와 같습니다.\n",
        "* \\W 문자+숫자가 아닌 문자와 매치 [^a-zA-Z0-9]와 같습니다.\n",
        "\n",
        "* \\ 메타 문자가 아닌 일반 문자 역슬래시와 매치. 매타 문자 앞에 W를 붙이면 일반문자를 위미\n"
      ],
      "metadata": {
        "id": "-H5jihF9IKRK"
      }
    },
    {
      "cell_type": "code",
      "source": [],
      "metadata": {
        "id": "TJNelGymIKFB"
      },
      "execution_count": null,
      "outputs": []
    },
    {
      "cell_type": "code",
      "source": [
        "# 주소록입니다. 이후 강의에서 모두 이 search_target을 사용합니다.\n",
        "\n",
        "search_target = '''\n",
        "hello world\n",
        "hello  world\n",
        "hello, world\n",
        "Hello World\n",
        "\n",
        "hello world hello\n",
        "\n",
        "hello\n",
        "hallo\n",
        "hollo\n",
        "heallo\n",
        "yellow\n",
        "\n",
        "Monday Tuesday Wednesday Thursday Friday Saturday Sunday\n",
        "\n",
        "abcdefghijklmnopqrstuvwxyzABCDEFGHIJKLMNOPQRSTUVWXYZ01234567891011121314151617181920\n",
        "aaabbcaaabbcabcabc\n",
        "aaa bb c aaa bb c a b c a b c\n",
        "aaa1bb2c3aaa4bb5c6\n",
        "\n",
        "[123456]\n",
        "123[456]789\n",
        "abc[def]ghij\n",
        "\n",
        "010-9091-5491\n",
        "010-5043-2901\n",
        "010-5050-40409\n",
        "010-49492-3131\n",
        "010 2913 3132\n",
        "01019133829\n",
        "064-721-3213\n",
        "010.1913.3829\n",
        "\n",
        "\n",
        "paul-korea@naver.com\n",
        "paul@naver.com\n",
        "leehojun@gmail.com\n",
        "hojun.lee@gmail.com\n",
        "test.test@go.go.go\n",
        "\n",
        "\n",
        "https://github.com/LiveCoronaDetector/livecod\n",
        "github.com/LiveCoronaDetector/livecod\n",
        "https://github.com/LiveCoronaDetector\n",
        "\n",
        "I never dreamed about success, I worked for it.\n",
        "Do not be afraid to give up the good to go for the great.\n",
        "\n",
        "hello (hello world) hello\n",
        "hello \\hello world// hello\n",
        "^^\n",
        "🙂\n",
        "\n",
        "[(name, leehojun), (age, 10), (height, 180), (email, paul-lab@naver.com)]\n",
        "{name : leehojun, age : 10, height : 180, email : paul-lab@naver.com}\n",
        "\n",
        "가나다라마바사아자차카타파하\n",
        "ㄱㄴㄷㄹㅁㅂㅅㅇㅈㅊㅋㅌㅍㅎ\n",
        "안녕하세요\n",
        "안녕-하세요\n",
        "수사\n",
        "수박\n",
        "수상\n",
        "동해 물과 백두산이 마르고 닳도록 하느님이 보호하사 우리나라 만세\n",
        "'''"
      ],
      "metadata": {
        "id": "tMo9sgcLH3XN"
      },
      "execution_count": 131,
      "outputs": []
    },
    {
      "cell_type": "code",
      "source": [
        "print(search_target)"
      ],
      "metadata": {
        "colab": {
          "base_uri": "https://localhost:8080/"
        },
        "id": "i_hBT_32H5Hy",
        "outputId": "5c99eb99-27da-4f66-e7d0-1c90121f5a69"
      },
      "execution_count": 132,
      "outputs": [
        {
          "output_type": "stream",
          "name": "stdout",
          "text": [
            "\n",
            "hello world\n",
            "hello  world\n",
            "hello, world\n",
            "Hello World\n",
            "\n",
            "hello world hello\n",
            "\n",
            "hello\n",
            "hallo\n",
            "hollo\n",
            "heallo\n",
            "yellow\n",
            "\n",
            "Monday Tuesday Wednesday Thursday Friday Saturday Sunday\n",
            "\n",
            "abcdefghijklmnopqrstuvwxyzABCDEFGHIJKLMNOPQRSTUVWXYZ01234567891011121314151617181920\n",
            "aaabbcaaabbcabcabc\n",
            "aaa bb c aaa bb c a b c a b c\n",
            "aaa1bb2c3aaa4bb5c6\n",
            "\n",
            "[123456]\n",
            "123[456]789\n",
            "abc[def]ghij\n",
            "\n",
            "010-9091-5491\n",
            "010-5043-2901\n",
            "010-5050-40409\n",
            "010-49492-3131\n",
            "010 2913 3132\n",
            "01019133829\n",
            "064-721-3213\n",
            "010.1913.3829\n",
            "\n",
            "\n",
            "paul-korea@naver.com\n",
            "paul@naver.com\n",
            "leehojun@gmail.com\n",
            "hojun.lee@gmail.com\n",
            "test.test@go.go.go\n",
            "\n",
            "\n",
            "https://github.com/LiveCoronaDetector/livecod\n",
            "github.com/LiveCoronaDetector/livecod\n",
            "https://github.com/LiveCoronaDetector\n",
            "\n",
            "I never dreamed about success, I worked for it.\n",
            "Do not be afraid to give up the good to go for the great.\n",
            "\n",
            "hello (hello world) hello\n",
            "hello \\hello world// hello\n",
            "^^\n",
            "🙂\n",
            "\n",
            "[(name, leehojun), (age, 10), (height, 180), (email, paul-lab@naver.com)]\n",
            "{name : leehojun, age : 10, height : 180, email : paul-lab@naver.com}\n",
            "\n",
            "가나다라마바사아자차카타파하\n",
            "ㄱㄴㄷㄹㅁㅂㅅㅇㅈㅊㅋㅌㅍㅎ\n",
            "안녕하세요\n",
            "안녕-하세요\n",
            "수사\n",
            "수박\n",
            "수상\n",
            "동해 물과 백두산이 마르고 닳도록 하느님이 보호하사 우리나라 만세\n",
            "\n"
          ]
        }
      ]
    },
    {
      "cell_type": "code",
      "source": [
        "# 숫자 정규표현식 \n",
        "# \\d\n",
        "regex = r'\\d'\n",
        "\n",
        "# 글자 / 숫자 대표 정규표현식\n",
        "# \\w\n",
        "regex = r'\\w'\n",
        "\n",
        "# 정규표현식과 일치하는 부분을 모두 찾아주는 파이썬 코드입니다.\n",
        "result = re.findall(regex, search_target)\n",
        "print(\"\\n\".join(result))"
      ],
      "metadata": {
        "colab": {
          "base_uri": "https://localhost:8080/"
        },
        "id": "fkY45BRtIMZh",
        "outputId": "cf67c268-9e34-4ccc-bd65-8e9505418eef"
      },
      "execution_count": 133,
      "outputs": [
        {
          "output_type": "stream",
          "name": "stdout",
          "text": [
            "h\n",
            "e\n",
            "l\n",
            "l\n",
            "o\n",
            "w\n",
            "o\n",
            "r\n",
            "l\n",
            "d\n",
            "h\n",
            "e\n",
            "l\n",
            "l\n",
            "o\n",
            "w\n",
            "o\n",
            "r\n",
            "l\n",
            "d\n",
            "h\n",
            "e\n",
            "l\n",
            "l\n",
            "o\n",
            "w\n",
            "o\n",
            "r\n",
            "l\n",
            "d\n",
            "H\n",
            "e\n",
            "l\n",
            "l\n",
            "o\n",
            "W\n",
            "o\n",
            "r\n",
            "l\n",
            "d\n",
            "h\n",
            "e\n",
            "l\n",
            "l\n",
            "o\n",
            "w\n",
            "o\n",
            "r\n",
            "l\n",
            "d\n",
            "h\n",
            "e\n",
            "l\n",
            "l\n",
            "o\n",
            "h\n",
            "e\n",
            "l\n",
            "l\n",
            "o\n",
            "h\n",
            "a\n",
            "l\n",
            "l\n",
            "o\n",
            "h\n",
            "o\n",
            "l\n",
            "l\n",
            "o\n",
            "h\n",
            "e\n",
            "a\n",
            "l\n",
            "l\n",
            "o\n",
            "y\n",
            "e\n",
            "l\n",
            "l\n",
            "o\n",
            "w\n",
            "M\n",
            "o\n",
            "n\n",
            "d\n",
            "a\n",
            "y\n",
            "T\n",
            "u\n",
            "e\n",
            "s\n",
            "d\n",
            "a\n",
            "y\n",
            "W\n",
            "e\n",
            "d\n",
            "n\n",
            "e\n",
            "s\n",
            "d\n",
            "a\n",
            "y\n",
            "T\n",
            "h\n",
            "u\n",
            "r\n",
            "s\n",
            "d\n",
            "a\n",
            "y\n",
            "F\n",
            "r\n",
            "i\n",
            "d\n",
            "a\n",
            "y\n",
            "S\n",
            "a\n",
            "t\n",
            "u\n",
            "r\n",
            "d\n",
            "a\n",
            "y\n",
            "S\n",
            "u\n",
            "n\n",
            "d\n",
            "a\n",
            "y\n",
            "a\n",
            "b\n",
            "c\n",
            "d\n",
            "e\n",
            "f\n",
            "g\n",
            "h\n",
            "i\n",
            "j\n",
            "k\n",
            "l\n",
            "m\n",
            "n\n",
            "o\n",
            "p\n",
            "q\n",
            "r\n",
            "s\n",
            "t\n",
            "u\n",
            "v\n",
            "w\n",
            "x\n",
            "y\n",
            "z\n",
            "A\n",
            "B\n",
            "C\n",
            "D\n",
            "E\n",
            "F\n",
            "G\n",
            "H\n",
            "I\n",
            "J\n",
            "K\n",
            "L\n",
            "M\n",
            "N\n",
            "O\n",
            "P\n",
            "Q\n",
            "R\n",
            "S\n",
            "T\n",
            "U\n",
            "V\n",
            "W\n",
            "X\n",
            "Y\n",
            "Z\n",
            "0\n",
            "1\n",
            "2\n",
            "3\n",
            "4\n",
            "5\n",
            "6\n",
            "7\n",
            "8\n",
            "9\n",
            "1\n",
            "0\n",
            "1\n",
            "1\n",
            "1\n",
            "2\n",
            "1\n",
            "3\n",
            "1\n",
            "4\n",
            "1\n",
            "5\n",
            "1\n",
            "6\n",
            "1\n",
            "7\n",
            "1\n",
            "8\n",
            "1\n",
            "9\n",
            "2\n",
            "0\n",
            "a\n",
            "a\n",
            "a\n",
            "b\n",
            "b\n",
            "c\n",
            "a\n",
            "a\n",
            "a\n",
            "b\n",
            "b\n",
            "c\n",
            "a\n",
            "b\n",
            "c\n",
            "a\n",
            "b\n",
            "c\n",
            "a\n",
            "a\n",
            "a\n",
            "b\n",
            "b\n",
            "c\n",
            "a\n",
            "a\n",
            "a\n",
            "b\n",
            "b\n",
            "c\n",
            "a\n",
            "b\n",
            "c\n",
            "a\n",
            "b\n",
            "c\n",
            "a\n",
            "a\n",
            "a\n",
            "1\n",
            "b\n",
            "b\n",
            "2\n",
            "c\n",
            "3\n",
            "a\n",
            "a\n",
            "a\n",
            "4\n",
            "b\n",
            "b\n",
            "5\n",
            "c\n",
            "6\n",
            "1\n",
            "2\n",
            "3\n",
            "4\n",
            "5\n",
            "6\n",
            "1\n",
            "2\n",
            "3\n",
            "4\n",
            "5\n",
            "6\n",
            "7\n",
            "8\n",
            "9\n",
            "a\n",
            "b\n",
            "c\n",
            "d\n",
            "e\n",
            "f\n",
            "g\n",
            "h\n",
            "i\n",
            "j\n",
            "0\n",
            "1\n",
            "0\n",
            "9\n",
            "0\n",
            "9\n",
            "1\n",
            "5\n",
            "4\n",
            "9\n",
            "1\n",
            "0\n",
            "1\n",
            "0\n",
            "5\n",
            "0\n",
            "4\n",
            "3\n",
            "2\n",
            "9\n",
            "0\n",
            "1\n",
            "0\n",
            "1\n",
            "0\n",
            "5\n",
            "0\n",
            "5\n",
            "0\n",
            "4\n",
            "0\n",
            "4\n",
            "0\n",
            "9\n",
            "0\n",
            "1\n",
            "0\n",
            "4\n",
            "9\n",
            "4\n",
            "9\n",
            "2\n",
            "3\n",
            "1\n",
            "3\n",
            "1\n",
            "0\n",
            "1\n",
            "0\n",
            "2\n",
            "9\n",
            "1\n",
            "3\n",
            "3\n",
            "1\n",
            "3\n",
            "2\n",
            "0\n",
            "1\n",
            "0\n",
            "1\n",
            "9\n",
            "1\n",
            "3\n",
            "3\n",
            "8\n",
            "2\n",
            "9\n",
            "0\n",
            "6\n",
            "4\n",
            "7\n",
            "2\n",
            "1\n",
            "3\n",
            "2\n",
            "1\n",
            "3\n",
            "0\n",
            "1\n",
            "0\n",
            "1\n",
            "9\n",
            "1\n",
            "3\n",
            "3\n",
            "8\n",
            "2\n",
            "9\n",
            "p\n",
            "a\n",
            "u\n",
            "l\n",
            "k\n",
            "o\n",
            "r\n",
            "e\n",
            "a\n",
            "n\n",
            "a\n",
            "v\n",
            "e\n",
            "r\n",
            "c\n",
            "o\n",
            "m\n",
            "p\n",
            "a\n",
            "u\n",
            "l\n",
            "n\n",
            "a\n",
            "v\n",
            "e\n",
            "r\n",
            "c\n",
            "o\n",
            "m\n",
            "l\n",
            "e\n",
            "e\n",
            "h\n",
            "o\n",
            "j\n",
            "u\n",
            "n\n",
            "g\n",
            "m\n",
            "a\n",
            "i\n",
            "l\n",
            "c\n",
            "o\n",
            "m\n",
            "h\n",
            "o\n",
            "j\n",
            "u\n",
            "n\n",
            "l\n",
            "e\n",
            "e\n",
            "g\n",
            "m\n",
            "a\n",
            "i\n",
            "l\n",
            "c\n",
            "o\n",
            "m\n",
            "t\n",
            "e\n",
            "s\n",
            "t\n",
            "t\n",
            "e\n",
            "s\n",
            "t\n",
            "g\n",
            "o\n",
            "g\n",
            "o\n",
            "g\n",
            "o\n",
            "h\n",
            "t\n",
            "t\n",
            "p\n",
            "s\n",
            "g\n",
            "i\n",
            "t\n",
            "h\n",
            "u\n",
            "b\n",
            "c\n",
            "o\n",
            "m\n",
            "L\n",
            "i\n",
            "v\n",
            "e\n",
            "C\n",
            "o\n",
            "r\n",
            "o\n",
            "n\n",
            "a\n",
            "D\n",
            "e\n",
            "t\n",
            "e\n",
            "c\n",
            "t\n",
            "o\n",
            "r\n",
            "l\n",
            "i\n",
            "v\n",
            "e\n",
            "c\n",
            "o\n",
            "d\n",
            "g\n",
            "i\n",
            "t\n",
            "h\n",
            "u\n",
            "b\n",
            "c\n",
            "o\n",
            "m\n",
            "L\n",
            "i\n",
            "v\n",
            "e\n",
            "C\n",
            "o\n",
            "r\n",
            "o\n",
            "n\n",
            "a\n",
            "D\n",
            "e\n",
            "t\n",
            "e\n",
            "c\n",
            "t\n",
            "o\n",
            "r\n",
            "l\n",
            "i\n",
            "v\n",
            "e\n",
            "c\n",
            "o\n",
            "d\n",
            "h\n",
            "t\n",
            "t\n",
            "p\n",
            "s\n",
            "g\n",
            "i\n",
            "t\n",
            "h\n",
            "u\n",
            "b\n",
            "c\n",
            "o\n",
            "m\n",
            "L\n",
            "i\n",
            "v\n",
            "e\n",
            "C\n",
            "o\n",
            "r\n",
            "o\n",
            "n\n",
            "a\n",
            "D\n",
            "e\n",
            "t\n",
            "e\n",
            "c\n",
            "t\n",
            "o\n",
            "r\n",
            "I\n",
            "n\n",
            "e\n",
            "v\n",
            "e\n",
            "r\n",
            "d\n",
            "r\n",
            "e\n",
            "a\n",
            "m\n",
            "e\n",
            "d\n",
            "a\n",
            "b\n",
            "o\n",
            "u\n",
            "t\n",
            "s\n",
            "u\n",
            "c\n",
            "c\n",
            "e\n",
            "s\n",
            "s\n",
            "I\n",
            "w\n",
            "o\n",
            "r\n",
            "k\n",
            "e\n",
            "d\n",
            "f\n",
            "o\n",
            "r\n",
            "i\n",
            "t\n",
            "D\n",
            "o\n",
            "n\n",
            "o\n",
            "t\n",
            "b\n",
            "e\n",
            "a\n",
            "f\n",
            "r\n",
            "a\n",
            "i\n",
            "d\n",
            "t\n",
            "o\n",
            "g\n",
            "i\n",
            "v\n",
            "e\n",
            "u\n",
            "p\n",
            "t\n",
            "h\n",
            "e\n",
            "g\n",
            "o\n",
            "o\n",
            "d\n",
            "t\n",
            "o\n",
            "g\n",
            "o\n",
            "f\n",
            "o\n",
            "r\n",
            "t\n",
            "h\n",
            "e\n",
            "g\n",
            "r\n",
            "e\n",
            "a\n",
            "t\n",
            "h\n",
            "e\n",
            "l\n",
            "l\n",
            "o\n",
            "h\n",
            "e\n",
            "l\n",
            "l\n",
            "o\n",
            "w\n",
            "o\n",
            "r\n",
            "l\n",
            "d\n",
            "h\n",
            "e\n",
            "l\n",
            "l\n",
            "o\n",
            "h\n",
            "e\n",
            "l\n",
            "l\n",
            "o\n",
            "h\n",
            "e\n",
            "l\n",
            "l\n",
            "o\n",
            "w\n",
            "o\n",
            "r\n",
            "l\n",
            "d\n",
            "h\n",
            "e\n",
            "l\n",
            "l\n",
            "o\n",
            "n\n",
            "a\n",
            "m\n",
            "e\n",
            "l\n",
            "e\n",
            "e\n",
            "h\n",
            "o\n",
            "j\n",
            "u\n",
            "n\n",
            "a\n",
            "g\n",
            "e\n",
            "1\n",
            "0\n",
            "h\n",
            "e\n",
            "i\n",
            "g\n",
            "h\n",
            "t\n",
            "1\n",
            "8\n",
            "0\n",
            "e\n",
            "m\n",
            "a\n",
            "i\n",
            "l\n",
            "p\n",
            "a\n",
            "u\n",
            "l\n",
            "l\n",
            "a\n",
            "b\n",
            "n\n",
            "a\n",
            "v\n",
            "e\n",
            "r\n",
            "c\n",
            "o\n",
            "m\n",
            "n\n",
            "a\n",
            "m\n",
            "e\n",
            "l\n",
            "e\n",
            "e\n",
            "h\n",
            "o\n",
            "j\n",
            "u\n",
            "n\n",
            "a\n",
            "g\n",
            "e\n",
            "1\n",
            "0\n",
            "h\n",
            "e\n",
            "i\n",
            "g\n",
            "h\n",
            "t\n",
            "1\n",
            "8\n",
            "0\n",
            "e\n",
            "m\n",
            "a\n",
            "i\n",
            "l\n",
            "p\n",
            "a\n",
            "u\n",
            "l\n",
            "l\n",
            "a\n",
            "b\n",
            "n\n",
            "a\n",
            "v\n",
            "e\n",
            "r\n",
            "c\n",
            "o\n",
            "m\n",
            "가\n",
            "나\n",
            "다\n",
            "라\n",
            "마\n",
            "바\n",
            "사\n",
            "아\n",
            "자\n",
            "차\n",
            "카\n",
            "타\n",
            "파\n",
            "하\n",
            "ㄱ\n",
            "ㄴ\n",
            "ㄷ\n",
            "ㄹ\n",
            "ㅁ\n",
            "ㅂ\n",
            "ㅅ\n",
            "ㅇ\n",
            "ㅈ\n",
            "ㅊ\n",
            "ㅋ\n",
            "ㅌ\n",
            "ㅍ\n",
            "ㅎ\n",
            "안\n",
            "녕\n",
            "하\n",
            "세\n",
            "요\n",
            "안\n",
            "녕\n",
            "하\n",
            "세\n",
            "요\n",
            "수\n",
            "사\n",
            "수\n",
            "박\n",
            "수\n",
            "상\n",
            "동\n",
            "해\n",
            "물\n",
            "과\n",
            "백\n",
            "두\n",
            "산\n",
            "이\n",
            "마\n",
            "르\n",
            "고\n",
            "닳\n",
            "도\n",
            "록\n",
            "하\n",
            "느\n",
            "님\n",
            "이\n",
            "보\n",
            "호\n",
            "하\n",
            "사\n",
            "우\n",
            "리\n",
            "나\n",
            "라\n",
            "만\n",
            "세\n"
          ]
        }
      ]
    },
    {
      "cell_type": "code",
      "source": [
        "# Hello 검색\n",
        "regex = r'hello'\n",
        "\n",
        "# 정규표현식과 일치하는 부분을 모두 찾아주는 파이썬 코드입니다.\n",
        "result = re.findall(regex, search_target)\n",
        "print(\"\\n\".join(result))"
      ],
      "metadata": {
        "colab": {
          "base_uri": "https://localhost:8080/"
        },
        "id": "qwc9_68cMKui",
        "outputId": "d8072d32-af04-4df8-f38f-6b4f30022717"
      },
      "execution_count": 135,
      "outputs": [
        {
          "output_type": "stream",
          "name": "stdout",
          "text": [
            "hello\n",
            "hello\n",
            "hello\n",
            "hello\n",
            "hello\n",
            "hello\n",
            "hello\n",
            "hello\n",
            "hello\n",
            "hello\n",
            "hello\n",
            "hello\n"
          ]
        }
      ]
    },
    {
      "cell_type": "code",
      "source": [
        "# 맨처음 와야하는 ^\n",
        "\n",
        "m1 = re.findall(\"^Life\",\"Life is too short\")\n",
        "print(m1)"
      ],
      "metadata": {
        "colab": {
          "base_uri": "https://localhost:8080/"
        },
        "id": "6gkrP6VTMZIa",
        "outputId": "0d7513a5-79fd-4503-eb08-c2fb61e476e1"
      },
      "execution_count": 137,
      "outputs": [
        {
          "output_type": "stream",
          "name": "stdout",
          "text": [
            "['Life']\n"
          ]
        }
      ]
    },
    {
      "cell_type": "code",
      "source": [
        "# 맨 마지막\n",
        "\n",
        "m1 = re.findall(\"short$\",\"Life is too short\")\n",
        "m2 = re.findall(\"short$\",\"Life is too short. So what?\")\n",
        "\n",
        "print(m1)\n",
        "print(m2)"
      ],
      "metadata": {
        "colab": {
          "base_uri": "https://localhost:8080/"
        },
        "id": "l559Vv_OMydZ",
        "outputId": "fe740ab2-e9d9-44c1-dffa-71131cd92ea8"
      },
      "execution_count": 140,
      "outputs": [
        {
          "output_type": "stream",
          "name": "stdout",
          "text": [
            "['short']\n",
            "[]\n"
          ]
        }
      ]
    },
    {
      "cell_type": "code",
      "source": [
        "# 특정문자 1개\n",
        "import re\n",
        "regex = re.compile('ema.l')\n",
        "\n",
        "# 정규표현식과 일치하는 부분을 모두 찾아주는 파이썬 코드입니다.\n",
        "result = re.findall(regex, search_target)\n",
        "print(\"\\n\".join(result))"
      ],
      "metadata": {
        "colab": {
          "base_uri": "https://localhost:8080/"
        },
        "id": "iu7pZx5ZNL3V",
        "outputId": "579d7d55-42b0-4ab7-d6b0-65cdaff69dd1"
      },
      "execution_count": 143,
      "outputs": [
        {
          "output_type": "stream",
          "name": "stdout",
          "text": [
            "email\n",
            "email\n"
          ]
        }
      ]
    },
    {
      "cell_type": "code",
      "source": [
        "# 특정문자 6개(공백포함)\n",
        "import re\n",
        "regex = re.compile('......')\n",
        "\n",
        "# 정규표현식과 일치하는 부분을 모두 찾아주는 파이썬 코드입니다.\n",
        "result = re.findall(regex, search_target)\n",
        "print(\"\\n\".join(result))"
      ],
      "metadata": {
        "id": "ffhhPQySNuUk"
      },
      "execution_count": null,
      "outputs": []
    },
    {
      "cell_type": "code",
      "source": [
        "# 여러가지 중에 택 1 \n",
        "\n",
        "regex = re.compile(r'h[ao]llo')\n",
        "\n",
        "# 정규표현식과 일치하는 부분을 모두 찾아주는 파이썬 코드입니다.\n",
        "result = re.findall(regex, search_target)\n",
        "print(\"\\n\".join(result))"
      ],
      "metadata": {
        "colab": {
          "base_uri": "https://localhost:8080/"
        },
        "id": "NKxQf6y3OOYh",
        "outputId": "3bd3376c-04dd-4e56-faa0-eb604fb32a58"
      },
      "execution_count": 149,
      "outputs": [
        {
          "output_type": "stream",
          "name": "stdout",
          "text": [
            "hallo\n",
            "hollo\n"
          ]
        }
      ]
    },
    {
      "cell_type": "code",
      "source": [
        "# 여러가지 중에 택 1 \n",
        "\n",
        "regex = re.compile(r'h[a-f]l',re.I)     #a - f 사이 중 1개 \n",
        "\n",
        "# 정규표현식과 일치하는 부분을 모두 찾아주는 파이썬 코드입니다.\n",
        "result = re.findall(regex, search_target)\n",
        "print(\"\\n\".join(result))"
      ],
      "metadata": {
        "colab": {
          "base_uri": "https://localhost:8080/"
        },
        "id": "c8HGJt7aOque",
        "outputId": "df5d51de-38e4-46ca-952c-696886fb45ef"
      },
      "execution_count": 156,
      "outputs": [
        {
          "output_type": "stream",
          "name": "stdout",
          "text": [
            "hel\n",
            "hel\n",
            "hel\n",
            "Hel\n",
            "hel\n",
            "hel\n",
            "hel\n",
            "hal\n",
            "hel\n",
            "hel\n",
            "hel\n",
            "hel\n",
            "hel\n",
            "hel\n"
          ]
        }
      ]
    },
    {
      "cell_type": "code",
      "source": [
        "# 여러가지 중에 택 1 - 대문자\n",
        "\n",
        "regex = re.compile(r'[a-zA-Z0-9]')     #a - f 사이 중 1개 \n",
        "\n",
        "# 정규표현식과 일치하는 부분을 모두 찾아주는 파이썬 코드입니다.\n",
        "result = re.findall(regex, search_target)\n",
        "print(\"\\n\".join(result))"
      ],
      "metadata": {
        "colab": {
          "base_uri": "https://localhost:8080/"
        },
        "id": "_sQ_6RwZPViP",
        "outputId": "f94cb7d8-7e0d-44f1-d8cc-8201f8e2a28e"
      },
      "execution_count": 157,
      "outputs": [
        {
          "output_type": "stream",
          "name": "stdout",
          "text": [
            "h\n",
            "e\n",
            "l\n",
            "l\n",
            "o\n",
            "w\n",
            "o\n",
            "r\n",
            "l\n",
            "d\n",
            "h\n",
            "e\n",
            "l\n",
            "l\n",
            "o\n",
            "w\n",
            "o\n",
            "r\n",
            "l\n",
            "d\n",
            "h\n",
            "e\n",
            "l\n",
            "l\n",
            "o\n",
            "w\n",
            "o\n",
            "r\n",
            "l\n",
            "d\n",
            "H\n",
            "e\n",
            "l\n",
            "l\n",
            "o\n",
            "W\n",
            "o\n",
            "r\n",
            "l\n",
            "d\n",
            "h\n",
            "e\n",
            "l\n",
            "l\n",
            "o\n",
            "w\n",
            "o\n",
            "r\n",
            "l\n",
            "d\n",
            "h\n",
            "e\n",
            "l\n",
            "l\n",
            "o\n",
            "h\n",
            "e\n",
            "l\n",
            "l\n",
            "o\n",
            "h\n",
            "a\n",
            "l\n",
            "l\n",
            "o\n",
            "h\n",
            "o\n",
            "l\n",
            "l\n",
            "o\n",
            "h\n",
            "e\n",
            "a\n",
            "l\n",
            "l\n",
            "o\n",
            "y\n",
            "e\n",
            "l\n",
            "l\n",
            "o\n",
            "w\n",
            "M\n",
            "o\n",
            "n\n",
            "d\n",
            "a\n",
            "y\n",
            "T\n",
            "u\n",
            "e\n",
            "s\n",
            "d\n",
            "a\n",
            "y\n",
            "W\n",
            "e\n",
            "d\n",
            "n\n",
            "e\n",
            "s\n",
            "d\n",
            "a\n",
            "y\n",
            "T\n",
            "h\n",
            "u\n",
            "r\n",
            "s\n",
            "d\n",
            "a\n",
            "y\n",
            "F\n",
            "r\n",
            "i\n",
            "d\n",
            "a\n",
            "y\n",
            "S\n",
            "a\n",
            "t\n",
            "u\n",
            "r\n",
            "d\n",
            "a\n",
            "y\n",
            "S\n",
            "u\n",
            "n\n",
            "d\n",
            "a\n",
            "y\n",
            "a\n",
            "b\n",
            "c\n",
            "d\n",
            "e\n",
            "f\n",
            "g\n",
            "h\n",
            "i\n",
            "j\n",
            "k\n",
            "l\n",
            "m\n",
            "n\n",
            "o\n",
            "p\n",
            "q\n",
            "r\n",
            "s\n",
            "t\n",
            "u\n",
            "v\n",
            "w\n",
            "x\n",
            "y\n",
            "z\n",
            "A\n",
            "B\n",
            "C\n",
            "D\n",
            "E\n",
            "F\n",
            "G\n",
            "H\n",
            "I\n",
            "J\n",
            "K\n",
            "L\n",
            "M\n",
            "N\n",
            "O\n",
            "P\n",
            "Q\n",
            "R\n",
            "S\n",
            "T\n",
            "U\n",
            "V\n",
            "W\n",
            "X\n",
            "Y\n",
            "Z\n",
            "0\n",
            "1\n",
            "2\n",
            "3\n",
            "4\n",
            "5\n",
            "6\n",
            "7\n",
            "8\n",
            "9\n",
            "1\n",
            "0\n",
            "1\n",
            "1\n",
            "1\n",
            "2\n",
            "1\n",
            "3\n",
            "1\n",
            "4\n",
            "1\n",
            "5\n",
            "1\n",
            "6\n",
            "1\n",
            "7\n",
            "1\n",
            "8\n",
            "1\n",
            "9\n",
            "2\n",
            "0\n",
            "a\n",
            "a\n",
            "a\n",
            "b\n",
            "b\n",
            "c\n",
            "a\n",
            "a\n",
            "a\n",
            "b\n",
            "b\n",
            "c\n",
            "a\n",
            "b\n",
            "c\n",
            "a\n",
            "b\n",
            "c\n",
            "a\n",
            "a\n",
            "a\n",
            "b\n",
            "b\n",
            "c\n",
            "a\n",
            "a\n",
            "a\n",
            "b\n",
            "b\n",
            "c\n",
            "a\n",
            "b\n",
            "c\n",
            "a\n",
            "b\n",
            "c\n",
            "a\n",
            "a\n",
            "a\n",
            "1\n",
            "b\n",
            "b\n",
            "2\n",
            "c\n",
            "3\n",
            "a\n",
            "a\n",
            "a\n",
            "4\n",
            "b\n",
            "b\n",
            "5\n",
            "c\n",
            "6\n",
            "1\n",
            "2\n",
            "3\n",
            "4\n",
            "5\n",
            "6\n",
            "1\n",
            "2\n",
            "3\n",
            "4\n",
            "5\n",
            "6\n",
            "7\n",
            "8\n",
            "9\n",
            "a\n",
            "b\n",
            "c\n",
            "d\n",
            "e\n",
            "f\n",
            "g\n",
            "h\n",
            "i\n",
            "j\n",
            "0\n",
            "1\n",
            "0\n",
            "9\n",
            "0\n",
            "9\n",
            "1\n",
            "5\n",
            "4\n",
            "9\n",
            "1\n",
            "0\n",
            "1\n",
            "0\n",
            "5\n",
            "0\n",
            "4\n",
            "3\n",
            "2\n",
            "9\n",
            "0\n",
            "1\n",
            "0\n",
            "1\n",
            "0\n",
            "5\n",
            "0\n",
            "5\n",
            "0\n",
            "4\n",
            "0\n",
            "4\n",
            "0\n",
            "9\n",
            "0\n",
            "1\n",
            "0\n",
            "4\n",
            "9\n",
            "4\n",
            "9\n",
            "2\n",
            "3\n",
            "1\n",
            "3\n",
            "1\n",
            "0\n",
            "1\n",
            "0\n",
            "2\n",
            "9\n",
            "1\n",
            "3\n",
            "3\n",
            "1\n",
            "3\n",
            "2\n",
            "0\n",
            "1\n",
            "0\n",
            "1\n",
            "9\n",
            "1\n",
            "3\n",
            "3\n",
            "8\n",
            "2\n",
            "9\n",
            "0\n",
            "6\n",
            "4\n",
            "7\n",
            "2\n",
            "1\n",
            "3\n",
            "2\n",
            "1\n",
            "3\n",
            "0\n",
            "1\n",
            "0\n",
            "1\n",
            "9\n",
            "1\n",
            "3\n",
            "3\n",
            "8\n",
            "2\n",
            "9\n",
            "p\n",
            "a\n",
            "u\n",
            "l\n",
            "k\n",
            "o\n",
            "r\n",
            "e\n",
            "a\n",
            "n\n",
            "a\n",
            "v\n",
            "e\n",
            "r\n",
            "c\n",
            "o\n",
            "m\n",
            "p\n",
            "a\n",
            "u\n",
            "l\n",
            "n\n",
            "a\n",
            "v\n",
            "e\n",
            "r\n",
            "c\n",
            "o\n",
            "m\n",
            "l\n",
            "e\n",
            "e\n",
            "h\n",
            "o\n",
            "j\n",
            "u\n",
            "n\n",
            "g\n",
            "m\n",
            "a\n",
            "i\n",
            "l\n",
            "c\n",
            "o\n",
            "m\n",
            "h\n",
            "o\n",
            "j\n",
            "u\n",
            "n\n",
            "l\n",
            "e\n",
            "e\n",
            "g\n",
            "m\n",
            "a\n",
            "i\n",
            "l\n",
            "c\n",
            "o\n",
            "m\n",
            "t\n",
            "e\n",
            "s\n",
            "t\n",
            "t\n",
            "e\n",
            "s\n",
            "t\n",
            "g\n",
            "o\n",
            "g\n",
            "o\n",
            "g\n",
            "o\n",
            "h\n",
            "t\n",
            "t\n",
            "p\n",
            "s\n",
            "g\n",
            "i\n",
            "t\n",
            "h\n",
            "u\n",
            "b\n",
            "c\n",
            "o\n",
            "m\n",
            "L\n",
            "i\n",
            "v\n",
            "e\n",
            "C\n",
            "o\n",
            "r\n",
            "o\n",
            "n\n",
            "a\n",
            "D\n",
            "e\n",
            "t\n",
            "e\n",
            "c\n",
            "t\n",
            "o\n",
            "r\n",
            "l\n",
            "i\n",
            "v\n",
            "e\n",
            "c\n",
            "o\n",
            "d\n",
            "g\n",
            "i\n",
            "t\n",
            "h\n",
            "u\n",
            "b\n",
            "c\n",
            "o\n",
            "m\n",
            "L\n",
            "i\n",
            "v\n",
            "e\n",
            "C\n",
            "o\n",
            "r\n",
            "o\n",
            "n\n",
            "a\n",
            "D\n",
            "e\n",
            "t\n",
            "e\n",
            "c\n",
            "t\n",
            "o\n",
            "r\n",
            "l\n",
            "i\n",
            "v\n",
            "e\n",
            "c\n",
            "o\n",
            "d\n",
            "h\n",
            "t\n",
            "t\n",
            "p\n",
            "s\n",
            "g\n",
            "i\n",
            "t\n",
            "h\n",
            "u\n",
            "b\n",
            "c\n",
            "o\n",
            "m\n",
            "L\n",
            "i\n",
            "v\n",
            "e\n",
            "C\n",
            "o\n",
            "r\n",
            "o\n",
            "n\n",
            "a\n",
            "D\n",
            "e\n",
            "t\n",
            "e\n",
            "c\n",
            "t\n",
            "o\n",
            "r\n",
            "I\n",
            "n\n",
            "e\n",
            "v\n",
            "e\n",
            "r\n",
            "d\n",
            "r\n",
            "e\n",
            "a\n",
            "m\n",
            "e\n",
            "d\n",
            "a\n",
            "b\n",
            "o\n",
            "u\n",
            "t\n",
            "s\n",
            "u\n",
            "c\n",
            "c\n",
            "e\n",
            "s\n",
            "s\n",
            "I\n",
            "w\n",
            "o\n",
            "r\n",
            "k\n",
            "e\n",
            "d\n",
            "f\n",
            "o\n",
            "r\n",
            "i\n",
            "t\n",
            "D\n",
            "o\n",
            "n\n",
            "o\n",
            "t\n",
            "b\n",
            "e\n",
            "a\n",
            "f\n",
            "r\n",
            "a\n",
            "i\n",
            "d\n",
            "t\n",
            "o\n",
            "g\n",
            "i\n",
            "v\n",
            "e\n",
            "u\n",
            "p\n",
            "t\n",
            "h\n",
            "e\n",
            "g\n",
            "o\n",
            "o\n",
            "d\n",
            "t\n",
            "o\n",
            "g\n",
            "o\n",
            "f\n",
            "o\n",
            "r\n",
            "t\n",
            "h\n",
            "e\n",
            "g\n",
            "r\n",
            "e\n",
            "a\n",
            "t\n",
            "h\n",
            "e\n",
            "l\n",
            "l\n",
            "o\n",
            "h\n",
            "e\n",
            "l\n",
            "l\n",
            "o\n",
            "w\n",
            "o\n",
            "r\n",
            "l\n",
            "d\n",
            "h\n",
            "e\n",
            "l\n",
            "l\n",
            "o\n",
            "h\n",
            "e\n",
            "l\n",
            "l\n",
            "o\n",
            "h\n",
            "e\n",
            "l\n",
            "l\n",
            "o\n",
            "w\n",
            "o\n",
            "r\n",
            "l\n",
            "d\n",
            "h\n",
            "e\n",
            "l\n",
            "l\n",
            "o\n",
            "n\n",
            "a\n",
            "m\n",
            "e\n",
            "l\n",
            "e\n",
            "e\n",
            "h\n",
            "o\n",
            "j\n",
            "u\n",
            "n\n",
            "a\n",
            "g\n",
            "e\n",
            "1\n",
            "0\n",
            "h\n",
            "e\n",
            "i\n",
            "g\n",
            "h\n",
            "t\n",
            "1\n",
            "8\n",
            "0\n",
            "e\n",
            "m\n",
            "a\n",
            "i\n",
            "l\n",
            "p\n",
            "a\n",
            "u\n",
            "l\n",
            "l\n",
            "a\n",
            "b\n",
            "n\n",
            "a\n",
            "v\n",
            "e\n",
            "r\n",
            "c\n",
            "o\n",
            "m\n",
            "n\n",
            "a\n",
            "m\n",
            "e\n",
            "l\n",
            "e\n",
            "e\n",
            "h\n",
            "o\n",
            "j\n",
            "u\n",
            "n\n",
            "a\n",
            "g\n",
            "e\n",
            "1\n",
            "0\n",
            "h\n",
            "e\n",
            "i\n",
            "g\n",
            "h\n",
            "t\n",
            "1\n",
            "8\n",
            "0\n",
            "e\n",
            "m\n",
            "a\n",
            "i\n",
            "l\n",
            "p\n",
            "a\n",
            "u\n",
            "l\n",
            "l\n",
            "a\n",
            "b\n",
            "n\n",
            "a\n",
            "v\n",
            "e\n",
            "r\n",
            "c\n",
            "o\n",
            "m\n"
          ]
        }
      ]
    },
    {
      "cell_type": "code",
      "source": [
        "# 여러가지 중에 택 1 - 대문자\n",
        "\n",
        "regex = re.compile(r'[^a-zA-Z0-9가-힣]')     #a - f 사이 중 1개 \n",
        "\n",
        "# 정규표현식과 일치하는 부분을 모두 찾아주는 파이썬 코드입니다.\n",
        "result = re.findall(regex, search_target)\n",
        "print(\"\\n\".join(result))"
      ],
      "metadata": {
        "colab": {
          "base_uri": "https://localhost:8080/"
        },
        "id": "HVHOLv1uQGed",
        "outputId": "e44c08a3-c469-41d6-ecdb-aed46f5cc3f2"
      },
      "execution_count": 159,
      "outputs": [
        {
          "output_type": "stream",
          "name": "stdout",
          "text": [
            "\n",
            "\n",
            " \n",
            "\n",
            "\n",
            " \n",
            " \n",
            "\n",
            "\n",
            ",\n",
            " \n",
            "\n",
            "\n",
            " \n",
            "\n",
            "\n",
            "\n",
            "\n",
            " \n",
            " \n",
            "\n",
            "\n",
            "\n",
            "\n",
            "\n",
            "\n",
            "\n",
            "\n",
            "\n",
            "\n",
            "\n",
            "\n",
            "\n",
            "\n",
            "\n",
            "\n",
            " \n",
            " \n",
            " \n",
            " \n",
            " \n",
            " \n",
            "\n",
            "\n",
            "\n",
            "\n",
            "\n",
            "\n",
            "\n",
            "\n",
            " \n",
            " \n",
            " \n",
            " \n",
            " \n",
            " \n",
            " \n",
            " \n",
            " \n",
            " \n",
            " \n",
            "\n",
            "\n",
            "\n",
            "\n",
            "\n",
            "\n",
            "[\n",
            "]\n",
            "\n",
            "\n",
            "[\n",
            "]\n",
            "\n",
            "\n",
            "[\n",
            "]\n",
            "\n",
            "\n",
            "\n",
            "\n",
            "-\n",
            "-\n",
            "\n",
            "\n",
            "-\n",
            "-\n",
            "\n",
            "\n",
            "-\n",
            "-\n",
            "\n",
            "\n",
            "-\n",
            "-\n",
            "\n",
            "\n",
            " \n",
            " \n",
            "\n",
            "\n",
            "\n",
            "\n",
            "-\n",
            "-\n",
            "\n",
            "\n",
            ".\n",
            ".\n",
            "\n",
            "\n",
            "\n",
            "\n",
            "\n",
            "\n",
            "-\n",
            "@\n",
            ".\n",
            "\n",
            "\n",
            "@\n",
            ".\n",
            "\n",
            "\n",
            "@\n",
            ".\n",
            "\n",
            "\n",
            ".\n",
            "@\n",
            ".\n",
            "\n",
            "\n",
            ".\n",
            "@\n",
            ".\n",
            ".\n",
            "\n",
            "\n",
            "\n",
            "\n",
            "\n",
            "\n",
            ":\n",
            "/\n",
            "/\n",
            ".\n",
            "/\n",
            "/\n",
            "\n",
            "\n",
            ".\n",
            "/\n",
            "/\n",
            "\n",
            "\n",
            ":\n",
            "/\n",
            "/\n",
            ".\n",
            "/\n",
            "\n",
            "\n",
            "\n",
            "\n",
            " \n",
            " \n",
            " \n",
            " \n",
            ",\n",
            " \n",
            " \n",
            " \n",
            " \n",
            ".\n",
            "\n",
            "\n",
            " \n",
            " \n",
            " \n",
            " \n",
            " \n",
            " \n",
            " \n",
            " \n",
            " \n",
            " \n",
            " \n",
            " \n",
            " \n",
            ".\n",
            "\n",
            "\n",
            "\n",
            "\n",
            " \n",
            "(\n",
            " \n",
            ")\n",
            " \n",
            "\n",
            "\n",
            " \n",
            "\\\n",
            " \n",
            "/\n",
            "/\n",
            " \n",
            "\n",
            "\n",
            "^\n",
            "^\n",
            "\n",
            "\n",
            "🙂\n",
            "\n",
            "\n",
            "\n",
            "\n",
            "[\n",
            "(\n",
            ",\n",
            " \n",
            ")\n",
            ",\n",
            " \n",
            "(\n",
            ",\n",
            " \n",
            ")\n",
            ",\n",
            " \n",
            "(\n",
            ",\n",
            " \n",
            ")\n",
            ",\n",
            " \n",
            "(\n",
            ",\n",
            " \n",
            "-\n",
            "@\n",
            ".\n",
            ")\n",
            "]\n",
            "\n",
            "\n",
            "{\n",
            " \n",
            ":\n",
            " \n",
            ",\n",
            " \n",
            " \n",
            ":\n",
            " \n",
            ",\n",
            " \n",
            " \n",
            ":\n",
            " \n",
            ",\n",
            " \n",
            " \n",
            ":\n",
            " \n",
            "-\n",
            "@\n",
            ".\n",
            "}\n",
            "\n",
            "\n",
            "\n",
            "\n",
            "\n",
            "\n",
            "ㄱ\n",
            "ㄴ\n",
            "ㄷ\n",
            "ㄹ\n",
            "ㅁ\n",
            "ㅂ\n",
            "ㅅ\n",
            "ㅇ\n",
            "ㅈ\n",
            "ㅊ\n",
            "ㅋ\n",
            "ㅌ\n",
            "ㅍ\n",
            "ㅎ\n",
            "\n",
            "\n",
            "\n",
            "\n",
            "-\n",
            "\n",
            "\n",
            "\n",
            "\n",
            "\n",
            "\n",
            "\n",
            "\n",
            " \n",
            " \n",
            " \n",
            " \n",
            " \n",
            " \n",
            " \n",
            " \n",
            "\n",
            "\n"
          ]
        }
      ]
    },
    {
      "cell_type": "code",
      "source": [
        "# 여러가지 중에 택 1 - 대문자\n",
        "\n",
        "regex = re.compile(r'(on|use|rida)')    # 그룹 1개로 3개 \n",
        "result = re.findall(regex, search_target)\n",
        "print(\"\\n\".join(result))"
      ],
      "metadata": {
        "colab": {
          "base_uri": "https://localhost:8080/"
        },
        "id": "mXQCyGEaOqjr",
        "outputId": "6060d85a-774b-4df3-9a43-faf3abdc7ed8"
      },
      "execution_count": 165,
      "outputs": [
        {
          "output_type": "stream",
          "name": "stdout",
          "text": [
            "on\n",
            "rida\n",
            "on\n",
            "on\n",
            "on\n"
          ]
        }
      ]
    },
    {
      "cell_type": "code",
      "source": [
        "#서브패턴\n",
        "\n",
        "# 소괄호를 사용하면 정규식 일부 패턴을 그룹화 할 수 있습니다.\n",
        "# 이 정규식 그룹은 그룹 캡처기능이라고 불리는데\n",
        "# 정규식 그룹은 번호가 매겨진 캡처그룹을 생성하고, 괄호안에 정규식 부분과\n",
        "# 일치하는 문자열을 찾고, 저장합니다.\n",
        "# 그 캡처 번호를 사용하여 문자열 부분을 불러와 사용할 수 있습니다.\n",
        "\n",
        "# 주의할점은 캡처에 정규식 패턴이 저장된다고 착각할 수 잇지만\n",
        "# 캡처는 패턴으로 찾은 문자열을 저장한다.\n",
        " \n",
        "# ?:는 그룹이지만 캡처를 저장하지 않음 \n",
        "\n",
        "# 빈칸에 정규표현식을 적습니다.\n",
        "regex = re.compile('(on|ues|rida)') #그룹 1로 3개 중 1개 매칭되는 패턴\n",
        "\n",
        "# 그룹 안에 매칭이 된 것만 출력이 되는 형태\n",
        "\n",
        "# 정규표현식과 일치하는 부분을 모두 찾아주는 파이썬 코드입니다."
      ],
      "metadata": {
        "id": "WPnM-5BT7MP8"
      },
      "execution_count": null,
      "outputs": []
    },
    {
      "cell_type": "code",
      "source": [
        "# 서브패턴\n",
        "\n",
        "regex = re.compile(r'(Mon|Tues|Fri)day')     #a - f 사이 중 1개 \n",
        "\n",
        "# 정규표현식과 일치하는 부분을 모두 찾아주는 파이썬 코드입니다.\n",
        "result = re.findall(regex, search_target)\n",
        "print(\"\\n\".join(result))"
      ],
      "metadata": {
        "colab": {
          "base_uri": "https://localhost:8080/"
        },
        "id": "cxPZE5FoRUym",
        "outputId": "3e26cadd-0101-47dc-ed89-fe1262b09ef1"
      },
      "execution_count": 231,
      "outputs": [
        {
          "output_type": "stream",
          "name": "stdout",
          "text": [
            "Mon\n",
            "Tues\n",
            "Fri\n"
          ]
        }
      ]
    },
    {
      "cell_type": "code",
      "source": [
        "# 서브패턴\n",
        "\n",
        "regex = re.compile(r'(?:Mon|Tue|Fri)day')     #a - f 사이 중 1개 \n",
        "\n",
        "# 정규표현식과 일치하는 부분을 모두 찾아주는 파이썬 코드입니다.\n",
        "result = re.findall(regex, search_target)\n",
        "print(\"\\n\".join(result))"
      ],
      "metadata": {
        "colab": {
          "base_uri": "https://localhost:8080/"
        },
        "id": "Y97fBT5gRoBi",
        "outputId": "69570aea-cffc-497f-8636-fe9cfda03765"
      },
      "execution_count": 169,
      "outputs": [
        {
          "output_type": "stream",
          "name": "stdout",
          "text": [
            "Monday\n",
            "Friday\n"
          ]
        }
      ]
    },
    {
      "cell_type": "code",
      "source": [
        "text =  'tomato potato'\n",
        "\n",
        "p1 = \"(tom|pot)ato\"\n",
        "p2 = \"(?:tom|pot)ato\"\n",
        "\n",
        "m1 = re.findall(p1,text)\n",
        "m2 = re.findall(p2,text)\n",
        "\n",
        "print(m1)\n",
        "print(m2)"
      ],
      "metadata": {
        "colab": {
          "base_uri": "https://localhost:8080/"
        },
        "id": "3_xt2txoVCY2",
        "outputId": "7ee755d6-44db-4e12-ccb2-84061e1ee8e9"
      },
      "execution_count": 175,
      "outputs": [
        {
          "output_type": "stream",
          "name": "stdout",
          "text": [
            "['tom', 'pot']\n",
            "['tomato', 'potato']\n"
          ]
        }
      ]
    },
    {
      "cell_type": "code",
      "source": [
        "# 수량자 휴대폰 번호\n",
        "\n",
        "# 1. [0에서 9까지]{2,3개}[- 나 . 앞에 있는 문자 0~N개]\n",
        "# 2. [0에서 9까지]{4개}[- 나 . 앞에 있는 문자 0~N개]\n",
        "# 3. [0에서 9까지]{4개}[- 나 .]\n",
        "\n",
        "regex = re.compile('[0-9]{3}[-.* ][0-9]{3,4}[-.* ][0-9]{4}')\n",
        "\n",
        "result = re.findall(regex,search_target)\n",
        "print(result)\n",
        "print(\"\\n\".join(result))"
      ],
      "metadata": {
        "colab": {
          "base_uri": "https://localhost:8080/"
        },
        "id": "wXxcMS3ZVI35",
        "outputId": "d96d6928-d353-4660-c7ea-1c84578069b9"
      },
      "execution_count": 183,
      "outputs": [
        {
          "output_type": "stream",
          "name": "stdout",
          "text": [
            "['010-9091-5491', '010-5043-2901', '010-5050-4040', '010 2913 3132', '064-721-3213', '010.1913.3829']\n",
            "010-9091-5491\n",
            "010-5043-2901\n",
            "010-5050-4040\n",
            "010 2913 3132\n",
            "064-721-3213\n",
            "010.1913.3829\n"
          ]
        }
      ]
    },
    {
      "cell_type": "code",
      "source": [
        "# 수량자\n",
        "\n",
        "regex = re.compile('[0-9a-zA-Z]+@[0-9a-zA-Z]+.[a-zA-z]+')\n",
        "\n",
        "result = re.findall(regex,search_target)\n",
        "print(\"\\n\".join(result))"
      ],
      "metadata": {
        "colab": {
          "base_uri": "https://localhost:8080/"
        },
        "id": "HidCEae9bKlY",
        "outputId": "7e517eac-bbd0-4d08-a497-502fca084d1c"
      },
      "execution_count": 186,
      "outputs": [
        {
          "output_type": "stream",
          "name": "stdout",
          "text": [
            "korea@naver.com\n",
            "paul@naver.com\n",
            "leehojun@gmail.com\n",
            "lee@gmail.com\n",
            "test@go.go\n",
            "lab@naver.com\n",
            "lab@naver.com\n"
          ]
        }
      ]
    },
    {
      "cell_type": "code",
      "source": [
        "# 캐릭터 클래스\n",
        "\n",
        "#빈칸에 정규표현\n",
        "regex = re.compile('\\w')\n",
        "\n",
        "# 1. [0에서 9까지 + 영문자]{+@}\n",
        "# 2. [0에서 9까지 + 영문자].\n",
        "# 3. [영문자_ 1개 이상]\n",
        "\n",
        "result = re.findall(regex,search_target)\n",
        "print(\"\\n\".join(result))"
      ],
      "metadata": {
        "colab": {
          "base_uri": "https://localhost:8080/"
        },
        "id": "Yai23vhQV07E",
        "outputId": "b8aad0ef-0eb6-484c-b2cb-62fa7f4980b0"
      },
      "execution_count": 233,
      "outputs": [
        {
          "output_type": "stream",
          "name": "stdout",
          "text": [
            "h\n",
            "e\n",
            "l\n",
            "l\n",
            "o\n",
            "w\n",
            "o\n",
            "r\n",
            "l\n",
            "d\n",
            "h\n",
            "e\n",
            "l\n",
            "l\n",
            "o\n",
            "w\n",
            "o\n",
            "r\n",
            "l\n",
            "d\n",
            "h\n",
            "e\n",
            "l\n",
            "l\n",
            "o\n",
            "w\n",
            "o\n",
            "r\n",
            "l\n",
            "d\n",
            "H\n",
            "e\n",
            "l\n",
            "l\n",
            "o\n",
            "W\n",
            "o\n",
            "r\n",
            "l\n",
            "d\n",
            "h\n",
            "e\n",
            "l\n",
            "l\n",
            "o\n",
            "w\n",
            "o\n",
            "r\n",
            "l\n",
            "d\n",
            "h\n",
            "e\n",
            "l\n",
            "l\n",
            "o\n",
            "h\n",
            "e\n",
            "l\n",
            "l\n",
            "o\n",
            "h\n",
            "a\n",
            "l\n",
            "l\n",
            "o\n",
            "h\n",
            "o\n",
            "l\n",
            "l\n",
            "o\n",
            "h\n",
            "e\n",
            "a\n",
            "l\n",
            "l\n",
            "o\n",
            "y\n",
            "e\n",
            "l\n",
            "l\n",
            "o\n",
            "w\n",
            "M\n",
            "o\n",
            "n\n",
            "d\n",
            "a\n",
            "y\n",
            "T\n",
            "u\n",
            "e\n",
            "s\n",
            "d\n",
            "a\n",
            "y\n",
            "W\n",
            "e\n",
            "d\n",
            "n\n",
            "e\n",
            "s\n",
            "d\n",
            "a\n",
            "y\n",
            "T\n",
            "h\n",
            "u\n",
            "r\n",
            "s\n",
            "d\n",
            "a\n",
            "y\n",
            "F\n",
            "r\n",
            "i\n",
            "d\n",
            "a\n",
            "y\n",
            "S\n",
            "a\n",
            "t\n",
            "u\n",
            "r\n",
            "d\n",
            "a\n",
            "y\n",
            "S\n",
            "u\n",
            "n\n",
            "d\n",
            "a\n",
            "y\n",
            "a\n",
            "b\n",
            "c\n",
            "d\n",
            "e\n",
            "f\n",
            "g\n",
            "h\n",
            "i\n",
            "j\n",
            "k\n",
            "l\n",
            "m\n",
            "n\n",
            "o\n",
            "p\n",
            "q\n",
            "r\n",
            "s\n",
            "t\n",
            "u\n",
            "v\n",
            "w\n",
            "x\n",
            "y\n",
            "z\n",
            "A\n",
            "B\n",
            "C\n",
            "D\n",
            "E\n",
            "F\n",
            "G\n",
            "H\n",
            "I\n",
            "J\n",
            "K\n",
            "L\n",
            "M\n",
            "N\n",
            "O\n",
            "P\n",
            "Q\n",
            "R\n",
            "S\n",
            "T\n",
            "U\n",
            "V\n",
            "W\n",
            "X\n",
            "Y\n",
            "Z\n",
            "0\n",
            "1\n",
            "2\n",
            "3\n",
            "4\n",
            "5\n",
            "6\n",
            "7\n",
            "8\n",
            "9\n",
            "1\n",
            "0\n",
            "1\n",
            "1\n",
            "1\n",
            "2\n",
            "1\n",
            "3\n",
            "1\n",
            "4\n",
            "1\n",
            "5\n",
            "1\n",
            "6\n",
            "1\n",
            "7\n",
            "1\n",
            "8\n",
            "1\n",
            "9\n",
            "2\n",
            "0\n",
            "a\n",
            "a\n",
            "a\n",
            "b\n",
            "b\n",
            "c\n",
            "a\n",
            "a\n",
            "a\n",
            "b\n",
            "b\n",
            "c\n",
            "a\n",
            "b\n",
            "c\n",
            "a\n",
            "b\n",
            "c\n",
            "a\n",
            "a\n",
            "a\n",
            "b\n",
            "b\n",
            "c\n",
            "a\n",
            "a\n",
            "a\n",
            "b\n",
            "b\n",
            "c\n",
            "a\n",
            "b\n",
            "c\n",
            "a\n",
            "b\n",
            "c\n",
            "a\n",
            "a\n",
            "a\n",
            "1\n",
            "b\n",
            "b\n",
            "2\n",
            "c\n",
            "3\n",
            "a\n",
            "a\n",
            "a\n",
            "4\n",
            "b\n",
            "b\n",
            "5\n",
            "c\n",
            "6\n",
            "1\n",
            "2\n",
            "3\n",
            "4\n",
            "5\n",
            "6\n",
            "1\n",
            "2\n",
            "3\n",
            "4\n",
            "5\n",
            "6\n",
            "7\n",
            "8\n",
            "9\n",
            "a\n",
            "b\n",
            "c\n",
            "d\n",
            "e\n",
            "f\n",
            "g\n",
            "h\n",
            "i\n",
            "j\n",
            "0\n",
            "1\n",
            "0\n",
            "9\n",
            "0\n",
            "9\n",
            "1\n",
            "5\n",
            "4\n",
            "9\n",
            "1\n",
            "0\n",
            "1\n",
            "0\n",
            "5\n",
            "0\n",
            "4\n",
            "3\n",
            "2\n",
            "9\n",
            "0\n",
            "1\n",
            "0\n",
            "1\n",
            "0\n",
            "5\n",
            "0\n",
            "5\n",
            "0\n",
            "4\n",
            "0\n",
            "4\n",
            "0\n",
            "9\n",
            "0\n",
            "1\n",
            "0\n",
            "4\n",
            "9\n",
            "4\n",
            "9\n",
            "2\n",
            "3\n",
            "1\n",
            "3\n",
            "1\n",
            "0\n",
            "1\n",
            "0\n",
            "2\n",
            "9\n",
            "1\n",
            "3\n",
            "3\n",
            "1\n",
            "3\n",
            "2\n",
            "0\n",
            "1\n",
            "0\n",
            "1\n",
            "9\n",
            "1\n",
            "3\n",
            "3\n",
            "8\n",
            "2\n",
            "9\n",
            "0\n",
            "6\n",
            "4\n",
            "7\n",
            "2\n",
            "1\n",
            "3\n",
            "2\n",
            "1\n",
            "3\n",
            "0\n",
            "1\n",
            "0\n",
            "1\n",
            "9\n",
            "1\n",
            "3\n",
            "3\n",
            "8\n",
            "2\n",
            "9\n",
            "p\n",
            "a\n",
            "u\n",
            "l\n",
            "k\n",
            "o\n",
            "r\n",
            "e\n",
            "a\n",
            "n\n",
            "a\n",
            "v\n",
            "e\n",
            "r\n",
            "c\n",
            "o\n",
            "m\n",
            "p\n",
            "a\n",
            "u\n",
            "l\n",
            "n\n",
            "a\n",
            "v\n",
            "e\n",
            "r\n",
            "c\n",
            "o\n",
            "m\n",
            "l\n",
            "e\n",
            "e\n",
            "h\n",
            "o\n",
            "j\n",
            "u\n",
            "n\n",
            "g\n",
            "m\n",
            "a\n",
            "i\n",
            "l\n",
            "c\n",
            "o\n",
            "m\n",
            "h\n",
            "o\n",
            "j\n",
            "u\n",
            "n\n",
            "l\n",
            "e\n",
            "e\n",
            "g\n",
            "m\n",
            "a\n",
            "i\n",
            "l\n",
            "c\n",
            "o\n",
            "m\n",
            "t\n",
            "e\n",
            "s\n",
            "t\n",
            "t\n",
            "e\n",
            "s\n",
            "t\n",
            "g\n",
            "o\n",
            "g\n",
            "o\n",
            "g\n",
            "o\n",
            "h\n",
            "t\n",
            "t\n",
            "p\n",
            "s\n",
            "g\n",
            "i\n",
            "t\n",
            "h\n",
            "u\n",
            "b\n",
            "c\n",
            "o\n",
            "m\n",
            "L\n",
            "i\n",
            "v\n",
            "e\n",
            "C\n",
            "o\n",
            "r\n",
            "o\n",
            "n\n",
            "a\n",
            "D\n",
            "e\n",
            "t\n",
            "e\n",
            "c\n",
            "t\n",
            "o\n",
            "r\n",
            "l\n",
            "i\n",
            "v\n",
            "e\n",
            "c\n",
            "o\n",
            "d\n",
            "g\n",
            "i\n",
            "t\n",
            "h\n",
            "u\n",
            "b\n",
            "c\n",
            "o\n",
            "m\n",
            "L\n",
            "i\n",
            "v\n",
            "e\n",
            "C\n",
            "o\n",
            "r\n",
            "o\n",
            "n\n",
            "a\n",
            "D\n",
            "e\n",
            "t\n",
            "e\n",
            "c\n",
            "t\n",
            "o\n",
            "r\n",
            "l\n",
            "i\n",
            "v\n",
            "e\n",
            "c\n",
            "o\n",
            "d\n",
            "h\n",
            "t\n",
            "t\n",
            "p\n",
            "s\n",
            "g\n",
            "i\n",
            "t\n",
            "h\n",
            "u\n",
            "b\n",
            "c\n",
            "o\n",
            "m\n",
            "L\n",
            "i\n",
            "v\n",
            "e\n",
            "C\n",
            "o\n",
            "r\n",
            "o\n",
            "n\n",
            "a\n",
            "D\n",
            "e\n",
            "t\n",
            "e\n",
            "c\n",
            "t\n",
            "o\n",
            "r\n",
            "I\n",
            "n\n",
            "e\n",
            "v\n",
            "e\n",
            "r\n",
            "d\n",
            "r\n",
            "e\n",
            "a\n",
            "m\n",
            "e\n",
            "d\n",
            "a\n",
            "b\n",
            "o\n",
            "u\n",
            "t\n",
            "s\n",
            "u\n",
            "c\n",
            "c\n",
            "e\n",
            "s\n",
            "s\n",
            "I\n",
            "w\n",
            "o\n",
            "r\n",
            "k\n",
            "e\n",
            "d\n",
            "f\n",
            "o\n",
            "r\n",
            "i\n",
            "t\n",
            "D\n",
            "o\n",
            "n\n",
            "o\n",
            "t\n",
            "b\n",
            "e\n",
            "a\n",
            "f\n",
            "r\n",
            "a\n",
            "i\n",
            "d\n",
            "t\n",
            "o\n",
            "g\n",
            "i\n",
            "v\n",
            "e\n",
            "u\n",
            "p\n",
            "t\n",
            "h\n",
            "e\n",
            "g\n",
            "o\n",
            "o\n",
            "d\n",
            "t\n",
            "o\n",
            "g\n",
            "o\n",
            "f\n",
            "o\n",
            "r\n",
            "t\n",
            "h\n",
            "e\n",
            "g\n",
            "r\n",
            "e\n",
            "a\n",
            "t\n",
            "h\n",
            "e\n",
            "l\n",
            "l\n",
            "o\n",
            "h\n",
            "e\n",
            "l\n",
            "l\n",
            "o\n",
            "w\n",
            "o\n",
            "r\n",
            "l\n",
            "d\n",
            "h\n",
            "e\n",
            "l\n",
            "l\n",
            "o\n",
            "h\n",
            "e\n",
            "l\n",
            "l\n",
            "o\n",
            "h\n",
            "e\n",
            "l\n",
            "l\n",
            "o\n",
            "w\n",
            "o\n",
            "r\n",
            "l\n",
            "d\n",
            "h\n",
            "e\n",
            "l\n",
            "l\n",
            "o\n",
            "n\n",
            "a\n",
            "m\n",
            "e\n",
            "l\n",
            "e\n",
            "e\n",
            "h\n",
            "o\n",
            "j\n",
            "u\n",
            "n\n",
            "a\n",
            "g\n",
            "e\n",
            "1\n",
            "0\n",
            "h\n",
            "e\n",
            "i\n",
            "g\n",
            "h\n",
            "t\n",
            "1\n",
            "8\n",
            "0\n",
            "e\n",
            "m\n",
            "a\n",
            "i\n",
            "l\n",
            "p\n",
            "a\n",
            "u\n",
            "l\n",
            "l\n",
            "a\n",
            "b\n",
            "n\n",
            "a\n",
            "v\n",
            "e\n",
            "r\n",
            "c\n",
            "o\n",
            "m\n",
            "n\n",
            "a\n",
            "m\n",
            "e\n",
            "l\n",
            "e\n",
            "e\n",
            "h\n",
            "o\n",
            "j\n",
            "u\n",
            "n\n",
            "a\n",
            "g\n",
            "e\n",
            "1\n",
            "0\n",
            "h\n",
            "e\n",
            "i\n",
            "g\n",
            "h\n",
            "t\n",
            "1\n",
            "8\n",
            "0\n",
            "e\n",
            "m\n",
            "a\n",
            "i\n",
            "l\n",
            "p\n",
            "a\n",
            "u\n",
            "l\n",
            "l\n",
            "a\n",
            "b\n",
            "n\n",
            "a\n",
            "v\n",
            "e\n",
            "r\n",
            "c\n",
            "o\n",
            "m\n",
            "가\n",
            "나\n",
            "다\n",
            "라\n",
            "마\n",
            "바\n",
            "사\n",
            "아\n",
            "자\n",
            "차\n",
            "카\n",
            "타\n",
            "파\n",
            "하\n",
            "ㄱ\n",
            "ㄴ\n",
            "ㄷ\n",
            "ㄹ\n",
            "ㅁ\n",
            "ㅂ\n",
            "ㅅ\n",
            "ㅇ\n",
            "ㅈ\n",
            "ㅊ\n",
            "ㅋ\n",
            "ㅌ\n",
            "ㅍ\n",
            "ㅎ\n",
            "안\n",
            "녕\n",
            "하\n",
            "세\n",
            "요\n",
            "안\n",
            "녕\n",
            "하\n",
            "세\n",
            "요\n",
            "수\n",
            "사\n",
            "수\n",
            "박\n",
            "수\n",
            "상\n",
            "동\n",
            "해\n",
            "물\n",
            "과\n",
            "백\n",
            "두\n",
            "산\n",
            "이\n",
            "마\n",
            "르\n",
            "고\n",
            "닳\n",
            "도\n",
            "록\n",
            "하\n",
            "느\n",
            "님\n",
            "이\n",
            "보\n",
            "호\n",
            "하\n",
            "사\n",
            "우\n",
            "리\n",
            "나\n",
            "라\n",
            "만\n",
            "세\n"
          ]
        }
      ]
    },
    {
      "cell_type": "code",
      "source": [
        "# 이스케이프 문자\n",
        "\n",
        "regex = re.compile('\\[.*]')\n",
        "\n",
        "result = re.findall(regex, search_target)\n",
        "print(\"\\n\".join(result))"
      ],
      "metadata": {
        "colab": {
          "base_uri": "https://localhost:8080/"
        },
        "id": "9yA1wRqlc_CC",
        "outputId": "7b0ba9bb-a488-438f-c35b-51796da9bae4"
      },
      "execution_count": 192,
      "outputs": [
        {
          "output_type": "stream",
          "name": "stdout",
          "text": [
            "[123456]\n",
            "[456]\n",
            "[def]\n",
            "[(name, leehojun), (age, 10), (height, 180), (email, paul-lab@naver.com)]\n"
          ]
        }
      ]
    },
    {
      "cell_type": "code",
      "source": [
        "regex = re.compile('-.*-')\n",
        "\n",
        "result = re.findall(regex, search_target)\n",
        "print(\"\\n\".join(result))"
      ],
      "metadata": {
        "colab": {
          "base_uri": "https://localhost:8080/"
        },
        "id": "leyG7bBmdz3v",
        "outputId": "e3d1f0f3-eaa2-47e1-e878-a85b1d30c03b"
      },
      "execution_count": 193,
      "outputs": [
        {
          "output_type": "stream",
          "name": "stdout",
          "text": [
            "-9091-\n",
            "-5043-\n",
            "-5050-\n",
            "-49492-\n",
            "-721-\n"
          ]
        }
      ]
    },
    {
      "cell_type": "code",
      "source": [
        "regex = re.compile('\\^\\^')\n",
        "\n",
        "result = re.findall(regex, search_target)\n",
        "print(\"\\n\".join(result))"
      ],
      "metadata": {
        "colab": {
          "base_uri": "https://localhost:8080/"
        },
        "id": "1rLif9CAeBHy",
        "outputId": "cfef53fc-2a70-4e83-e334-336f8a1ba0c2"
      },
      "execution_count": 196,
      "outputs": [
        {
          "output_type": "stream",
          "name": "stdout",
          "text": [
            "^^\n"
          ]
        }
      ]
    },
    {
      "cell_type": "code",
      "source": [
        "regex = re.compile(':\\)')\n",
        "\n",
        "result = re.findall(regex, search_target)\n",
        "print(\"\\n\".join(result))"
      ],
      "metadata": {
        "colab": {
          "base_uri": "https://localhost:8080/"
        },
        "id": "Jskrcw_heD6e",
        "outputId": "8b92d016-fc27-4460-b5ec-4f1c27cdde36"
      },
      "execution_count": 197,
      "outputs": [
        {
          "output_type": "stream",
          "name": "stdout",
          "text": [
            "\n"
          ]
        }
      ]
    },
    {
      "cell_type": "markdown",
      "source": [
        "# 정규표현식 문제"
      ],
      "metadata": {
        "id": "LO78Td-meyBm"
      }
    },
    {
      "cell_type": "code",
      "source": [
        "example = '앞서 논문은 이러한 연구를 진행하였습니다(홍길동, 2019). 하지만 그런 것들을 개량하여 다음 논문이 나오게 되었고(임꺽정, 2020), 마지막으로 두가지를 모두 결합한 새로운 연구가 개발되었습니다.(심청이, 2021)'"
      ],
      "metadata": {
        "id": "nfa2szY5ewcv"
      },
      "execution_count": 199,
      "outputs": []
    },
    {
      "cell_type": "code",
      "source": [
        "print(example)"
      ],
      "metadata": {
        "colab": {
          "base_uri": "https://localhost:8080/"
        },
        "id": "qG8CSmJEfe2V",
        "outputId": "a8d85313-4500-4656-d847-21f544c6a960"
      },
      "execution_count": 200,
      "outputs": [
        {
          "output_type": "stream",
          "name": "stdout",
          "text": [
            "앞서 논문은 이러한 연구를 진행하였습니다(홍길동, 2019). 하지만 그런 것들을 개량하여 다음 논문이 나오게 되었고(임꺽정, 2020), 마지막으로 두가지를 모두 결합한 새로운 연구가 개발되었습니다.(심청이, 2021)\n"
          ]
        }
      ]
    },
    {
      "cell_type": "code",
      "source": [
        "# 여기서 인용구만 빼고 싶으면 다음과 같이 사용하면 됩니다.\n",
        "\n",
        "result = re.findall(r'\\([A-Za-z가-힣]+, \\d+\\)',example)\n",
        "\n",
        "print(result)"
      ],
      "metadata": {
        "colab": {
          "base_uri": "https://localhost:8080/"
        },
        "id": "ioymvYULfwn-",
        "outputId": "495daaf2-ca50-4d01-d9a2-1d7aa95fcd61"
      },
      "execution_count": 236,
      "outputs": [
        {
          "output_type": "stream",
          "name": "stdout",
          "text": [
            "['(홍길동, 2019)', '(임꺽정, 2020)', '(심청이, 2021)']\n"
          ]
        }
      ]
    },
    {
      "cell_type": "markdown",
      "source": [
        "[문자열 규칙에 r을 붙이는 이유]\n",
        "\n",
        "정규표현식에서 문자열을 사용할 때는 앞에 r을 붙이는 것을 추천 만약 문자열이 \\문자가 있다면 파이썬은 그 다음 문자를 그대로 인식하지 않고, 컴퓨터에 명령하기 위한 명령어로 인식\n",
        "\n",
        "그렇기 때문에 \\와 함께 사용하는 문자를 이스케이프문자라고 합니다.\n",
        "\n",
        "이스케이프 문자를 사용하고 싶지 않다면 \\앞에 \\를 하나 더 붙여서 \\를 일반문자로 인식시키면되고\n",
        "\n",
        "만약에 그렇게 하기 어렵다면 r을 붙이는 방법이 있다. r을 붙이면 그 뒤에 나오는 문자열에 들어 있는 문자를 모두 일반 문자로 인식합니다."
      ],
      "metadata": {
        "id": "wrJkJcJ481rJ"
      }
    },
    {
      "cell_type": "code",
      "source": [
        "# 정규표현식에서 .는 모든 문자를 의미하죠? \n",
        "# 그래서 필요한 문자 외에 다른 문자들도 집어삼켜버립니다.\n",
        "\n",
        "# 만약에 이런글을 썼다고 해보죠\n",
        "import re\n",
        "example = '저희 첫째아들은 2020년에 태어났구요. 저희 둘째 아들은 23년에 태어났는데 셋째는 26년에 가질 예정이에요'\n",
        "\n",
        "re.findall(r'\\d.+년', example)"
      ],
      "metadata": {
        "colab": {
          "base_uri": "https://localhost:8080/"
        },
        "id": "XzoGOQiU82wY",
        "outputId": "87a1b73b-441f-4838-a8ad-48dd9e189d98"
      },
      "execution_count": 237,
      "outputs": [
        {
          "output_type": "execute_result",
          "data": {
            "text/plain": [
              "['2020년에 태어났구요. 저희 둘째 아들은 23년에 태어났는데 셋째는 26년']"
            ]
          },
          "metadata": {},
          "execution_count": 237
        }
      ]
    },
    {
      "cell_type": "code",
      "source": [
        "# 이런 파일이 있을수 있어요\n",
        "# , ; \n",
        "\n",
        "data = 'a:3;b:4;c:5'\n",
        "for i in re.split(r';', data):\n",
        "  print(i)"
      ],
      "metadata": {
        "colab": {
          "base_uri": "https://localhost:8080/"
        },
        "id": "SFzDMX3E8_kI",
        "outputId": "4fba79e3-0fd1-4c95-db34-e5a22d998d96"
      },
      "execution_count": 238,
      "outputs": [
        {
          "output_type": "stream",
          "name": "stdout",
          "text": [
            "a:3\n",
            "b:4\n",
            "c:5\n"
          ]
        }
      ]
    },
    {
      "cell_type": "code",
      "source": [
        "# 이런 파일이 있을수 있어요\n",
        "\n",
        "data = 'a:3;b:4;c:5'\n",
        "for i in re.split(';', data):\n",
        "    print(i)\n",
        "    print(re.split(r':', i))\n"
      ],
      "metadata": {
        "colab": {
          "base_uri": "https://localhost:8080/"
        },
        "id": "LjANWUUW9P4Y",
        "outputId": "8fda3f13-b936-4b83-cd26-dae5e4bada3d"
      },
      "execution_count": 241,
      "outputs": [
        {
          "output_type": "stream",
          "name": "stdout",
          "text": [
            "a:3\n",
            "['a', '3']\n",
            "b:4\n",
            "['b', '4']\n",
            "c:5\n",
            "['c', '5']\n"
          ]
        }
      ]
    }
  ]
}