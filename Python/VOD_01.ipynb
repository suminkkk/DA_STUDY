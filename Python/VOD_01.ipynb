{
  "nbformat": 4,
  "nbformat_minor": 0,
  "metadata": {
    "colab": {
      "provenance": [],
      "toc_visible": true,
      "authorship_tag": "ABX9TyOWMN9pAJ2XxLgL57fSKxoN",
      "include_colab_link": true
    },
    "kernelspec": {
      "name": "python3",
      "display_name": "Python 3"
    },
    "language_info": {
      "name": "python"
    }
  },
  "cells": [
    {
      "cell_type": "markdown",
      "metadata": {
        "id": "view-in-github",
        "colab_type": "text"
      },
      "source": [
        "<a href=\"https://colab.research.google.com/github/suminkkk/DA_STUDY/blob/main/Python/VOD_01.ipynb\" target=\"_parent\"><img src=\"https://colab.research.google.com/assets/colab-badge.svg\" alt=\"Open In Colab\"/></a>"
      ]
    },
    {
      "cell_type": "code",
      "execution_count": null,
      "metadata": {
        "colab": {
          "base_uri": "https://localhost:8080/"
        },
        "id": "rFfsBCTwFvoi",
        "outputId": "1547746e-8300-4ddc-84a8-bb228971fdf4"
      },
      "outputs": [
        {
          "output_type": "stream",
          "name": "stdout",
          "text": [
            "음식가격:10000\n",
            "음료가격:299\n",
            "10299\n"
          ]
        }
      ],
      "source": [
        "# 사용자 입력값 형변환 str -> int\n",
        "\n",
        "food = int(input(\"음식가격:\"))\n",
        "food2 = int(input(\"음료가격:\"))\n",
        "bill = food +food2\n",
        "print(bill)"
      ]
    },
    {
      "cell_type": "code",
      "source": [
        "#사칙연산\n",
        "\n",
        "월세 = int(input(\"월세 입력:\"))\n",
        "관리비 = int(input(\"관리비:\"))\n",
        "\n",
        "print(월세 + 관리비)\n",
        "print(월세 - 관리비)\n",
        "print(월세 * 관리비)\n",
        "print(월세 / 관리비)\n"
      ],
      "metadata": {
        "colab": {
          "base_uri": "https://localhost:8080/"
        },
        "id": "mQX_dQlOGDdp",
        "outputId": "f68b2daa-7547-463c-8923-c8681c03841c"
      },
      "execution_count": null,
      "outputs": [
        {
          "output_type": "stream",
          "name": "stdout",
          "text": [
            "월세 입력:30\n",
            "관리비:3\n",
            "33\n",
            "27\n",
            "90\n",
            "10.0\n"
          ]
        }
      ]
    },
    {
      "cell_type": "code",
      "source": [
        "#list \n",
        "\n",
        "orders = [\"짜장\",\"짬뽕\",\"탕수육\"]\n",
        "\n",
        "print(orders[0:2])\n",
        "\n",
        "numbers = [10,20,30,40,50]\n",
        "\n",
        "print(numbers[3:5])"
      ],
      "metadata": {
        "colab": {
          "base_uri": "https://localhost:8080/"
        },
        "id": "pIAgAfgNHmRC",
        "outputId": "8aa23d4e-cdc1-4112-ebe6-38b79ee56479"
      },
      "execution_count": null,
      "outputs": [
        {
          "output_type": "stream",
          "name": "stdout",
          "text": [
            "['짜장', '짬뽕']\n",
            "[40, 50]\n"
          ]
        }
      ]
    },
    {
      "cell_type": "code",
      "source": [
        "#list append() - 마지막 /insert() - 순서지정\n",
        "\n",
        "orders.append(\"냉면\")\n",
        "orders\n",
        "\n",
        "orders.insert(1,\"마파두부\")\n",
        "orders"
      ],
      "metadata": {
        "colab": {
          "base_uri": "https://localhost:8080/"
        },
        "id": "viPYhqy6Ityk",
        "outputId": "da36e51f-b798-4499-82bf-c3f651dca74d"
      },
      "execution_count": null,
      "outputs": [
        {
          "output_type": "execute_result",
          "data": {
            "text/plain": [
              "['짜장', '마파두부', '마파두부', '짬뽕', '탕수육', '냉명', '냉면', '냉면', '냉면', '냉면', '냉면', '냉면']"
            ]
          },
          "metadata": {},
          "execution_count": 22
        }
      ]
    },
    {
      "cell_type": "code",
      "source": [],
      "metadata": {
        "id": "0zPzuqrvD2aH"
      },
      "execution_count": null,
      "outputs": []
    },
    {
      "cell_type": "code",
      "source": [
        "# delete / remove()\n",
        "\n",
        "del orders[1]\n",
        "print(orders)\n"
      ],
      "metadata": {
        "colab": {
          "base_uri": "https://localhost:8080/"
        },
        "id": "Ww2IFPK3JMbR",
        "outputId": "7ca99611-b81d-4af0-c91b-6c25bb06fd92"
      },
      "execution_count": null,
      "outputs": [
        {
          "output_type": "stream",
          "name": "stdout",
          "text": [
            "['짜장', '마파두부', '짬뽕', '탕수육', '냉명', '냉면', '냉면', '냉면', '냉면', '냉면', '냉면']\n"
          ]
        }
      ]
    },
    {
      "cell_type": "code",
      "source": [
        "orders.remove(\"냉면\")\n",
        "orders"
      ],
      "metadata": {
        "colab": {
          "base_uri": "https://localhost:8080/"
        },
        "id": "3NrQsApjKV9F",
        "outputId": "d34baf41-5bf8-4554-b434-efbc88855226"
      },
      "execution_count": null,
      "outputs": [
        {
          "output_type": "execute_result",
          "data": {
            "text/plain": [
              "['짜장', '마파두부', '짬뽕', '탕수육', '냉명', '냉면']"
            ]
          },
          "metadata": {},
          "execution_count": 28
        }
      ]
    },
    {
      "cell_type": "code",
      "source": [
        "# len()\n",
        "print(orders)\n",
        "len(orders)"
      ],
      "metadata": {
        "colab": {
          "base_uri": "https://localhost:8080/"
        },
        "id": "P_dOBzaxK5-Q",
        "outputId": "5684f88a-4648-4d62-a8cd-3d9f1832dfd9"
      },
      "execution_count": null,
      "outputs": [
        {
          "output_type": "stream",
          "name": "stdout",
          "text": [
            "['짜장', '마파두부', '짬뽕', '탕수육', '냉명', '냉면']\n"
          ]
        },
        {
          "output_type": "execute_result",
          "data": {
            "text/plain": [
              "6"
            ]
          },
          "metadata": {},
          "execution_count": 31
        }
      ]
    },
    {
      "cell_type": "code",
      "source": [
        "name = \"안녕하세요 코드라이언 입니다.\"\n",
        "print(len(name))"
      ],
      "metadata": {
        "colab": {
          "base_uri": "https://localhost:8080/"
        },
        "id": "84VuEcC0LguW",
        "outputId": "a0c03320-a2a4-4441-feb8-2c3158658706"
      },
      "execution_count": null,
      "outputs": [
        {
          "output_type": "stream",
          "name": "stdout",
          "text": [
            "16\n"
          ]
        }
      ]
    },
    {
      "cell_type": "code",
      "source": [
        "# 숫자 list sum()\n",
        "\n",
        "num = [20,40,50,10,30]\n",
        "numList = [2,4,5,6]\n",
        "\n",
        "print(sum(num))\n",
        "\n",
        "add = num[0]+num[1]+num[2]+num[3]+num[4]\n",
        "print(add)\n",
        "\n",
        "print(sum(num)//len(num))"
      ],
      "metadata": {
        "colab": {
          "base_uri": "https://localhost:8080/"
        },
        "id": "bM8ryUYLLx_-",
        "outputId": "a0a220be-a4f1-458f-8aec-52ef5eb224f9"
      },
      "execution_count": null,
      "outputs": [
        {
          "output_type": "stream",
          "name": "stdout",
          "text": [
            "150\n",
            "150\n",
            "30\n"
          ]
        }
      ]
    },
    {
      "cell_type": "code",
      "source": [
        "# 최대 최소 max() / min()\n",
        "\n",
        "print(max(num))\n",
        "print(min(num))"
      ],
      "metadata": {
        "colab": {
          "base_uri": "https://localhost:8080/"
        },
        "id": "z2DalDMuO9dy",
        "outputId": "ec4cbc37-3597-47a1-f8da-9ba1ed565aa5"
      },
      "execution_count": null,
      "outputs": [
        {
          "output_type": "stream",
          "name": "stdout",
          "text": [
            "50\n",
            "10\n"
          ]
        }
      ]
    },
    {
      "cell_type": "code",
      "source": [
        "#dictionary\n",
        "print({})\n",
        "\n",
        "menu = {\"짜장\":4000, \"짬뽕\":5000,\"탕수육\":9000}\n",
        "menu\n",
        "\n",
        "family ={\"아빠\":48,\"엄마\":43,\"나\":23}\n",
        "family"
      ],
      "metadata": {
        "colab": {
          "base_uri": "https://localhost:8080/"
        },
        "id": "zIs3nH_aPK2_",
        "outputId": "1029c935-4c65-4ca8-b615-0a4577938032"
      },
      "execution_count": null,
      "outputs": [
        {
          "output_type": "stream",
          "name": "stdout",
          "text": [
            "{}\n"
          ]
        },
        {
          "output_type": "execute_result",
          "data": {
            "text/plain": [
              "{'아빠': 48, '엄마': 43, '나': 23}"
            ]
          },
          "metadata": {},
          "execution_count": 49
        }
      ]
    },
    {
      "cell_type": "code",
      "source": [
        "#딕셔너리 데이터 추가\n",
        "\n",
        "menu[\"냉면\"] = 40000\n",
        "print(menu)"
      ],
      "metadata": {
        "colab": {
          "base_uri": "https://localhost:8080/"
        },
        "id": "YROLc_XXTEx8",
        "outputId": "691c0ff1-4bff-4e5b-f2f6-551c0425340a"
      },
      "execution_count": null,
      "outputs": [
        {
          "output_type": "stream",
          "name": "stdout",
          "text": [
            "{'짜장': 4000, '짬뽕': 5000, '탕수육': 9000, '냉면': 40000}\n"
          ]
        }
      ]
    },
    {
      "cell_type": "code",
      "source": [
        "#딕셔너리 벨류 \n",
        "print(menu[\"짜장\"])\n",
        "print(menu[\"짬뽕\"])"
      ],
      "metadata": {
        "colab": {
          "base_uri": "https://localhost:8080/"
        },
        "id": "lQXTt67sT2bK",
        "outputId": "2fe45cc0-b5de-47fe-e2ab-5600b2264d8e"
      },
      "execution_count": null,
      "outputs": [
        {
          "output_type": "stream",
          "name": "stdout",
          "text": [
            "4000\n",
            "5000\n"
          ]
        }
      ]
    },
    {
      "cell_type": "code",
      "source": [
        "# value 변경\n",
        "\n",
        "menu[\"탕수육\"] = 4000\n",
        "menu"
      ],
      "metadata": {
        "colab": {
          "base_uri": "https://localhost:8080/"
        },
        "id": "XKEWX7vIUmGc",
        "outputId": "f2330ce1-3dbe-49f9-e366-c92b06ca1377"
      },
      "execution_count": null,
      "outputs": [
        {
          "output_type": "execute_result",
          "data": {
            "text/plain": [
              "{'짜장': 4000, '짬뽕': 5000, '탕수육': 4000, '냉면': 40000}"
            ]
          },
          "metadata": {},
          "execution_count": 61
        }
      ]
    },
    {
      "cell_type": "code",
      "source": [
        "# 딕셔너리 삭제\n",
        "\n",
        "del menu[\"냉면\"]\n",
        "menu"
      ],
      "metadata": {
        "colab": {
          "base_uri": "https://localhost:8080/"
        },
        "id": "o8lUj1xjUrPm",
        "outputId": "ecc4b596-f408-432f-d188-a644bdd31ee6"
      },
      "execution_count": null,
      "outputs": [
        {
          "output_type": "execute_result",
          "data": {
            "text/plain": [
              "{'짜장': 4000, '짬뽕': 5000, '탕수육': 4000}"
            ]
          },
          "metadata": {},
          "execution_count": 62
        }
      ]
    },
    {
      "cell_type": "code",
      "source": [
        "menu = {\"짜장\":3000, \"짬뽕\":4000, \"탕수육\":9000}\n",
        "menu[\"냉면\"] = 6000\n",
        "print(menu[\"짬뽕\"])\n",
        "menu[\"탕수육\"] = 9999\n",
        "print(menu)"
      ],
      "metadata": {
        "colab": {
          "base_uri": "https://localhost:8080/"
        },
        "id": "RhBfpMcQVFTE",
        "outputId": "577b08c5-134d-4c17-d0bf-965a222bbe4b"
      },
      "execution_count": null,
      "outputs": [
        {
          "output_type": "stream",
          "name": "stdout",
          "text": [
            "4000\n",
            "{'짜장': 3000, '짬뽕': 4000, '탕수육': 9999, '냉면': 6000}\n"
          ]
        }
      ]
    },
    {
      "cell_type": "markdown",
      "source": [
        "# 관계연산 / if \n",
        "\n",
        "```\n",
        "# 코드로 형식 지정됨\n",
        "```\n",
        "\n"
      ],
      "metadata": {
        "id": "DfMfnclsWaZa"
      }
    },
    {
      "cell_type": "code",
      "source": [
        "#관계연산\n",
        "myGrade = int(input(\"학번입력\"))\n",
        "yourGrade = int(input(\"학번입력\"))\n",
        "\n",
        "print(myGrade == yourGrade)\n",
        "print(myGrade != yourGrade)\n"
      ],
      "metadata": {
        "colab": {
          "base_uri": "https://localhost:8080/"
        },
        "id": "h8Q9VhcqWdQ-",
        "outputId": "b32c1920-b66e-4f82-eee9-6d8511d44f22"
      },
      "execution_count": null,
      "outputs": [
        {
          "output_type": "stream",
          "name": "stdout",
          "text": [
            "학번입력10\n",
            "학번입력30\n",
            "False\n",
            "True\n"
          ]
        }
      ]
    },
    {
      "cell_type": "code",
      "source": [
        "#if\n",
        "\n",
        "if myGrade == yourGrade:\n",
        "    print(\"앗! 동기네요\")\n",
        "elif myGrade > yourGrade:\n",
        "    print(\"내가 슨배림\")\n",
        "elif myGrade < yourGrade:\n",
        "    print(f\"{yourGrade}학번 슨배림 반갑습니댜\")"
      ],
      "metadata": {
        "colab": {
          "base_uri": "https://localhost:8080/"
        },
        "id": "TLrChjQxXw3Z",
        "outputId": "2d2955c0-2cb0-4af4-9881-99b216ec6358"
      },
      "execution_count": null,
      "outputs": [
        {
          "output_type": "stream",
          "name": "stdout",
          "text": [
            "30학번 슨배림 반갑습니댜\n"
          ]
        }
      ]
    },
    {
      "cell_type": "code",
      "source": [
        "orders = [\"짜장\",\"짬뽕\",\"탕수육\"]\n",
        "food = input(\"먹고싶으 메뉴를 입력해주세요:\")\n",
        "\n",
        "if food in orders:\n",
        "    print(\"주문가능\")\n",
        "else:\n",
        "    print(\"주문불가능\")"
      ],
      "metadata": {
        "colab": {
          "base_uri": "https://localhost:8080/"
        },
        "id": "mnV8lyPCYG12",
        "outputId": "59bed6bc-d8e7-45ce-c50b-3b37d73b5adc"
      },
      "execution_count": null,
      "outputs": [
        {
          "output_type": "stream",
          "name": "stdout",
          "text": [
            "먹고싶으 메뉴를 입력해주세요:짜장\n",
            "주문가능\n"
          ]
        }
      ]
    },
    {
      "cell_type": "code",
      "source": [
        "menu = {\"짜장\":3000, \"짬뽕\":4000, \"탕수육\":9000}\n",
        "food = input(\"먹고싶으 메뉴를 입력해주세요:\")\n",
        "\n",
        "if food in menu:\n",
        "    print(menu[food],\"원입니다.\")\n",
        "else:\n",
        "    print(\"주문불가\")"
      ],
      "metadata": {
        "colab": {
          "base_uri": "https://localhost:8080/"
        },
        "id": "8xB8zMOPbNkm",
        "outputId": "339efa16-258d-4b37-f89c-cdaa9c96c0a1"
      },
      "execution_count": null,
      "outputs": [
        {
          "output_type": "stream",
          "name": "stdout",
          "text": [
            "먹고싶으 메뉴를 입력해주세요:짜장\n",
            "3000 원입니다.\n"
          ]
        }
      ]
    },
    {
      "cell_type": "markdown",
      "source": [
        "# 반복문"
      ],
      "metadata": {
        "id": "44k7wiLUceT3"
      }
    },
    {
      "cell_type": "code",
      "source": [
        "#while : 조건이 True 인 동안 계속 실행\n",
        "\n",
        "i = 0\n",
        "while i< 6:\n",
        "    print(i)\n",
        "    i = i +1        # i += 1"
      ],
      "metadata": {
        "colab": {
          "base_uri": "https://localhost:8080/"
        },
        "id": "9XtwfXj3cfjZ",
        "outputId": "4f00c030-3a8e-4101-fb3f-19c229fc8067"
      },
      "execution_count": null,
      "outputs": [
        {
          "output_type": "stream",
          "name": "stdout",
          "text": [
            "0\n",
            "1\n",
            "2\n",
            "3\n",
            "4\n",
            "5\n"
          ]
        }
      ]
    },
    {
      "cell_type": "code",
      "source": [
        "i = 5\n",
        "while i >= 0: \n",
        "    print(i)\n",
        "    i -= 1"
      ],
      "metadata": {
        "colab": {
          "base_uri": "https://localhost:8080/"
        },
        "id": "7MCD3YJGgdZa",
        "outputId": "9151d196-ddfd-4d32-a4f2-57425f8b258c"
      },
      "execution_count": null,
      "outputs": [
        {
          "output_type": "stream",
          "name": "stdout",
          "text": [
            "5\n",
            "4\n",
            "3\n",
            "2\n",
            "1\n",
            "0\n"
          ]
        }
      ]
    },
    {
      "cell_type": "code",
      "source": [
        "#break\n",
        "\n",
        "i = 0\n",
        "while True:\n",
        "    print(i)\n",
        "    i = i + 1\n",
        "\n",
        "    if i>=3:\n",
        "        print(\"if문 동작\")\n",
        "        break\n",
        "print(\"반복문종료\")"
      ],
      "metadata": {
        "colab": {
          "base_uri": "https://localhost:8080/"
        },
        "id": "Wl5ZcNLZgTML",
        "outputId": "49124c60-bac7-4ad9-8122-8c63504b3483"
      },
      "execution_count": null,
      "outputs": [
        {
          "output_type": "stream",
          "name": "stdout",
          "text": [
            "0\n",
            "1\n",
            "2\n",
            "if문 동작\n",
            "반복문종료\n"
          ]
        }
      ]
    },
    {
      "cell_type": "code",
      "source": [
        "#continue\n",
        "\n",
        "i = 0\n",
        "while i<10:\n",
        "    i = i + 1\n",
        "\n",
        "    if i % 2 == 0:\n",
        "        continue\n",
        "    print(i)\n",
        "    \n",
        "print(\"반복문종료\")"
      ],
      "metadata": {
        "colab": {
          "base_uri": "https://localhost:8080/"
        },
        "id": "awZEFLy7hkf7",
        "outputId": "c11d2313-7c8e-41ad-b099-4d8501ab5cc0"
      },
      "execution_count": null,
      "outputs": [
        {
          "output_type": "stream",
          "name": "stdout",
          "text": [
            "1\n",
            "3\n",
            "5\n",
            "7\n",
            "9\n",
            "반복문종료\n"
          ]
        }
      ]
    },
    {
      "cell_type": "code",
      "source": [
        "# for 변수 in 시퀀스 : \n",
        "\n",
        "for x in [10,20,30]:\n",
        "    print(\"안녕하세요\")\n"
      ],
      "metadata": {
        "colab": {
          "base_uri": "https://localhost:8080/"
        },
        "id": "Tpyaw804iKMM",
        "outputId": "4cab04a8-5dc6-42cd-e189-2e45709662f7"
      },
      "execution_count": null,
      "outputs": [
        {
          "output_type": "stream",
          "name": "stdout",
          "text": [
            "안녕하세요\n",
            "안녕하세요\n",
            "안녕하세요\n"
          ]
        }
      ]
    },
    {
      "cell_type": "code",
      "source": [
        "for i in range(10):\n",
        "    print(\"안녕하세요\")"
      ],
      "metadata": {
        "colab": {
          "base_uri": "https://localhost:8080/"
        },
        "id": "Yo0H268djU_3",
        "outputId": "ff5204d0-ddf7-419a-c895-d583c39ab90b"
      },
      "execution_count": null,
      "outputs": [
        {
          "output_type": "stream",
          "name": "stdout",
          "text": [
            "안녕하세요\n",
            "안녕하세요\n",
            "안녕하세요\n",
            "안녕하세요\n",
            "안녕하세요\n",
            "안녕하세요\n",
            "안녕하세요\n",
            "안녕하세요\n",
            "안녕하세요\n",
            "안녕하세요\n"
          ]
        }
      ]
    },
    {
      "cell_type": "code",
      "source": [
        "# range(시작,종료,스텝)\n",
        "\n",
        "for i in range(0,100,10):\n",
        "    print(i)"
      ],
      "metadata": {
        "colab": {
          "base_uri": "https://localhost:8080/"
        },
        "id": "KkUSOgVhjcx4",
        "outputId": "a7282267-7949-4883-ef3e-aee34e1f5aa2"
      },
      "execution_count": null,
      "outputs": [
        {
          "output_type": "stream",
          "name": "stdout",
          "text": [
            "0\n",
            "10\n",
            "20\n",
            "30\n",
            "40\n",
            "50\n",
            "60\n",
            "70\n",
            "80\n",
            "90\n"
          ]
        }
      ]
    },
    {
      "cell_type": "code",
      "source": [
        "for x in range(3,31,3):\n",
        "    print(x)"
      ],
      "metadata": {
        "colab": {
          "base_uri": "https://localhost:8080/"
        },
        "id": "uPsXkU8clUDU",
        "outputId": "4a837dd4-fa0f-4947-b6f4-25164afcc7da"
      },
      "execution_count": null,
      "outputs": [
        {
          "output_type": "stream",
          "name": "stdout",
          "text": [
            "3\n",
            "6\n",
            "9\n",
            "12\n",
            "15\n",
            "18\n",
            "21\n",
            "24\n",
            "27\n",
            "30\n"
          ]
        }
      ]
    },
    {
      "cell_type": "code",
      "source": [
        "for x in range(2,31,2):\n",
        "    print(x)"
      ],
      "metadata": {
        "colab": {
          "base_uri": "https://localhost:8080/"
        },
        "id": "zqSggycamTqQ",
        "outputId": "965f1759-9fe2-4b83-c6c4-1497e0629b81"
      },
      "execution_count": null,
      "outputs": [
        {
          "output_type": "stream",
          "name": "stdout",
          "text": [
            "2\n",
            "4\n",
            "6\n",
            "8\n",
            "10\n",
            "12\n",
            "14\n",
            "16\n",
            "18\n",
            "20\n",
            "22\n",
            "24\n",
            "26\n",
            "28\n",
            "30\n"
          ]
        }
      ]
    },
    {
      "cell_type": "code",
      "source": [
        "sum = 0\n",
        "\n",
        "for i in range(1,101):\n",
        "    sum += i\n",
        "\n",
        "print(sum)"
      ],
      "metadata": {
        "colab": {
          "base_uri": "https://localhost:8080/"
        },
        "id": "hqOKK8KtmiHC",
        "outputId": "2ae6eaee-7700-41ef-d2fa-47437e7d9ff4"
      },
      "execution_count": null,
      "outputs": [
        {
          "output_type": "stream",
          "name": "stdout",
          "text": [
            "5050\n"
          ]
        }
      ]
    },
    {
      "cell_type": "code",
      "source": [
        "multi = 1\n",
        "for i in range(1,11):\n",
        "    multi *= i\n",
        "\n",
        "print(multi)"
      ],
      "metadata": {
        "colab": {
          "base_uri": "https://localhost:8080/"
        },
        "id": "XyF4bz-jmwwv",
        "outputId": "0faed4fb-5378-49c1-d393-1b129aeade28"
      },
      "execution_count": null,
      "outputs": [
        {
          "output_type": "stream",
          "name": "stdout",
          "text": [
            "3628800\n"
          ]
        }
      ]
    },
    {
      "cell_type": "markdown",
      "source": [
        "연습문제"
      ],
      "metadata": {
        "id": "bS5UmZ7WnuOq"
      }
    },
    {
      "cell_type": "code",
      "source": [
        "for i in range(5):\n",
        "    print('*')"
      ],
      "metadata": {
        "colab": {
          "base_uri": "https://localhost:8080/"
        },
        "id": "3-fvFARVnv_H",
        "outputId": "2d099217-11e5-42a7-c29f-e1d97f42ade8"
      },
      "execution_count": null,
      "outputs": [
        {
          "output_type": "stream",
          "name": "stdout",
          "text": [
            "*\n",
            "*\n",
            "*\n",
            "*\n",
            "*\n"
          ]
        }
      ]
    },
    {
      "cell_type": "code",
      "source": [
        "for i in range(5):\n",
        "    print(\"*\",end=\"\")"
      ],
      "metadata": {
        "colab": {
          "base_uri": "https://localhost:8080/"
        },
        "id": "BxJQuGehoyYW",
        "outputId": "d7aa7d39-7c05-4d2a-80d3-741598e8b017"
      },
      "execution_count": null,
      "outputs": [
        {
          "output_type": "stream",
          "name": "stdout",
          "text": [
            "*****"
          ]
        }
      ]
    },
    {
      "cell_type": "code",
      "source": [
        "for i in range(5):\n",
        "    for j in range(5):\n",
        "        print(\"*\",end=\"\")   \n",
        "    print(\"*\")   "
      ],
      "metadata": {
        "colab": {
          "base_uri": "https://localhost:8080/"
        },
        "id": "5BzZngk_pC9t",
        "outputId": "12c18052-052f-4f8b-ab4b-98ae78f6ed26"
      },
      "execution_count": null,
      "outputs": [
        {
          "output_type": "stream",
          "name": "stdout",
          "text": [
            "******\n",
            "******\n",
            "******\n",
            "******\n",
            "******\n"
          ]
        }
      ]
    },
    {
      "cell_type": "code",
      "source": [
        "#풀이\n",
        "for x in range(5):\n",
        "    print(\"*\"*5)"
      ],
      "metadata": {
        "colab": {
          "base_uri": "https://localhost:8080/"
        },
        "id": "VeNccquV_-Hp",
        "outputId": "62b9f10c-8f00-4f7a-c48e-7bf2eb07411b"
      },
      "execution_count": null,
      "outputs": [
        {
          "output_type": "stream",
          "name": "stdout",
          "text": [
            "*****\n",
            "*****\n",
            "*****\n",
            "*****\n",
            "*****\n"
          ]
        }
      ]
    },
    {
      "cell_type": "code",
      "source": [
        "for i in range(5):\n",
        "    for j in range(5):\n",
        "        if j < i:\n",
        "            print('*',end=\"\")\n",
        "    print(\"*\")"
      ],
      "metadata": {
        "colab": {
          "base_uri": "https://localhost:8080/"
        },
        "id": "47OfgpLTp01C",
        "outputId": "642e09b4-b151-4b6c-9034-0021d504acb0"
      },
      "execution_count": null,
      "outputs": [
        {
          "output_type": "stream",
          "name": "stdout",
          "text": [
            "*\n",
            "**\n",
            "***\n",
            "****\n",
            "*****\n"
          ]
        }
      ]
    },
    {
      "cell_type": "code",
      "source": [
        "for x in range(5):\n",
        "    print(\"*\" * (x + 1))"
      ],
      "metadata": {
        "colab": {
          "base_uri": "https://localhost:8080/"
        },
        "id": "XBb1WP4kAFgU",
        "outputId": "6934ddc3-8b19-4653-8ef8-8610394d3cf5"
      },
      "execution_count": null,
      "outputs": [
        {
          "output_type": "stream",
          "name": "stdout",
          "text": [
            "*\n",
            "**\n",
            "***\n",
            "****\n",
            "*****\n"
          ]
        }
      ]
    },
    {
      "cell_type": "code",
      "source": [
        "for i in range(1,6):\n",
        "    print(i)"
      ],
      "metadata": {
        "colab": {
          "base_uri": "https://localhost:8080/"
        },
        "id": "vg8IWAaw7cLr",
        "outputId": "159707d1-5c78-4439-ee73-f375fa4fdb8e"
      },
      "execution_count": null,
      "outputs": [
        {
          "output_type": "stream",
          "name": "stdout",
          "text": [
            "1\n",
            "2\n",
            "3\n",
            "4\n",
            "5\n"
          ]
        }
      ]
    },
    {
      "cell_type": "code",
      "source": [
        "x = int(input(\"숫자입력\"))\n",
        "for i in range(x):\n",
        "    print(i+1)"
      ],
      "metadata": {
        "colab": {
          "base_uri": "https://localhost:8080/"
        },
        "id": "FMHgnd8v7qrA",
        "outputId": "0ea8d287-4b03-4e71-ef03-880599346d39"
      },
      "execution_count": null,
      "outputs": [
        {
          "output_type": "stream",
          "name": "stdout",
          "text": [
            "숫자입력5\n",
            "1\n",
            "2\n",
            "3\n",
            "4\n",
            "5\n"
          ]
        }
      ]
    },
    {
      "cell_type": "code",
      "source": [
        "x = int(input(\"숫자입력\"))\n",
        "for i in range(x):\n",
        "    print(x-i)"
      ],
      "metadata": {
        "colab": {
          "base_uri": "https://localhost:8080/"
        },
        "id": "DZEQMLwL76fI",
        "outputId": "a8f4a7f8-a98d-4d1c-9b47-0d5a774b0b61"
      },
      "execution_count": null,
      "outputs": [
        {
          "output_type": "stream",
          "name": "stdout",
          "text": [
            "숫자입력5\n",
            "5\n",
            "4\n",
            "3\n",
            "2\n",
            "1\n"
          ]
        }
      ]
    },
    {
      "cell_type": "code",
      "source": [
        "x = int(input(\"숫자입력\"))\n",
        "for i in range(x,0,-1):\n",
        "    print(i)"
      ],
      "metadata": {
        "colab": {
          "base_uri": "https://localhost:8080/"
        },
        "id": "u7JDPTBsAzR6",
        "outputId": "961f877d-737c-43e2-c78e-dde4dc7f75ae"
      },
      "execution_count": null,
      "outputs": [
        {
          "output_type": "stream",
          "name": "stdout",
          "text": [
            "숫자입력4\n",
            "4\n",
            "3\n",
            "2\n",
            "1\n"
          ]
        }
      ]
    },
    {
      "cell_type": "code",
      "source": [
        "#줄바꿈 출력\n",
        "x = 30\n",
        "for i in range(x):\n",
        "    print(i,end=\"\")\n",
        "    if i%10 == 0:\n",
        "        print()"
      ],
      "metadata": {
        "colab": {
          "base_uri": "https://localhost:8080/"
        },
        "id": "_HZQf4x08Li8",
        "outputId": "a83d15ae-85d6-4c51-b1ad-fe971ccb7a34"
      },
      "execution_count": null,
      "outputs": [
        {
          "output_type": "stream",
          "name": "stdout",
          "text": [
            "0\n",
            "12345678910\n",
            "11121314151617181920\n",
            "212223242526272829"
          ]
        }
      ]
    },
    {
      "cell_type": "code",
      "source": [
        "x = int(input(\"숫자를 입력하세요: \"))\n",
        "for i in range(x):\n",
        "    if i%10 ==0 :\n",
        "        print()\n",
        "    print(i+1,end=\"\\t\")"
      ],
      "metadata": {
        "colab": {
          "base_uri": "https://localhost:8080/"
        },
        "id": "__M5hCoJA-Rq",
        "outputId": "9a6ca8b7-ea11-46a7-9f22-270f4998d008"
      },
      "execution_count": null,
      "outputs": [
        {
          "output_type": "stream",
          "name": "stdout",
          "text": [
            "숫자를 입력하세요: 49\n",
            "\n",
            "1\t2\t3\t4\t5\t6\t7\t8\t9\t10\t\n",
            "11\t12\t13\t14\t15\t16\t17\t18\t19\t20\t\n",
            "21\t22\t23\t24\t25\t26\t27\t28\t29\t30\t\n",
            "31\t32\t33\t34\t35\t36\t37\t38\t39\t40\t\n",
            "41\t42\t43\t44\t45\t46\t47\t48\t49\t"
          ]
        }
      ]
    },
    {
      "cell_type": "code",
      "source": [
        "from IPython.utils.path import random\n",
        "#로또 번호 생성\n",
        "# random.sample(범위,개수)\n",
        "\n",
        "lotto = random.sample(range(1,46),6)\n",
        "print(lotto)\n",
        "\n",
        "ranNum = random.sample(range(1,51),3)\n",
        "print(ranNum)"
      ],
      "metadata": {
        "colab": {
          "base_uri": "https://localhost:8080/"
        },
        "id": "e7NORqev8tql",
        "outputId": "60189acc-cdab-4db8-9501-155e27b94240"
      },
      "execution_count": null,
      "outputs": [
        {
          "output_type": "stream",
          "name": "stdout",
          "text": [
            "[21, 10, 12, 34, 18, 22]\n",
            "[36, 33, 44]\n"
          ]
        }
      ]
    },
    {
      "cell_type": "code",
      "source": [
        "num = int(input(\"로또 몇개살건가?\"))\n",
        "\n",
        "for i in range(num):\n",
        "    lotto = random.sample(range(1,46),6)\n",
        "    #print(lotto.sort())\n",
        "    print(sorted(lotto))\n"
      ],
      "metadata": {
        "colab": {
          "base_uri": "https://localhost:8080/"
        },
        "id": "HxYshFOB-Lgu",
        "outputId": "8af27964-41ea-4ba0-963c-f1cefa8c863b"
      },
      "execution_count": null,
      "outputs": [
        {
          "output_type": "stream",
          "name": "stdout",
          "text": [
            "로또 몇개살건가?4\n",
            "[1, 4, 9, 23, 26, 40]\n",
            "[2, 7, 12, 20, 27, 44]\n",
            "[1, 3, 4, 7, 29, 39]\n",
            "[3, 9, 10, 16, 34, 35]\n"
          ]
        }
      ]
    },
    {
      "cell_type": "code",
      "source": [
        "small = int(input(\"작은수 입력\"))\n",
        "big = int(input(\"큰수 입력\"))\n",
        "middle = int(input(\"중간 입력\"))\n",
        "\n",
        "if small > middle or big < middle:\n",
        "    print('범위를 벗어났습니다.')\n",
        "else:\n",
        "    small_diff = middle - small\n",
        "    big_diff = big-middle\n",
        "    if small_diff < big_diff:\n",
        "        print(small,'과 가깝습니다.')\n",
        "    elif big_diff < small_diff:\n",
        "        print(big,'과 가깝습니다.')\n",
        "    else:\n",
        "        print(\"중간값입니다.\")"
      ],
      "metadata": {
        "colab": {
          "base_uri": "https://localhost:8080/"
        },
        "id": "ILklLN1u-biM",
        "outputId": "66bb378e-f555-4daa-9db7-b9de91b70105"
      },
      "execution_count": null,
      "outputs": [
        {
          "output_type": "stream",
          "name": "stdout",
          "text": [
            "작은수 입력3\n",
            "큰수 입력30\n",
            "중간 입력6\n",
            "3 과 가깝습니다.\n"
          ]
        }
      ]
    }
  ]
}