{
  "nbformat": 4,
  "nbformat_minor": 0,
  "metadata": {
    "colab": {
      "provenance": [],
      "toc_visible": true,
      "authorship_tag": "ABX9TyPR4B5L1XCWeUR2y9e3JgLf",
      "include_colab_link": true
    },
    "kernelspec": {
      "name": "python3",
      "display_name": "Python 3"
    },
    "language_info": {
      "name": "python"
    }
  },
  "cells": [
    {
      "cell_type": "markdown",
      "metadata": {
        "id": "view-in-github",
        "colab_type": "text"
      },
      "source": [
        "<a href=\"https://colab.research.google.com/github/suminkkk/DA_STUDY/blob/main/Python/VOD_03.ipynb\" target=\"_parent\"><img src=\"https://colab.research.google.com/assets/colab-badge.svg\" alt=\"Open In Colab\"/></a>"
      ]
    },
    {
      "cell_type": "markdown",
      "source": [
        "# 메뉴 정해주기 "
      ],
      "metadata": {
        "id": "ND5zmIlpHUj-"
      }
    },
    {
      "cell_type": "code",
      "execution_count": null,
      "metadata": {
        "colab": {
          "base_uri": "https://localhost:8080/"
        },
        "id": "iDg9_1jrE_z3",
        "outputId": "48aed6f4-5f83-4dd5-af16-c8edf0c8ef28"
      },
      "outputs": [
        {
          "output_type": "stream",
          "name": "stdout",
          "text": [
            "피자\n",
            "된장찌개\n",
            "제육볶음\n",
            "치킨\n",
            "치킨\n",
            "피자\n",
            "피자\n",
            "치킨\n",
            "된장찌개\n",
            "치킨\n",
            "떡볶이\n",
            "피자\n",
            "치킨\n",
            "된장찌개\n",
            "제육볶음\n",
            "된장찌개\n",
            "떡볶이\n",
            "떡볶이\n",
            "된장찌개\n",
            "된장찌개\n",
            "떡볶이\n",
            "피자\n",
            "된장찌개\n",
            "피자\n",
            "피자\n",
            "된장찌개\n",
            "떡볶이\n",
            "떡볶이\n",
            "떡볶이\n",
            "치킨\n"
          ]
        }
      ],
      "source": [
        "import random\n",
        "import time \n",
        "\n",
        "#랜덤\n",
        "menu = random.choice([\"된장찌개\",\"피자\",\"제육볶음\",\"치킨\",\"떡볶이\"])\n",
        "\n",
        "#반복\n",
        "for i in range(30):\n",
        "    print(random.choice([\"된장찌개\",\"피자\",\"제육볶음\",\"치킨\",\"떡볶이\"]))\n",
        "\n",
        "#무한루프\n",
        "while True:\n",
        "    print(random.choice([\"된장찌개\",\"피자\",\"제육볶음\",\"치킨\",\"떡볶이\"]))\n",
        "    break\n",
        "    time.sleep(1)\n"
      ]
    },
    {
      "cell_type": "code",
      "source": [
        "#변수 \n",
        "\n",
        "lunch = random.choice([\"된장찌개\",\"피자\",\"제육볶음\"])\n",
        "lunch = \"냉장고\"\n",
        "print(lunch)"
      ],
      "metadata": {
        "colab": {
          "base_uri": "https://localhost:8080/"
        },
        "id": "d6SxTXpvNED9",
        "outputId": "c7700e0f-2746-447f-d69f-52648086caa8"
      },
      "execution_count": null,
      "outputs": [
        {
          "output_type": "stream",
          "name": "stdout",
          "text": [
            "냉장고\n"
          ]
        }
      ]
    },
    {
      "cell_type": "code",
      "source": [
        "#Dictionary\n",
        "\n",
        "information = {\"고향\":\"수원\", \"취미\":\"영화관람\", \"좋아하는 음식\":\"국수\"}\n",
        "information.get(\"고향\")\n"
      ],
      "metadata": {
        "colab": {
          "base_uri": "https://localhost:8080/",
          "height": 35
        },
        "id": "WCF5lEUqNXYU",
        "outputId": "e01eb2dc-2239-447c-a724-3b711a5c71e9"
      },
      "execution_count": null,
      "outputs": [
        {
          "output_type": "execute_result",
          "data": {
            "text/plain": [
              "'수원'"
            ],
            "application/vnd.google.colaboratory.intrinsic+json": {
              "type": "string"
            }
          },
          "metadata": {},
          "execution_count": 57
        }
      ]
    },
    {
      "cell_type": "code",
      "source": [
        "#List\n",
        "\n",
        "information[\"특기\"] = \"피아노\"\n",
        "information[\"사는곳\"] = \"서울\"\n",
        "\n",
        "print(information)\n",
        "\n"
      ],
      "metadata": {
        "colab": {
          "base_uri": "https://localhost:8080/"
        },
        "id": "L9v_qYayUEo-",
        "outputId": "6bf3a1f9-bf35-4e75-d24a-52adade34c68"
      },
      "execution_count": null,
      "outputs": [
        {
          "output_type": "stream",
          "name": "stdout",
          "text": [
            "{'고향': '수원', '취미': '영화관람', '좋아하는 음식': '국수', '특기': '피아노', '사는곳': '서울'}\n"
          ]
        }
      ]
    },
    {
      "cell_type": "code",
      "source": [
        "del information[\"좋아하는 음식\"]\n",
        "print(information)"
      ],
      "metadata": {
        "colab": {
          "base_uri": "https://localhost:8080/"
        },
        "id": "bh7lDqE-VJXa",
        "outputId": "296d1b72-50ad-4ee8-98df-a886b10f488e"
      },
      "execution_count": null,
      "outputs": [
        {
          "output_type": "stream",
          "name": "stdout",
          "text": [
            "{'고향': '수원', '취미': '영화관람', '특기': '피아노', '사는곳': '서울'}\n"
          ]
        }
      ]
    },
    {
      "cell_type": "code",
      "source": [
        "print(len(information))"
      ],
      "metadata": {
        "colab": {
          "base_uri": "https://localhost:8080/"
        },
        "id": "xObwn6fcVS-6",
        "outputId": "90236b8a-f266-48b1-edc5-688a09ae9bb5"
      },
      "execution_count": null,
      "outputs": [
        {
          "output_type": "stream",
          "name": "stdout",
          "text": [
            "4\n"
          ]
        }
      ]
    },
    {
      "cell_type": "code",
      "source": [
        "information.clear()\n",
        "print(information)"
      ],
      "metadata": {
        "colab": {
          "base_uri": "https://localhost:8080/"
        },
        "id": "DdFHAG3OVUgv",
        "outputId": "10f822f7-812b-408d-f7c4-d432808e8636"
      },
      "execution_count": null,
      "outputs": [
        {
          "output_type": "stream",
          "name": "stdout",
          "text": [
            "{}\n"
          ]
        }
      ]
    },
    {
      "cell_type": "code",
      "source": [
        "foods = [\"된장찌개\",\"피자\",\"제육\"]\n",
        "print(foods[1])\n",
        "\n",
        "foods.append(\"김밥\")\n",
        "print(foods)\n",
        "\n",
        "del foods[1]\n",
        "print(foods)"
      ],
      "metadata": {
        "colab": {
          "base_uri": "https://localhost:8080/"
        },
        "id": "Ai_AXJyEVYHt",
        "outputId": "ecff83d2-b148-45c5-b345-35566cb6355a"
      },
      "execution_count": null,
      "outputs": [
        {
          "output_type": "stream",
          "name": "stdout",
          "text": [
            "피자\n",
            "['된장찌개', '피자', '제육', '김밥']\n",
            "['된장찌개', '제육', '김밥']\n"
          ]
        }
      ]
    },
    {
      "cell_type": "code",
      "source": [
        "for i in range(3):\n",
        "    print(foods[i])"
      ],
      "metadata": {
        "colab": {
          "base_uri": "https://localhost:8080/"
        },
        "id": "0jaWuGevVmFh",
        "outputId": "630d1b01-72ac-4da4-a28a-2a8a711b0fc3"
      },
      "execution_count": null,
      "outputs": [
        {
          "output_type": "stream",
          "name": "stdout",
          "text": [
            "된장찌개\n",
            "제육\n",
            "김밥\n"
          ]
        }
      ]
    },
    {
      "cell_type": "code",
      "source": [
        "for i in foods:\n",
        "    print(i)"
      ],
      "metadata": {
        "colab": {
          "base_uri": "https://localhost:8080/"
        },
        "id": "0NKRSdUwYVY8",
        "outputId": "f4c9a515-e7ba-4125-be99-48f9dbe06ed1"
      },
      "execution_count": null,
      "outputs": [
        {
          "output_type": "stream",
          "name": "stdout",
          "text": [
            "된장찌개\n",
            "제육\n",
            "김밥\n"
          ]
        }
      ]
    },
    {
      "cell_type": "code",
      "source": [
        "for i in information:\n",
        "    print(i)"
      ],
      "metadata": {
        "colab": {
          "base_uri": "https://localhost:8080/"
        },
        "id": "naLm7BMrYgm_",
        "outputId": "9eab38ff-2ccc-4e5f-bd2f-73520397390e"
      },
      "execution_count": null,
      "outputs": [
        {
          "output_type": "stream",
          "name": "stdout",
          "text": [
            "고향\n",
            "취미\n",
            "좋아하는 음식\n"
          ]
        }
      ]
    },
    {
      "cell_type": "code",
      "source": [
        "#집합\n",
        "\n",
        "foods_set1 = set(foods)\n",
        "foods_set2 = set([\"된장찌개\",\"피자\"])\n",
        "\n",
        "print(foods_set1)\n",
        "print(foods_set2)"
      ],
      "metadata": {
        "colab": {
          "base_uri": "https://localhost:8080/"
        },
        "id": "0oui3XZOZMZV",
        "outputId": "54ae33e0-6e52-44d7-c443-ab9fb77863a3"
      },
      "execution_count": null,
      "outputs": [
        {
          "output_type": "stream",
          "name": "stdout",
          "text": [
            "{'된장찌개', '제육', '김밥'}\n",
            "{'피자', '된장찌개'}\n"
          ]
        }
      ]
    },
    {
      "cell_type": "code",
      "source": [
        "foods_set = set(foods)\n",
        "foods_set.add(\"된장찌개\")\n",
        "\n",
        "foods.append(\"된장찌개\")\n",
        "\n",
        "print(foods)\n",
        "print(foods_set)"
      ],
      "metadata": {
        "colab": {
          "base_uri": "https://localhost:8080/"
        },
        "id": "HUuzFW48aNnZ",
        "outputId": "5b0e209c-1a30-415a-925a-548523ce8353"
      },
      "execution_count": null,
      "outputs": [
        {
          "output_type": "stream",
          "name": "stdout",
          "text": [
            "['된장찌개', '제육', '김밥', '된장찌개']\n",
            "{'된장찌개', '제육', '김밥'}\n"
          ]
        }
      ]
    },
    {
      "cell_type": "code",
      "source": [
        "menu1 = set([\"된장찌개\",\"피자\",'제육볶음'])\n",
        "menu2 = set([\"된장찌개\",\"떡국\",'김밥'])\n",
        "menu3 = menu1| menu2\n",
        "menu3 = menu1 - menu2\n",
        "\n",
        "print(menu3)"
      ],
      "metadata": {
        "colab": {
          "base_uri": "https://localhost:8080/"
        },
        "id": "s4Mu_dJEacwe",
        "outputId": "19df6478-d4cf-4eac-b7c0-2e1a407d0817"
      },
      "execution_count": null,
      "outputs": [
        {
          "output_type": "stream",
          "name": "stdout",
          "text": [
            "{'제육볶음', '피자'}\n"
          ]
        }
      ]
    },
    {
      "cell_type": "code",
      "source": [
        "food = random.choice(foods)\n",
        "if food == \"제육볶음\":\n",
        "    print(\"곱뺴기 주세요\")\n",
        "else:\n",
        "    print(f'{food} 주세요')\n"
      ],
      "metadata": {
        "colab": {
          "base_uri": "https://localhost:8080/"
        },
        "id": "Fdu2smR8auX3",
        "outputId": "1e77354a-0b60-463f-a98b-561c4240e6fe"
      },
      "execution_count": null,
      "outputs": [
        {
          "output_type": "stream",
          "name": "stdout",
          "text": [
            "된장찌개 주세요\n"
          ]
        }
      ]
    },
    {
      "cell_type": "code",
      "source": [
        "lunch = [\"된장찌개\",\"김치볶음밥\",\"마라탕\",\"마라샹궈\"]\n",
        "item = input(\"음식을 추가해주세요: \")\n",
        "lunch.append(item)\n",
        "print(lunch)"
      ],
      "metadata": {
        "colab": {
          "base_uri": "https://localhost:8080/"
        },
        "id": "dL85McZ_b2MY",
        "outputId": "21ada2c8-e2e1-41e6-f30f-039ad098eb68"
      },
      "execution_count": null,
      "outputs": [
        {
          "output_type": "stream",
          "name": "stdout",
          "text": [
            "음식을 추가해주세요: 돈가스\n",
            "['된장찌개', '김치볶음밥', '마라탕', '마라샹궈', '돈가스']\n"
          ]
        }
      ]
    },
    {
      "cell_type": "code",
      "source": [
        "while True:\n",
        "    print(lunch)\n",
        "    item = input(\"음식을 추가해주세요: \")\n",
        "    if(item == \"q\"):\n",
        "        break\n",
        "    else: \n",
        "        lunch.append(item)"
      ],
      "metadata": {
        "colab": {
          "base_uri": "https://localhost:8080/"
        },
        "id": "5PlTJprGcxt8",
        "outputId": "7292190c-a245-48e9-9b09-664570f8585f"
      },
      "execution_count": null,
      "outputs": [
        {
          "name": "stdout",
          "output_type": "stream",
          "text": [
            "['된장찌개', '김치볶음밥', '마라탕', '마라샹궈', '돈가스']\n",
            "음식을 추가해주세요: 짬뽕\n",
            "['된장찌개', '김치볶음밥', '마라탕', '마라샹궈', '돈가스', '짬뽕']\n",
            "음식을 추가해주세요: 치킨\n",
            "['된장찌개', '김치볶음밥', '마라탕', '마라샹궈', '돈가스', '짬뽕', '치킨']\n",
            "음식을 추가해주세요: q\n"
          ]
        }
      ]
    },
    {
      "cell_type": "code",
      "source": [
        "set_lunch = set(lunch)"
      ],
      "metadata": {
        "id": "Ad-KKgggekox"
      },
      "execution_count": null,
      "outputs": []
    },
    {
      "cell_type": "code",
      "source": [
        "set_dinner = set([\"된장찌개\",\"김치볶음밥\",\"마라탕\",\"마라샹궈\"])\n",
        "food = \"마라샹궈\"\n",
        "set_dinner = set_dinner - set([food])\n",
        "print(set_dinner)"
      ],
      "metadata": {
        "colab": {
          "base_uri": "https://localhost:8080/"
        },
        "id": "Fm-rjoITeqsn",
        "outputId": "51e0b068-17b0-4d56-c65d-00c2bcbcb7c0"
      },
      "execution_count": null,
      "outputs": [
        {
          "output_type": "stream",
          "name": "stdout",
          "text": [
            "{'마라탕', '김치볶음밥', '된장찌개'}\n"
          ]
        }
      ]
    },
    {
      "cell_type": "code",
      "source": [
        "while True:\n",
        "    print(lunch)\n",
        "    item = input(\"음식을 추가해주세요: \")\n",
        "    if(item == \"q\"):\n",
        "        break\n",
        "    else: \n",
        "        lunch.append(item)\n",
        "\n",
        "print(lunch)\n",
        "\n",
        "set_lunch = set(lunch)\n",
        "while True:\n",
        "    print(set_lunch)\n",
        "    item = input(\"음식을 삭제해주세요 : \")\n",
        "    if(item ==\"q\"):\n",
        "        break\n",
        "    else:\n",
        "        set_lunch = set_lunch - set([item])\n",
        "\n",
        "print(set_lunch, \"중에서 선택합니다.\")\n",
        "print(\"5\")\n",
        "time.sleep(1)\n",
        "print(\"4\")\n",
        "time.sleep(1)\n",
        "print(\"3\")\n",
        "time.sleep(1)\n",
        "print(\"2\")\n",
        "time.sleep(1)\n",
        "print(\"1\")\n",
        "time.sleep(1)\n",
        "\n",
        "random.choice(list(set_lunch))"
      ],
      "metadata": {
        "colab": {
          "base_uri": "https://localhost:8080/",
          "height": 311
        },
        "id": "dUlgOEa6gm13",
        "outputId": "d04a774a-e39c-48ca-9167-c038fe31b7e3"
      },
      "execution_count": null,
      "outputs": [
        {
          "output_type": "stream",
          "name": "stdout",
          "text": [
            "['된장찌개', '김치볶음밥', '마라탕', '마라샹궈', '돈가스', '짬뽕', '치킨']\n",
            "음식을 추가해주세요: 꿔바로우\n",
            "['된장찌개', '김치볶음밥', '마라탕', '마라샹궈', '돈가스', '짬뽕', '치킨', '꿔바로우']\n",
            "음식을 추가해주세요: q\n",
            "['된장찌개', '김치볶음밥', '마라탕', '마라샹궈', '돈가스', '짬뽕', '치킨', '꿔바로우']\n",
            "{'마라탕', '된장찌개', '김치볶음밥', '돈가스', '마라샹궈', '꿔바로우', '치킨', '짬뽕'}\n",
            "음식을 삭제해주세요 : 김치볶음밥\n",
            "{'마라탕', '된장찌개', '돈가스', '마라샹궈', '꿔바로우', '치킨', '짬뽕'}\n",
            "음식을 삭제해주세요 : q\n",
            "{'마라탕', '된장찌개', '돈가스', '마라샹궈', '꿔바로우', '치킨', '짬뽕'} 중에서 선택합니다.\n",
            "5\n",
            "4\n",
            "3\n",
            "2\n",
            "1\n"
          ]
        },
        {
          "output_type": "execute_result",
          "data": {
            "text/plain": [
              "'마라탕'"
            ],
            "application/vnd.google.colaboratory.intrinsic+json": {
              "type": "string"
            }
          },
          "metadata": {},
          "execution_count": 115
        }
      ]
    },
    {
      "cell_type": "markdown",
      "source": [
        "# 익명메뉴게시판"
      ],
      "metadata": {
        "id": "OmnKcZBdk7mh"
      }
    },
    {
      "cell_type": "code",
      "source": [
        "#함수\n",
        "\n",
        "def make_dolce():\n",
        "    print(\"1. 얼음을 넣는다.\")\n",
        "    print(\"2. 연유 30ml 넣는다.\")\n",
        "    print(\"3. 찬 우유 넣는다.\")\n",
        "    print(\"4. 에스프레소샷을 넣는다.\")\n",
        "\n",
        "def make_blueberry_smoothie():\n",
        "    print(\"1. 블루베리 30g 넣는다.\")\n",
        "    print(\"2. 우유 300ml 넣는다.\")\n",
        "    print(\"3. 얼음 넣는다.\")\n",
        "    print(\"4. 믹서기에 간다.\")"
      ],
      "metadata": {
        "id": "mWcYnHygikdp"
      },
      "execution_count": null,
      "outputs": []
    },
    {
      "cell_type": "code",
      "source": [
        "make_dolce()\n",
        "make_blueberry_smoothie()"
      ],
      "metadata": {
        "colab": {
          "base_uri": "https://localhost:8080/"
        },
        "id": "eULy_YaSlYrZ",
        "outputId": "6defa5f9-53ec-4c54-bdc7-576cb85a8040"
      },
      "execution_count": null,
      "outputs": [
        {
          "output_type": "stream",
          "name": "stdout",
          "text": [
            "1. 얼음을 넣는다.\n",
            "2. 연유 30ml 넣는다.\n",
            "3. 찬 우유 넣는다.\n",
            "4. 에스프레소샷을 넣는다.\n",
            "1. 블루베리 30g 넣는다.\n",
            "2. 우유 300ml 넣는다.\n",
            "3. 얼음 넣는다.\n",
            "4. 믹서기에 간다.\n"
          ]
        }
      ]
    },
    {
      "cell_type": "code",
      "source": [
        "# 이상형이 뭐예요?\n",
        "# dictionay\n",
        "\n",
        "total_dict = {}\n",
        "\n",
        "while True: \n",
        "    question = input(\"질문을 입력해 주세요 : \" )\n",
        "    if question == \"q\":\n",
        "        break\n",
        "    else:\n",
        "        total_dict[question] = \"\"\n",
        "\n",
        "for i in total_dict:\n",
        "    print(i)\n",
        "    answer = input(\"답변을 입력해주세요 : \")\n",
        "    total_dict[i] = answer\n",
        "\n",
        "print(total_dict)\n",
        "    \n"
      ],
      "metadata": {
        "colab": {
          "base_uri": "https://localhost:8080/"
        },
        "id": "ofblqbqXlfBO",
        "outputId": "f2beccc9-47e6-47da-cfd9-622389a4af0d"
      },
      "execution_count": null,
      "outputs": [
        {
          "output_type": "stream",
          "name": "stdout",
          "text": [
            "질문을 입력해 주세요 : 이름?\n",
            "질문을 입력해 주세요 : q\n",
            "이름?\n",
            "답변을 입력해주세요 : 토마토\n",
            "{'이름?': '토마토'}\n"
          ]
        }
      ]
    },
    {
      "cell_type": "code",
      "source": [
        "# list\n",
        "\n",
        "total_list = []\n",
        "\n",
        "while True: \n",
        "    question = input(\"질문을 입력해 주세요 : \" )\n",
        "    if question == \"q\":\n",
        "        break\n",
        "    else:\n",
        "        total_list.append({\"질문\": question, \"답변 : \": \"\"})\n",
        "\n",
        "for i in total_list:\n",
        "    print(i[\"질문\"])\n",
        "    answer = input(\"답변을 입력해주세요 : \")\n",
        "    i[\"답변\"] = answer\n",
        "\n",
        "print(total_list)\n",
        "    \n"
      ],
      "metadata": {
        "colab": {
          "base_uri": "https://localhost:8080/"
        },
        "id": "ae8W1JF-pVU6",
        "outputId": "05629f3f-df23-40f6-c0e5-e5cab60874c7"
      },
      "execution_count": null,
      "outputs": [
        {
          "output_type": "stream",
          "name": "stdout",
          "text": [
            "질문을 입력해 주세요 : 취미는\n",
            "질문을 입력해 주세요 : 특기는\n",
            "질문을 입력해 주세요 : q\n",
            "취미는\n",
            "답변을 입력해주세요 : 라면먹기\n",
            "특기는\n",
            "답변을 입력해주세요 : 라면끓이기\n",
            "[{'질문': '취미는', '답변 : ': '', '답변': '라면먹기'}, {'질문': '특기는', '답변 : ': '', '답변': '라면끓이기'}]\n"
          ]
        }
      ]
    }
  ]
}