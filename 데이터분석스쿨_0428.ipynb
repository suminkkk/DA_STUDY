{
  "nbformat": 4,
  "nbformat_minor": 0,
  "metadata": {
    "colab": {
      "provenance": [],
      "toc_visible": true
    },
    "kernelspec": {
      "name": "python3",
      "display_name": "Python 3"
    },
    "language_info": {
      "name": "python"
    }
  },
  "cells": [
    {
      "cell_type": "markdown",
      "source": [
        "## 함수 "
      ],
      "metadata": {
        "id": "Lj7r62QZUH9O"
      }
    },
    {
      "cell_type": "code",
      "source": [
        "#파선아실\n",
        "def function(x,y):          # x,y : 파라미터\n",
        "  z = x+y\n",
        "  return z\n",
        "\n",
        "print(\"function(5,7) = \", function(5,7))        # 5,7 : argument\n",
        "print(f'function(5, 7) = {function(5, 7)}')"
      ],
      "metadata": {
        "colab": {
          "base_uri": "https://localhost:8080/"
        },
        "id": "NAPbu74ZUway",
        "outputId": "68559de8-4ff9-4d82-e0ae-0ed7e55150b9"
      },
      "execution_count": 6,
      "outputs": [
        {
          "output_type": "stream",
          "name": "stdout",
          "text": [
            "function(5,7) =  12\n",
            "function(5, 7) = 12\n"
          ]
        }
      ]
    },
    {
      "cell_type": "code",
      "source": [
        "def function(x, y):\n",
        "    z = x + y\n",
        "\n",
        "print(f'function(5, 7) = {function(5, 7)}')"
      ],
      "metadata": {
        "colab": {
          "base_uri": "https://localhost:8080/"
        },
        "id": "G_Z3HidjYMj_",
        "outputId": "92a4d036-29d5-4fba-8204-1f63527e9e5d"
      },
      "execution_count": 7,
      "outputs": [
        {
          "output_type": "stream",
          "name": "stdout",
          "text": [
            "function(5, 7) = None\n"
          ]
        }
      ]
    },
    {
      "cell_type": "code",
      "source": [
        "def function(x, y):\n",
        "    z = x + y\n",
        "\n",
        "print(f'function(5, 7) = {function(5, 7)}')"
      ],
      "metadata": {
        "id": "YDDpR34OYgTF"
      },
      "execution_count": null,
      "outputs": []
    },
    {
      "cell_type": "code",
      "source": [
        "def function(x,y): #Input\n",
        "    z = x + y      #Function\n",
        "    print(z)       #Output?\n",
        "print(\"function(5,7) = \", function(5,7))"
      ],
      "metadata": {
        "colab": {
          "base_uri": "https://localhost:8080/"
        },
        "id": "SqNmkIRtY3an",
        "outputId": "db0f8278-725a-4bcf-d3cf-55a02dbca122"
      },
      "execution_count": 8,
      "outputs": [
        {
          "output_type": "stream",
          "name": "stdout",
          "text": [
            "12\n",
            "function(5,7) =  None\n"
          ]
        }
      ]
    },
    {
      "cell_type": "code",
      "source": [
        "def function(x,y): #Input\n",
        "  print('hello')\n",
        "  return x+y\n",
        "\n",
        "x = function(1,1)\n",
        "print(x+x)"
      ],
      "metadata": {
        "colab": {
          "base_uri": "https://localhost:8080/"
        },
        "id": "eQqcdPIZapeV",
        "outputId": "fb493520-6574-43f5-95e9-6024d034f02c"
      },
      "execution_count": 9,
      "outputs": [
        {
          "output_type": "stream",
          "name": "stdout",
          "text": [
            "hello\n",
            "4\n"
          ]
        }
      ]
    },
    {
      "cell_type": "code",
      "source": [
        "def function1(x):\n",
        "  print('world1')\n",
        "  print('world2')\n",
        "  print('world3')\n",
        "  return x +x \n",
        "\n",
        "def function2(x, y):\n",
        "  print('hello1')\n",
        "  print('hello2')\n",
        "  z = function1(10)\n",
        "  return x+y+z \n",
        "\n",
        "a = function1(1)\n",
        "b = function2(3,4)\n",
        "print(a,b)"
      ],
      "metadata": {
        "colab": {
          "base_uri": "https://localhost:8080/"
        },
        "id": "6YJZuUTCbfyk",
        "outputId": "94de78ef-735e-4684-f281-f49822e33bae"
      },
      "execution_count": 17,
      "outputs": [
        {
          "output_type": "stream",
          "name": "stdout",
          "text": [
            "world1\n",
            "world2\n",
            "world3\n",
            "hello1\n",
            "hello2\n",
            "world1\n",
            "world2\n",
            "world3\n",
            "2 27\n"
          ]
        }
      ]
    },
    {
      "cell_type": "code",
      "source": [
        "# 함수 안에 있는 변수나 함수는 함수가 끝나면 휘발됩니다. \n",
        "# 메모리에서 사라져요.\n",
        "def f2(x, y):\n",
        "    def f1(x):\n",
        "        print('world1')\n",
        "        return x + x\n",
        "    print('hello1')\n",
        "    z = f1(10)\n",
        "    return x + y + z\n",
        "\n",
        "# a = f1(1) # 함수 안에 있는 함수는 밖에서 호출할 수 있지 않습니다.\n",
        "b = f2(3, 4)\n",
        "print(b)\n",
        "\n",
        "# print(z) # 함수가 끝났기 때문에 x, y, z에 접근할 수 없습니다."
      ],
      "metadata": {
        "colab": {
          "base_uri": "https://localhost:8080/"
        },
        "id": "aen-_m0aiUM7",
        "outputId": "156f4355-e980-4383-ee0e-5eb7f24bdbec"
      },
      "execution_count": 19,
      "outputs": [
        {
          "output_type": "stream",
          "name": "stdout",
          "text": [
            "hello1\n",
            "world1\n",
            "27\n"
          ]
        }
      ]
    },
    {
      "cell_type": "code",
      "source": [
        "#1\n",
        "x = 100\n",
        "def plusX(x):\n",
        "  x = x+100\n",
        "  return x\n",
        "\n",
        "print(plusX(10))"
      ],
      "metadata": {
        "colab": {
          "base_uri": "https://localhost:8080/"
        },
        "id": "qFdz0E9AjiKJ",
        "outputId": "1a1c25f0-a09a-4453-940e-6056a9c83d9c"
      },
      "execution_count": 21,
      "outputs": [
        {
          "output_type": "stream",
          "name": "stdout",
          "text": [
            "110\n"
          ]
        }
      ]
    },
    {
      "cell_type": "code",
      "source": [
        "# 2\n",
        "x = 100\n",
        "def plusX(z):\n",
        "    z = z + x\n",
        "    return z\n",
        "\n",
        "print(plusX(10))"
      ],
      "metadata": {
        "colab": {
          "base_uri": "https://localhost:8080/"
        },
        "id": "vLI0v9u2n2qZ",
        "outputId": "acfe60d2-22c3-4563-a3ca-ba162c3aadc0"
      },
      "execution_count": 22,
      "outputs": [
        {
          "output_type": "stream",
          "name": "stdout",
          "text": [
            "110\n"
          ]
        }
      ]
    },
    {
      "cell_type": "code",
      "source": [
        "# 3\n",
        "# 문제가 생기는 코드\n",
        "x = 100\n",
        "def plusX(z):\n",
        "    x = z + x\n",
        "    return z\n",
        "\n",
        "print(plusX(10))"
      ],
      "metadata": {
        "colab": {
          "base_uri": "https://localhost:8080/",
          "height": 339
        },
        "id": "6BzAMrx-n4v5",
        "outputId": "a16ff337-50da-47de-8ea7-e56fc4805d75"
      },
      "execution_count": 23,
      "outputs": [
        {
          "output_type": "error",
          "ename": "UnboundLocalError",
          "evalue": "ignored",
          "traceback": [
            "\u001b[0;31m---------------------------------------------------------------------------\u001b[0m",
            "\u001b[0;31mUnboundLocalError\u001b[0m                         Traceback (most recent call last)",
            "\u001b[0;32m<ipython-input-23-b0ee77f1b37d>\u001b[0m in \u001b[0;36m<cell line: 8>\u001b[0;34m()\u001b[0m\n\u001b[1;32m      6\u001b[0m     \u001b[0;32mreturn\u001b[0m \u001b[0mz\u001b[0m\u001b[0;34m\u001b[0m\u001b[0;34m\u001b[0m\u001b[0m\n\u001b[1;32m      7\u001b[0m \u001b[0;34m\u001b[0m\u001b[0m\n\u001b[0;32m----> 8\u001b[0;31m \u001b[0mprint\u001b[0m\u001b[0;34m(\u001b[0m\u001b[0mplusX\u001b[0m\u001b[0;34m(\u001b[0m\u001b[0;36m10\u001b[0m\u001b[0;34m)\u001b[0m\u001b[0;34m)\u001b[0m\u001b[0;34m\u001b[0m\u001b[0;34m\u001b[0m\u001b[0m\n\u001b[0m",
            "\u001b[0;32m<ipython-input-23-b0ee77f1b37d>\u001b[0m in \u001b[0;36mplusX\u001b[0;34m(z)\u001b[0m\n\u001b[1;32m      3\u001b[0m \u001b[0mx\u001b[0m \u001b[0;34m=\u001b[0m \u001b[0;36m100\u001b[0m\u001b[0;34m\u001b[0m\u001b[0;34m\u001b[0m\u001b[0m\n\u001b[1;32m      4\u001b[0m \u001b[0;32mdef\u001b[0m \u001b[0mplusX\u001b[0m\u001b[0;34m(\u001b[0m\u001b[0mz\u001b[0m\u001b[0;34m)\u001b[0m\u001b[0;34m:\u001b[0m\u001b[0;34m\u001b[0m\u001b[0;34m\u001b[0m\u001b[0m\n\u001b[0;32m----> 5\u001b[0;31m     \u001b[0mx\u001b[0m \u001b[0;34m=\u001b[0m \u001b[0mz\u001b[0m \u001b[0;34m+\u001b[0m \u001b[0mx\u001b[0m\u001b[0;34m\u001b[0m\u001b[0;34m\u001b[0m\u001b[0m\n\u001b[0m\u001b[1;32m      6\u001b[0m     \u001b[0;32mreturn\u001b[0m \u001b[0mz\u001b[0m\u001b[0;34m\u001b[0m\u001b[0;34m\u001b[0m\u001b[0m\n\u001b[1;32m      7\u001b[0m \u001b[0;34m\u001b[0m\u001b[0m\n",
            "\u001b[0;31mUnboundLocalError\u001b[0m: local variable 'x' referenced before assignment"
          ]
        }
      ]
    },
    {
      "cell_type": "code",
      "source": [
        "4\n",
        "# 문제가 생기지 않는 코드\n",
        "x = 100\n",
        "def plusX(z):\n",
        "    global x # 권하지 않습니다.\n",
        "    x = z + x\n",
        "    return z\n",
        "\n",
        "print(plusX(10))\n",
        "x"
      ],
      "metadata": {
        "colab": {
          "base_uri": "https://localhost:8080/"
        },
        "id": "KX0JRSpin8Y8",
        "outputId": "93d6b56b-8948-4a57-eded-4acb15e39fe5"
      },
      "execution_count": 24,
      "outputs": [
        {
          "output_type": "stream",
          "name": "stdout",
          "text": [
            "10\n"
          ]
        },
        {
          "output_type": "execute_result",
          "data": {
            "text/plain": [
              "110"
            ]
          },
          "metadata": {},
          "execution_count": 24
        }
      ]
    },
    {
      "cell_type": "code",
      "source": [
        "# 5\n",
        "x = 100\n",
        "def plusX(x):\n",
        "    return x + 10\n",
        "\n",
        "x = plusX(x)"
      ],
      "metadata": {
        "id": "jP-2apMOn-0V"
      },
      "execution_count": 25,
      "outputs": []
    },
    {
      "cell_type": "code",
      "source": [
        "x = 100\n",
        "def plusX(z):   # v가 x를 가리키게 되었기 때문에 수정할 수 있는 권한이 들어오지 않았을까?\n",
        "                # No\n",
        "  v = x + 1\n",
        "  x = z + x\n",
        "  return z\n",
        "\n",
        "plusX(10)"
      ],
      "metadata": {
        "colab": {
          "base_uri": "https://localhost:8080/"
        },
        "id": "Q_gI672LoBk1",
        "outputId": "8eb7dc8a-0e2e-457b-dd87-dacbf2579af9"
      },
      "execution_count": 32,
      "outputs": [
        {
          "output_type": "execute_result",
          "data": {
            "text/plain": [
              "10"
            ]
          },
          "metadata": {},
          "execution_count": 32
        }
      ]
    },
    {
      "cell_type": "code",
      "source": [
        "x = 10\n",
        "def addx():\n",
        "    a = x + 1\n",
        "    return a \n",
        "result = addx()\n",
        "print(\"result : \" , result)"
      ],
      "metadata": {
        "colab": {
          "base_uri": "https://localhost:8080/"
        },
        "id": "MY-hfHfNqt6w",
        "outputId": "a77d5616-1324-434a-9de9-2df33de8bb76"
      },
      "execution_count": 27,
      "outputs": [
        {
          "output_type": "stream",
          "name": "stdout",
          "text": [
            "result :  11\n"
          ]
        }
      ]
    },
    {
      "cell_type": "markdown",
      "source": [
        "## 재귀함수"
      ],
      "metadata": {
        "id": "QBY8Ej5yrPRF"
      }
    },
    {
      "cell_type": "code",
      "source": [
        "# 대부분의 코드는 for로 대체할 수 있습니다.\n",
        "# 효율도 매우 좋지 않습니다. 다만 메모라이징 기법을 사용하면 좋긴 합니다.\n",
        "# 다이나믹 프로그래밍 등 필수적으로 사용되는 곳이 있기도 합니다."
      ],
      "metadata": {
        "id": "QR3YkhbhrXJ1"
      },
      "execution_count": null,
      "outputs": []
    },
    {
      "cell_type": "markdown",
      "source": [
        "### factorial 함수"
      ],
      "metadata": {
        "id": "r2AeORdLsSL6"
      }
    },
    {
      "cell_type": "code",
      "source": [
        "def factorial(n):\n",
        "    if n == 1:\n",
        "        return n\n",
        "    return n*factorial(n-1)\n",
        "\n",
        "factorial(5)\n",
        "\n",
        "# factorial(5) == 5 * factorial(4)\n",
        "# factorial(4) == 4 * factorial(3)"
      ],
      "metadata": {
        "colab": {
          "base_uri": "https://localhost:8080/"
        },
        "id": "vRRZDQEKsUuG",
        "outputId": "2e1b1bb5-55d7-4a58-cd43-438fa481f598"
      },
      "execution_count": 43,
      "outputs": [
        {
          "output_type": "execute_result",
          "data": {
            "text/plain": [
              "120"
            ]
          },
          "metadata": {},
          "execution_count": 43
        }
      ]
    },
    {
      "cell_type": "code",
      "source": [
        "result = 1\n",
        "for i in range(1, 6):\n",
        "    result *= i\n",
        "\n",
        "result"
      ],
      "metadata": {
        "colab": {
          "base_uri": "https://localhost:8080/"
        },
        "id": "DtNbo_8KsYZ0",
        "outputId": "34a5cbec-e584-4058-edb5-1cfd749408cb"
      },
      "execution_count": 47,
      "outputs": [
        {
          "output_type": "execute_result",
          "data": {
            "text/plain": [
              "120"
            ]
          },
          "metadata": {},
          "execution_count": 47
        }
      ]
    },
    {
      "cell_type": "code",
      "source": [
        "s = 'leehojun'\n",
        "result = ''\n",
        "for i in s :\n",
        "  result = i + result\n",
        "\n",
        "result "
      ],
      "metadata": {
        "colab": {
          "base_uri": "https://localhost:8080/",
          "height": 35
        },
        "id": "-Zk-jEtwt-vP",
        "outputId": "9afff0eb-109e-4510-f069-ae895c66df3a"
      },
      "execution_count": 50,
      "outputs": [
        {
          "output_type": "execute_result",
          "data": {
            "text/plain": [
              "'nujoheel'"
            ],
            "application/vnd.google.colaboratory.intrinsic+json": {
              "type": "string"
            }
          },
          "metadata": {},
          "execution_count": 50
        }
      ]
    },
    {
      "cell_type": "code",
      "source": [
        "for i in 'leehojun':\n",
        "    print(i)"
      ],
      "metadata": {
        "colab": {
          "base_uri": "https://localhost:8080/"
        },
        "id": "wGEB6qizt_-5",
        "outputId": "b17f0b73-0194-4ad8-a645-26e71fde12be"
      },
      "execution_count": 51,
      "outputs": [
        {
          "output_type": "stream",
          "name": "stdout",
          "text": [
            "l\n",
            "e\n",
            "e\n",
            "h\n",
            "o\n",
            "j\n",
            "u\n",
            "n\n"
          ]
        }
      ]
    },
    {
      "cell_type": "code",
      "source": [
        "s = 'leehojun'\n",
        "result = ''\n",
        "for i in s:\n",
        "    print('----------')\n",
        "    print(i)\n",
        "    print(f'연산 전 result : {result}')\n",
        "    result = i + result\n",
        "    print(f'연산 후 result : {result}')\n",
        "\n",
        "result"
      ],
      "metadata": {
        "colab": {
          "base_uri": "https://localhost:8080/",
          "height": 623
        },
        "id": "SLQNMOaCvO6T",
        "outputId": "85b9c927-5fb2-47cc-f1c2-2fd6b1cf18a5"
      },
      "execution_count": 52,
      "outputs": [
        {
          "output_type": "stream",
          "name": "stdout",
          "text": [
            "----------\n",
            "l\n",
            "연산 전 result : \n",
            "연산 후 result : l\n",
            "----------\n",
            "e\n",
            "연산 전 result : l\n",
            "연산 후 result : el\n",
            "----------\n",
            "e\n",
            "연산 전 result : el\n",
            "연산 후 result : eel\n",
            "----------\n",
            "h\n",
            "연산 전 result : eel\n",
            "연산 후 result : heel\n",
            "----------\n",
            "o\n",
            "연산 전 result : heel\n",
            "연산 후 result : oheel\n",
            "----------\n",
            "j\n",
            "연산 전 result : oheel\n",
            "연산 후 result : joheel\n",
            "----------\n",
            "u\n",
            "연산 전 result : joheel\n",
            "연산 후 result : ujoheel\n",
            "----------\n",
            "n\n",
            "연산 전 result : ujoheel\n",
            "연산 후 result : nujoheel\n"
          ]
        },
        {
          "output_type": "execute_result",
          "data": {
            "text/plain": [
              "'nujoheel'"
            ],
            "application/vnd.google.colaboratory.intrinsic+json": {
              "type": "string"
            }
          },
          "metadata": {},
          "execution_count": 52
        }
      ]
    },
    {
      "cell_type": "code",
      "source": [
        "def string_reverse(n):\n",
        "    if len(s) == 1:\n",
        "        return s\n",
        "    return s[0] + string_reverse(s[1:])\n",
        "\n",
        "string_reverse('hello world')"
      ],
      "metadata": {
        "colab": {
          "base_uri": "https://localhost:8080/",
          "height": 400
        },
        "id": "RCoq_W1Tvddd",
        "outputId": "6eca0bab-2c41-4b1b-d73f-659bba664ef3"
      },
      "execution_count": 59,
      "outputs": [
        {
          "output_type": "error",
          "ename": "RecursionError",
          "evalue": "ignored",
          "traceback": [
            "\u001b[0;31m---------------------------------------------------------------------------\u001b[0m",
            "\u001b[0;31mRecursionError\u001b[0m                            Traceback (most recent call last)",
            "\u001b[0;32m<ipython-input-59-a2ec1db1ae5b>\u001b[0m in \u001b[0;36m<cell line: 6>\u001b[0;34m()\u001b[0m\n\u001b[1;32m      4\u001b[0m     \u001b[0;32mreturn\u001b[0m \u001b[0ms\u001b[0m\u001b[0;34m[\u001b[0m\u001b[0;36m0\u001b[0m\u001b[0;34m]\u001b[0m \u001b[0;34m+\u001b[0m \u001b[0mstring_reverse\u001b[0m\u001b[0;34m(\u001b[0m\u001b[0ms\u001b[0m\u001b[0;34m[\u001b[0m\u001b[0;36m1\u001b[0m\u001b[0;34m:\u001b[0m\u001b[0;34m]\u001b[0m\u001b[0;34m)\u001b[0m\u001b[0;34m\u001b[0m\u001b[0;34m\u001b[0m\u001b[0m\n\u001b[1;32m      5\u001b[0m \u001b[0;34m\u001b[0m\u001b[0m\n\u001b[0;32m----> 6\u001b[0;31m \u001b[0mstring_reverse\u001b[0m\u001b[0;34m(\u001b[0m\u001b[0;34m'hello world'\u001b[0m\u001b[0;34m)\u001b[0m\u001b[0;34m\u001b[0m\u001b[0;34m\u001b[0m\u001b[0m\n\u001b[0m",
            "\u001b[0;32m<ipython-input-59-a2ec1db1ae5b>\u001b[0m in \u001b[0;36mstring_reverse\u001b[0;34m(n)\u001b[0m\n\u001b[1;32m      2\u001b[0m     \u001b[0;32mif\u001b[0m \u001b[0mlen\u001b[0m\u001b[0;34m(\u001b[0m\u001b[0ms\u001b[0m\u001b[0;34m)\u001b[0m \u001b[0;34m==\u001b[0m \u001b[0;36m1\u001b[0m\u001b[0;34m:\u001b[0m\u001b[0;34m\u001b[0m\u001b[0;34m\u001b[0m\u001b[0m\n\u001b[1;32m      3\u001b[0m         \u001b[0;32mreturn\u001b[0m \u001b[0ms\u001b[0m\u001b[0;34m\u001b[0m\u001b[0;34m\u001b[0m\u001b[0m\n\u001b[0;32m----> 4\u001b[0;31m     \u001b[0;32mreturn\u001b[0m \u001b[0ms\u001b[0m\u001b[0;34m[\u001b[0m\u001b[0;36m0\u001b[0m\u001b[0;34m]\u001b[0m \u001b[0;34m+\u001b[0m \u001b[0mstring_reverse\u001b[0m\u001b[0;34m(\u001b[0m\u001b[0ms\u001b[0m\u001b[0;34m[\u001b[0m\u001b[0;36m1\u001b[0m\u001b[0;34m:\u001b[0m\u001b[0;34m]\u001b[0m\u001b[0;34m)\u001b[0m\u001b[0;34m\u001b[0m\u001b[0;34m\u001b[0m\u001b[0m\n\u001b[0m\u001b[1;32m      5\u001b[0m \u001b[0;34m\u001b[0m\u001b[0m\n\u001b[1;32m      6\u001b[0m \u001b[0mstring_reverse\u001b[0m\u001b[0;34m(\u001b[0m\u001b[0;34m'hello world'\u001b[0m\u001b[0;34m)\u001b[0m\u001b[0;34m\u001b[0m\u001b[0;34m\u001b[0m\u001b[0m\n",
            "... last 1 frames repeated, from the frame below ...\n",
            "\u001b[0;32m<ipython-input-59-a2ec1db1ae5b>\u001b[0m in \u001b[0;36mstring_reverse\u001b[0;34m(n)\u001b[0m\n\u001b[1;32m      2\u001b[0m     \u001b[0;32mif\u001b[0m \u001b[0mlen\u001b[0m\u001b[0;34m(\u001b[0m\u001b[0ms\u001b[0m\u001b[0;34m)\u001b[0m \u001b[0;34m==\u001b[0m \u001b[0;36m1\u001b[0m\u001b[0;34m:\u001b[0m\u001b[0;34m\u001b[0m\u001b[0;34m\u001b[0m\u001b[0m\n\u001b[1;32m      3\u001b[0m         \u001b[0;32mreturn\u001b[0m \u001b[0ms\u001b[0m\u001b[0;34m\u001b[0m\u001b[0;34m\u001b[0m\u001b[0m\n\u001b[0;32m----> 4\u001b[0;31m     \u001b[0;32mreturn\u001b[0m \u001b[0ms\u001b[0m\u001b[0;34m[\u001b[0m\u001b[0;36m0\u001b[0m\u001b[0;34m]\u001b[0m \u001b[0;34m+\u001b[0m \u001b[0mstring_reverse\u001b[0m\u001b[0;34m(\u001b[0m\u001b[0ms\u001b[0m\u001b[0;34m[\u001b[0m\u001b[0;36m1\u001b[0m\u001b[0;34m:\u001b[0m\u001b[0;34m]\u001b[0m\u001b[0;34m)\u001b[0m\u001b[0;34m\u001b[0m\u001b[0;34m\u001b[0m\u001b[0m\n\u001b[0m\u001b[1;32m      5\u001b[0m \u001b[0;34m\u001b[0m\u001b[0m\n\u001b[1;32m      6\u001b[0m \u001b[0mstring_reverse\u001b[0m\u001b[0;34m(\u001b[0m\u001b[0;34m'hello world'\u001b[0m\u001b[0;34m)\u001b[0m\u001b[0;34m\u001b[0m\u001b[0;34m\u001b[0m\u001b[0m\n",
            "\u001b[0;31mRecursionError\u001b[0m: maximum recursion depth exceeded while calling a Python object"
          ]
        }
      ]
    },
    {
      "cell_type": "code",
      "source": [
        "def string_reverse(s):\n",
        "  if len(s) == 1:\n",
        "    return s\n",
        "  return string_reverse(s[1:])+s[0]\n",
        "\n",
        "string_reverse('hello world')"
      ],
      "metadata": {
        "colab": {
          "base_uri": "https://localhost:8080/",
          "height": 35
        },
        "id": "VDHpHwbCwMIn",
        "outputId": "901c4292-2af1-4fd7-b8b0-26c5e217e946"
      },
      "execution_count": 60,
      "outputs": [
        {
          "output_type": "execute_result",
          "data": {
            "text/plain": [
              "'dlrow olleh'"
            ],
            "application/vnd.google.colaboratory.intrinsic+json": {
              "type": "string"
            }
          },
          "metadata": {},
          "execution_count": 60
        }
      ]
    },
    {
      "cell_type": "code",
      "source": [
        "def string_reverse(s):\n",
        "    if len(s) == 1:\n",
        "        return s\n",
        "    return string_reverse(s[1:]) + s[0]\n",
        "\n",
        "string_reverse('hello')\n",
        "\n",
        "# string_reverse('hello') == string_reverse('ello') + 'h' == 'olle' + 'h' == 'olleh'\n",
        "# string_reverse('ello') == string_reverse('llo') + 'e' == 'oll' + 'e' == 'olle'\n",
        "# string_reverse('llo') == string_reverse('lo') + 'l' == 'ol' + 'l' == 'oll'\n",
        "# string_reverse('lo') == string_reverse('o') + 'l' == 'o' + 'l' == 'ol'\n",
        "# string_reverse('o') == 'o'"
      ],
      "metadata": {
        "colab": {
          "base_uri": "https://localhost:8080/",
          "height": 35
        },
        "id": "UIiyij8FwMFL",
        "outputId": "138e1205-1e52-4ba3-df67-c4a13ed8e9d8"
      },
      "execution_count": 61,
      "outputs": [
        {
          "output_type": "execute_result",
          "data": {
            "text/plain": [
              "'olleh'"
            ],
            "application/vnd.google.colaboratory.intrinsic+json": {
              "type": "string"
            }
          },
          "metadata": {},
          "execution_count": 61
        }
      ]
    },
    {
      "cell_type": "code",
      "source": [
        "#재귀가 얼마나 비효율적인지 \n",
        "def fib(num):\n",
        "    if num == 0:\n",
        "        return 0\n",
        "    if num == 1 or num == 2:\n",
        "        return 1\n",
        "    else:\n",
        "        return fib(num-1) + fib(num-2)\n",
        "\n",
        "fib(35)"
      ],
      "metadata": {
        "id": "bVPEjJE2FEnR"
      },
      "execution_count": null,
      "outputs": []
    },
    {
      "cell_type": "code",
      "source": [
        "from functools import lru_cache\n",
        "\n",
        "@lru_cache(maxsize=None)\n",
        "def fib(num):\n",
        "    if num == 0:\n",
        "        return 0\n",
        "    if num == 1 or num == 2:\n",
        "        return 1\n",
        "    else:\n",
        "        return fib(num-1) + fib(num-2)\n",
        "\n",
        "fib(40)"
      ],
      "metadata": {
        "id": "iRUS9GYgFLcY"
      },
      "execution_count": null,
      "outputs": []
    },
    {
      "cell_type": "markdown",
      "source": [
        "##연습문제"
      ],
      "metadata": {
        "id": "JCdtinOeFhWf"
      }
    },
    {
      "cell_type": "markdown",
      "source": [
        "### 1. 출력되는 값을 순서"
      ],
      "metadata": {
        "id": "CXUy5KF8FiyR"
      }
    },
    {
      "cell_type": "code",
      "source": [
        "a = 'python'\n",
        "\n",
        "def 함수1():\n",
        "    def 함수2():\n",
        "        print('love')\n",
        "        \n",
        "    print('I')\n",
        "    함수2()\n",
        "    return \"python\"\n",
        "\t\n",
        "\n",
        "a = 함수1()\n",
        "print(a)"
      ],
      "metadata": {
        "colab": {
          "base_uri": "https://localhost:8080/"
        },
        "id": "6V8mxWBwFanN",
        "outputId": "065e0862-0f68-4b46-8e0a-ac74dc17e5e1"
      },
      "execution_count": 62,
      "outputs": [
        {
          "output_type": "stream",
          "name": "stdout",
          "text": [
            "I\n",
            "love\n",
            "python\n"
          ]
        }
      ]
    },
    {
      "cell_type": "markdown",
      "source": [
        "### 2. 함수를 이용하여 계산기 프로그램"
      ],
      "metadata": {
        "id": "fZKUbcztFolU"
      }
    },
    {
      "cell_type": "code",
      "source": [
        "def plus(num1, num2):\n",
        "    return num1 +  num2\n",
        "\n",
        "def minus(num1, num2):\n",
        "    return num1 -  num2\n",
        "\n",
        "def multiply(num1, num2):\n",
        "    return num1 *  num2\n",
        "\n",
        "def divide(num1, num2):\n",
        "    return num1 // num2\n",
        "\n",
        "print('plus : ',plus(10,5))\n",
        "print('minus : ',minus(10,5))\n",
        "print('multiply : ',multiply(10,5))\n",
        "print('divide : ',divide(10,5))"
      ],
      "metadata": {
        "colab": {
          "base_uri": "https://localhost:8080/"
        },
        "id": "m632Xqv1Ft4r",
        "outputId": "b69e28ef-9ddb-454e-f873-95b9d052dcc0"
      },
      "execution_count": 63,
      "outputs": [
        {
          "output_type": "stream",
          "name": "stdout",
          "text": [
            "plus :  15\n",
            "minus :  5\n",
            "multiply :  50\n",
            "divide :  2\n"
          ]
        }
      ]
    },
    {
      "cell_type": "code",
      "source": [
        "def plus(num1, num2):\n",
        "    try:\n",
        "        result = int(num1) + int(num2)\n",
        "        return result\n",
        "    except:\n",
        "        return '연산할 수 없습니다.'\n",
        "\n",
        "print(f'plus : {plus(10, 5)}')\n",
        "print(f'plus : {plus(\"10\", \"5\")}')\n",
        "print(f'plus : {plus(\"10\", 5)}')\n",
        "print(f'plus : {plus(10, \"5\")}')\n",
        "print(f'plus : {plus(\"abc\", 5)}')\n",
        "print(f'plus : {plus(10, \"abc\")}')"
      ],
      "metadata": {
        "colab": {
          "base_uri": "https://localhost:8080/"
        },
        "id": "YaW1kyd6I7QK",
        "outputId": "ef2587a2-6713-4211-f290-1aec3e409a2e"
      },
      "execution_count": 70,
      "outputs": [
        {
          "output_type": "stream",
          "name": "stdout",
          "text": [
            "plus : 15\n",
            "plus : 15\n",
            "plus : 15\n",
            "plus : 15\n",
            "plus : 연산할 수 없습니다.\n",
            "plus : 연산할 수 없습니다.\n"
          ]
        }
      ]
    },
    {
      "cell_type": "code",
      "source": [
        "float(\"inf\") > 1000000000000000000000"
      ],
      "metadata": {
        "colab": {
          "base_uri": "https://localhost:8080/"
        },
        "id": "LCEHdLWiLdLL",
        "outputId": "827cad70-28e6-4a06-b7c1-6a5fce1259f1"
      },
      "execution_count": 71,
      "outputs": [
        {
          "output_type": "execute_result",
          "data": {
            "text/plain": [
              "True"
            ]
          },
          "metadata": {},
          "execution_count": 71
        }
      ]
    },
    {
      "cell_type": "code",
      "source": [
        "plus = lambda x, y: x + y\n",
        "minus = lambda x, y: x - y\n",
        "multiply = lambda x, y: x * y\n",
        "divide = lambda x, y: x / y\n",
        "\n",
        "print(f'plus : {plus(10, 5)}')\n",
        "print(f'minus : {minus(10, 5)}')\n",
        "print(f'multiply : {multiply(10, 5)}')\n",
        "print(f'divide : {divide(10, 5)}')"
      ],
      "metadata": {
        "colab": {
          "base_uri": "https://localhost:8080/"
        },
        "id": "IqENBk9nLjop",
        "outputId": "83b331b2-7d30-4daf-ffd2-3d4de867e586"
      },
      "execution_count": 72,
      "outputs": [
        {
          "output_type": "stream",
          "name": "stdout",
          "text": [
            "plus : 15\n",
            "minus : 5\n",
            "multiply : 50\n",
            "divide : 2.0\n"
          ]
        }
      ]
    },
    {
      "cell_type": "markdown",
      "source": [
        "### 3. x의 n제곱을 구하는 함수 만들기 (재귀함수)"
      ],
      "metadata": {
        "id": "Zr9ke-5oGEU3"
      }
    },
    {
      "cell_type": "code",
      "source": [
        "def solution3(x, n):\n",
        "    if n == 0:\n",
        "        return \n",
        "    else:\n",
        "        return x * solution3(x, n-1)\n",
        "\n",
        "solution3(2,3)\n"
      ],
      "metadata": {
        "colab": {
          "base_uri": "https://localhost:8080/"
        },
        "id": "fllraJwxGJ4T",
        "outputId": "4d73411f-54ca-49d8-cf06-992ebef19a7d"
      },
      "execution_count": 73,
      "outputs": [
        {
          "output_type": "execute_result",
          "data": {
            "text/plain": [
              "8"
            ]
          },
          "metadata": {},
          "execution_count": 73
        }
      ]
    },
    {
      "cell_type": "code",
      "source": [
        "#factory 함수\n",
        "# 클로저\n",
        "def factory(x):\n",
        "    def 승수(n):\n",
        "        return x ** n\n",
        "    return 승수\n",
        "\n",
        "제곱3 = factory(3)\n",
        "\n",
        "# 실제 제곱3은 아래와 같다\n",
        "\n",
        "# def 승수(n):\n",
        "#       return 3**n\n",
        "\n",
        "제곱4 = factory(4)\n",
        "\n",
        "제곱3(2)\n"
      ],
      "metadata": {
        "colab": {
          "base_uri": "https://localhost:8080/"
        },
        "id": "SoSsaVo3P55T",
        "outputId": "fce2b2f8-a6f9-454c-9dea-721d99131b8b"
      },
      "execution_count": 81,
      "outputs": [
        {
          "output_type": "execute_result",
          "data": {
            "text/plain": [
              "9"
            ]
          },
          "metadata": {},
          "execution_count": 81
        }
      ]
    },
    {
      "cell_type": "markdown",
      "source": [
        "## 리스트\n",
        "\n",
        "* 순서가 있는 데이터\n",
        "* 값의 수정이 가능"
      ],
      "metadata": {
        "id": "sD1LWOBqS8re"
      }
    },
    {
      "cell_type": "code",
      "source": [
        "l = [10,20,30,40,50]\n",
        "l[0]"
      ],
      "metadata": {
        "colab": {
          "base_uri": "https://localhost:8080/"
        },
        "id": "kus_HNwvTIxn",
        "outputId": "446b6d3d-553e-4fec-cbd1-e7cd6aae8636"
      },
      "execution_count": 86,
      "outputs": [
        {
          "output_type": "execute_result",
          "data": {
            "text/plain": [
              "10"
            ]
          },
          "metadata": {},
          "execution_count": 86
        }
      ]
    },
    {
      "cell_type": "code",
      "source": [
        "l[0] = 1000         # mutable한 객체  <-> immutable한 객체(문자열)\n",
        "l"
      ],
      "metadata": {
        "colab": {
          "base_uri": "https://localhost:8080/"
        },
        "id": "dTVL4-6PTfvJ",
        "outputId": "9e1fd536-c69f-44af-a218-5c511a00f2c2"
      },
      "execution_count": 88,
      "outputs": [
        {
          "output_type": "execute_result",
          "data": {
            "text/plain": [
              "[1000, 20, 30, 40, 50]"
            ]
          },
          "metadata": {},
          "execution_count": 88
        }
      ]
    },
    {
      "cell_type": "code",
      "source": [
        "s = 'hello'\n",
        "s[0] = 'k'                 #immutable"
      ],
      "metadata": {
        "colab": {
          "base_uri": "https://localhost:8080/",
          "height": 193
        },
        "id": "JTuOYmLOTqJK",
        "outputId": "2538b601-e447-4218-caca-626f91c50f13"
      },
      "execution_count": 89,
      "outputs": [
        {
          "output_type": "error",
          "ename": "TypeError",
          "evalue": "ignored",
          "traceback": [
            "\u001b[0;31m---------------------------------------------------------------------------\u001b[0m",
            "\u001b[0;31mTypeError\u001b[0m                                 Traceback (most recent call last)",
            "\u001b[0;32m<ipython-input-89-ab6c19228559>\u001b[0m in \u001b[0;36m<cell line: 2>\u001b[0;34m()\u001b[0m\n\u001b[1;32m      1\u001b[0m \u001b[0ms\u001b[0m \u001b[0;34m=\u001b[0m \u001b[0;34m'hello'\u001b[0m\u001b[0;34m\u001b[0m\u001b[0;34m\u001b[0m\u001b[0m\n\u001b[0;32m----> 2\u001b[0;31m \u001b[0ms\u001b[0m\u001b[0;34m[\u001b[0m\u001b[0;36m0\u001b[0m\u001b[0;34m]\u001b[0m \u001b[0;34m=\u001b[0m \u001b[0;34m'k'\u001b[0m\u001b[0;34m\u001b[0m\u001b[0;34m\u001b[0m\u001b[0m\n\u001b[0m",
            "\u001b[0;31mTypeError\u001b[0m: 'str' object does not support item assignment"
          ]
        }
      ]
    },
    {
      "cell_type": "code",
      "source": [
        "data = [[1, 2, 3],\n",
        "        [4, 5, 6],\n",
        "        [7, 8, 9]]\n",
        "\n",
        "data"
      ],
      "metadata": {
        "colab": {
          "base_uri": "https://localhost:8080/"
        },
        "id": "2e1LwODJUKba",
        "outputId": "98b7e9ff-5b13-491b-ee1e-8e095b804ae6"
      },
      "execution_count": 99,
      "outputs": [
        {
          "output_type": "execute_result",
          "data": {
            "text/plain": [
              "[[1, 2, 3], [4, 5, 6], [7, 8, 9]]"
            ]
          },
          "metadata": {},
          "execution_count": 99
        }
      ]
    },
    {
      "cell_type": "code",
      "source": [
        "data[0]"
      ],
      "metadata": {
        "colab": {
          "base_uri": "https://localhost:8080/"
        },
        "id": "ydDYVCCzUnmH",
        "outputId": "9967d696-8137-4de8-e4a3-53d6fc56c52c"
      },
      "execution_count": 96,
      "outputs": [
        {
          "output_type": "execute_result",
          "data": {
            "text/plain": [
              "[1, 2, 3]"
            ]
          },
          "metadata": {},
          "execution_count": 96
        }
      ]
    },
    {
      "cell_type": "code",
      "source": [
        "data = [[1, 2, 3], [4, 5, 6], [7, 8, 9]]\n",
        "data[0][0] = data[0][0] * 2\n",
        "data[0][1] = data[0][1] * 2\n",
        "data[0][2] = data[0][2] * 2\n",
        "data[1][0] = data[1][0] * 2\n",
        "data[1][1] = data[1][1] * 2\n",
        "data[1][2] = data[1][2] * 2\n",
        "data[2][0] = data[2][0] * 2\n",
        "data[2][1] = data[2][1] * 2\n",
        "data[2][2] = data[2][2] * 2\n",
        "data"
      ],
      "metadata": {
        "colab": {
          "base_uri": "https://localhost:8080/"
        },
        "id": "NgVQh-QxUo7F",
        "outputId": "a47cfb5d-1775-41d5-bd1c-f54847b1c024"
      },
      "execution_count": 101,
      "outputs": [
        {
          "output_type": "execute_result",
          "data": {
            "text/plain": [
              "8"
            ]
          },
          "metadata": {},
          "execution_count": 101
        }
      ]
    },
    {
      "cell_type": "code",
      "source": [
        "for i in range(len(data)):\n",
        "    for j in range(len(data[1])):\n",
        "        data[i][j] *= 2\n",
        "\n",
        "data"
      ],
      "metadata": {
        "colab": {
          "base_uri": "https://localhost:8080/"
        },
        "id": "1kMbcN26ULGz",
        "outputId": "bdf2d4d9-433f-453d-b4d3-afcb38d9a257"
      },
      "execution_count": 91,
      "outputs": [
        {
          "output_type": "execute_result",
          "data": {
            "text/plain": [
              "[[2, 4, 6], [8, 10, 12], [14, 16, 18]]"
            ]
          },
          "metadata": {},
          "execution_count": 91
        }
      ]
    },
    {
      "cell_type": "code",
      "source": [
        "data[0]"
      ],
      "metadata": {
        "colab": {
          "base_uri": "https://localhost:8080/"
        },
        "id": "buxe9ZLOUj8E",
        "outputId": "9bd2fe2f-b742-4bc5-bed2-c637d0a0ff28"
      },
      "execution_count": 93,
      "outputs": [
        {
          "output_type": "execute_result",
          "data": {
            "text/plain": [
              "[2, 4, 6]"
            ]
          },
          "metadata": {},
          "execution_count": 93
        }
      ]
    },
    {
      "cell_type": "code",
      "source": [
        "data = [10, 20, 30, 40, 50, 60, 70]\n",
        "data[1:]\n",
        "data[:-1]\n",
        "data[::-1]          #역방향\n",
        "data[::2]           #2개씩 건너띄고\n",
        "\n",
        "data[:]             #처음부터 끝까지\n"
      ],
      "metadata": {
        "colab": {
          "base_uri": "https://localhost:8080/"
        },
        "id": "JqC5upgyUlxo",
        "outputId": "7bc765a7-b127-43bd-d62d-fff1016b7b35"
      },
      "execution_count": 109,
      "outputs": [
        {
          "output_type": "execute_result",
          "data": {
            "text/plain": [
              "[10, 20, 30, 40, 50, 60, 70]"
            ]
          },
          "metadata": {},
          "execution_count": 109
        }
      ]
    },
    {
      "cell_type": "code",
      "source": [
        "data = [10, 20, 30, 40, 50, 60, 70]\n",
        "data2 = data[:]                 # 원본값 유지 \n",
        "data2[0] = 100\n",
        "\n",
        "print(data)\n",
        "print(data2)"
      ],
      "metadata": {
        "colab": {
          "base_uri": "https://localhost:8080/"
        },
        "id": "IGluxMONXbTe",
        "outputId": "68cfd597-bc15-4791-819a-bb4853684c2b"
      },
      "execution_count": 116,
      "outputs": [
        {
          "output_type": "stream",
          "name": "stdout",
          "text": [
            "[10, 20, 30, 40, 50, 60, 70]\n",
            "[100, 20, 30, 40, 50, 60, 70]\n"
          ]
        }
      ]
    },
    {
      "cell_type": "code",
      "source": [
        "#list 사칙연산\n",
        "\n",
        "[1,2,3] + [1,2,3]"
      ],
      "metadata": {
        "colab": {
          "base_uri": "https://localhost:8080/"
        },
        "id": "l0sQf3hkX8E7",
        "outputId": "f9670253-9796-4b90-e743-39baed000049"
      },
      "execution_count": 118,
      "outputs": [
        {
          "output_type": "execute_result",
          "data": {
            "text/plain": [
              "[1, 2, 3, 1, 2, 3]"
            ]
          },
          "metadata": {},
          "execution_count": 118
        }
      ]
    },
    {
      "cell_type": "code",
      "source": [
        "[1,2,3] * 2"
      ],
      "metadata": {
        "colab": {
          "base_uri": "https://localhost:8080/"
        },
        "id": "D9mvqL9wYAsm",
        "outputId": "e9e6d15f-2969-4793-a1e5-575231844c87"
      },
      "execution_count": 119,
      "outputs": [
        {
          "output_type": "execute_result",
          "data": {
            "text/plain": [
              "[1, 2, 3, 1, 2, 3]"
            ]
          },
          "metadata": {},
          "execution_count": 119
        }
      ]
    },
    {
      "cell_type": "code",
      "source": [
        "#메서드\n",
        "\n",
        "l = [10,20,30,40]\n",
        "type(l) , dir(l)"
      ],
      "metadata": {
        "colab": {
          "base_uri": "https://localhost:8080/"
        },
        "id": "dvI7GwluZMZw",
        "outputId": "a8ee3596-108a-432d-8c09-3dfa5867227e"
      },
      "execution_count": 124,
      "outputs": [
        {
          "output_type": "execute_result",
          "data": {
            "text/plain": [
              "(list,\n",
              " ['__add__',\n",
              "  '__class__',\n",
              "  '__class_getitem__',\n",
              "  '__contains__',\n",
              "  '__delattr__',\n",
              "  '__delitem__',\n",
              "  '__dir__',\n",
              "  '__doc__',\n",
              "  '__eq__',\n",
              "  '__format__',\n",
              "  '__ge__',\n",
              "  '__getattribute__',\n",
              "  '__getitem__',\n",
              "  '__gt__',\n",
              "  '__hash__',\n",
              "  '__iadd__',\n",
              "  '__imul__',\n",
              "  '__init__',\n",
              "  '__init_subclass__',\n",
              "  '__iter__',\n",
              "  '__le__',\n",
              "  '__len__',\n",
              "  '__lt__',\n",
              "  '__mul__',\n",
              "  '__ne__',\n",
              "  '__new__',\n",
              "  '__reduce__',\n",
              "  '__reduce_ex__',\n",
              "  '__repr__',\n",
              "  '__reversed__',\n",
              "  '__rmul__',\n",
              "  '__setattr__',\n",
              "  '__setitem__',\n",
              "  '__sizeof__',\n",
              "  '__str__',\n",
              "  '__subclasshook__',\n",
              "  'append',\n",
              "  'clear',\n",
              "  'copy',\n",
              "  'count',\n",
              "  'extend',\n",
              "  'index',\n",
              "  'insert',\n",
              "  'pop',\n",
              "  'remove',\n",
              "  'reverse',\n",
              "  'sort'])"
            ]
          },
          "metadata": {},
          "execution_count": 124
        }
      ]
    },
    {
      "cell_type": "code",
      "source": [
        "l = [10,20,30,40]\n",
        "l"
      ],
      "metadata": {
        "colab": {
          "base_uri": "https://localhost:8080/"
        },
        "id": "A9z7XZ2JZaFS",
        "outputId": "039e61d5-8e82-4f83-8cba-b389464e9286"
      },
      "execution_count": 126,
      "outputs": [
        {
          "output_type": "execute_result",
          "data": {
            "text/plain": [
              "[10, 20, 30, 40]"
            ]
          },
          "metadata": {},
          "execution_count": 126
        }
      ]
    },
    {
      "cell_type": "code",
      "source": [
        "l.append(50)\n",
        "l"
      ],
      "metadata": {
        "colab": {
          "base_uri": "https://localhost:8080/"
        },
        "id": "Pjq9LFolZjEa",
        "outputId": "8f3ae26c-d6f4-469a-a536-5fb228b6660a"
      },
      "execution_count": 129,
      "outputs": [
        {
          "output_type": "execute_result",
          "data": {
            "text/plain": [
              "[10, 20, 30, 40, 50, 50, 50]"
            ]
          },
          "metadata": {},
          "execution_count": 129
        }
      ]
    },
    {
      "cell_type": "code",
      "source": [
        "l = [10,20,30,40]\n",
        "l.pop()\n",
        "l"
      ],
      "metadata": {
        "colab": {
          "base_uri": "https://localhost:8080/"
        },
        "id": "F0inmc9pZoml",
        "outputId": "cd3460ed-9d17-4491-c5bc-268b7cc0c110"
      },
      "execution_count": 130,
      "outputs": [
        {
          "output_type": "execute_result",
          "data": {
            "text/plain": [
              "[10, 20, 30]"
            ]
          },
          "metadata": {},
          "execution_count": 130
        }
      ]
    },
    {
      "cell_type": "code",
      "source": [],
      "metadata": {
        "id": "ykDbC1PnamNi"
      },
      "execution_count": null,
      "outputs": []
    },
    {
      "cell_type": "code",
      "source": [
        "l = [10,20,30,40]\n",
        "l.pop(0)\n",
        "l"
      ],
      "metadata": {
        "colab": {
          "base_uri": "https://localhost:8080/"
        },
        "id": "An12YW3jZ753",
        "outputId": "2b49f9fa-f14b-4511-bbbc-d737bbff8bfa"
      },
      "execution_count": 135,
      "outputs": [
        {
          "output_type": "execute_result",
          "data": {
            "text/plain": [
              "[20, 30, 40]"
            ]
          },
          "metadata": {},
          "execution_count": 135
        }
      ]
    },
    {
      "cell_type": "code",
      "source": [
        "l = [10,20,30,40]\n",
        "l.clear()\n",
        "l"
      ],
      "metadata": {
        "colab": {
          "base_uri": "https://localhost:8080/"
        },
        "id": "Hu23n7L5aLr4",
        "outputId": "0e18e20b-5b98-47d4-ae73-ddfd5716fe96"
      },
      "execution_count": 137,
      "outputs": [
        {
          "output_type": "execute_result",
          "data": {
            "text/plain": [
              "[]"
            ]
          },
          "metadata": {},
          "execution_count": 137
        }
      ]
    },
    {
      "cell_type": "code",
      "source": [
        "l = [10,20,30,40]\n",
        "data = l.copy()\n",
        "data[0] = 1000\n",
        "l, data"
      ],
      "metadata": {
        "colab": {
          "base_uri": "https://localhost:8080/"
        },
        "id": "q12GB4-5aSwV",
        "outputId": "eccfa67c-e213-42fb-c2ea-910212a5aa08"
      },
      "execution_count": 139,
      "outputs": [
        {
          "output_type": "execute_result",
          "data": {
            "text/plain": [
              "([10, 20, 30, 40], [1000, 20, 30, 40])"
            ]
          },
          "metadata": {},
          "execution_count": 139
        }
      ]
    },
    {
      "cell_type": "code",
      "source": [
        "l = [10, 20, 30, 40]\n",
        "data = l\n",
        "data[0] = 1000\n",
        "l, data"
      ],
      "metadata": {
        "colab": {
          "base_uri": "https://localhost:8080/"
        },
        "id": "Qh8pGQH4aQl2",
        "outputId": "168ed30d-be26-43ad-c3ce-611eeb0a0116"
      },
      "execution_count": 140,
      "outputs": [
        {
          "output_type": "execute_result",
          "data": {
            "text/plain": [
              "([1000, 20, 30, 40], [1000, 20, 30, 40])"
            ]
          },
          "metadata": {},
          "execution_count": 140
        }
      ]
    },
    {
      "cell_type": "code",
      "source": [
        "#count : 리스트 안에 특정 값이 얼마나 있는지를 세주는 메서드\n",
        "l = [10, 20, 30, 40, 10, 10, 10]\n",
        "l.count(10)"
      ],
      "metadata": {
        "colab": {
          "base_uri": "https://localhost:8080/"
        },
        "id": "iQkvaG2YdyPM",
        "outputId": "14798a70-920a-4d57-ebf7-ddd48089df4d"
      },
      "execution_count": 142,
      "outputs": [
        {
          "output_type": "execute_result",
          "data": {
            "text/plain": [
              "4"
            ]
          },
          "metadata": {},
          "execution_count": 142
        }
      ]
    },
    {
      "cell_type": "code",
      "source": [
        "# extend : 리스트 마지막에 값들을 추가\n",
        "l = [10, 20, 30, 40, 10, 10, 10]\n",
        "l.extend([1, 2, 3, 4, 5])\n",
        "l"
      ],
      "metadata": {
        "colab": {
          "base_uri": "https://localhost:8080/"
        },
        "id": "Cb9LPb7Ud0YS",
        "outputId": "d3bf9f8a-7996-4be3-eba6-d5c4683df4d4"
      },
      "execution_count": 144,
      "outputs": [
        {
          "output_type": "execute_result",
          "data": {
            "text/plain": [
              "[10, 20, 30, 40, 10, 10, 10, 1, 2, 3, 4, 5]"
            ]
          },
          "metadata": {},
          "execution_count": 144
        }
      ]
    },
    {
      "cell_type": "code",
      "source": [
        "# insert : 해당위치에 값 추가\n",
        "l = [10, 20, 30, 40, 10, 10, 10]\n",
        "l.insert(2,10000)\n",
        "l"
      ],
      "metadata": {
        "colab": {
          "base_uri": "https://localhost:8080/"
        },
        "id": "uViPn9ULeEjv",
        "outputId": "2cf93211-8ab2-45c9-a42d-f5df31d19100"
      },
      "execution_count": 147,
      "outputs": [
        {
          "output_type": "execute_result",
          "data": {
            "text/plain": [
              "[10, 20, 10000, 30, 40, 10, 10, 10]"
            ]
          },
          "metadata": {},
          "execution_count": 147
        }
      ]
    },
    {
      "cell_type": "code",
      "source": [
        "# index : 해당 값의 위치  \n",
        "l = [10, 20,10000, 30, 40, 10, 10, 10]\n",
        "l.index(10000)"
      ],
      "metadata": {
        "colab": {
          "base_uri": "https://localhost:8080/"
        },
        "id": "uQUx4NUPeUT3",
        "outputId": "9ac7b661-aab3-4cf9-ac9f-729ef3ed422e"
      },
      "execution_count": 150,
      "outputs": [
        {
          "output_type": "execute_result",
          "data": {
            "text/plain": [
              "2"
            ]
          },
          "metadata": {},
          "execution_count": 150
        }
      ]
    },
    {
      "cell_type": "code",
      "source": [
        "# remove : 해당 첫번째 값 삭제\n",
        "l = [10, 20,10000, 30, 40, 10, 10, 10]\n",
        "l.remove(10)\n",
        "l"
      ],
      "metadata": {
        "colab": {
          "base_uri": "https://localhost:8080/"
        },
        "id": "VK4WlXwReg85",
        "outputId": "b4f1c066-9908-4c04-8824-768013327d82"
      },
      "execution_count": 153,
      "outputs": [
        {
          "output_type": "execute_result",
          "data": {
            "text/plain": [
              "[20, 10000, 30, 40, 10, 10, 10]"
            ]
          },
          "metadata": {},
          "execution_count": 153
        }
      ]
    },
    {
      "cell_type": "code",
      "source": [
        "# 실무에서 많이 사용하는 코드\n",
        "# filter : 어떤 값을 찾아내거나, 조건에 맞는 코드 추출\n",
        "\n",
        "def 함수(x):\n",
        "    return x!= 10\n",
        "i = [10, 20,10000, 30, 40, 10, 10, 10]\n",
        "list(filter(함수,l))"
      ],
      "metadata": {
        "colab": {
          "base_uri": "https://localhost:8080/"
        },
        "id": "WaAGFxa1fLuC",
        "outputId": "bf8767bb-397a-40d1-9577-e52ca15314d2"
      },
      "execution_count": 158,
      "outputs": [
        {
          "output_type": "execute_result",
          "data": {
            "text/plain": [
              "[20, 10000, 30, 40]"
            ]
          },
          "metadata": {},
          "execution_count": 158
        }
      ]
    },
    {
      "cell_type": "code",
      "source": [
        "l = [10, 20,10000, 30, 40, 10, 10, 10]\n",
        "list(filter(lambda x : x != 10, l))"
      ],
      "metadata": {
        "colab": {
          "base_uri": "https://localhost:8080/"
        },
        "id": "bmdUAUOxfiTI",
        "outputId": "3e4c2dbf-a74f-4e09-8db8-aa20b88ac3ce"
      },
      "execution_count": 161,
      "outputs": [
        {
          "output_type": "execute_result",
          "data": {
            "text/plain": [
              "[20, 10000, 30, 40]"
            ]
          },
          "metadata": {},
          "execution_count": 161
        }
      ]
    },
    {
      "cell_type": "code",
      "source": [
        "l = [10, 20, 30, 10, 20, 30, 1, 2, 55, 11]\n",
        "l.reverse()         #l을 직접 만짐. 역정렬 아님. 역순 \n",
        "l"
      ],
      "metadata": {
        "colab": {
          "base_uri": "https://localhost:8080/"
        },
        "id": "stPi09ivhCXD",
        "outputId": "225766a8-1935-4fb5-892c-06e132fc7074"
      },
      "execution_count": 164,
      "outputs": [
        {
          "output_type": "execute_result",
          "data": {
            "text/plain": [
              "[11, 55, 2, 1, 30, 20, 10, 30, 20, 10]"
            ]
          },
          "metadata": {},
          "execution_count": 164
        }
      ]
    },
    {
      "cell_type": "code",
      "source": [
        "l = [10, 20, 30, 10, 20, 30, 1, 2, 55, 11]\n",
        "print(list(reversed(l))) # l을 직접 만지지 않습니다.\n",
        "print(l)"
      ],
      "metadata": {
        "colab": {
          "base_uri": "https://localhost:8080/"
        },
        "id": "Dx8IYMUNhNWH",
        "outputId": "2447917b-dc65-4fdf-f976-6171369056b7"
      },
      "execution_count": 166,
      "outputs": [
        {
          "output_type": "stream",
          "name": "stdout",
          "text": [
            "[11, 55, 2, 1, 30, 20, 10, 30, 20, 10]\n",
            "[10, 20, 30, 10, 20, 30, 1, 2, 55, 11]\n"
          ]
        }
      ]
    },
    {
      "cell_type": "code",
      "source": [
        "# sort\n",
        "l = [10, 20, 30, 10, 20, 30, 1, 2, 55, 11]\n",
        "l.sort()         #l을 직접 만짐.\n",
        "l"
      ],
      "metadata": {
        "colab": {
          "base_uri": "https://localhost:8080/"
        },
        "id": "xDmUadvBhwqn",
        "outputId": "adbca230-2bc0-4752-87c7-201e752f7c53"
      },
      "execution_count": 169,
      "outputs": [
        {
          "output_type": "execute_result",
          "data": {
            "text/plain": [
              "[1, 2, 10, 10, 11, 20, 20, 30, 30, 55]"
            ]
          },
          "metadata": {},
          "execution_count": 169
        }
      ]
    },
    {
      "cell_type": "code",
      "source": [
        "# sort\n",
        "l = [10, 20, 30, 10, 20, 30, 1, 2, 55, 11]\n",
        "l.sort()         #l을 직접 만짐.\n",
        "l.reverse()\n",
        "l"
      ],
      "metadata": {
        "colab": {
          "base_uri": "https://localhost:8080/"
        },
        "id": "2M12kRiZh4bw",
        "outputId": "351224b5-5411-4684-969c-25ad0a66cece"
      },
      "execution_count": 171,
      "outputs": [
        {
          "output_type": "execute_result",
          "data": {
            "text/plain": [
              "[55, 30, 30, 20, 20, 11, 10, 10, 2, 1]"
            ]
          },
          "metadata": {},
          "execution_count": 171
        }
      ]
    },
    {
      "cell_type": "code",
      "source": [
        "l = [10, 20, 30, 10, 20, 30, 1, 2, 55, 11]\n",
        "print(list(sorted(l))) # l을 직접 만지지 않습니다.\n",
        "print(l)"
      ],
      "metadata": {
        "colab": {
          "base_uri": "https://localhost:8080/"
        },
        "id": "lzEkOM1gh92d",
        "outputId": "b3ace986-14b4-4b38-8e2a-934ba7c58db1"
      },
      "execution_count": 172,
      "outputs": [
        {
          "output_type": "stream",
          "name": "stdout",
          "text": [
            "[1, 2, 10, 10, 11, 20, 20, 30, 30, 55]\n",
            "[10, 20, 30, 10, 20, 30, 1, 2, 55, 11]\n"
          ]
        }
      ]
    },
    {
      "cell_type": "code",
      "source": [
        "l = [[1, 10, 'leehojun'], \n",
        "     [20, 30, 'hojun'], \n",
        "     [10, 20, 'weniv'], \n",
        "     [1, 2, 'likelion'], \n",
        "     [55, 11, 'sun']]\n",
        "\n",
        "# 1. 글자 수 대로 정렬해주세요.\n",
        "def 함수(x):\n",
        "    return len(x[2])\n",
        "\n",
        "print(\"---1.\")\n",
        "print(list(sorted(l, key=함수)))\n",
        "print(list(sorted(l, key=lambda x:len(x[2]))))\n",
        "\n",
        "# 2. 맨 앞에 위치한 숫자대로 정렬해주세요.\n",
        "def 함수2(x):\n",
        "    return x[0]\n",
        "\n",
        "print(\"---2.\")\n",
        "print(list(sorted(l)))\n",
        "print(list(sorted(l, key=함수2)))\n",
        "print(list(sorted(l, key=lambda x:x[0])))\n",
        "\n",
        "# 3. 중앙에 위치한 값대로 정렬해주세요.\n",
        "def 함수3(x):\n",
        "    return x[1]\n",
        "\n",
        "print(\"---3.\")\n",
        "print(list(sorted(l)))\n",
        "print(list(sorted(l, key=함수3)))\n",
        "print(list(sorted(l, key=lambda x:x[1])))"
      ],
      "metadata": {
        "colab": {
          "base_uri": "https://localhost:8080/"
        },
        "id": "GdOXIb4_kDEQ",
        "outputId": "c890bc65-abf5-4af1-d13b-365f8a4ac379"
      },
      "execution_count": 177,
      "outputs": [
        {
          "output_type": "stream",
          "name": "stdout",
          "text": [
            "---1.\n",
            "[[55, 11, 'sun'], [20, 30, 'hojun'], [10, 20, 'weniv'], [1, 10, 'leehojun'], [1, 2, 'likelion']]\n",
            "[[55, 11, 'sun'], [20, 30, 'hojun'], [10, 20, 'weniv'], [1, 10, 'leehojun'], [1, 2, 'likelion']]\n",
            "---2.\n",
            "[[1, 2, 'likelion'], [1, 10, 'leehojun'], [10, 20, 'weniv'], [20, 30, 'hojun'], [55, 11, 'sun']]\n",
            "[[1, 10, 'leehojun'], [1, 2, 'likelion'], [10, 20, 'weniv'], [20, 30, 'hojun'], [55, 11, 'sun']]\n",
            "[[1, 10, 'leehojun'], [1, 2, 'likelion'], [10, 20, 'weniv'], [20, 30, 'hojun'], [55, 11, 'sun']]\n",
            "---3.\n",
            "[[1, 2, 'likelion'], [1, 10, 'leehojun'], [10, 20, 'weniv'], [20, 30, 'hojun'], [55, 11, 'sun']]\n",
            "[[1, 2, 'likelion'], [1, 10, 'leehojun'], [55, 11, 'sun'], [10, 20, 'weniv'], [20, 30, 'hojun']]\n",
            "[[1, 2, 'likelion'], [1, 10, 'leehojun'], [55, 11, 'sun'], [10, 20, 'weniv'], [20, 30, 'hojun']]\n"
          ]
        }
      ]
    },
    {
      "cell_type": "code",
      "source": [
        "l = [[1, 10, 32], \n",
        "     [20, 30, 11], \n",
        "     [10, 20, 22], \n",
        "     [1, 2, 13], \n",
        "     [55, 11, 44]]\n",
        "\n",
        "\n",
        "# 4. 3개의 전체 합대로 출력해주세요.\n",
        "def 함수4(x):\n",
        "    return sum(x)\n",
        "\n",
        "print(list(sorted(l, key=함수4)))\n",
        "print(list(sorted(l, key=lambda x:sum(x))))\n",
        "print(list(sorted(l, key=sum)))"
      ],
      "metadata": {
        "colab": {
          "base_uri": "https://localhost:8080/"
        },
        "id": "WdeZDp92kk81",
        "outputId": "14cf49df-f1a6-4d02-f821-f793e9b54b20"
      },
      "execution_count": 178,
      "outputs": [
        {
          "output_type": "stream",
          "name": "stdout",
          "text": [
            "[[1, 2, 13], [1, 10, 32], [10, 20, 22], [20, 30, 11], [55, 11, 44]]\n",
            "[[1, 2, 13], [1, 10, 32], [10, 20, 22], [20, 30, 11], [55, 11, 44]]\n",
            "[[1, 2, 13], [1, 10, 32], [10, 20, 22], [20, 30, 11], [55, 11, 44]]\n"
          ]
        }
      ]
    }
  ]
}